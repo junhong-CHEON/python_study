{
 "cells": [
  {
   "cell_type": "code",
   "execution_count": 1,
   "metadata": {},
   "outputs": [
    {
     "data": {
      "text/plain": [
       "'<!DOCTYPE html>\\n<html lang=\"ko\">\\n\\n<head>\\n    <meta charset=\"UTF-8\">\\n    <meta name=\"viewport\" content=\"width=device-width,initial-scale=1.0,minimum-scale=1.0,maximum-scale=1.0,user-scalable=no\">\\n    <title>BeautifulSoup Sample</title>\\n    <style type=\"text/css\">\\n        * { padding: 5px; margin: 5px auto; list-style: none; }\\n        div#container { border: 3px dashed #ff00ff; }\\n        div#container > h1#title { border: 3px dashed #ff6600; }\\n        div#container div.box { border: 3px solid #ffff00; }\\n        div#container > ul { border: 3px solid #00ff00; }\\n        div#container > ul > li { border: 3px dotted #3438af; font-size: 18px; }\\n        p, pre { border: 1px solid #555; font-size: 16px; color: #f60;}\\n        i {font-size: 12px;}\\n    </style>\\n</head>\\n\\n<body>\\n    <div id=\"container\">\\n        <h1 id=\"title\">Hello World</h1>\\n        <div class=\"box\">이 웹 페이지는 CSS 선택자 실습을 위한 샘플 페이지 입니다.</div>\\n        <ul class=\"list-container\">\\n            <li class=\"list-item\">JAVA</li>\\n            <li class=\"list-item\">HTML,CSS</li>\\n            <li class=\"list-item\">Javascript,jQuery</li>\\n            <li class=\"list-item\">JSP,Spring</li>\\n            <li class=\"list-item\">Python</li>\\n        </ul>\\n        <p class=\"article hello\">안녕하세요. <i>Hello.</i></p>\\n        <p class=\"article welcome\">어서오세요. <i>Welcome</i></p>\\n        <p class=\"article say\">샘플 웹 페이지 입니다. <i>This is sample web page.</i></p>\\n        <a href=\"https://www.naver.com\" class=\"link\">네이버</a>\\n        <a href=\"https://www.daum.net\" class=\"link\">다음</a>\\n        <a href=\"https://www.google.com\" class=\"link\">구글</a>\\n        <footer><i>copyright&copy;itpaper.co.kr</i></footer>\\n    </div>\\n</body>\\n\\n</html>\\n\\n\\n'"
      ]
     },
     "execution_count": 1,
     "metadata": {},
     "output_type": "execute_result"
    }
   ],
   "source": [
    "import requests\n",
    "from bs4 import BeautifulSoup\n",
    "\n",
    "user_agent = \"Mozilla/5.0 (Windows NT 10.0; Win64; x64) AppleWebKit/537.36 (KHTML, like Gecko) Chrome/77.0.3865.120 Safari/537.36\"\n",
    "header_info = {'User-agent': user_agent, 'referer': None}\n",
    "header_info\n",
    "\n",
    "r = requests.get(\"http://itpaper.co.kr/data/selector.html\", headers=header_info)\n",
    "\n",
    "if r.status_code != 200:\n",
    "    err_msg = '%d %s 에러가 발생했습니다.' %(r.status_code, r.reason)\n",
    "    raise Exception(err_msg)\n",
    "\n",
    "r.encoding='utf-8'\n",
    "html = r.text\n",
    "html"
   ]
  },
  {
   "cell_type": "code",
   "execution_count": 2,
   "metadata": {},
   "outputs": [
    {
     "data": {
      "text/plain": [
       "<!DOCTYPE html>\n",
       "\n",
       "<html lang=\"ko\">\n",
       "<head>\n",
       "<meta charset=\"utf-8\"/>\n",
       "<meta content=\"width=device-width,initial-scale=1.0,minimum-scale=1.0,maximum-scale=1.0,user-scalable=no\" name=\"viewport\"/>\n",
       "<title>BeautifulSoup Sample</title>\n",
       "<style type=\"text/css\">\n",
       "        * { padding: 5px; margin: 5px auto; list-style: none; }\n",
       "        div#container { border: 3px dashed #ff00ff; }\n",
       "        div#container > h1#title { border: 3px dashed #ff6600; }\n",
       "        div#container div.box { border: 3px solid #ffff00; }\n",
       "        div#container > ul { border: 3px solid #00ff00; }\n",
       "        div#container > ul > li { border: 3px dotted #3438af; font-size: 18px; }\n",
       "        p, pre { border: 1px solid #555; font-size: 16px; color: #f60;}\n",
       "        i {font-size: 12px;}\n",
       "    </style>\n",
       "</head>\n",
       "<body>\n",
       "<div id=\"container\">\n",
       "<h1 id=\"title\">Hello World</h1>\n",
       "<div class=\"box\">이 웹 페이지는 CSS 선택자 실습을 위한 샘플 페이지 입니다.</div>\n",
       "<ul class=\"list-container\">\n",
       "<li class=\"list-item\">JAVA</li>\n",
       "<li class=\"list-item\">HTML,CSS</li>\n",
       "<li class=\"list-item\">Javascript,jQuery</li>\n",
       "<li class=\"list-item\">JSP,Spring</li>\n",
       "<li class=\"list-item\">Python</li>\n",
       "</ul>\n",
       "<p class=\"article hello\">안녕하세요. <i>Hello.</i></p>\n",
       "<p class=\"article welcome\">어서오세요. <i>Welcome</i></p>\n",
       "<p class=\"article say\">샘플 웹 페이지 입니다. <i>This is sample web page.</i></p>\n",
       "<a class=\"link\" href=\"https://www.naver.com\">네이버</a>\n",
       "<a class=\"link\" href=\"https://www.daum.net\">다음</a>\n",
       "<a class=\"link\" href=\"https://www.google.com\">구글</a>\n",
       "<footer><i>copyright©itpaper.co.kr</i></footer>\n",
       "</div>\n",
       "</body>\n",
       "</html>"
      ]
     },
     "execution_count": 2,
     "metadata": {},
     "output_type": "execute_result"
    }
   ],
   "source": [
    "soup = BeautifulSoup(html, 'html.parser')\n",
    "soup"
   ]
  },
  {
   "cell_type": "code",
   "execution_count": 7,
   "metadata": {},
   "outputs": [
    {
     "data": {
      "text/plain": [
       "[<h1 id=\"title\">Hello World</h1>]"
      ]
     },
     "execution_count": 7,
     "metadata": {},
     "output_type": "execute_result"
    }
   ],
   "source": [
    "# 아이디 접근\n",
    "title = soup.select(\"#title\")\n",
    "\n",
    "# 결과 검사\n",
    "if len(title) == 0:\n",
    "    # 에러코드와 에러메시지를 문자열로 구성\n",
    "    err_msg = \"지정된 선택자에 대해서 인식된 구조가 없습니다.\"\n",
    "    # 강제로 에러를 발생시킨다.\n",
    "    raise Exception(err_msg)\n",
    "    \n",
    "title"
   ]
  },
  {
   "cell_type": "code",
   "execution_count": 9,
   "metadata": {},
   "outputs": [
    {
     "name": "stdout",
     "output_type": "stream",
     "text": [
      "<class 'bs4.element.Tag'>\n",
      "<h1 id=\"title\">Hello World</h1>\n"
     ]
    }
   ],
   "source": [
    "tag = title[0]\n",
    "print(type(tag))\n",
    "print(tag)"
   ]
  },
  {
   "cell_type": "code",
   "execution_count": 10,
   "metadata": {},
   "outputs": [
    {
     "data": {
      "text/plain": [
       "'Hello World'"
      ]
     },
     "execution_count": 10,
     "metadata": {},
     "output_type": "execute_result"
    }
   ],
   "source": [
    "content = tag.text.strip()\n",
    "content"
   ]
  },
  {
   "cell_type": "code",
   "execution_count": 12,
   "metadata": {},
   "outputs": [
    {
     "data": {
      "text/plain": [
       "[<div class=\"box\">이 웹 페이지는 CSS 선택자 실습을 위한 샘플 페이지 입니다.</div>]"
      ]
     },
     "execution_count": 12,
     "metadata": {},
     "output_type": "execute_result"
    }
   ],
   "source": [
    "box = soup.select('.box')\n",
    "\n",
    "if len(box) == 0:\n",
    "    # 에러코드와 에러메시지를 문자열로 구성\n",
    "    err_msg = \"지정된 선택자에 대해서 인식된 구조가 없습니다.\"\n",
    "    # 강제로 에러를 발생시킨다.\n",
    "    raise Exception(err_msg)\n",
    "\n",
    "box"
   ]
  },
  {
   "cell_type": "code",
   "execution_count": 13,
   "metadata": {},
   "outputs": [
    {
     "data": {
      "text/plain": [
       "'이 웹 페이지는 CSS 선택자 실습을 위한 샘플 페이지 입니다.'"
      ]
     },
     "execution_count": 13,
     "metadata": {},
     "output_type": "execute_result"
    }
   ],
   "source": [
    "content = box[0].text.strip()\n",
    "content"
   ]
  },
  {
   "cell_type": "code",
   "execution_count": 40,
   "metadata": {},
   "outputs": [
    {
     "data": {
      "text/plain": [
       "[<li class=\"list-item\">JAVA</li>,\n",
       " <li class=\"list-item\">HTML,CSS</li>,\n",
       " <li class=\"list-item\">Javascript,jQuery</li>,\n",
       " <li class=\"list-item\">JSP,Spring</li>,\n",
       " <li class=\"list-item\">Python</li>]"
      ]
     },
     "execution_count": 40,
     "metadata": {},
     "output_type": "execute_result"
    }
   ],
   "source": [
    "item = soup.select('.list-item')\n",
    "\n",
    "if len(item) == 0:\n",
    "    # 에러코드와 에러메시지를 문자열로 구성\n",
    "    err_msg = \"지정된 선택자에 대해서 인식된 구조가 없습니다.\"\n",
    "    # 강제로 에러를 발생시킨다.\n",
    "    raise Exception(err_msg)\n",
    "\n",
    "item"
   ]
  },
  {
   "cell_type": "code",
   "execution_count": 27,
   "metadata": {},
   "outputs": [
    {
     "data": {
      "text/plain": [
       "['JAVA', 'HTML,CSS', 'Javascript,jQuery', 'JSP,Spring', 'Python']"
      ]
     },
     "execution_count": 27,
     "metadata": {},
     "output_type": "execute_result"
    }
   ],
   "source": [
    "item_text = []\n",
    "\n",
    "for i in item:\n",
    "    k = i.text.strip()\n",
    "    item_text.append(k)\n",
    "\n",
    "item_text"
   ]
  },
  {
   "cell_type": "code",
   "execution_count": 41,
   "metadata": {},
   "outputs": [
    {
     "data": {
      "text/plain": [
       "[<p class=\"article hello\">안녕하세요. <i>Hello.</i></p>,\n",
       " <p class=\"article welcome\">어서오세요. <i>Welcome</i></p>,\n",
       " <p class=\"article say\">샘플 웹 페이지 입니다. <i>This is sample web page.</i></p>]"
      ]
     },
     "execution_count": 41,
     "metadata": {},
     "output_type": "execute_result"
    }
   ],
   "source": [
    "article = soup.select('.article')\n",
    "article"
   ]
  },
  {
   "cell_type": "code",
   "execution_count": 42,
   "metadata": {},
   "outputs": [
    {
     "name": "stdout",
     "output_type": "stream",
     "text": [
      "안녕하세요. Hello.\n",
      "어서오세요. Welcome\n",
      "샘플 웹 페이지 입니다. This is sample web page.\n"
     ]
    }
   ],
   "source": [
    "for i in article:\n",
    "    k = i.text.strip()\n",
    "    print(k)"
   ]
  },
  {
   "cell_type": "code",
   "execution_count": 43,
   "metadata": {},
   "outputs": [
    {
     "data": {
      "text/plain": [
       "[<i>Hello.</i>,\n",
       " <i>Welcome</i>,\n",
       " <i>This is sample web page.</i>,\n",
       " <i>copyright©itpaper.co.kr</i>]"
      ]
     },
     "execution_count": 43,
     "metadata": {},
     "output_type": "execute_result"
    }
   ],
   "source": [
    "italic = soup.select('i')\n",
    "italic"
   ]
  },
  {
   "cell_type": "code",
   "execution_count": 44,
   "metadata": {},
   "outputs": [
    {
     "name": "stdout",
     "output_type": "stream",
     "text": [
      "Hello.\n",
      "Welcome\n",
      "This is sample web page.\n",
      "copyright©itpaper.co.kr\n"
     ]
    }
   ],
   "source": [
    "for i in italic:\n",
    "    k = i.text.strip()\n",
    "    print(k)"
   ]
  },
  {
   "cell_type": "code",
   "execution_count": 45,
   "metadata": {},
   "outputs": [
    {
     "data": {
      "text/plain": [
       "[<i>Hello.</i>, <i>Welcome</i>, <i>This is sample web page.</i>]"
      ]
     },
     "execution_count": 45,
     "metadata": {},
     "output_type": "execute_result"
    }
   ],
   "source": [
    "article_i = soup.select(\"#container > .article > i\")\n",
    "article_i"
   ]
  },
  {
   "cell_type": "code",
   "execution_count": 46,
   "metadata": {},
   "outputs": [
    {
     "data": {
      "text/plain": [
       "[<h1 id=\"title\">Hello World</h1>]"
      ]
     },
     "execution_count": 46,
     "metadata": {},
     "output_type": "execute_result"
    }
   ],
   "source": [
    "title = soup.select(\"#container > #title\")\n",
    "title"
   ]
  },
  {
   "cell_type": "code",
   "execution_count": 47,
   "metadata": {},
   "outputs": [
    {
     "data": {
      "text/plain": [
       "[<div class=\"box\">이 웹 페이지는 CSS 선택자 실습을 위한 샘플 페이지 입니다.</div>]"
      ]
     },
     "execution_count": 47,
     "metadata": {},
     "output_type": "execute_result"
    }
   ],
   "source": [
    "box = soup.select(\"#container > .box\")\n",
    "box"
   ]
  },
  {
   "cell_type": "code",
   "execution_count": 48,
   "metadata": {},
   "outputs": [
    {
     "data": {
      "text/plain": [
       "[<li class=\"list-item\">JAVA</li>,\n",
       " <li class=\"list-item\">HTML,CSS</li>,\n",
       " <li class=\"list-item\">Javascript,jQuery</li>,\n",
       " <li class=\"list-item\">JSP,Spring</li>,\n",
       " <li class=\"list-item\">Python</li>]"
      ]
     },
     "execution_count": 48,
     "metadata": {},
     "output_type": "execute_result"
    }
   ],
   "source": [
    "list_item = soup.select(\"#container  .list-item\")\n",
    "list_item"
   ]
  },
  {
   "cell_type": "code",
   "execution_count": 49,
   "metadata": {},
   "outputs": [
    {
     "data": {
      "text/plain": [
       "[<h1 id=\"title\">Hello World</h1>,\n",
       " <div class=\"box\">이 웹 페이지는 CSS 선택자 실습을 위한 샘플 페이지 입니다.</div>]"
      ]
     },
     "execution_count": 49,
     "metadata": {},
     "output_type": "execute_result"
    }
   ],
   "source": [
    "title_box = soup.select(\"#container > #title, #container > .box\")\n",
    "title_box"
   ]
  },
  {
   "cell_type": "code",
   "execution_count": 50,
   "metadata": {},
   "outputs": [
    {
     "data": {
      "text/plain": [
       "[<p class=\"article say\">샘플 웹 페이지 입니다. <i>This is sample web page.</i></p>]"
      ]
     },
     "execution_count": 50,
     "metadata": {},
     "output_type": "execute_result"
    }
   ],
   "source": [
    "article_item = soup.select(\".article.say\")\n",
    "article_item"
   ]
  },
  {
   "cell_type": "code",
   "execution_count": 51,
   "metadata": {},
   "outputs": [
    {
     "data": {
      "text/plain": [
       "[<p class=\"article say\">샘플 웹 페이지 입니다. <i>This is sample web page.</i></p>]"
      ]
     },
     "execution_count": 51,
     "metadata": {},
     "output_type": "execute_result"
    }
   ],
   "source": [
    "article_item = soup.select(\"p.say\")\n",
    "article_item"
   ]
  },
  {
   "cell_type": "code",
   "execution_count": 52,
   "metadata": {},
   "outputs": [
    {
     "data": {
      "text/plain": [
       "[<a class=\"link\" href=\"https://www.naver.com\">네이버</a>,\n",
       " <a class=\"link\" href=\"https://www.daum.net\">다음</a>,\n",
       " <a class=\"link\" href=\"https://www.google.com\">구글</a>]"
      ]
     },
     "execution_count": 52,
     "metadata": {},
     "output_type": "execute_result"
    }
   ],
   "source": [
    "link = soup.select(\"a\")\n",
    "link"
   ]
  },
  {
   "cell_type": "code",
   "execution_count": 53,
   "metadata": {},
   "outputs": [
    {
     "data": {
      "text/plain": [
       "[<a class=\"link\" href=\"https://www.naver.com\">네이버</a>,\n",
       " <a class=\"link\" href=\"https://www.daum.net\">다음</a>,\n",
       " <a class=\"link\" href=\"https://www.google.com\">구글</a>]"
      ]
     },
     "execution_count": 53,
     "metadata": {},
     "output_type": "execute_result"
    }
   ],
   "source": [
    "link = soup.select(\".link\")\n",
    "link"
   ]
  },
  {
   "cell_type": "code",
   "execution_count": 54,
   "metadata": {},
   "outputs": [
    {
     "data": {
      "text/plain": [
       "[<a class=\"link\" href=\"https://www.naver.com\">네이버</a>,\n",
       " <a class=\"link\" href=\"https://www.daum.net\">다음</a>,\n",
       " <a class=\"link\" href=\"https://www.google.com\">구글</a>]"
      ]
     },
     "execution_count": 54,
     "metadata": {},
     "output_type": "execute_result"
    }
   ],
   "source": [
    "link = soup.select(\"a.link\")\n",
    "link"
   ]
  },
  {
   "cell_type": "code",
   "execution_count": 55,
   "metadata": {},
   "outputs": [
    {
     "data": {
      "text/plain": [
       "[<a class=\"link\" href=\"https://www.naver.com\">네이버</a>,\n",
       " <a class=\"link\" href=\"https://www.daum.net\">다음</a>,\n",
       " <a class=\"link\" href=\"https://www.google.com\">구글</a>]"
      ]
     },
     "execution_count": 55,
     "metadata": {},
     "output_type": "execute_result"
    }
   ],
   "source": [
    "link = soup.select(\"a[href]\")\n",
    "link"
   ]
  },
  {
   "cell_type": "code",
   "execution_count": 56,
   "metadata": {},
   "outputs": [
    {
     "data": {
      "text/plain": [
       "[<a class=\"link\" href=\"https://www.google.com\">구글</a>]"
      ]
     },
     "execution_count": 56,
     "metadata": {},
     "output_type": "execute_result"
    }
   ],
   "source": [
    "link = soup.select(\"a[href='https://www.google.com']\")\n",
    "link"
   ]
  },
  {
   "cell_type": "code",
   "execution_count": 57,
   "metadata": {},
   "outputs": [
    {
     "name": "stdout",
     "output_type": "stream",
     "text": [
      "{'href': 'https://www.naver.com', 'class': ['link']}\n",
      "{'href': 'https://www.daum.net', 'class': ['link']}\n",
      "{'href': 'https://www.google.com', 'class': ['link']}\n"
     ]
    },
    {
     "data": {
      "text/plain": [
       "['https://www.naver.com', 'https://www.daum.net', 'https://www.google.com']"
      ]
     },
     "execution_count": 57,
     "metadata": {},
     "output_type": "execute_result"
    }
   ],
   "source": [
    "# 추출한 속성값을 모아놓기 위한 빈 리스트\n",
    "url = []\n",
    "\n",
    "# 웹 페이지에서 .link라는 클래스를 갖는 <a>태그 추출\n",
    "link = soup.select(\"a.link\")\n",
    "\n",
    "# 추출된 원소 수 만큼 반복\n",
    "for item in link:\n",
    "    # 추출된 원소의 속성들 출력하기 -> 딕셔너리 구조\n",
    "    print(item.attrs)\n",
    "    \n",
    "    # 속성 중에 `href`라는 속성이 있다면?\n",
    "    if \"href\" in item.attrs:\n",
    "        # 그 값만 미리 준비한 빈 리스트에 모아놓는다.\n",
    "        url.append(item.attrs[\"href\"])\n",
    "\n",
    "# 결과 확인\n",
    "url"
   ]
  },
  {
   "cell_type": "code",
   "execution_count": 58,
   "metadata": {},
   "outputs": [
    {
     "data": {
      "text/plain": [
       "[<ul class=\"list-container\">\n",
       " <li class=\"list-item\">JAVA</li>\n",
       " <li class=\"list-item\">HTML,CSS</li>\n",
       " <li class=\"list-item\">Javascript,jQuery</li>\n",
       " <li class=\"list-item\">JSP,Spring</li>\n",
       " <li class=\"list-item\">Python</li>\n",
       " </ul>]"
      ]
     },
     "execution_count": 58,
     "metadata": {},
     "output_type": "execute_result"
    }
   ],
   "source": [
    "list_container = soup.select(\".list-container\")\n",
    "list_container"
   ]
  },
  {
   "cell_type": "code",
   "execution_count": 59,
   "metadata": {},
   "outputs": [
    {
     "name": "stdout",
     "output_type": "stream",
     "text": [
      "[<li class=\"list-item\">JAVA</li>, <li class=\"list-item\">HTML,CSS</li>, <li class=\"list-item\">Javascript,jQuery</li>, <li class=\"list-item\">JSP,Spring</li>, <li class=\"list-item\">Python</li>]\n",
      "--------------------\n",
      "JAVA\n",
      "HTML,CSS\n",
      "Javascript,jQuery\n",
      "JSP,Spring\n",
      "Python\n"
     ]
    }
   ],
   "source": [
    "for item in list_container:\n",
    "    li = item.select(\".list-item\")\n",
    "    print(li)\n",
    "    print(\"--\" * 10)\n",
    "    \n",
    "    for li_item in li:\n",
    "        print(li_item.text.strip())"
   ]
  },
  {
   "cell_type": "code",
   "execution_count": null,
   "metadata": {},
   "outputs": [],
   "source": []
  }
 ],
 "metadata": {
  "kernelspec": {
   "display_name": "Python 3",
   "language": "python",
   "name": "python3"
  },
  "language_info": {
   "codemirror_mode": {
    "name": "ipython",
    "version": 3
   },
   "file_extension": ".py",
   "mimetype": "text/x-python",
   "name": "python",
   "nbconvert_exporter": "python",
   "pygments_lexer": "ipython3",
   "version": "3.8.8"
  }
 },
 "nbformat": 4,
 "nbformat_minor": 4
}
