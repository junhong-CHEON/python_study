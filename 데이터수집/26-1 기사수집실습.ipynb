{
 "cells": [
  {
   "cell_type": "code",
   "execution_count": 38,
   "metadata": {},
   "outputs": [],
   "source": [
    "import requests\n",
    "from bs4 import BeautifulSoup\n",
    "\n",
    "user_agent = \"Mozilla/5.0 (Windows NT 10.0; Win64; x64) AppleWebKit/537.36 (KHTML, like Gecko) Chrome/91.0.4472.164 Safari/537.36\"\n",
    "header_info = {'User-agent': user_agent, 'referer': None}\n",
    "header_info\n",
    "\n",
    "content_url = \"https://news.naver.com/main/main.naver?mode=LSD&mid=shm&sid1=100\"\n",
    "\n",
    "r = requests.get(content_url, headers = header_info)\n",
    "\n",
    "if r.status_code != 200:\n",
    "    # 에러코드와 에러메시지를 문자열로 구성\n",
    "    err_msg = \"%d %s 에러가 발생했습니다.\" % (r.status_code, r.reason)\n",
    "    # 강제로 에러를 발생시킨다.\n",
    "    raise Exception(err_msg)\n",
    "    \n",
    "r.encoding=\"euc-kr\"\n",
    "html = r.text"
   ]
  },
  {
   "cell_type": "code",
   "execution_count": 39,
   "metadata": {},
   "outputs": [],
   "source": [
    "# 웹 페이지의 소스코드를 사용하여 HTML 분석 객체로 생성\n",
    "soup = BeautifulSoup(html, 'html.parser')\n",
    "# CSS 선택자를 활용하여 가져오기를 원하는 부분 지정\n",
    "# -> \"#id\"값 형식으로 지정\n",
    "title = soup.select('#section_body ul')\n",
    "#section_body > ul.type06_headline > li:nth-child(1) > dl > dt:nth-child(2) > a\n",
    "# 결과 검사\n",
    "for i in title:\n",
    "    li_list = i.select('li')\n",
    "    for j in li_list:\n",
    "        a = j.select('dl > dt:nth-of-type(2) > a')\n",
    "        print(a[0].text.strip())"
   ]
  },
  {
   "cell_type": "code",
   "execution_count": 29,
   "metadata": {},
   "outputs": [
    {
     "data": {
      "text/plain": [
       "<div class=\"section_body\" id=\"section_body\"></div>"
      ]
     },
     "execution_count": 29,
     "metadata": {},
     "output_type": "execute_result"
    }
   ],
   "source": [
    "item = selector[0]\n",
    "item"
   ]
  },
  {
   "cell_type": "code",
   "execution_count": 30,
   "metadata": {},
   "outputs": [
    {
     "name": "stdout",
     "output_type": "stream",
     "text": [
      "<div class=\"section_body\" id=\"section_body\"></div>\n"
     ]
    }
   ],
   "source": [
    "\n",
    "for target in item.find_all('a'):\n",
    "    target.extract()\n",
    "\n",
    "\n",
    "\n",
    "print(item)"
   ]
  },
  {
   "cell_type": "code",
   "execution_count": 26,
   "metadata": {},
   "outputs": [
    {
     "name": "stdout",
     "output_type": "stream",
     "text": [
      "경기도는 환경부와 탄소중립 지방정부 실천연대가 공동으로 주최하는 ‘탄소중립 실천 특별세션’에 참여해 국내 243개 모든 지방정부와 함께 2050 탄소중립을 선언한다고 24일 발표했다. 지방정부 실천연대는 탄소중립을 준비하고 구체적 실천에 참여하는 지자체의 연대로 지난해 7월 발족했다.\n",
      "\n",
      "\n",
      "탄소중립은 지구 온도 상승을 유발하는 온실가스 배출을 최대한 줄이고, 산림 등 탄소흡수원을 늘려서 온실가스 순 배출량을 ‘0’으로 만드는 것이다.\n",
      "\n",
      "기후변화 분야 최고 전문기구인 IPCC에서는 지구의 온도 상승을 1.5℃ 이내로 유지하기 위해 전 세계 모든 국가가 2050년까지 탄소중립을 달성해야 한다는 연구보고서를 발간한 바 있다.\n",
      "이 같은 연구 결과에 따라 유럽연합, 미국, 일본 등이 2050 탄소중립을 선언한 바 있으며, 한국도 지난해 10월 탄소중립을 선언했다.\n",
      "\n",
      "도는 그동안 기후변화 대응을 위해 탄소중립 지방정부 실천연대 참여, 경기도형 그린뉴딜 발표(지난해 7월), 탈석탄 동맹(PPCA) 가입(지난해 9월), 전국 탈석탄 금고 선언(지난해 9월) 등 2050 탄소중립 실현을 위한 정책을 추진해 온 바 있다.\n",
      "\n",
      "도는 앞으로 중장기 경기도 기후변화 대응계획 수립, 탄소인지예산 도입 등 기후변화 대응 노력을 더욱 강화해 나갈 방침이다. 이와 함께 도민과 함께 하는 탄소중립 정책 이행을 위해 도민 추진단을 구성해 도민의 자발적 참여와 인식을 확산하고 정책의 이행 기반을 강화하기 위해 관련 제도 정비도 병행 추진해 나갈 계획이다.\n",
      "\n",
      "김경섭 도 기후에너지정책과장은 “기후변화 대응계획은 연구용역 과정에 도내 31개 시군은 물론 산업경제, 도시주택, 농ㆍ축ㆍ수산 등 전 분야에서 함께 참여해 이행 로드맵을 만들어 탄소중립 실행력을 높일 것”이라며 “공공사업부터 온실가스 감축 활동을 선제적으로 추진하기 위해 용역 중인 탄소인지예산도 실효성 있는 제도로 정착할 수 있도록 노력해 나가겠다”고 말했다.\n",
      "\n",
      "한편, ‘탄소중립 실천 특별세션’ 행사는 2021 P4G 서울 정상회의 사전행사의 하나로 24일 오후, 서울 동대문디자인플라자에서 개최됐다.\n",
      "\n",
      "\n",
      "이날 행사에는 한정애 환경부 장관, 전해철 행정안전부 장관, 반기문 글로벌녹색성장기구 의장, 경제학자인 케이트 레이워스, 정의선 현대자동차그룹 회장을 비롯한 주요 인사와 국내외 주요 도시의 장이 하이브리드(대면+비대면) 방식으로 참여해 탄소중립을 위한 지자체의 역할과 구체적인 실천방안에 대해 경험과 의견을 공유하고 협력방안을 토론한다. 수원=윤상연 기자\n"
     ]
    }
   ],
   "source": [
    "news_content_body = item.text\n",
    "\n",
    "news_content = news_content_body.strip()\n",
    "print(news_content)"
   ]
  },
  {
   "cell_type": "code",
   "execution_count": null,
   "metadata": {},
   "outputs": [],
   "source": []
  },
  {
   "cell_type": "code",
   "execution_count": null,
   "metadata": {},
   "outputs": [],
   "source": []
  }
 ],
 "metadata": {
  "kernelspec": {
   "display_name": "Python 3",
   "language": "python",
   "name": "python3"
  },
  "language_info": {
   "codemirror_mode": {
    "name": "ipython",
    "version": 3
   },
   "file_extension": ".py",
   "mimetype": "text/x-python",
   "name": "python",
   "nbconvert_exporter": "python",
   "pygments_lexer": "ipython3",
   "version": "3.8.8"
  }
 },
 "nbformat": 4,
 "nbformat_minor": 4
}
