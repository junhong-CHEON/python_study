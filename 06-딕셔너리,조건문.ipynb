{
 "cells": [
  {
   "cell_type": "markdown",
   "id": "74271e51",
   "metadata": {},
   "source": [
    "# **딕셔너리**"
   ]
  },
  {
   "cell_type": "markdown",
   "id": "3e84920c",
   "metadata": {},
   "source": [
    "## 딕셔너리 자료형의 기본 형식"
   ]
  },
  {
   "cell_type": "markdown",
   "id": "cbaccc70",
   "metadata": {},
   "source": [
    "### 딕셔너리 형식의 데이터 만들기"
   ]
  },
  {
   "cell_type": "code",
   "execution_count": 1,
   "id": "c4a3e1d0",
   "metadata": {},
   "outputs": [
    {
     "name": "stdout",
     "output_type": "stream",
     "text": [
      "{'name': '철수', 'phone': '010-1234-5678', 'birth': '0115'}\n"
     ]
    }
   ],
   "source": [
    "# 딕셔너리 정의하기\n",
    "# -> 이름(key)과 값(value)가 쌍을 이루는 자료구조\n",
    "dic = { 'name': '철수', 'phone': '010-1234-5678', 'birth': '0115'}\n",
    "print(dic)"
   ]
  },
  {
   "cell_type": "code",
   "execution_count": 2,
   "id": "0d103a06",
   "metadata": {},
   "outputs": [
    {
     "name": "stdout",
     "output_type": "stream",
     "text": [
      "철수\n"
     ]
    }
   ],
   "source": [
    "# 특정 원소에 접근하기 -> 직접 출력\n",
    "print( dic[\"name\"] )"
   ]
  },
  {
   "cell_type": "code",
   "execution_count": 3,
   "id": "11d46e50",
   "metadata": {},
   "outputs": [
    {
     "name": "stdout",
     "output_type": "stream",
     "text": [
      "010-1234-5678\n"
     ]
    }
   ],
   "source": [
    "# 특정 원소에 접근하기 -> 다른 변수에 복사\n",
    "phone = dic[\"phone\"]\n",
    "print(phone)"
   ]
  },
  {
   "cell_type": "markdown",
   "id": "916a8485",
   "metadata": {},
   "source": [
    "### 딕셔너리 원소의 수정, 추가, 삭제"
   ]
  },
  {
   "cell_type": "code",
   "execution_count": 4,
   "id": "7e3cc46d",
   "metadata": {},
   "outputs": [
    {
     "name": "stdout",
     "output_type": "stream",
     "text": [
      "호영\n"
     ]
    }
   ],
   "source": [
    "# 특정 원소의 값을 변경\n",
    "dic[\"name\"] = \"호영\"\n",
    "print( dic[\"name\"] )"
   ]
  },
  {
   "cell_type": "code",
   "execution_count": 5,
   "id": "668170d9",
   "metadata": {},
   "outputs": [
    {
     "name": "stdout",
     "output_type": "stream",
     "text": [
      "{'name': '호영', 'phone': '010-1234-5678', 'birth': '0115', 'height': 175}\n"
     ]
    }
   ],
   "source": [
    "# 존재하지 않는 키에 값을 할당하면 확장\n",
    "dic[\"height\"] = 175\n",
    "print(dic)"
   ]
  },
  {
   "cell_type": "code",
   "execution_count": 6,
   "id": "ab565e81",
   "metadata": {},
   "outputs": [
    {
     "name": "stdout",
     "output_type": "stream",
     "text": [
      "{'name': '호영', 'phone': '010-1234-5678', 'height': 175}\n"
     ]
    }
   ],
   "source": [
    "# key가 birth인 데이터 삭제\n",
    "del(dic[\"birth\"])\n",
    "print(dic)"
   ]
  },
  {
   "cell_type": "markdown",
   "id": "392a9697",
   "metadata": {},
   "source": [
    "### 딕셔너리 key의 특성"
   ]
  },
  {
   "cell_type": "code",
   "execution_count": 7,
   "id": "8ca0b590",
   "metadata": {},
   "outputs": [
    {
     "name": "stdout",
     "output_type": "stream",
     "text": [
      "python\n"
     ]
    }
   ],
   "source": [
    "# 키가 중복될 경우 하나를 제외한 나머지는 무시됨\n",
    "# 나중에 정의된 항목이 덮어씌움\n",
    "data = {\"msg\" : \"hello\", \"msg\" : \"world\", \"msg\" : \"python\"}\n",
    "print(data['msg'])\n"
   ]
  },
  {
   "cell_type": "code",
   "execution_count": 8,
   "id": "a14b017c",
   "metadata": {},
   "outputs": [
    {
     "name": "stdout",
     "output_type": "stream",
     "text": [
      "Pyhton\n",
      "R\n",
      "java\n"
     ]
    }
   ],
   "source": [
    "# 딕셔너리는 리스트와 다르게 자료의 순서가 중요하지 않음\n",
    "# 키는 정수형 지정가능\n",
    "rank = {0: \"Pyhton\", 30: \"R\", 10: \"java\"}\n",
    "print(rank[0])\n",
    "print(rank[30])\n",
    "print(rank[10])\n"
   ]
  },
  {
   "cell_type": "markdown",
   "id": "411eb195",
   "metadata": {},
   "source": [
    "## 딕셔너리의 계층화 구조"
   ]
  },
  {
   "cell_type": "markdown",
   "id": "7964d187",
   "metadata": {},
   "source": [
    "### 리스트나 다른 딕셔너리를 포함하는 딕셔너리"
   ]
  },
  {
   "cell_type": "code",
   "execution_count": 10,
   "id": "f062dd74",
   "metadata": {},
   "outputs": [
    {
     "name": "stdout",
     "output_type": "stream",
     "text": [
      "{'userid': 'python', 'age': 20, 'addr': ['서울', '서초구', '강남대로'], 'grade': {'korean': 98, 'math': 77, 'english': 82}}\n"
     ]
    }
   ],
   "source": [
    "# 딕셔너리는 리스트나 다른 딕셔너리를 포함할 수 있다.\n",
    "# -> 정보를 계층화해서 표현 가능함\n",
    "addr = [\"서울\", \"서초구\", \"강남대로\"]\n",
    "grade = {\"korean\" : 98, \"math\" : 77, \"english\" : 82}\n",
    "\n",
    "member = {\n",
    "    \"userid\": \"python\",\n",
    "    \"age\": 20,\n",
    "    \"addr\": addr,\n",
    "    \"grade\": grade\n",
    "}\n",
    "                                    \n",
    "print(member)\n"
   ]
  },
  {
   "cell_type": "code",
   "execution_count": 11,
   "id": "5f2c3c47",
   "metadata": {},
   "outputs": [
    {
     "name": "stdout",
     "output_type": "stream",
     "text": [
      "서울\n",
      "98\n"
     ]
    }
   ],
   "source": [
    "# 계층화된 값에 접근하기\n",
    "print( member[\"addr\"][0])\n",
    "print( member[\"grade\"][\"korean\"])\n"
   ]
  },
  {
   "cell_type": "markdown",
   "id": "2358b149",
   "metadata": {},
   "source": [
    "### 딕셔너리의 계층화"
   ]
  },
  {
   "cell_type": "code",
   "execution_count": 14,
   "id": "14f4bb31",
   "metadata": {},
   "outputs": [
    {
     "name": "stdout",
     "output_type": "stream",
     "text": [
      "{'total': 1962, 'city': ['서울', '대전', '광주'], 'population': [987, 654, 321], 'date': {'yy': 2018, 'mm': 9, 'dd': 10}}\n",
      "서울\n",
      "987\n",
      "2018\n"
     ]
    }
   ],
   "source": [
    "# 딕셔너리의 계층화 직접 표현\n",
    "mydic = {\n",
    "    'total' : 1962,\n",
    "    'city' : [\"서울\", \"대전\", \"광주\"],\n",
    "    'population' : [987, 654, 321],\n",
    "    'date' : { 'yy' : 2018, 'mm':9, 'dd': 10}\n",
    "}\n",
    "\n",
    "print(mydic)\n",
    "print(mydic[\"city\"][0])\n",
    "print(mydic[\"population\"][0])\n",
    "print(mydic[\"date\"][\"yy\"])"
   ]
  },
  {
   "cell_type": "markdown",
   "id": "1c9d6a88",
   "metadata": {},
   "source": [
    "### 딕셔너리를 원소로 갖는 리스트"
   ]
  },
  {
   "cell_type": "code",
   "execution_count": 16,
   "id": "65bbfbd4",
   "metadata": {},
   "outputs": [
    {
     "name": "stdout",
     "output_type": "stream",
     "text": [
      "철수의 국어점수:95, 영어점수: 88\n",
      "영희의 국어점수:92, 영어점수: 90\n",
      "철민의 국어점수:88, 영어점수: 76\n"
     ]
    }
   ],
   "source": [
    "# 리스트의 원소가 딕셔너리가 되는 경우 -> 표 자료형\n",
    "grade = [\n",
    "    {\"name\" : \"철수\", \"kor\":95, \"eng\": 88},\n",
    "    {\"name\" : \"영희\", \"kor\":92, \"eng\": 90},\n",
    "    {\"name\" : \"철민\", \"kor\":88, \"eng\": 76}    \n",
    "]\n",
    "\n",
    "tpl = \"{0}의 국어점수:{1}, 영어점수: {2}\"\n",
    "print( tpl.format(grade[0][\"name\"], grade[0][\"kor\"], grade[0][\"eng\"]) )\n",
    "print( tpl.format(grade[1][\"name\"], grade[1][\"kor\"], grade[1][\"eng\"]) )\n",
    "print( tpl.format(grade[2][\"name\"], grade[2][\"kor\"], grade[2][\"eng\"]) )"
   ]
  },
  {
   "cell_type": "markdown",
   "id": "ddf5cb7d",
   "metadata": {},
   "source": [
    "### 딕셔너리 관련 함수"
   ]
  },
  {
   "cell_type": "code",
   "execution_count": 22,
   "id": "2c4184c6",
   "metadata": {},
   "outputs": [
    {
     "name": "stdout",
     "output_type": "stream",
     "text": [
      "철수\n",
      "None\n",
      "남자\n"
     ]
    }
   ],
   "source": [
    "dic = { \"name\" : \"철수\", \"phone\": \"010-1234-5678\", \"birth\": \"0115\"}\n",
    "\n",
    "# dic[\"name\"]과 동일\n",
    "print(dic.get(\"name\"))\n",
    "\n",
    "\n",
    "# 존재하지 않는 키는 none 반환\n",
    "# dic[\"gender\"]는 오류를 발생\n",
    "print(dic.get(\"gender\"))\n",
    "\n",
    "# key가 존재하지 않을 경우 대신 반환될 값을 정할 수 있음\n",
    "print(dic.get(\"gender\", \"남자\"))"
   ]
  },
  {
   "cell_type": "code",
   "execution_count": 23,
   "id": "94b7503e",
   "metadata": {},
   "outputs": [
    {
     "name": "stdout",
     "output_type": "stream",
     "text": [
      "dict_keys(['name', 'phone', 'birth'])\n"
     ]
    }
   ],
   "source": [
    "# Key 추출\n",
    "keys = dic.keys()\n",
    "print(keys)"
   ]
  },
  {
   "cell_type": "code",
   "execution_count": 24,
   "id": "4a6ed8b3",
   "metadata": {},
   "outputs": [
    {
     "name": "stdout",
     "output_type": "stream",
     "text": [
      "['name', 'phone', 'birth']\n"
     ]
    }
   ],
   "source": [
    "# key를 리스트로 저장\n",
    "key_list = list(keys)\n",
    "print(key_list)"
   ]
  },
  {
   "cell_type": "code",
   "execution_count": 27,
   "id": "5090f751",
   "metadata": {},
   "outputs": [
    {
     "name": "stdout",
     "output_type": "stream",
     "text": [
      "dict_values(['철수', '010-1234-5678', '0115'])\n"
     ]
    }
   ],
   "source": [
    "# Value 추출\n",
    "values = dic.values()\n",
    "print(valuse)"
   ]
  },
  {
   "cell_type": "code",
   "execution_count": 28,
   "id": "e12e01fa",
   "metadata": {},
   "outputs": [
    {
     "name": "stdout",
     "output_type": "stream",
     "text": [
      "['철수', '010-1234-5678', '0115']\n"
     ]
    }
   ],
   "source": [
    "# Value를 리스트로 저장\n",
    "values_list = list(values)\n",
    "print(values_list)"
   ]
  },
  {
   "cell_type": "code",
   "execution_count": 29,
   "id": "95cc49e7",
   "metadata": {},
   "outputs": [
    {
     "name": "stdout",
     "output_type": "stream",
     "text": [
      "dict_items([('name', '철수'), ('phone', '010-1234-5678'), ('birth', '0115')])\n"
     ]
    }
   ],
   "source": [
    "# key-value 쌍으로 튜플인 item얻기\n",
    "items = dic.items()\n",
    "print(items)"
   ]
  },
  {
   "cell_type": "code",
   "execution_count": 30,
   "id": "8b872dfa",
   "metadata": {},
   "outputs": [
    {
     "name": "stdout",
     "output_type": "stream",
     "text": [
      "[('name', '철수'), ('phone', '010-1234-5678'), ('birth', '0115')]\n"
     ]
    }
   ],
   "source": [
    "lists = list(items)\n",
    "print(lists)"
   ]
  },
  {
   "cell_type": "markdown",
   "id": "d37ab08e",
   "metadata": {},
   "source": [
    "# 변수의 특성"
   ]
  },
  {
   "cell_type": "markdown",
   "id": "1a553031",
   "metadata": {},
   "source": [
    "## 변수를 생성하는 다양한 방법"
   ]
  },
  {
   "cell_type": "markdown",
   "id": "4876cdb9",
   "metadata": {},
   "source": [
    "### 튜플을 활용하여 여러 개의 변수를 일괄 생성하기"
   ]
  },
  {
   "cell_type": "code",
   "execution_count": 32,
   "id": "3def65d4",
   "metadata": {},
   "outputs": [
    {
     "name": "stdout",
     "output_type": "stream",
     "text": [
      "python\n",
      "bigdate\n"
     ]
    }
   ],
   "source": [
    "# 튜플을 통한 변수 생성\n",
    "a ,b = (\"python\", \"bigdate\")\n",
    "#(a,b) = \"hello\", \"world\"\n",
    "#(a,b) = (\"안녕\", \"파이썬\")\n",
    "print(a)\n",
    "print(b)"
   ]
  },
  {
   "cell_type": "code",
   "execution_count": 33,
   "id": "90ebd694",
   "metadata": {},
   "outputs": [
    {
     "name": "stdout",
     "output_type": "stream",
     "text": [
      "python\n",
      "bigdate\n"
     ]
    }
   ],
   "source": [
    "# 리스트를 통한 방법도 같은 결과\n",
    "\n",
    "a ,b = [\"python\", \"bigdate\"]\n",
    "#[a,b] = \"hello\", \"world\"\n",
    "#[a,b] = [\"안녕\", \"파이썬\"]\n",
    "print(a)\n",
    "print(b)"
   ]
  },
  {
   "cell_type": "markdown",
   "id": "bcf161e5",
   "metadata": {},
   "source": [
    "### 동일한 값을 갖는 여러 개의 변수 일괄 생성 / 변수 값의 교환"
   ]
  },
  {
   "cell_type": "code",
   "execution_count": 34,
   "id": "a49943dc",
   "metadata": {},
   "outputs": [
    {
     "name": "stdout",
     "output_type": "stream",
     "text": [
      "1234\n",
      "1234\n",
      "1234\n"
     ]
    }
   ],
   "source": [
    "# 동일한 값을 갖는 여러 변수 생성\n",
    "a = b = c = 1234\n",
    "print(a)\n",
    "print(b)\n",
    "print(c)"
   ]
  },
  {
   "cell_type": "code",
   "execution_count": 35,
   "id": "8f7310a6",
   "metadata": {},
   "outputs": [
    {
     "name": "stdout",
     "output_type": "stream",
     "text": [
      "2\n",
      "1\n"
     ]
    }
   ],
   "source": [
    "# 두 변수의 값을 교환\n",
    "x = 1\n",
    "y = 2\n",
    "x ,y = y ,x\n",
    "print(x)\n",
    "print(y)"
   ]
  },
  {
   "cell_type": "markdown",
   "id": "c89ca57c",
   "metadata": {},
   "source": [
    "## 값 복사와 참조 복사"
   ]
  },
  {
   "cell_type": "markdown",
   "id": "f584cb34",
   "metadata": {},
   "source": [
    "### 값 복사\n",
    "---\n",
    "\n",
    "기본 데이터 타입 변수는 값을 복사한다\n",
    "\n",
    "### 참조 복사\n",
    "---\n",
    "\n",
    "기본 데이터 타입 이외의 자료형은 참조복사\n",
    "**(변수의 이름만 씀 타 언어와 유사한듯)**"
   ]
  },
  {
   "cell_type": "markdown",
   "id": "01541154",
   "metadata": {},
   "source": [
    "### 슬라이싱이나 메서드를 활용한 리스트의 복사"
   ]
  },
  {
   "cell_type": "code",
   "execution_count": 38,
   "id": "eefd8aa5",
   "metadata": {},
   "outputs": [
    {
     "name": "stdout",
     "output_type": "stream",
     "text": [
      "[1, 2, 3]\n",
      "[1, 2, 3]\n"
     ]
    }
   ],
   "source": [
    "# 슬라이싱을 활용한 방법\n",
    "bar = [1,2,3]\n",
    "cp1 = [0,0,0]\n",
    "\n",
    "cp2 = bar[:]\n",
    "print(bar)\n",
    "print(cp2)\n"
   ]
  },
  {
   "cell_type": "code",
   "execution_count": 39,
   "id": "04c20d1c",
   "metadata": {},
   "outputs": [
    {
     "name": "stdout",
     "output_type": "stream",
     "text": [
      "[1, 2, 3]\n",
      "[1, 12345, 3]\n"
     ]
    }
   ],
   "source": [
    "cp2[1] =12345\n",
    "print(bar)\n",
    "print(cp2)\n"
   ]
  },
  {
   "cell_type": "code",
   "execution_count": 40,
   "id": "4a99db89",
   "metadata": {},
   "outputs": [
    {
     "name": "stdout",
     "output_type": "stream",
     "text": [
      "[1, 12345, 3]\n",
      "[12345, 12345, 3]\n"
     ]
    }
   ],
   "source": [
    "# 리스트 객체의 함수를 사용하는 방법\n",
    "cp3 = cp2.copy()\n",
    "\n",
    "# 원본에 영향이 없음\n",
    "cp3[0] = 12345\n",
    "print(cp2)\n",
    "print(cp3)"
   ]
  },
  {
   "cell_type": "markdown",
   "id": "14f9629c",
   "metadata": {},
   "source": [
    "# 조건문"
   ]
  },
  {
   "cell_type": "markdown",
   "id": "e7938bea",
   "metadata": {},
   "source": [
    "### Boolean값에 대한 조건식 판별"
   ]
  },
  {
   "cell_type": "code",
   "execution_count": 41,
   "id": "52801bf9",
   "metadata": {},
   "outputs": [
    {
     "name": "stdout",
     "output_type": "stream",
     "text": [
      "배고픈데\n"
     ]
    }
   ],
   "source": [
    "print(\"배고픈데\")"
   ]
  },
  {
   "cell_type": "code",
   "execution_count": 42,
   "id": "acf229c9",
   "metadata": {},
   "outputs": [],
   "source": [
    "have_money = True\n",
    "#have_money = False"
   ]
  },
  {
   "cell_type": "code",
   "execution_count": 43,
   "id": "d8652834",
   "metadata": {},
   "outputs": [
    {
     "name": "stdout",
     "output_type": "stream",
     "text": [
      "식당에서\n",
      "밥을 먹자\n"
     ]
    }
   ],
   "source": [
    "if have_money:\n",
    "    # 타 언어의 중괄호와 같은 역할을 들여쓰기가 함\n",
    "    # 탭과 스페이스 혼용 에러\n",
    "    print(\"식당에서\")\n",
    "    \n",
    "print(\"밥을 먹자\")\n"
   ]
  },
  {
   "cell_type": "markdown",
   "id": "1770b2e6",
   "metadata": {},
   "source": [
    "### 숫자형 변수와 문자열 변수에 대한 조건식 판별\n",
    "---\n",
    "0이거나 값이 비어있지 않다면 True **( 타 언어와 유사 )**\n",
    "\n",
    "### 리스트에 대한 조건식 판별\n",
    "---\n",
    "리스트에 원소가 있다면 True, empty라면 False판별\n",
    "\n",
    "### 비교식과 논리식\n",
    "---\n",
    "연산 결과에 따름"
   ]
  },
  {
   "cell_type": "markdown",
   "id": "7595e08d",
   "metadata": {},
   "source": [
    "### is 연산자를 통한 조건식 구성"
   ]
  },
  {
   "cell_type": "code",
   "execution_count": 66,
   "id": "eef0d329",
   "metadata": {},
   "outputs": [
    {
     "name": "stdout",
     "output_type": "stream",
     "text": [
      "a와 b는 같다\n"
     ]
    }
   ],
   "source": [
    "# is는 두 변수의 값이 동일하면 True\n",
    "a = 123\n",
    "b = 123\n",
    "c = 234\n",
    "\n",
    "if a is b:\n",
    "    print(\"a와 b는 같다\")\n",
    "    \n",
    "if b is c:\n",
    "    print(\"b와 c는 같다\")\n",
    "    \n"
   ]
  },
  {
   "cell_type": "markdown",
   "id": "c9587138",
   "metadata": {},
   "source": [
    "### is 연산자의 특성\n",
    "---\n",
    "\"is\" 는 == 과 다르게 변수의 타입까지 비교한다. 서로 다른 자료형은 같지 않다고 판별한다."
   ]
  },
  {
   "cell_type": "markdown",
   "id": "b77a89eb",
   "metadata": {},
   "source": [
    "### is not 연산자\n",
    "---\n",
    "값이 다르면 True"
   ]
  },
  {
   "cell_type": "markdown",
   "id": "7a53de44",
   "metadata": {},
   "source": [
    "### in 연산자\n"
   ]
  },
  {
   "cell_type": "code",
   "execution_count": 68,
   "id": "6f5c2f7b",
   "metadata": {},
   "outputs": [
    {
     "name": "stdout",
     "output_type": "stream",
     "text": [
      "True\n",
      "False\n"
     ]
    }
   ],
   "source": [
    "# 포함 여부를 검사하는 in 연산자\n",
    "# -> in은 왼쪽의 값이 오른쪽 대상에 포함되어 있다면 True\n",
    "user1 = \"hello\"\n",
    "user2 = \"world\"\n",
    "member_list = ['hello', 'python', 'life']\n",
    "\n",
    "# -> 왼쪽의 변수가 오른쪽의 리스트에 속한 값이면 참\n",
    "a = user1 in member_list\n",
    "print(a)\n",
    "\n",
    "b = user2 in member_list\n",
    "print(b)"
   ]
  },
  {
   "cell_type": "markdown",
   "id": "6e4b3c10",
   "metadata": {},
   "source": [
    "### not in 연산자\n",
    "---\n",
    "포함되지 않았으면 True"
   ]
  },
  {
   "cell_type": "markdown",
   "id": "29e3b827",
   "metadata": {},
   "source": [
    "### else 사용하기"
   ]
  },
  {
   "cell_type": "code",
   "execution_count": 69,
   "id": "2c6d53b6",
   "metadata": {},
   "outputs": [
    {
     "name": "stdout",
     "output_type": "stream",
     "text": [
      "성인이 아닙니다.\n"
     ]
    }
   ],
   "source": [
    "age = 19\n",
    "\n",
    "if age > 19:\n",
    "    print(\"성인입니다.\")\n",
    "else:\n",
    "    print(\"성인이 아닙니다.\")"
   ]
  },
  {
   "cell_type": "markdown",
   "id": "fc6c7541",
   "metadata": {},
   "source": [
    "### else 활용"
   ]
  },
  {
   "cell_type": "code",
   "execution_count": 70,
   "id": "8cba1092",
   "metadata": {},
   "outputs": [
    {
     "name": "stdout",
     "output_type": "stream",
     "text": [
      "hello는 이미 가입되어 있습니다.\n",
      "world는 이미 가입되어 있지 않습니다.\n"
     ]
    }
   ],
   "source": [
    "user1 = \"hello\"\n",
    "user2 = \"world\"\n",
    "member_list = ['hello', 'python', 'list']\n",
    "\n",
    "if user1 in member_list:\n",
    "    print(\"%s는 이미 가입되어 있습니다.\" %user1)\n",
    "else:\n",
    "    print(\"%s는 이미 가입되어 있지 않습니다.\" %user1)\n",
    "\n",
    "if user2 in member_list:\n",
    "    print(\"%s는 이미 가입되어 있습니다.\" %user2)\n",
    "else:\n",
    "    print(\"%s는 이미 가입되어 있지 않습니다.\" %user2)\n"
   ]
  },
  {
   "cell_type": "markdown",
   "id": "dee8f229",
   "metadata": {},
   "source": [
    "### elif절의 활용 예시"
   ]
  },
  {
   "cell_type": "code",
   "execution_count": 72,
   "id": "d9bd855c",
   "metadata": {},
   "outputs": [
    {
     "name": "stdout",
     "output_type": "stream",
     "text": [
      "C학점\n"
     ]
    }
   ],
   "source": [
    "# 다양한 경우의 수 나열\n",
    "# -> elif는 if와 else 사이에서 나열된 조건 중\n",
    "# 처음으로 만나느 참인 조건에 대한 블록을 수행하고\n",
    "# 나머지 조건은 무시하고 종료한다.\n",
    "\n",
    "point = 72\n",
    "\n",
    "if point > 90:\n",
    "    print(\"A학점\")\n",
    "elif point > 80:\n",
    "    print(\"B학점\")\n",
    "elif point > 70:\n",
    "    print(\"C학점\")\n",
    "elif point > 70:\n",
    "    print(\"C학점\")\n",
    "elif point > 60:\n",
    "    print(\"D학점\")\n",
    "else:\n",
    "    print(\"F학점\")"
   ]
  },
  {
   "cell_type": "markdown",
   "id": "c1247443",
   "metadata": {},
   "source": [
    "# **연습문제 6**"
   ]
  },
  {
   "cell_type": "code",
   "execution_count": 75,
   "id": "45a47348",
   "metadata": {},
   "outputs": [
    {
     "name": "stdout",
     "output_type": "stream",
     "text": [
      "38000원 x 6개 -> 총 228000원\n",
      "20000원 x 4개 -> 총 80000원\n",
      "17900원 x 3개 -> 총 53700원\n",
      "17900원 x 5개 -> 총 89500원\n"
     ]
    }
   ],
   "source": [
    "cart = [\n",
    "    {\"price\" : 38000, \"qty\" : 6},\n",
    "    {\"price\" : 20000, \"qty\" : 4},\n",
    "    {\"price\" : 17900, \"qty\" : 3},\n",
    "    {\"price\" : 17900, \"qty\" : 5}\n",
    "]\n",
    "\n",
    "tpl = \"{0}원 x {1}개 -> 총 {2}원\"\n",
    "print(tpl.format(cart[0]['price'], cart[0]['qty'],\n",
    "                cart[0]['price'] * cart[0]['qty']))\n",
    "print(tpl.format(cart[1]['price'], cart[1]['qty'],\n",
    "                cart[1]['price'] * cart[1]['qty']))\n",
    "print(tpl.format(cart[2]['price'], cart[2]['qty'],\n",
    "                cart[2]['price'] * cart[2]['qty']))\n",
    "print(tpl.format(cart[3]['price'], cart[3]['qty'],\n",
    "                cart[3]['price'] * cart[3]['qty']))"
   ]
  },
  {
   "cell_type": "markdown",
   "id": "719eda4b",
   "metadata": {},
   "source": [
    "# **연습문제7**"
   ]
  },
  {
   "cell_type": "code",
   "execution_count": 81,
   "id": "3251274f",
   "metadata": {},
   "outputs": [
    {
     "name": "stdout",
     "output_type": "stream",
     "text": [
      "정상(안심)\n"
     ]
    }
   ],
   "source": [
    "height, weight = [174, 65]\n",
    "\n",
    "if height <= 150:\n",
    "    standard_weight = height - 110\n",
    "else:\n",
    "    standard_weight = (height - 110) * 0.9\n",
    "    \n",
    "obesity = (weight - standard_weight)/standard_weight * 100\n",
    "\n",
    "if obesity <= 20:\n",
    "    print(\"정상(안심)\")\n",
    "elif obesity > 20 and obesity <= 30:\n",
    "    print(\"경도비만(주의)\")\n",
    "elif obesity > 30 and obesity <= 50:\n",
    "    print(\"중등도 비만(위험)\")\n",
    "elif obesity > 50:\n",
    "    print(\"고도비만(매우위험)\")"
   ]
  },
  {
   "cell_type": "code",
   "execution_count": 83,
   "id": "0f3603cd",
   "metadata": {},
   "outputs": [
    {
     "name": "stdin",
     "output_type": "stream",
     "text": [
      "어디를 수비하시겠어요?(왼쪽, 중앙, 오른쪽) 중앙\n"
     ]
    },
    {
     "name": "stdout",
     "output_type": "stream",
     "text": [
      "실패\n"
     ]
    }
   ],
   "source": []
  },
  {
   "cell_type": "code",
   "execution_count": 84,
   "id": "d2558fad",
   "metadata": {},
   "outputs": [
    {
     "name": "stdout",
     "output_type": "stream",
     "text": [
      "666.6666666666666\n"
     ]
    }
   ],
   "source": []
  },
  {
   "cell_type": "code",
   "execution_count": null,
   "id": "01cbd4b7",
   "metadata": {},
   "outputs": [],
   "source": []
  }
 ],
 "metadata": {
  "kernelspec": {
   "display_name": "Python 3",
   "language": "python",
   "name": "python3"
  },
  "language_info": {
   "codemirror_mode": {
    "name": "ipython",
    "version": 3
   },
   "file_extension": ".py",
   "mimetype": "text/x-python",
   "name": "python",
   "nbconvert_exporter": "python",
   "pygments_lexer": "ipython3",
   "version": "3.8.8"
  }
 },
 "nbformat": 4,
 "nbformat_minor": 5
}
