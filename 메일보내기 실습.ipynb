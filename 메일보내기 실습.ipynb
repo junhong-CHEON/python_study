{
 "cells": [
  {
   "cell_type": "code",
   "execution_count": null,
   "id": "55df32ab",
   "metadata": {},
   "outputs": [],
   "source": [
    "import os.path\n",
    "from smtplib import SMTP\n",
    "from email.mime.text import MIMEText\n",
    "from email.mime.application import MIMEApplication\n",
    "from email.mime.multipart import MIMEMultipart\n",
    "\n",
    "def sendmail(from_addr, to_addr, subject, content, files = []):\n",
    "    # 발송 정보 설정\n",
    "    content_type =\"html\"\n",
    "    username = \"cj562270@gmail.com\"\n",
    "    password = \"xxquvavwadadxirc\"\n",
    "    smtp = 'smtp.gmail.com'\n",
    "    port = 587\n",
    "\n",
    "\n",
    "    # 메일 객체 생성하기\n",
    "\n",
    "    msg = MIMEMultipart()\n",
    "    msg['Subject'] = subject\n",
    "    msg['Form'] = from_addr\n",
    "    msg['To'] = to_addr\n",
    "\n",
    "    # 본문 설정\n",
    "    msg.attach(MIMEText(content, content_type))\n",
    "\n",
    "\n",
    "    # 파일 첨부\n",
    "\n",
    "    if files:\n",
    "        for f in files:\n",
    "            with open(f, 'rb') as a_file:\n",
    "                basename = os.path.basename(f)\n",
    "                # 파일의 내용과 파일이름을 메일에 첨부할 형식으로 변환\n",
    "                part = MIMEApplication(a_file.read(), Name = basename)\n",
    "\n",
    "                # 파일첨부\n",
    "                part['Content-Disposition'] = 'attachment; filename=\"%s\"' % basename\n",
    "                msg.attach(part)\n",
    "\n",
    "    # 메일 발송 처리\n",
    "\n",
    "    mail = SMTP(smtp)\n",
    "    mail.ehlo()\n",
    "    mail.starttls()\n",
    "    mail.login(username, password)\n",
    "    mail.sendmail(from_addr, to_addr, msg.as_string())\n",
    "    mail.quit()"
   ]
  },
  {
   "cell_type": "code",
   "execution_count": null,
   "id": "dd8d3064",
   "metadata": {},
   "outputs": [],
   "source": []
  }
 ],
 "metadata": {
  "kernelspec": {
   "display_name": "Python 3",
   "language": "python",
   "name": "python3"
  },
  "language_info": {
   "codemirror_mode": {
    "name": "ipython",
    "version": 3
   },
   "file_extension": ".py",
   "mimetype": "text/x-python",
   "name": "python",
   "nbconvert_exporter": "python",
   "pygments_lexer": "ipython3",
   "version": "3.8.8"
  }
 },
 "nbformat": 4,
 "nbformat_minor": 5
}
