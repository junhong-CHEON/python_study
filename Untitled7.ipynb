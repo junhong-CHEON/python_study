{
 "cells": [
  {
   "cell_type": "code",
   "execution_count": 1,
   "id": "ec51cb20",
   "metadata": {},
   "outputs": [
    {
     "name": "stdout",
     "output_type": "stream",
     "text": [
      "Requirement already satisfied: scipy in c:\\users\\junhong\\appdata\\local\\programs\\python\\python38\\lib\\site-packages (1.6.3)Note: you may need to restart the kernel to use updated packages.\n",
      "Requirement already satisfied: numpy<1.23.0,>=1.16.5 in c:\\users\\junhong\\appdata\\local\\programs\\python\\python38\\lib\\site-packages (from scipy) (1.20.2)\n",
      "\n"
     ]
    },
    {
     "name": "stderr",
     "output_type": "stream",
     "text": [
      "WARNING: Ignoring invalid distribution -pype1 (c:\\users\\junhong\\appdata\\local\\programs\\python\\python38\\lib\\site-packages)\n",
      "WARNING: Ignoring invalid distribution -pype1 (c:\\users\\junhong\\appdata\\local\\programs\\python\\python38\\lib\\site-packages)\n",
      "WARNING: Ignoring invalid distribution -pype1 (c:\\users\\junhong\\appdata\\local\\programs\\python\\python38\\lib\\site-packages)\n",
      "WARNING: Ignoring invalid distribution -pype1 (c:\\users\\junhong\\appdata\\local\\programs\\python\\python38\\lib\\site-packages)\n",
      "WARNING: Ignoring invalid distribution -pype1 (c:\\users\\junhong\\appdata\\local\\programs\\python\\python38\\lib\\site-packages)\n"
     ]
    }
   ],
   "source": [
    "pip install --upgrade scipy"
   ]
  },
  {
   "cell_type": "code",
   "execution_count": 2,
   "id": "a6d9f17d",
   "metadata": {},
   "outputs": [],
   "source": [
    "import numpy as np\n",
    "from scipy import stats"
   ]
  },
  {
   "cell_type": "code",
   "execution_count": 4,
   "id": "12b00172",
   "metadata": {},
   "outputs": [
    {
     "data": {
      "text/plain": [
       "array([164, 163, 173, 165, 180, 173, 175, 167, 176, 166, 181, 163, 173,\n",
       "       170, 172, 171, 178, 168, 170, 166])"
      ]
     },
     "execution_count": 4,
     "metadata": {},
     "output_type": "execute_result"
    }
   ],
   "source": [
    "height_list = np.array([164, 163, 173, 165, 180, 173, 175, 167, 176, 166, 181, 163, 173,170, 172, 171, 178, 168, 170, 166])\n",
    "height_list"
   ]
  },
  {
   "cell_type": "code",
   "execution_count": 5,
   "id": "be040fd4",
   "metadata": {},
   "outputs": [
    {
     "data": {
      "text/plain": [
       "Ttest_1sampResult(statistic=2.2002986674074805, pvalue=0.04035679248770456)"
      ]
     },
     "execution_count": 5,
     "metadata": {},
     "output_type": "execute_result"
    }
   ],
   "source": [
    "tTestResult = stats.ttest_1samp(height_list, 168)\n",
    "tTestResult"
   ]
  },
  {
   "cell_type": "code",
   "execution_count": 6,
   "id": "06ee8722",
   "metadata": {},
   "outputs": [
    {
     "name": "stdout",
     "output_type": "stream",
     "text": [
      "t검정 통계량 = 2.200, pvalue = 0.040\n"
     ]
    }
   ],
   "source": [
    "print('t검정 통계량 = %.3f, pvalue = %.3f'%(tTestResult))"
   ]
  },
  {
   "cell_type": "code",
   "execution_count": null,
   "id": "7782b3c1",
   "metadata": {},
   "outputs": [],
   "source": []
  }
 ],
 "metadata": {
  "kernelspec": {
   "display_name": "Python 3",
   "language": "python",
   "name": "python3"
  },
  "language_info": {
   "codemirror_mode": {
    "name": "ipython",
    "version": 3
   },
   "file_extension": ".py",
   "mimetype": "text/x-python",
   "name": "python",
   "nbconvert_exporter": "python",
   "pygments_lexer": "ipython3",
   "version": "3.8.8"
  }
 },
 "nbformat": 4,
 "nbformat_minor": 5
}
