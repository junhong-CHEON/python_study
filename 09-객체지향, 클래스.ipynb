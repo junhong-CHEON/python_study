{
 "cells": [
  {
   "cell_type": "markdown",
   "id": "49cf7820",
   "metadata": {},
   "source": [
    "# 파이썬 객체 지향(클래스)"
   ]
  },
  {
   "cell_type": "markdown",
   "id": "0f4a0124",
   "metadata": {},
   "source": [
    "## 변수만을 내장하는 객체 생성"
   ]
  },
  {
   "cell_type": "code",
   "execution_count": 3,
   "id": "2e1c18ba",
   "metadata": {},
   "outputs": [
    {
     "name": "stdout",
     "output_type": "stream",
     "text": [
      "python\n",
      "python@gamil.com\n",
      "01012345678\n"
     ]
    }
   ],
   "source": [
    "class Member:\n",
    "    userid = \"python\"\n",
    "    email = \"python@gamil.com\"\n",
    "    phone = \"01012345678\"\n",
    "    \n",
    "\n",
    "# 값 변경도 가능\n",
    "mem1 = Member()\n",
    "print(mem1.userid)\n",
    "print(mem1.email)\n",
    "print(mem1.phone)"
   ]
  },
  {
   "cell_type": "markdown",
   "id": "b76158b8",
   "metadata": {},
   "source": [
    "## 클래스에 메서드 정의"
   ]
  },
  {
   "cell_type": "code",
   "execution_count": 8,
   "id": "0d8da57b",
   "metadata": {},
   "outputs": [],
   "source": [
    "class Calc:\n",
    "    def plus(self, x, y): #self 필수 클래스에서 자기 자신을 의미\n",
    "        return x + y\n",
    "    \n",
    "    def minus(self, x, y):\n",
    "        return x - y\n",
    "    \n",
    "    def all(self,x,y):\n",
    "        a = self.plus(x, y)\n",
    "        b = self.minus(x, y)\n",
    "        \n",
    "        return (a,b)\n",
    "    \n",
    "c1 = Calc()\n",
    "a = c1.plus(100,200)\n",
    "\n",
    "c2 = Calc()\n",
    "b = c2.plus(200,300)"
   ]
  },
  {
   "cell_type": "markdown",
   "id": "47100183",
   "metadata": {},
   "source": [
    "## 객체 내장함수 사용하기"
   ]
  },
  {
   "cell_type": "code",
   "execution_count": 9,
   "id": "72a10e90",
   "metadata": {},
   "outputs": [
    {
     "name": "stdout",
     "output_type": "stream",
     "text": [
      "30\n",
      "50\n"
     ]
    }
   ],
   "source": [
    "my = Calc()\n",
    "\n",
    "print(my.plus(10, 20))\n",
    "print(my.minus(100, 50))"
   ]
  },
  {
   "cell_type": "code",
   "execution_count": 10,
   "id": "00ccef5c",
   "metadata": {},
   "outputs": [
    {
     "name": "stdout",
     "output_type": "stream",
     "text": [
      "30\n",
      "-10\n"
     ]
    }
   ],
   "source": [
    "a = my.all(10,20)\n",
    "\n",
    "print(a[0])\n",
    "print(a[1])"
   ]
  },
  {
   "cell_type": "code",
   "execution_count": 11,
   "id": "5cd1cd0b",
   "metadata": {},
   "outputs": [
    {
     "name": "stdout",
     "output_type": "stream",
     "text": [
      "300\n",
      "-100\n"
     ]
    }
   ],
   "source": [
    "p,m = my.all(100,200)\n",
    "print(p)\n",
    "print(m)"
   ]
  },
  {
   "cell_type": "markdown",
   "id": "1df2f1c4",
   "metadata": {},
   "source": [
    "## 파이썬은 생성자 생성에서 오버로딩이 필요없음"
   ]
  },
  {
   "cell_type": "code",
   "execution_count": 12,
   "id": "c5b9112d",
   "metadata": {},
   "outputs": [
    {
     "name": "stdout",
     "output_type": "stream",
     "text": [
      "이름: 야옹이 / 이메일: yaong@gmail.com\n"
     ]
    }
   ],
   "source": [
    "class Member:\n",
    "    username = None\n",
    "    email = None\n",
    "    \n",
    "    def __init__(self, username, email):\n",
    "        self.username = username\n",
    "        self.email = email\n",
    "        \n",
    "    def view_info(self):\n",
    "        tpl = \"이름: {0} / 이메일: {1}\"\n",
    "        print(tpl.format(self.username, self.email))\n",
    "        \n",
    "mem1 = Member(\"야옹이\" , \"yaong@gmail.com\")\n",
    "mem1.view_info()"
   ]
  },
  {
   "cell_type": "markdown",
   "id": "2ca3b179",
   "metadata": {},
   "source": [
    "## 모듈 이용하기 (다른 파일 참조)"
   ]
  },
  {
   "cell_type": "code",
   "execution_count": 18,
   "id": "337f882d",
   "metadata": {},
   "outputs": [
    {
     "name": "stdout",
     "output_type": "stream",
     "text": [
      "Hello Python\n",
      "7\n",
      "-1\n"
     ]
    }
   ],
   "source": [
    "import my_mod1\n",
    "\n",
    "print(my_mod1.NAME)\n",
    "print(my_mod1.plus(3,4))\n",
    "print(my_mod1.minus(3,4))"
   ]
  },
  {
   "cell_type": "code",
   "execution_count": 19,
   "id": "692fdd40",
   "metadata": {},
   "outputs": [
    {
     "name": "stdout",
     "output_type": "stream",
     "text": [
      "Hello Python\n",
      "7\n",
      "-1\n"
     ]
    }
   ],
   "source": [
    "import my_mod1 as hello # 모듈에 별칭 적용하기\n",
    "\n",
    "print(hello.NAME)\n",
    "print(hello.plus(3,4))\n",
    "print(hello.minus(3,4))"
   ]
  },
  {
   "cell_type": "code",
   "execution_count": 21,
   "id": "02c2574e",
   "metadata": {},
   "outputs": [
    {
     "name": "stdout",
     "output_type": "stream",
     "text": [
      "Hello Python\n",
      "7\n"
     ]
    }
   ],
   "source": [
    "from my_mod1 import NAME # 특정 기능만 골라서 가져오기\n",
    "from my_mod1 import plus\n",
    "\n",
    "print(hello.NAME)\n",
    "print(hello.plus(3,4))"
   ]
  },
  {
   "cell_type": "markdown",
   "id": "f470c73b",
   "metadata": {},
   "source": [
    "## 클래스를 모듈화 하기"
   ]
  },
  {
   "cell_type": "code",
   "execution_count": 22,
   "id": "23922ec7",
   "metadata": {},
   "outputs": [
    {
     "name": "stdout",
     "output_type": "stream",
     "text": [
      "이름: 파이썬학생 / 이메일: leekh4232@gmail.com\n"
     ]
    }
   ],
   "source": [
    "import my_mod2\n",
    "\n",
    "mem = my_mod2.Member('파이썬학생', 'leekh4232@gmail.com')\n",
    "mem.view_info()"
   ]
  },
  {
   "cell_type": "markdown",
   "id": "b6c43996",
   "metadata": {},
   "source": [
    "특정 기능 골라서 가져오기 , 별칭 붙이기 동일"
   ]
  },
  {
   "cell_type": "markdown",
   "id": "6b565c36",
   "metadata": {},
   "source": [
    "## 정의된 기능을 부여받은 객체를 포함하는 모듈"
   ]
  },
  {
   "cell_type": "code",
   "execution_count": 28,
   "id": "7f538c8c",
   "metadata": {},
   "outputs": [
    {
     "name": "stdout",
     "output_type": "stream",
     "text": [
      "45\n",
      "15\n"
     ]
    }
   ],
   "source": [
    "import my_mod3\n",
    "\n",
    "my_calc = my_mod3.Calc()\n",
    "\n",
    "print(my_calc.plus(30,15))\n",
    "print(my_calc.minus(30,15))"
   ]
  },
  {
   "cell_type": "markdown",
   "id": "d6c8b0bd",
   "metadata": {},
   "source": [
    "나머지는 똑같음"
   ]
  },
  {
   "cell_type": "code",
   "execution_count": null,
   "id": "81cbf0bc",
   "metadata": {},
   "outputs": [],
   "source": []
  }
 ],
 "metadata": {
  "kernelspec": {
   "display_name": "Python 3",
   "language": "python",
   "name": "python3"
  },
  "language_info": {
   "codemirror_mode": {
    "name": "ipython",
    "version": 3
   },
   "file_extension": ".py",
   "mimetype": "text/x-python",
   "name": "python",
   "nbconvert_exporter": "python",
   "pygments_lexer": "ipython3",
   "version": "3.8.8"
  }
 },
 "nbformat": 4,
 "nbformat_minor": 5
}
