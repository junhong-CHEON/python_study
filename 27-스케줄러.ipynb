{
 "cells": [
  {
   "cell_type": "markdown",
   "id": "998ed6fa",
   "metadata": {},
   "source": [
    "# 29-스케쥴러\n",
    "스케쥴러란, 정해진 시간에 따라 특정 함수를 자동으로 실행하게 하는 기능을 말한다."
   ]
  },
  {
   "cell_type": "code",
   "execution_count": 1,
   "id": "5c15cb92",
   "metadata": {},
   "outputs": [
    {
     "name": "stdout",
     "output_type": "stream",
     "text": [
      "Collecting schedule\n",
      "  Downloading schedule-1.1.0-py2.py3-none-any.whl (10 kB)\n",
      "Installing collected packages: schedule\n",
      "Successfully installed schedule-1.1.0\n",
      "Note: you may need to restart the kernel to use updated packages.\n"
     ]
    },
    {
     "name": "stderr",
     "output_type": "stream",
     "text": [
      "WARNING: Value for scheme.headers does not match. Please report this to <https://github.com/pypa/pip/issues/9617>\n",
      "distutils: c:\\users\\junhong\\appdata\\local\\programs\\python\\python38\\Include\\UNKNOWN\n",
      "sysconfig: c:\\users\\junhong\\appdata\\local\\programs\\python\\python38\\Include\n",
      "WARNING: Additional context:\n",
      "user = False\n",
      "home = None\n",
      "root = None\n",
      "prefix = None\n",
      "WARNING: Ignoring invalid distribution -pype1 (c:\\users\\junhong\\appdata\\local\\programs\\python\\python38\\lib\\site-packages)\n",
      "WARNING: Ignoring invalid distribution -pype1 (c:\\users\\junhong\\appdata\\local\\programs\\python\\python38\\lib\\site-packages)\n",
      "WARNING: Ignoring invalid distribution -pype1 (c:\\users\\junhong\\appdata\\local\\programs\\python\\python38\\lib\\site-packages)\n",
      "WARNING: Value for scheme.headers does not match. Please report this to <https://github.com/pypa/pip/issues/9617>\n",
      "distutils: c:\\users\\junhong\\appdata\\local\\programs\\python\\python38\\Include\\UNKNOWN\n",
      "sysconfig: c:\\users\\junhong\\appdata\\local\\programs\\python\\python38\\Include\n",
      "WARNING: Additional context:\n",
      "user = False\n",
      "home = None\n",
      "root = None\n",
      "prefix = None\n",
      "WARNING: Ignoring invalid distribution -pype1 (c:\\users\\junhong\\appdata\\local\\programs\\python\\python38\\lib\\site-packages)\n",
      "WARNING: Ignoring invalid distribution -pype1 (c:\\users\\junhong\\appdata\\local\\programs\\python\\python38\\lib\\site-packages)\n",
      "WARNING: Ignoring invalid distribution -pype1 (c:\\users\\junhong\\appdata\\local\\programs\\python\\python38\\lib\\site-packages)\n",
      "WARNING: Ignoring invalid distribution -pype1 (c:\\users\\junhong\\appdata\\local\\programs\\python\\python38\\lib\\site-packages)\n",
      "WARNING: You are using pip version 21.1; however, version 21.1.2 is available.\n",
      "You should consider upgrading via the 'c:\\users\\junhong\\appdata\\local\\programs\\python\\python38\\python.exe -m pip install --upgrade pip' command.\n"
     ]
    }
   ],
   "source": [
    "pip install --upgrade schedule"
   ]
  },
  {
   "cell_type": "markdown",
   "id": "9582882f",
   "metadata": {},
   "source": [
    "## 02. 스케줄에 따라 자동으로 실행될 함수 정의"
   ]
  },
  {
   "cell_type": "code",
   "execution_count": 9,
   "id": "64fde3c7",
   "metadata": {},
   "outputs": [],
   "source": [
    "import schedule\n",
    "import time\n",
    "import datetime as dt"
   ]
  },
  {
   "cell_type": "code",
   "execution_count": 10,
   "id": "893d07b0",
   "metadata": {},
   "outputs": [],
   "source": [
    "def job_second():\n",
    "    print(\"I'm working...every second ::: \", dt.datetime.now()) "
   ]
  },
  {
   "cell_type": "code",
   "execution_count": 11,
   "id": "74bd5c78",
   "metadata": {},
   "outputs": [],
   "source": [
    "def job_minute(): \n",
    "    print(\"I'm working...every minute ::: \", dt.datetime.now()) "
   ]
  },
  {
   "cell_type": "code",
   "execution_count": 12,
   "id": "3af703f2",
   "metadata": {},
   "outputs": [],
   "source": [
    "def job_hour(): \n",
    "    print(\"I'm working...every hour ::: \", dt.datetime.now()) "
   ]
  },
  {
   "cell_type": "code",
   "execution_count": 13,
   "id": "36f01627",
   "metadata": {},
   "outputs": [],
   "source": [
    "def job_day(): \n",
    "    print(\"I'm working...every day ::: \", dt.datetime.now())"
   ]
  },
  {
   "cell_type": "code",
   "execution_count": 14,
   "id": "8d0cd711",
   "metadata": {},
   "outputs": [],
   "source": [
    "def job_monday():\n",
    "    print(\"I'm working...every monday ::: \", dt.datetime.now())"
   ]
  },
  {
   "cell_type": "code",
   "execution_count": 15,
   "id": "bd48f977",
   "metadata": {},
   "outputs": [],
   "source": [
    "def job_wednesday():\n",
    "    print(\"I'm working...every wednesday ::: \", dt.datetime.now())"
   ]
  },
  {
   "cell_type": "markdown",
   "id": "006515ae",
   "metadata": {},
   "source": [
    "## 03. 스케줄에 함수 적용"
   ]
  },
  {
   "cell_type": "code",
   "execution_count": 16,
   "id": "1257c344",
   "metadata": {},
   "outputs": [
    {
     "data": {
      "text/plain": [
       "Every 3 seconds do job_second() (last run: [never], next run: 2021-05-25 13:18:14)"
      ]
     },
     "execution_count": 16,
     "metadata": {},
     "output_type": "execute_result"
    }
   ],
   "source": [
    "# 3초에 한번씩 실행\n",
    "schedule.every(3).seconds.do(job_second)"
   ]
  },
  {
   "cell_type": "code",
   "execution_count": 17,
   "id": "6749b097",
   "metadata": {},
   "outputs": [
    {
     "data": {
      "text/plain": [
       "Every 1 minute do job_minute() (last run: [never], next run: 2021-05-25 13:19:41)"
      ]
     },
     "execution_count": 17,
     "metadata": {},
     "output_type": "execute_result"
    }
   ],
   "source": [
    "# 1분에 한번씩 실행\n",
    "schedule.every(1).minutes.do(job_minute)"
   ]
  },
  {
   "cell_type": "code",
   "execution_count": 18,
   "id": "04892922",
   "metadata": {},
   "outputs": [
    {
     "data": {
      "text/plain": [
       "Every 1 hour do job_hour() (last run: [never], next run: 2021-05-25 14:18:46)"
      ]
     },
     "execution_count": 18,
     "metadata": {},
     "output_type": "execute_result"
    }
   ],
   "source": [
    "# 매 시간 실행 \n",
    "schedule.every().hours.do(job_hour)"
   ]
  },
  {
   "cell_type": "code",
   "execution_count": 19,
   "id": "e9070d94",
   "metadata": {},
   "outputs": [
    {
     "data": {
      "text/plain": [
       "Every 1 day at 17:50:00 do job_day() (last run: [never], next run: 2021-05-25 17:50:00)"
      ]
     },
     "execution_count": 19,
     "metadata": {},
     "output_type": "execute_result"
    }
   ],
   "source": [
    "# 매일 17:50 에 실행 \n",
    "schedule.every().days.at(\"17:50\").do(job_day)"
   ]
  },
  {
   "cell_type": "code",
   "execution_count": 20,
   "id": "0b950127",
   "metadata": {},
   "outputs": [
    {
     "data": {
      "text/plain": [
       "Every 1 week do job_monday() (last run: [never], next run: 2021-05-31 13:18:56)"
      ]
     },
     "execution_count": 20,
     "metadata": {},
     "output_type": "execute_result"
    }
   ],
   "source": [
    "# 매주 월요일 실행 \n",
    "schedule.every().monday.do(job_monday) "
   ]
  },
  {
   "cell_type": "code",
   "execution_count": 21,
   "id": "d404d582",
   "metadata": {},
   "outputs": [
    {
     "data": {
      "text/plain": [
       "Every 1 week at 13:15:00 do job_wednesday() (last run: [never], next run: 2021-05-26 13:15:00)"
      ]
     },
     "execution_count": 21,
     "metadata": {},
     "output_type": "execute_result"
    }
   ],
   "source": [
    "# 매주 수요일 13:15 에 실행 \n",
    "schedule.every().wednesday.at(\"13:15\").do(job_wednesday)"
   ]
  },
  {
   "cell_type": "code",
   "execution_count": 22,
   "id": "258377e2",
   "metadata": {},
   "outputs": [
    {
     "name": "stdout",
     "output_type": "stream",
     "text": [
      "I'm working...every second :::  2021-05-25 13:19:07.191474\n",
      "I'm working...every second :::  2021-05-25 13:19:10.220245\n",
      "I'm working...every second :::  2021-05-25 13:19:13.242859\n",
      "I'm working...every second :::  2021-05-25 13:19:16.261969\n",
      "I'm working...every second :::  2021-05-25 13:19:19.281470\n",
      "I'm working...every second :::  2021-05-25 13:19:22.297034\n"
     ]
    },
    {
     "ename": "KeyboardInterrupt",
     "evalue": "",
     "output_type": "error",
     "traceback": [
      "\u001b[1;31m---------------------------------------------------------------------------\u001b[0m",
      "\u001b[1;31mKeyboardInterrupt\u001b[0m                         Traceback (most recent call last)",
      "\u001b[1;32m<ipython-input-22-81db7cc89045>\u001b[0m in \u001b[0;36m<module>\u001b[1;34m\u001b[0m\n\u001b[0;32m      4\u001b[0m \u001b[1;33m\u001b[0m\u001b[0m\n\u001b[0;32m      5\u001b[0m     \u001b[1;31m# 1초 대기\u001b[0m\u001b[1;33m\u001b[0m\u001b[1;33m\u001b[0m\u001b[1;33m\u001b[0m\u001b[0m\n\u001b[1;32m----> 6\u001b[1;33m     \u001b[0mtime\u001b[0m\u001b[1;33m.\u001b[0m\u001b[0msleep\u001b[0m\u001b[1;33m(\u001b[0m\u001b[1;36m1\u001b[0m\u001b[1;33m)\u001b[0m\u001b[1;33m\u001b[0m\u001b[1;33m\u001b[0m\u001b[0m\n\u001b[0m",
      "\u001b[1;31mKeyboardInterrupt\u001b[0m: "
     ]
    }
   ],
   "source": [
    "while True:    \n",
    "    # 현재 시간에 동작해야 할 함수들을 찾아 구동함\n",
    "    schedule.run_pending()\n",
    "        \n",
    "    # 1초 대기\n",
    "    time.sleep(1)"
   ]
  },
  {
   "cell_type": "code",
   "execution_count": null,
   "id": "8f7f8984",
   "metadata": {},
   "outputs": [],
   "source": []
  }
 ],
 "metadata": {
  "kernelspec": {
   "display_name": "Python 3",
   "language": "python",
   "name": "python3"
  },
  "language_info": {
   "codemirror_mode": {
    "name": "ipython",
    "version": 3
   },
   "file_extension": ".py",
   "mimetype": "text/x-python",
   "name": "python",
   "nbconvert_exporter": "python",
   "pygments_lexer": "ipython3",
   "version": "3.8.8"
  }
 },
 "nbformat": 4,
 "nbformat_minor": 5
}
