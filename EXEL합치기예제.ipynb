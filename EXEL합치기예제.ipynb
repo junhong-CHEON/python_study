{
 "cells": [
  {
   "cell_type": "code",
   "execution_count": 3,
   "id": "3202ce94",
   "metadata": {},
   "outputs": [
    {
     "data": {
      "text/plain": [
       "['./Desktop\\\\1401호.xlsx',\n",
       " './Desktop\\\\1402호.xlsx',\n",
       " './Desktop\\\\1403호.xlsx',\n",
       " './Desktop\\\\1404호.xlsx',\n",
       " './Desktop\\\\1405호.xlsx',\n",
       " './Desktop\\\\1406호.xlsx']"
      ]
     },
     "execution_count": 3,
     "metadata": {},
     "output_type": "execute_result"
    }
   ],
   "source": [
    "import pandas as pd\n",
    "from pandas import DataFrame\n",
    "from pandas import Series\n",
    "from pandas import read_excel\n",
    "from pandas import concat\n",
    "import numpy as np\n",
    "import glob as gl\n",
    "\n",
    "\n",
    "txt_list = []\n",
    "answer = \"\"\n",
    "\n",
    "txt_list = gl.glob('./Desktop/*.xlsx')\n",
    "txt_list"
   ]
  },
  {
   "cell_type": "code",
   "execution_count": 36,
   "id": "7bdfa230",
   "metadata": {},
   "outputs": [],
   "source": [
    "tmp_df = None\n",
    "df = None\n",
    "\n",
    "first = txt_list[0]\n",
    "df = read_excel(first, engine='openpyxl')\n",
    "tmp = first[first.rfind('\\\\') + 1 : first.rfind('.')]\n",
    "df['강의실'] = tmp\n",
    "\n",
    "for i,v in enumerate(txt_list):\n",
    "    if i == 0:\n",
    "        continue\n",
    "    tmp_df = read_excel(v,engine='openpyxl')\n",
    "    tmp = v[v.rfind('\\\\') + 1 : v.rfind('.')]\n",
    "    tmp_df['강의실'] = tmp\n",
    "    df = concat([df, tmp_df])\n",
    "    \n",
    "df.set_index('이름' , inplace = True)\n",
    "df\n",
    "df.to_excel('exel합치기(천준홍).xlsx')"
   ]
  },
  {
   "cell_type": "code",
   "execution_count": null,
   "id": "1dc954f9",
   "metadata": {},
   "outputs": [],
   "source": []
  }
 ],
 "metadata": {
  "kernelspec": {
   "display_name": "Python 3",
   "language": "python",
   "name": "python3"
  },
  "language_info": {
   "codemirror_mode": {
    "name": "ipython",
    "version": 3
   },
   "file_extension": ".py",
   "mimetype": "text/x-python",
   "name": "python",
   "nbconvert_exporter": "python",
   "pygments_lexer": "ipython3",
   "version": "3.8.8"
  }
 },
 "nbformat": 4,
 "nbformat_minor": 5
}
