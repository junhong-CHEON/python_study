{
 "cells": [
  {
   "cell_type": "code",
   "execution_count": 4,
   "id": "4f8456ba",
   "metadata": {},
   "outputs": [],
   "source": [
    "from pandas import DataFrame\n",
    "from pandas import read_excel\n",
    "from matplotlib import pyplot as plt\n",
    "import seaborn as sns\n",
    "import numpy as np\n",
    "# 한글 형태소 분석\n",
    "# -> window\n",
    "from eunjeon import Mecab\n",
    "# -> mac, linux(colab)\n",
    "#from konlpy.tag import Mecab\n",
    "#from konlpy.tag import Okt\n",
    "from tensorflow.keras.utils import to_categorical\n",
    "from tensorflow.keras.models import Sequential\n",
    "from tensorflow.keras.layers import Embedding, Dense, GRU\n",
    "from tensorflow.keras.preprocessing.text import Tokenizer\n",
    "from tensorflow.keras.preprocessing.sequence import pad_sequences\n",
    "from tensorflow.keras.callbacks import EarlyStopping\n",
    "from tensorflow.keras.callbacks import ReduceLROnPlateau\n",
    "from tensorflow.keras.callbacks import ModelCheckpoint\n",
    "\n",
    "from sklearn.model_selection import train_test_split\n",
    "from sklearn.metrics import classification_report, confusion_matrix"
   ]
  },
  {
   "cell_type": "code",
   "execution_count": 5,
   "id": "838d1b0a",
   "metadata": {},
   "outputs": [
    {
     "data": {
      "text/html": [
       "<div>\n",
       "<style scoped>\n",
       "    .dataframe tbody tr th:only-of-type {\n",
       "        vertical-align: middle;\n",
       "    }\n",
       "\n",
       "    .dataframe tbody tr th {\n",
       "        vertical-align: top;\n",
       "    }\n",
       "\n",
       "    .dataframe thead th {\n",
       "        text-align: right;\n",
       "    }\n",
       "</style>\n",
       "<table border=\"1\" class=\"dataframe\">\n",
       "  <thead>\n",
       "    <tr style=\"text-align: right;\">\n",
       "      <th></th>\n",
       "      <th>document</th>\n",
       "      <th>label</th>\n",
       "    </tr>\n",
       "  </thead>\n",
       "  <tbody>\n",
       "    <tr>\n",
       "      <th>0</th>\n",
       "      <td>송영길 순진한 김경수 드루킹에 이용박근혜 때 국정원 조작</td>\n",
       "      <td>정치</td>\n",
       "    </tr>\n",
       "    <tr>\n",
       "      <th>1</th>\n",
       "      <td>대법 징역년 확정에 김경수 그래도 진실 안 바뀌어</td>\n",
       "      <td>정치</td>\n",
       "    </tr>\n",
       "    <tr>\n",
       "      <th>2</th>\n",
       "      <td>저격수 추미애  주시간 발언으로 세상 이치 모른다는 것 드러내</td>\n",
       "      <td>정치</td>\n",
       "    </tr>\n",
       "    <tr>\n",
       "      <th>3</th>\n",
       "      <td>추미애 댓글 팀킬 결과에 김경수 광신자 배려 올가미됐다</td>\n",
       "      <td>정치</td>\n",
       "    </tr>\n",
       "    <tr>\n",
       "      <th>4</th>\n",
       "      <td>김경수 징역안타까워  대통령 사과해야</td>\n",
       "      <td>정치</td>\n",
       "    </tr>\n",
       "    <tr>\n",
       "      <th>...</th>\n",
       "      <td>...</td>\n",
       "      <td>...</td>\n",
       "    </tr>\n",
       "    <tr>\n",
       "      <th>31238</th>\n",
       "      <td>암호화폐 거래소 코빗 개인정보보호법 위반으로 과태료 만원 부과</td>\n",
       "      <td>IT/과학</td>\n",
       "    </tr>\n",
       "    <tr>\n",
       "      <th>31239</th>\n",
       "      <td>공정위 멜론 부당지원 제재 법적대응 예고</td>\n",
       "      <td>IT/과학</td>\n",
       "    </tr>\n",
       "    <tr>\n",
       "      <th>31240</th>\n",
       "      <td>취재수첩 년간 임금인상률 인데 연봉 왜 문제인가</td>\n",
       "      <td>IT/과학</td>\n",
       "    </tr>\n",
       "    <tr>\n",
       "      <th>31241</th>\n",
       "      <td>셧다운제 폐지 논란 불쏘시개 된 금 마인크래프트</td>\n",
       "      <td>IT/과학</td>\n",
       "    </tr>\n",
       "    <tr>\n",
       "      <th>31242</th>\n",
       "      <td>규제 철퇴 바이낸스 세계 위 지킬 수 있을까</td>\n",
       "      <td>IT/과학</td>\n",
       "    </tr>\n",
       "  </tbody>\n",
       "</table>\n",
       "<p>31243 rows × 2 columns</p>\n",
       "</div>"
      ],
      "text/plain": [
       "                                  document  label\n",
       "0          송영길 순진한 김경수 드루킹에 이용박근혜 때 국정원 조작     정치\n",
       "1              대법 징역년 확정에 김경수 그래도 진실 안 바뀌어     정치\n",
       "2       저격수 추미애  주시간 발언으로 세상 이치 모른다는 것 드러내     정치\n",
       "3           추미애 댓글 팀킬 결과에 김경수 광신자 배려 올가미됐다     정치\n",
       "4                     김경수 징역안타까워  대통령 사과해야     정치\n",
       "...                                    ...    ...\n",
       "31238   암호화폐 거래소 코빗 개인정보보호법 위반으로 과태료 만원 부과  IT/과학\n",
       "31239               공정위 멜론 부당지원 제재 법적대응 예고  IT/과학\n",
       "31240           취재수첩 년간 임금인상률 인데 연봉 왜 문제인가  IT/과학\n",
       "31241           셧다운제 폐지 논란 불쏘시개 된 금 마인크래프트  IT/과학\n",
       "31242             규제 철퇴 바이낸스 세계 위 지킬 수 있을까  IT/과학\n",
       "\n",
       "[31243 rows x 2 columns]"
      ]
     },
     "execution_count": 5,
     "metadata": {},
     "output_type": "execute_result"
    }
   ],
   "source": [
    "df = read_excel('뉴스제목.xlsx', engine='openpyxl')\n",
    "df"
   ]
  },
  {
   "cell_type": "markdown",
   "id": "d202ac44",
   "metadata": {},
   "source": [
    "## 문제2)"
   ]
  },
  {
   "cell_type": "code",
   "execution_count": 6,
   "id": "2ccb1a06",
   "metadata": {
    "tags": []
   },
   "outputs": [
    {
     "data": {
      "text/plain": [
       "array([1, 2, 3, 4, 5, 6], dtype=int64)"
      ]
     },
     "execution_count": 6,
     "metadata": {},
     "output_type": "execute_result"
    }
   ],
   "source": [
    "df['label'] = df['label'].replace({'정치' : 1, '경제' : 2, '사회': 3 ,'생활문화': 4, '세계': 5, 'IT/과학': 6})\n",
    "df['label'].unique()"
   ]
  },
  {
   "cell_type": "code",
   "execution_count": 7,
   "id": "a7cfd419",
   "metadata": {},
   "outputs": [
    {
     "data": {
      "text/html": [
       "<div>\n",
       "<style scoped>\n",
       "    .dataframe tbody tr th:only-of-type {\n",
       "        vertical-align: middle;\n",
       "    }\n",
       "\n",
       "    .dataframe tbody tr th {\n",
       "        vertical-align: top;\n",
       "    }\n",
       "\n",
       "    .dataframe thead th {\n",
       "        text-align: right;\n",
       "    }\n",
       "</style>\n",
       "<table border=\"1\" class=\"dataframe\">\n",
       "  <thead>\n",
       "    <tr style=\"text-align: right;\">\n",
       "      <th></th>\n",
       "      <th>document</th>\n",
       "    </tr>\n",
       "    <tr>\n",
       "      <th>label</th>\n",
       "      <th></th>\n",
       "    </tr>\n",
       "  </thead>\n",
       "  <tbody>\n",
       "    <tr>\n",
       "      <th>1</th>\n",
       "      <td>6141</td>\n",
       "    </tr>\n",
       "    <tr>\n",
       "      <th>2</th>\n",
       "      <td>8183</td>\n",
       "    </tr>\n",
       "    <tr>\n",
       "      <th>3</th>\n",
       "      <td>9985</td>\n",
       "    </tr>\n",
       "    <tr>\n",
       "      <th>4</th>\n",
       "      <td>2239</td>\n",
       "    </tr>\n",
       "    <tr>\n",
       "      <th>5</th>\n",
       "      <td>2925</td>\n",
       "    </tr>\n",
       "    <tr>\n",
       "      <th>6</th>\n",
       "      <td>1770</td>\n",
       "    </tr>\n",
       "  </tbody>\n",
       "</table>\n",
       "</div>"
      ],
      "text/plain": [
       "       document\n",
       "label          \n",
       "1          6141\n",
       "2          8183\n",
       "3          9985\n",
       "4          2239\n",
       "5          2925\n",
       "6          1770"
      ]
     },
     "execution_count": 7,
     "metadata": {},
     "output_type": "execute_result"
    }
   ],
   "source": [
    "df.groupby('label').count()"
   ]
  },
  {
   "cell_type": "code",
   "execution_count": 8,
   "id": "e54af76d",
   "metadata": {},
   "outputs": [
    {
     "data": {
      "text/html": [
       "<div>\n",
       "<style scoped>\n",
       "    .dataframe tbody tr th:only-of-type {\n",
       "        vertical-align: middle;\n",
       "    }\n",
       "\n",
       "    .dataframe tbody tr th {\n",
       "        vertical-align: top;\n",
       "    }\n",
       "\n",
       "    .dataframe thead th {\n",
       "        text-align: right;\n",
       "    }\n",
       "</style>\n",
       "<table border=\"1\" class=\"dataframe\">\n",
       "  <thead>\n",
       "    <tr style=\"text-align: right;\">\n",
       "      <th></th>\n",
       "      <th>document</th>\n",
       "      <th>label</th>\n",
       "    </tr>\n",
       "  </thead>\n",
       "  <tbody>\n",
       "    <tr>\n",
       "      <th>0</th>\n",
       "      <td>송영길 순진한 김경수 드루킹에 이용박근혜 때 국정원 조작</td>\n",
       "      <td>1</td>\n",
       "    </tr>\n",
       "    <tr>\n",
       "      <th>1</th>\n",
       "      <td>대법 징역년 확정에 김경수 그래도 진실 안 바뀌어</td>\n",
       "      <td>1</td>\n",
       "    </tr>\n",
       "    <tr>\n",
       "      <th>2</th>\n",
       "      <td>저격수 추미애  주시간 발언으로 세상 이치 모른다는 것 드러내</td>\n",
       "      <td>1</td>\n",
       "    </tr>\n",
       "    <tr>\n",
       "      <th>3</th>\n",
       "      <td>추미애 댓글 팀킬 결과에 김경수 광신자 배려 올가미됐다</td>\n",
       "      <td>1</td>\n",
       "    </tr>\n",
       "    <tr>\n",
       "      <th>4</th>\n",
       "      <td>김경수 징역안타까워  대통령 사과해야</td>\n",
       "      <td>1</td>\n",
       "    </tr>\n",
       "    <tr>\n",
       "      <th>...</th>\n",
       "      <td>...</td>\n",
       "      <td>...</td>\n",
       "    </tr>\n",
       "    <tr>\n",
       "      <th>31238</th>\n",
       "      <td>암호화폐 거래소 코빗 개인정보보호법 위반으로 과태료 만원 부과</td>\n",
       "      <td>6</td>\n",
       "    </tr>\n",
       "    <tr>\n",
       "      <th>31239</th>\n",
       "      <td>공정위 멜론 부당지원 제재 법적대응 예고</td>\n",
       "      <td>6</td>\n",
       "    </tr>\n",
       "    <tr>\n",
       "      <th>31240</th>\n",
       "      <td>취재수첩 년간 임금인상률 인데 연봉 왜 문제인가</td>\n",
       "      <td>6</td>\n",
       "    </tr>\n",
       "    <tr>\n",
       "      <th>31241</th>\n",
       "      <td>셧다운제 폐지 논란 불쏘시개 된 금 마인크래프트</td>\n",
       "      <td>6</td>\n",
       "    </tr>\n",
       "    <tr>\n",
       "      <th>31242</th>\n",
       "      <td>규제 철퇴 바이낸스 세계 위 지킬 수 있을까</td>\n",
       "      <td>6</td>\n",
       "    </tr>\n",
       "  </tbody>\n",
       "</table>\n",
       "<p>31243 rows × 2 columns</p>\n",
       "</div>"
      ],
      "text/plain": [
       "                                  document  label\n",
       "0          송영길 순진한 김경수 드루킹에 이용박근혜 때 국정원 조작      1\n",
       "1              대법 징역년 확정에 김경수 그래도 진실 안 바뀌어      1\n",
       "2       저격수 추미애  주시간 발언으로 세상 이치 모른다는 것 드러내      1\n",
       "3           추미애 댓글 팀킬 결과에 김경수 광신자 배려 올가미됐다      1\n",
       "4                     김경수 징역안타까워  대통령 사과해야      1\n",
       "...                                    ...    ...\n",
       "31238   암호화폐 거래소 코빗 개인정보보호법 위반으로 과태료 만원 부과      6\n",
       "31239               공정위 멜론 부당지원 제재 법적대응 예고      6\n",
       "31240           취재수첩 년간 임금인상률 인데 연봉 왜 문제인가      6\n",
       "31241           셧다운제 폐지 논란 불쏘시개 된 금 마인크래프트      6\n",
       "31242             규제 철퇴 바이낸스 세계 위 지킬 수 있을까      6\n",
       "\n",
       "[31243 rows x 2 columns]"
      ]
     },
     "execution_count": 8,
     "metadata": {},
     "output_type": "execute_result"
    }
   ],
   "source": [
    "df"
   ]
  },
  {
   "cell_type": "markdown",
   "id": "81618d3e",
   "metadata": {},
   "source": [
    "### 형태소 분석 객체 생성"
   ]
  },
  {
   "cell_type": "code",
   "execution_count": 9,
   "id": "86916ec8",
   "metadata": {},
   "outputs": [
    {
     "name": "stdout",
     "output_type": "stream",
     "text": [
      "['송영길', '순진', '한', '김경수', '드루', '킹', '에', '이용', '박근혜', '때', '국정원', '조작']\n"
     ]
    }
   ],
   "source": [
    "mecab = Mecab()\n",
    "morphs = mecab.morphs(df['document'][0])\n",
    "\n",
    "#okt = Okt()\n",
    "#morphs = okt.morphs(df['document'][10])\n",
    "print(morphs)"
   ]
  },
  {
   "cell_type": "markdown",
   "id": "809425f4",
   "metadata": {},
   "source": [
    "### 불용어 설정"
   ]
  },
  {
   "cell_type": "code",
   "execution_count": 10,
   "id": "3db8075a",
   "metadata": {},
   "outputs": [],
   "source": [
    "stopwords = ['의','가','이','은','들','는','좀','잘','걍','과','도','를','으로','자','에','와','한','하다', '걍', '때', '것', '위', '어']"
   ]
  },
  {
   "cell_type": "markdown",
   "id": "be7134c4",
   "metadata": {},
   "source": [
    "### 형태소 분석 불용어 제거"
   ]
  },
  {
   "cell_type": "code",
   "execution_count": 11,
   "id": "102a1015",
   "metadata": {},
   "outputs": [
    {
     "data": {
      "text/plain": [
       "[['송영길', '순진', '김경수', '드루', '킹', '이용', '박근혜', '국정원', '조작'],\n",
       " ['대법', '징', '역년', '확정', '김경수', '그래도', '진실', '안', '바뀌'],\n",
       " ['저격수', '추미애', '주', '시간', '발언', '세상', '이치', '모른다는', '드러내']]"
      ]
     },
     "execution_count": 11,
     "metadata": {},
     "output_type": "execute_result"
    }
   ],
   "source": [
    "word_set = []\n",
    "\n",
    "for i, v in enumerate(df['document']):\n",
    "    #morphs = okt.morphs(v)\n",
    "    morphs = mecab.morphs(v)\n",
    "    tmp_word = []\n",
    "    for j in morphs:\n",
    "        if j not in stopwords:\n",
    "            tmp_word.append(j)\n",
    "            \n",
    "    word_set.append(tmp_word)\n",
    "    \n",
    "# 상위 3건만 출력해서 확인\n",
    "word_set[:3]"
   ]
  },
  {
   "cell_type": "markdown",
   "id": "5d6012a5",
   "metadata": {},
   "source": [
    "### 토큰화"
   ]
  },
  {
   "cell_type": "code",
   "execution_count": 12,
   "id": "43679f8c",
   "metadata": {},
   "outputs": [
    {
     "data": {
      "text/plain": [
       "22258"
      ]
     },
     "execution_count": 12,
     "metadata": {},
     "output_type": "execute_result"
    }
   ],
   "source": [
    "tokenizer = Tokenizer()\n",
    "tokenizer.fit_on_texts(word_set)\n",
    "len(tokenizer.word_index)"
   ]
  },
  {
   "cell_type": "markdown",
   "id": "0738b7d3",
   "metadata": {},
   "source": [
    "### 희귀단어 제거"
   ]
  },
  {
   "cell_type": "code",
   "execution_count": 13,
   "id": "693d3467",
   "metadata": {},
   "outputs": [
    {
     "name": "stdout",
     "output_type": "stream",
     "text": [
      "단어 집합(vocabulary)의 크기 : 22258\n",
      "등장 빈도가 2번 이하인 희귀 단어의 수: 11627\n",
      "단어 집합에서 희귀 단어의 비율: 52.23739778955881\n",
      "전체 등장 빈도에서 희귀 단어 등장 빈도 비율: 4.514691393265256\n"
     ]
    }
   ],
   "source": [
    "threshold = 3\n",
    "total_cnt = len(tokenizer.word_index) # 단어의 수\n",
    "rare_cnt = 0 # 등장 빈도수가 threshold보다 작은 단어의 개수를 카운트\n",
    "total_freq = 0 # 훈련 데이터의 전체 단어 빈도수 총 합\n",
    "rare_freq = 0 # 등장 빈도수가 threshold보다 작은 단어의 등장 빈도수의 총 합\n",
    "\n",
    "# 단어와 빈도수의 쌍(pair)을 key와 value로 받는다.\n",
    "for key, value in tokenizer.word_counts.items():\n",
    "    total_freq = total_freq + value\n",
    "\n",
    "    # 단어의 등장 빈도수가 threshold보다 작으면\n",
    "    if(value < threshold):\n",
    "        rare_cnt = rare_cnt + 1\n",
    "        rare_freq = rare_freq + value\n",
    "        \n",
    "print('단어 집합(vocabulary)의 크기 :',total_cnt)\n",
    "print('등장 빈도가 %s번 이하인 희귀 단어의 수: %s'%(threshold - 1, rare_cnt))\n",
    "print(\"단어 집합에서 희귀 단어의 비율:\", (rare_cnt / total_cnt)*100)\n",
    "print(\"전체 등장 빈도에서 희귀 단어 등장 빈도 비율:\", (rare_freq / total_freq)*100)"
   ]
  },
  {
   "cell_type": "markdown",
   "id": "94afd5c1",
   "metadata": {},
   "source": [
    "### 단어집합 크기 설정"
   ]
  },
  {
   "cell_type": "code",
   "execution_count": 14,
   "id": "85c3b0db",
   "metadata": {},
   "outputs": [
    {
     "name": "stdout",
     "output_type": "stream",
     "text": [
      "단어 집합의 크기 : 10633\n"
     ]
    }
   ],
   "source": [
    "vocab_size = total_cnt - rare_cnt + 2\n",
    "print('단어 집합의 크기 :', vocab_size)"
   ]
  },
  {
   "cell_type": "code",
   "execution_count": 15,
   "id": "3c2dfcf0",
   "metadata": {},
   "outputs": [
    {
     "data": {
      "text/plain": [
       "31243"
      ]
     },
     "execution_count": 15,
     "metadata": {},
     "output_type": "execute_result"
    }
   ],
   "source": [
    "tokenizer = Tokenizer(vocab_size, oov_token = 'OOV') \n",
    "tokenizer.fit_on_texts(word_set)\n",
    "token_set = tokenizer.texts_to_sequences(word_set)\n",
    "len(token_set)"
   ]
  },
  {
   "cell_type": "markdown",
   "id": "f1d73b97",
   "metadata": {},
   "source": [
    "## 문제3)"
   ]
  },
  {
   "cell_type": "markdown",
   "id": "4e0ac9c6",
   "metadata": {},
   "source": [
    "### 빈샘플 제거"
   ]
  },
  {
   "cell_type": "code",
   "execution_count": 16,
   "id": "7dcff501",
   "metadata": {},
   "outputs": [
    {
     "data": {
      "text/plain": [
       "3"
      ]
     },
     "execution_count": 16,
     "metadata": {},
     "output_type": "execute_result"
    }
   ],
   "source": [
    "drop_train = []\n",
    "\n",
    "for i, v in enumerate(token_set):\n",
    "    if len(v) < 1:\n",
    "        drop_train.append(i)\n",
    "        \n",
    "len(drop_train)"
   ]
  },
  {
   "cell_type": "code",
   "execution_count": 17,
   "id": "f7361690",
   "metadata": {},
   "outputs": [
    {
     "name": "stderr",
     "output_type": "stream",
     "text": [
      "c:\\users\\junhong\\appdata\\local\\programs\\python\\python38\\lib\\site-packages\\numpy\\core\\_asarray.py:83: VisibleDeprecationWarning: Creating an ndarray from ragged nested sequences (which is a list-or-tuple of lists-or-tuples-or ndarrays with different lengths or shapes) is deprecated. If you meant to do this, you must specify 'dtype=object' when creating the ndarray\n",
      "  return array(a, dtype, copy=False, order=order)\n"
     ]
    },
    {
     "data": {
      "text/plain": [
       "31240"
      ]
     },
     "execution_count": 17,
     "metadata": {},
     "output_type": "execute_result"
    }
   ],
   "source": [
    "fill_token_set = np.delete(token_set, drop_train, axis=0)\n",
    "len(fill_token_set)"
   ]
  },
  {
   "cell_type": "code",
   "execution_count": 15,
   "id": "c997e67d",
   "metadata": {},
   "outputs": [
    {
     "data": {
      "text/plain": [
       "31240"
      ]
     },
     "execution_count": 15,
     "metadata": {},
     "output_type": "execute_result"
    }
   ],
   "source": [
    "lables = np.delete(np.array(df['label']), drop_train)\n",
    "len(lables)"
   ]
  },
  {
   "cell_type": "code",
   "execution_count": 16,
   "id": "ed44afba",
   "metadata": {},
   "outputs": [
    {
     "name": "stdout",
     "output_type": "stream",
     "text": [
      "제목의 최대 길이 : 34\n",
      "제목의 평균 길이 : 10.42903329065301\n"
     ]
    },
    {
     "data": {
      "image/png": "[encoded data removed]",
      "text/plain": [
       "<Figure size 432x288 with 1 Axes>"
      ]
     },
     "metadata": {
      "needs_background": "light"
     },
     "output_type": "display_data"
    }
   ],
   "source": [
    "print('제목의 최대 길이 :',max(len(l) for l in fill_token_set))\n",
    "print('제목의 평균 길이 :',sum(map(len, fill_token_set))/len(fill_token_set))\n",
    "plt.hist([len(s) for s in fill_token_set], bins=50)\n",
    "plt.xlabel('length of samples')\n",
    "plt.ylabel('number of samples')\n",
    "plt.show()"
   ]
  },
  {
   "cell_type": "markdown",
   "id": "e2708d79",
   "metadata": {},
   "source": [
    "### 패딩처리"
   ]
  },
  {
   "cell_type": "code",
   "execution_count": 17,
   "id": "53169a6e",
   "metadata": {},
   "outputs": [],
   "source": [
    "pad_token_set = pad_sequences(fill_token_set, maxlen=15)"
   ]
  },
  {
   "cell_type": "markdown",
   "id": "2be46075",
   "metadata": {},
   "source": [
    "## 문제4)"
   ]
  },
  {
   "cell_type": "code",
   "execution_count": 18,
   "id": "9ef487c5",
   "metadata": {},
   "outputs": [],
   "source": [
    "np.random.seed(777)"
   ]
  },
  {
   "cell_type": "code",
   "execution_count": 19,
   "id": "0fc29eee",
   "metadata": {},
   "outputs": [
    {
     "name": "stdout",
     "output_type": "stream",
     "text": [
      "훈련용 데이터셋 크기: 21868, 검증용 데이터셋 크기: 9372\n"
     ]
    }
   ],
   "source": [
    "x_train, x_test, y_train, y_test = train_test_split(pad_token_set, lables, test_size = 0.3, random_state = 777)\n",
    "print(\"훈련용 데이터셋 크기: %d, 검증용 데이터셋 크기: %d\" % (len(x_train),  len(x_test)))"
   ]
  },
  {
   "cell_type": "markdown",
   "id": "b52c2012",
   "metadata": {},
   "source": [
    "### 종속변수 1_hot_encoding"
   ]
  },
  {
   "cell_type": "code",
   "execution_count": 20,
   "id": "ecab0045",
   "metadata": {},
   "outputs": [
    {
     "data": {
      "text/plain": [
       "array([[0., 0., 0., ..., 1., 0., 0.],\n",
       "       [0., 1., 0., ..., 0., 0., 0.],\n",
       "       [0., 0., 0., ..., 0., 1., 0.],\n",
       "       ...,\n",
       "       [0., 0., 0., ..., 1., 0., 0.],\n",
       "       [0., 0., 1., ..., 0., 0., 0.],\n",
       "       [0., 0., 1., ..., 0., 0., 0.]], dtype=float32)"
      ]
     },
     "execution_count": 20,
     "metadata": {},
     "output_type": "execute_result"
    }
   ],
   "source": [
    "y_train = y_train.astype('int')\n",
    "y_train_1hot = to_categorical(y_train)\n",
    "y_train_1hot \n",
    "\n",
    "y_test = y_test.astype('int')\n",
    "y_test_1hot = to_categorical(y_test)\n",
    "y_test_1hot "
   ]
  },
  {
   "cell_type": "markdown",
   "id": "0c6212f7",
   "metadata": {},
   "source": [
    "### GRU모델 생성"
   ]
  },
  {
   "cell_type": "code",
   "execution_count": 21,
   "id": "e1006fdd",
   "metadata": {},
   "outputs": [
    {
     "name": "stdout",
     "output_type": "stream",
     "text": [
      "Model: \"sequential\"\n",
      "_________________________________________________________________\n",
      "Layer (type)                 Output Shape              Param #   \n",
      "=================================================================\n",
      "embedding (Embedding)        (None, None, 32)          340256    \n",
      "_________________________________________________________________\n",
      "gru (GRU)                    (None, 128)               62208     \n",
      "_________________________________________________________________\n",
      "dense (Dense)                (None, 7)                 903       \n",
      "=================================================================\n",
      "Total params: 403,367\n",
      "Trainable params: 403,367\n",
      "Non-trainable params: 0\n",
      "_________________________________________________________________\n"
     ]
    }
   ],
   "source": [
    "model = Sequential() \n",
    "model.add(Embedding(vocab_size, 32)) \n",
    "model.add(GRU(128)) \n",
    "model.add(Dense(7, activation='softmax')) \n",
    "model.compile(optimizer='adam', loss='categorical_crossentropy', metrics=['accuracy']) \n",
    "model.summary()"
   ]
  },
  {
   "cell_type": "code",
   "execution_count": 22,
   "id": "26ffa26a",
   "metadata": {},
   "outputs": [
    {
     "name": "stdout",
     "output_type": "stream",
     "text": [
      "Epoch 1/50\n",
      "684/684 [==============================] - 8s 9ms/step - loss: 1.0780 - accuracy: 0.6056 - val_loss: 0.7912 - val_accuracy: 0.7373\n",
      "Epoch 2/50\n",
      "684/684 [==============================] - 6s 8ms/step - loss: 0.5925 - accuracy: 0.8026 - val_loss: 0.7313 - val_accuracy: 0.7491\n",
      "Epoch 3/50\n",
      "684/684 [==============================] - 6s 8ms/step - loss: 0.4230 - accuracy: 0.8571 - val_loss: 0.7905 - val_accuracy: 0.7456\n",
      "Epoch 4/50\n",
      "684/684 [==============================] - 5s 8ms/step - loss: 0.3259 - accuracy: 0.8884 - val_loss: 0.8729 - val_accuracy: 0.7329\n",
      "Epoch 5/50\n",
      "684/684 [==============================] - 5s 8ms/step - loss: 0.2542 - accuracy: 0.9152 - val_loss: 0.9455 - val_accuracy: 0.7311\n",
      "\n",
      "Epoch 00005: ReduceLROnPlateau reducing learning rate to 0.0005000000237487257.\n",
      "Epoch 6/50\n",
      "684/684 [==============================] - 6s 8ms/step - loss: 0.1627 - accuracy: 0.9471 - val_loss: 1.0616 - val_accuracy: 0.7309\n",
      "Epoch 7/50\n",
      "684/684 [==============================] - 6s 8ms/step - loss: 0.1269 - accuracy: 0.9590 - val_loss: 1.2173 - val_accuracy: 0.7311\n",
      "Epoch 00007: early stopping\n"
     ]
    },
    {
     "data": {
      "text/html": [
       "<div>\n",
       "<style scoped>\n",
       "    .dataframe tbody tr th:only-of-type {\n",
       "        vertical-align: middle;\n",
       "    }\n",
       "\n",
       "    .dataframe tbody tr th {\n",
       "        vertical-align: top;\n",
       "    }\n",
       "\n",
       "    .dataframe thead th {\n",
       "        text-align: right;\n",
       "    }\n",
       "</style>\n",
       "<table border=\"1\" class=\"dataframe\">\n",
       "  <thead>\n",
       "    <tr style=\"text-align: right;\">\n",
       "      <th></th>\n",
       "      <th>loss</th>\n",
       "      <th>accuracy</th>\n",
       "      <th>val_loss</th>\n",
       "      <th>val_accuracy</th>\n",
       "      <th>lr</th>\n",
       "    </tr>\n",
       "    <tr>\n",
       "      <th>epochs</th>\n",
       "      <th></th>\n",
       "      <th></th>\n",
       "      <th></th>\n",
       "      <th></th>\n",
       "      <th></th>\n",
       "    </tr>\n",
       "  </thead>\n",
       "  <tbody>\n",
       "    <tr>\n",
       "      <th>1</th>\n",
       "      <td>1.078007</td>\n",
       "      <td>0.605588</td>\n",
       "      <td>0.791188</td>\n",
       "      <td>0.737303</td>\n",
       "      <td>0.0010</td>\n",
       "    </tr>\n",
       "    <tr>\n",
       "      <th>2</th>\n",
       "      <td>0.592493</td>\n",
       "      <td>0.802634</td>\n",
       "      <td>0.731318</td>\n",
       "      <td>0.749146</td>\n",
       "      <td>0.0010</td>\n",
       "    </tr>\n",
       "    <tr>\n",
       "      <th>3</th>\n",
       "      <td>0.422979</td>\n",
       "      <td>0.857143</td>\n",
       "      <td>0.790523</td>\n",
       "      <td>0.745625</td>\n",
       "      <td>0.0010</td>\n",
       "    </tr>\n",
       "    <tr>\n",
       "      <th>4</th>\n",
       "      <td>0.325939</td>\n",
       "      <td>0.888376</td>\n",
       "      <td>0.872938</td>\n",
       "      <td>0.732928</td>\n",
       "      <td>0.0010</td>\n",
       "    </tr>\n",
       "    <tr>\n",
       "      <th>5</th>\n",
       "      <td>0.254177</td>\n",
       "      <td>0.915219</td>\n",
       "      <td>0.945471</td>\n",
       "      <td>0.731114</td>\n",
       "      <td>0.0010</td>\n",
       "    </tr>\n",
       "    <tr>\n",
       "      <th>6</th>\n",
       "      <td>0.162678</td>\n",
       "      <td>0.947092</td>\n",
       "      <td>1.061553</td>\n",
       "      <td>0.730901</td>\n",
       "      <td>0.0005</td>\n",
       "    </tr>\n",
       "    <tr>\n",
       "      <th>7</th>\n",
       "      <td>0.126874</td>\n",
       "      <td>0.959027</td>\n",
       "      <td>1.217324</td>\n",
       "      <td>0.731114</td>\n",
       "      <td>0.0005</td>\n",
       "    </tr>\n",
       "  </tbody>\n",
       "</table>\n",
       "</div>"
      ],
      "text/plain": [
       "            loss  accuracy  val_loss  val_accuracy      lr\n",
       "epochs                                                    \n",
       "1       1.078007  0.605588  0.791188      0.737303  0.0010\n",
       "2       0.592493  0.802634  0.731318      0.749146  0.0010\n",
       "3       0.422979  0.857143  0.790523      0.745625  0.0010\n",
       "4       0.325939  0.888376  0.872938      0.732928  0.0010\n",
       "5       0.254177  0.915219  0.945471      0.731114  0.0010\n",
       "6       0.162678  0.947092  1.061553      0.730901  0.0005\n",
       "7       0.126874  0.959027  1.217324      0.731114  0.0005"
      ]
     },
     "execution_count": 22,
     "metadata": {},
     "output_type": "execute_result"
    }
   ],
   "source": [
    "result = model.fit(x_train, y_train_1hot, epochs=50, validation_data=(x_test, y_test_1hot), callbacks = [\n",
    "    #ModelCheckpoint(filepath = 'check_point.h5', monitor = 'val_loss', verbose=1, save_best_only = True),\n",
    "    EarlyStopping(monitor = 'val_loss', patience=5, verbose = 1),\n",
    "    ReduceLROnPlateau(monitor= \"val_loss\", patience=3, factor = 0.5, min_lr=0.0001, verbose=1)\n",
    "])\n",
    "\n",
    "result_df = DataFrame(result.history)\n",
    "result_df['epochs'] = result_df.index+1\n",
    "result_df.set_index('epochs', inplace=True)\n",
    "result_df"
   ]
  },
  {
   "cell_type": "code",
   "execution_count": 23,
   "id": "82442c90",
   "metadata": {},
   "outputs": [
    {
     "data": {
      "image/png": "[encoded data removed]",
      "text/plain": [
       "<Figure size 3000x750 with 2 Axes>"
      ]
     },
     "metadata": {
      "needs_background": "light"
     },
     "output_type": "display_data"
    }
   ],
   "source": [
    "# 그래프 기본 설정\n",
    "# ----------------------------------------\n",
    "plt.rcParams[\"font.family\"] = 'Malgun Gothic'\n",
    "plt.rcParams[\"font.size\"] = 16\n",
    "plt.rcParams['axes.unicode_minus'] = False\n",
    "\n",
    "# 그래프를 그리기 위한 객체 생성\n",
    "# ----------------------------------------\n",
    "fig, (ax1, ax2) = plt.subplots(1, 2, figsize=(20, 5), dpi=150)\n",
    "\n",
    "# 1) 훈련 및 검증 손실 그리기\n",
    "# ----------------------------------------\n",
    "sns.lineplot(x=result_df.index, y='loss', data=result_df, color='blue', label='훈련 손실률', ax=ax1)\n",
    "sns.lineplot(x=result_df.index, y='val_loss', data=result_df, color='orange', label='검증 손실률', ax=ax1)\n",
    "ax1.set_title('훈련 및 검증 손실률')\n",
    "ax1.set_xlabel('반복회차')\n",
    "ax1.set_ylabel('손실률')\n",
    "ax1.grid()\n",
    "ax1.legend()\n",
    "\n",
    "# 2) 훈련 및 검증 절대오차 그리기\n",
    "# ----------------------------------------\n",
    "sns.lineplot(x=result_df.index, y='accuracy', data=result_df, color = 'blue', label = '훈련 정확도', ax=ax2)\n",
    "sns.lineplot(x=result_df.index, y='val_accuracy', data=result_df, color = 'orange', label = '검증 정확도', ax=ax2)\n",
    "ax2.set_title('훈련 및 검증 정확도')\n",
    "ax2.set_xlabel('반복회차')\n",
    "ax2.set_ylabel('정확도')\n",
    "ax2.grid()\n",
    "ax2.legend()\n",
    "\n",
    "#plt.savefig('result.png', dpi=200, bbox_inches='tight')\n",
    "plt.show()\n",
    "plt.close()"
   ]
  },
  {
   "cell_type": "code",
   "execution_count": 24,
   "id": "1baf6c36",
   "metadata": {},
   "outputs": [
    {
     "name": "stdout",
     "output_type": "stream",
     "text": [
      "293/293 [==============================] - 1s 3ms/step - loss: 1.2173 - accuracy: 0.7311\n",
      "최종 손실률: 1.217324, 최종 정확도: 0.731114\n"
     ]
    }
   ],
   "source": [
    "evaluate = model.evaluate(x_test, y_test_1hot)\n",
    "print(\"최종 손실률: %f, 최종 정확도: %f\" % (evaluate[0], evaluate[1]))"
   ]
  },
  {
   "cell_type": "markdown",
   "id": "5a813bd6",
   "metadata": {},
   "source": [
    "## 문제5)"
   ]
  },
  {
   "cell_type": "code",
   "execution_count": 25,
   "id": "1c23d8d1",
   "metadata": {},
   "outputs": [
    {
     "name": "stdout",
     "output_type": "stream",
     "text": [
      "9372개의 검증 데이터가 7개의 경우의 수를 갖는다.\n"
     ]
    },
    {
     "data": {
      "text/plain": [
       "array([1.8414087e-07, 2.5213280e-05, 2.3486896e-04, 6.6478848e-02,\n",
       "       9.3202585e-01, 2.8560828e-05, 1.2064721e-03], dtype=float32)"
      ]
     },
     "execution_count": 25,
     "metadata": {},
     "output_type": "execute_result"
    }
   ],
   "source": [
    "result = model.predict(x_test)\n",
    "data_count, case_count = result.shape\n",
    "print(\"%d개의 검증 데이터가 %d개의 경우의 수를 갖는다.\" % (data_count, case_count))\n",
    "result[0]"
   ]
  },
  {
   "cell_type": "code",
   "execution_count": 26,
   "id": "00427bd3",
   "metadata": {},
   "outputs": [
    {
     "data": {
      "text/plain": [
       "array([4, 1, 5, ..., 4, 6, 2], dtype=int64)"
      ]
     },
     "execution_count": 26,
     "metadata": {},
     "output_type": "execute_result"
    }
   ],
   "source": [
    "np.argmax(result,axis=1)"
   ]
  },
  {
   "cell_type": "code",
   "execution_count": 27,
   "id": "3295df77",
   "metadata": {},
   "outputs": [
    {
     "data": {
      "text/html": [
       "<div>\n",
       "<style scoped>\n",
       "    .dataframe tbody tr th:only-of-type {\n",
       "        vertical-align: middle;\n",
       "    }\n",
       "\n",
       "    .dataframe tbody tr th {\n",
       "        vertical-align: top;\n",
       "    }\n",
       "\n",
       "    .dataframe thead th {\n",
       "        text-align: right;\n",
       "    }\n",
       "</style>\n",
       "<table border=\"1\" class=\"dataframe\">\n",
       "  <thead>\n",
       "    <tr style=\"text-align: right;\">\n",
       "      <th></th>\n",
       "      <th>결과값</th>\n",
       "      <th>예측치</th>\n",
       "    </tr>\n",
       "  </thead>\n",
       "  <tbody>\n",
       "    <tr>\n",
       "      <th>0</th>\n",
       "      <td>4</td>\n",
       "      <td>4</td>\n",
       "    </tr>\n",
       "    <tr>\n",
       "      <th>1</th>\n",
       "      <td>1</td>\n",
       "      <td>1</td>\n",
       "    </tr>\n",
       "    <tr>\n",
       "      <th>2</th>\n",
       "      <td>5</td>\n",
       "      <td>5</td>\n",
       "    </tr>\n",
       "    <tr>\n",
       "      <th>3</th>\n",
       "      <td>1</td>\n",
       "      <td>2</td>\n",
       "    </tr>\n",
       "    <tr>\n",
       "      <th>4</th>\n",
       "      <td>3</td>\n",
       "      <td>3</td>\n",
       "    </tr>\n",
       "    <tr>\n",
       "      <th>...</th>\n",
       "      <td>...</td>\n",
       "      <td>...</td>\n",
       "    </tr>\n",
       "    <tr>\n",
       "      <th>9367</th>\n",
       "      <td>2</td>\n",
       "      <td>3</td>\n",
       "    </tr>\n",
       "    <tr>\n",
       "      <th>9368</th>\n",
       "      <td>3</td>\n",
       "      <td>3</td>\n",
       "    </tr>\n",
       "    <tr>\n",
       "      <th>9369</th>\n",
       "      <td>4</td>\n",
       "      <td>4</td>\n",
       "    </tr>\n",
       "    <tr>\n",
       "      <th>9370</th>\n",
       "      <td>2</td>\n",
       "      <td>6</td>\n",
       "    </tr>\n",
       "    <tr>\n",
       "      <th>9371</th>\n",
       "      <td>2</td>\n",
       "      <td>2</td>\n",
       "    </tr>\n",
       "  </tbody>\n",
       "</table>\n",
       "<p>9372 rows × 2 columns</p>\n",
       "</div>"
      ],
      "text/plain": [
       "      결과값  예측치\n",
       "0       4    4\n",
       "1       1    1\n",
       "2       5    5\n",
       "3       1    2\n",
       "4       3    3\n",
       "...   ...  ...\n",
       "9367    2    3\n",
       "9368    3    3\n",
       "9369    4    4\n",
       "9370    2    6\n",
       "9371    2    2\n",
       "\n",
       "[9372 rows x 2 columns]"
      ]
     },
     "execution_count": 27,
     "metadata": {},
     "output_type": "execute_result"
    }
   ],
   "source": [
    "kdf = DataFrame({\n",
    "    '결과값': np.argmax(y_test_1hot,axis=1),\n",
    "    '예측치' : np.argmax(result,axis=1)\n",
    "})\n",
    "\n",
    "kdf['예측치'] = kdf['예측치'].astype('int')\n",
    "kdf"
   ]
  },
  {
   "cell_type": "code",
   "execution_count": 28,
   "id": "4c46aec5",
   "metadata": {},
   "outputs": [
    {
     "data": {
      "text/html": [
       "<div>\n",
       "<style scoped>\n",
       "    .dataframe tbody tr th:only-of-type {\n",
       "        vertical-align: middle;\n",
       "    }\n",
       "\n",
       "    .dataframe tbody tr th {\n",
       "        vertical-align: top;\n",
       "    }\n",
       "\n",
       "    .dataframe thead th {\n",
       "        text-align: right;\n",
       "    }\n",
       "</style>\n",
       "<table border=\"1\" class=\"dataframe\">\n",
       "  <thead>\n",
       "    <tr style=\"text-align: right;\">\n",
       "      <th></th>\n",
       "      <th>예측값(정치)</th>\n",
       "      <th>예측값(경제)</th>\n",
       "      <th>예측값(사회)</th>\n",
       "      <th>예측값(생활/문화)</th>\n",
       "      <th>예측값(세계)</th>\n",
       "      <th>예측값(IT/과학)</th>\n",
       "    </tr>\n",
       "  </thead>\n",
       "  <tbody>\n",
       "    <tr>\n",
       "      <th>실제값(정치)</th>\n",
       "      <td>1536</td>\n",
       "      <td>72</td>\n",
       "      <td>172</td>\n",
       "      <td>9</td>\n",
       "      <td>44</td>\n",
       "      <td>12</td>\n",
       "    </tr>\n",
       "    <tr>\n",
       "      <th>실제값(경제)</th>\n",
       "      <td>71</td>\n",
       "      <td>1829</td>\n",
       "      <td>232</td>\n",
       "      <td>50</td>\n",
       "      <td>84</td>\n",
       "      <td>159</td>\n",
       "    </tr>\n",
       "    <tr>\n",
       "      <th>실제값(사회)</th>\n",
       "      <td>219</td>\n",
       "      <td>198</td>\n",
       "      <td>2377</td>\n",
       "      <td>120</td>\n",
       "      <td>82</td>\n",
       "      <td>37</td>\n",
       "    </tr>\n",
       "    <tr>\n",
       "      <th>실제값(생활/문화)</th>\n",
       "      <td>34</td>\n",
       "      <td>109</td>\n",
       "      <td>164</td>\n",
       "      <td>288</td>\n",
       "      <td>35</td>\n",
       "      <td>38</td>\n",
       "    </tr>\n",
       "    <tr>\n",
       "      <th>실제값(세계)</th>\n",
       "      <td>30</td>\n",
       "      <td>95</td>\n",
       "      <td>105</td>\n",
       "      <td>19</td>\n",
       "      <td>583</td>\n",
       "      <td>32</td>\n",
       "    </tr>\n",
       "    <tr>\n",
       "      <th>실제값(IT/과학)</th>\n",
       "      <td>14</td>\n",
       "      <td>180</td>\n",
       "      <td>40</td>\n",
       "      <td>35</td>\n",
       "      <td>29</td>\n",
       "      <td>239</td>\n",
       "    </tr>\n",
       "  </tbody>\n",
       "</table>\n",
       "</div>"
      ],
      "text/plain": [
       "            예측값(정치)  예측값(경제)  예측값(사회)  예측값(생활/문화)  예측값(세계)  예측값(IT/과학)\n",
       "실제값(정치)        1536       72      172           9       44          12\n",
       "실제값(경제)          71     1829      232          50       84         159\n",
       "실제값(사회)         219      198     2377         120       82          37\n",
       "실제값(생활/문화)       34      109      164         288       35          38\n",
       "실제값(세계)          30       95      105          19      583          32\n",
       "실제값(IT/과학)       14      180       40          35       29         239"
      ]
     },
     "execution_count": 28,
     "metadata": {},
     "output_type": "execute_result"
    }
   ],
   "source": [
    "cm = confusion_matrix(kdf['결과값'], kdf['예측치'])\n",
    "cmdf1 = DataFrame(cm, columns=['예측값(정치)', '예측값(경제)','예측값(사회)','예측값(생활/문화)','예측값(세계)','예측값(IT/과학)'], index=['실제값(정치)', '실제값(경제)','실제값(사회)', '실제값(생활/문화)','실제값(세계)', '실제값(IT/과학)'])\n",
    "cmdf1"
   ]
  },
  {
   "cell_type": "code",
   "execution_count": 29,
   "id": "4bd409bb",
   "metadata": {},
   "outputs": [
    {
     "data": {
      "image/png": "[encoded data removed]",
      "text/plain": [
       "<Figure size 500x500 with 2 Axes>"
      ]
     },
     "metadata": {
      "needs_background": "light"
     },
     "output_type": "display_data"
    }
   ],
   "source": [
    "fig, ax = plt.subplots(1, 1, figsize=(5, 5), dpi=100)\n",
    "# 오차 행렬을 히트맵 그래프로 표현\n",
    "# -> annot : 그래프의 각 칸에 수치값 출력\n",
    "# -> fmt : 수치값 출력 format (여기서는 10진수)\n",
    "# -> cmap : 색상맵 (https://matplotlib.org/3.2.1/tutorials/colors/colormaps.html)\n",
    "sns.heatmap(cm, annot = True, fmt = 'd',cmap = 'Blues', ax=ax)\n",
    "ax.set_xlabel('예측값')\n",
    "ax.set_ylabel('결과값')\n",
    "plt.show()\n",
    "plt.close()"
   ]
  }
 ],
 "metadata": {
  "kernelspec": {
   "display_name": "Python 3",
   "language": "python",
   "name": "python3"
  },
  "language_info": {
   "codemirror_mode": {
    "name": "ipython",
    "version": 3
   },
   "file_extension": ".py",
   "mimetype": "text/x-python",
   "name": "python",
   "nbconvert_exporter": "python",
   "pygments_lexer": "ipython3",
   "version": "3.8.8"
  }
 },
 "nbformat": 4,
 "nbformat_minor": 5
}
