{
 "cells": [
  {
   "cell_type": "markdown",
   "metadata": {},
   "source": [
    "# fashion-mninst\n",
    "---\n",
    "\n",
    "## 1) 패키지 준비하기"
   ]
  },
  {
   "cell_type": "code",
   "execution_count": 1,
   "metadata": {},
   "outputs": [],
   "source": [
    "from pandas import read_excel\n",
    "from pandas import DataFrame\n",
    "from pandas import merge\n",
    "from matplotlib import pyplot as plt\n",
    "import seaborn as sns\n",
    "import numpy as np\n",
    "\n",
    "from tensorflow.keras.models import Sequential\n",
    "from tensorflow.keras.layers import Dense\n",
    "from tensorflow.keras.callbacks import EarlyStopping\n",
    "from tensorflow.keras.callbacks import ReduceLROnPlateau\n",
    "from tensorflow.keras.callbacks import ModelCheckpoint\n",
    "from tensorflow.keras.utils import to_categorical\n",
    "\n",
    "# (신규) 예제에서 사용할 데이터셋을 다운로드 받기 위한 함수\n",
    "from tensorflow.keras.datasets.fashion_mnist import load_data\n",
    "\n",
    "from sklearn.model_selection import train_test_split\n",
    "from sklearn.preprocessing import MinMaxScaler"
   ]
  },
  {
   "cell_type": "markdown",
   "metadata": {},
   "source": [
    "## 2) 데이터셋 준비하기"
   ]
  },
  {
   "cell_type": "code",
   "execution_count": 2,
   "metadata": {},
   "outputs": [],
   "source": [
    "(x_train, y_train), (x_test, y_test) = load_data()"
   ]
  },
  {
   "cell_type": "markdown",
   "metadata": {},
   "source": [
    "## 3) 데이터 전처리\n",
    "\n",
    "### 결측치 확인"
   ]
  },
  {
   "cell_type": "markdown",
   "metadata": {},
   "source": [
    "- 결측치 등의 데이터 이상점이 없는 예제 데이터 이므로 생략"
   ]
  },
  {
   "cell_type": "markdown",
   "metadata": {},
   "source": [
    "## 4) 탐색적 데이터 분석\n",
    "\n",
    "### 훈련 데이터 형태 확인"
   ]
  },
  {
   "cell_type": "code",
   "execution_count": 3,
   "metadata": {},
   "outputs": [
    {
     "name": "stdout",
     "output_type": "stream",
     "text": [
      "(60000, 28, 28) (60000,)\n",
      "[9 0 0 ... 3 0 5]\n"
     ]
    }
   ],
   "source": [
    "print(x_train.shape, y_train.shape)\n",
    "print(y_train)"
   ]
  },
  {
   "cell_type": "markdown",
   "metadata": {},
   "source": [
    "### 검증 데이터의 형태 확인"
   ]
  },
  {
   "cell_type": "code",
   "execution_count": 4,
   "metadata": {},
   "outputs": [
    {
     "name": "stdout",
     "output_type": "stream",
     "text": [
      "(10000, 28, 28) (10000,)\n",
      "[9 2 1 ... 8 1 5]\n"
     ]
    }
   ],
   "source": [
    "print(x_test.shape, y_test.shape)\n",
    "print(y_test)"
   ]
  },
  {
   "cell_type": "code",
   "execution_count": 5,
   "metadata": {},
   "outputs": [],
   "source": [
    "class_names=['T-shirt/top', 'Trouser', 'Pullover', 'Dress', 'Coat', 'Sandal', 'Shirt', 'Sneaker', 'Bag', 'Ankle boot']"
   ]
  },
  {
   "cell_type": "markdown",
   "metadata": {},
   "source": [
    "### 임의의 샘플 값 확인"
   ]
  },
  {
   "cell_type": "code",
   "execution_count": 6,
   "metadata": {},
   "outputs": [
    {
     "name": "stdout",
     "output_type": "stream",
     "text": [
      "000000000000000001000000000000041188103054048043087168133016000000000000000000000000\n",
      "000000000001000000000049136219216228236255255255255217215254231160045000000000000000\n",
      "000000000000000014176222224212203198196200215204202201201201209218224164000000000000\n",
      "000000000000000188219200198202198199199201196198198200200200200201200225041000000000\n",
      "000000000000051219199203203212238248250245249246247252248235207203203222140000000000\n",
      "000000000000116226206204207204101075047073048050045051063113222202206220224000000000\n",
      "000000000000200222209203215200000070098000103059068071049000219206214210250038000000\n",
      "000000000000247218212210215214000254243139255174251255205000215217214208220095000000\n",
      "000000000045226214214215224205000042035060016017012013070000189216212206212156000000\n",
      "000000000164235214211220216201052071089094083078070076092087206207222213219208000000\n",
      "000000000106187223237248211198252250248245248252253250252239201212225215193113000000\n",
      "000000000000000017054159222193208192197200200200200201203195210165000000000000000000\n",
      "000000000000000000000047225192214203206204204205206204212197218107000000000000000000\n",
      "000000000000001006000046212195212202206205204205206204212200218091000003001000000000\n",
      "000000000000000001000011197199205202205206204205207204205205218077000005000000000000\n",
      "000000000000000003000002191198201205206205205206209206199209219074000005000000000000\n",
      "000000000000000002000000188197200207207204207207210208198207221072000004000000000000\n",
      "000000000000000002000000215198203206208205207207210208200202222075000004000000000000\n",
      "000000000000000001000000212198209206209206208207211206205198221080000003000000000000\n",
      "000000000000000001000000204201205208207205211205210210209195221096000003000000000000\n",
      "000000000000000001000000202201205209207205213206210209210194217105000002000000000000\n",
      "000000000000000001000000204204205208207205215207210208211193213115000002000000000000\n",
      "000000000000000000000000204207207208206206215210210207212195210118000002000000000000\n",
      "000000000000000001000000198208208208204207212212210207211196207121000001000000000000\n",
      "000000000000000001000000198210207208206209213212211207210197207124000001000000000000\n",
      "000000000000000000000000172210203201199204207205204201205197206127000000000000000000\n",
      "000000000000000000000000188221214234236238244244244240243214224162000002000000000000\n",
      "000000000000000001000000139146130135135137125124125121119114130076000000000000000000\n"
     ]
    }
   ],
   "source": [
    "for i in x_train[1]:\n",
    "    for j in i:\n",
    "        print(\"%03d\" % j, end=\"\")\n",
    "    print()"
   ]
  },
  {
   "cell_type": "code",
   "execution_count": 7,
   "metadata": {},
   "outputs": [
    {
     "name": "stdout",
     "output_type": "stream",
     "text": [
      "0\n"
     ]
    }
   ],
   "source": [
    "print(y_train[1])"
   ]
  },
  {
   "cell_type": "markdown",
   "metadata": {},
   "source": [
    "### 데이터 그려보기"
   ]
  },
  {
   "cell_type": "code",
   "execution_count": 8,
   "metadata": {},
   "outputs": [
    {
     "data": {
      "image/png": "[encoded data removed]",
      "text/plain": [
       "<Figure size 1500x300 with 5 Axes>"
      ]
     },
     "metadata": {
      "needs_background": "light"
     },
     "output_type": "display_data"
    }
   ],
   "source": [
    "fig, ax = plt.subplots(1, 5, figsize=(15, 3), dpi=100)\n",
    "\n",
    "for i in range(0, len(ax)):\n",
    "    train = x_train[i]\n",
    "    label = y_train[i]\n",
    "    ax[i].imshow(train)\n",
    "    ax[i].set_title(\"label=%s\" % class_names[label])\n",
    "\n",
    "plt.show()\n",
    "plt.close()"
   ]
  },
  {
   "cell_type": "markdown",
   "metadata": {},
   "source": [
    "## 5) 데이터셋 분할하기\n",
    "\n",
    "### 랜덤시드 고정"
   ]
  },
  {
   "cell_type": "code",
   "execution_count": 9,
   "metadata": {},
   "outputs": [],
   "source": [
    "np.random.seed(777)"
   ]
  },
  {
   "cell_type": "markdown",
   "metadata": {},
   "source": [
    "### 훈련 데이터와 검증 데이터로 분할"
   ]
  },
  {
   "cell_type": "code",
   "execution_count": 10,
   "metadata": {},
   "outputs": [
    {
     "name": "stdout",
     "output_type": "stream",
     "text": [
      "훈련 데이터 (42000, 28, 28) 레이블 (42000,)\n",
      "검증 데이터 (18000, 28, 28) 레이블 (18000,)\n"
     ]
    }
   ],
   "source": [
    "x_train, x_test, y_train, y_test = train_test_split(x_train, y_train, test_size = 0.3, random_state = 777)\n",
    "print(f'훈련 데이터 {x_train.shape} 레이블 {y_train.shape}')\n",
    "print(f'검증 데이터 {x_test.shape} 레이블 {y_test.shape}')"
   ]
  },
  {
   "cell_type": "markdown",
   "metadata": {},
   "source": [
    "### one-hot-encoding"
   ]
  },
  {
   "cell_type": "code",
   "execution_count": 11,
   "metadata": {},
   "outputs": [
    {
     "name": "stdout",
     "output_type": "stream",
     "text": [
      "[[0. 0. 1. ... 0. 0. 0.]\n",
      " [0. 0. 0. ... 0. 0. 0.]\n",
      " [0. 0. 0. ... 0. 0. 0.]\n",
      " ...\n",
      " [0. 0. 0. ... 0. 0. 0.]\n",
      " [0. 0. 0. ... 0. 0. 0.]\n",
      " [0. 0. 0. ... 1. 0. 0.]]\n"
     ]
    }
   ],
   "source": [
    "y_train_one_hot = to_categorical(y_train)\n",
    "y_test_one_hot = to_categorical(y_test)\n",
    "print(y_test_one_hot)"
   ]
  },
  {
   "cell_type": "code",
   "execution_count": 12,
   "metadata": {},
   "outputs": [
    {
     "name": "stdout",
     "output_type": "stream",
     "text": [
      "훈련 데이터 (42000, 784) / 검증 데이터 (42000, 784)\n",
      "[  0   0   0   0   0   0   0   0   0   0   0   0   0   0   0   0   0   0\n",
      "   0   0   0   0   0   0   0   0   0   0   0   0   0   0   0   0   0   0\n",
      "   0   0   0   0   0   0   0   0   0   0   0   0   0   0   0   0   0   0\n",
      "   0   0   0   0   0   0   0   0   0   0   0   0   0   0   0   0   0   0\n",
      "   0   0   0   0   0   0   0   0   0   0   0   0   0   0   0   0   0   0\n",
      "   0   0   0   0   0   0   0   0   0   0   0   0   0   0   0   0   0   0\n",
      "   0   0   0   0   0   0   0   0   0   0   0   0   0   0   0   0   0   0\n",
      "   0   0   0   0   0   0   0   0   0   0   0   0   0   0   0   0   0   0\n",
      "   0   0   0   0   0   0   0   0   0   0   0   0   0   0   0   0   0   0\n",
      "   0   0   0   0   0   0   0   0   0   0   0   0   0   0   0   0   0   0\n",
      "   0   0   0   0   0   0   0   0   0   0   0   0   0   0   0   0   0   0\n",
      "   0   0   0   0   0   0   2   0   0   0   0  92 106   0   0   0   0   3\n",
      "   3   5   5   5   5   5   2   0   0   0   0   0   0   0   0   0   0   0\n",
      "   4   0  29 156 159 120  47   0   0   0   0   0   0   0   0   0   0   0\n",
      "   0   0   0   0   0   0   0   0   0   0   0   0 131 164 120 133 194 214\n",
      "  94   0  17  95 129 133 128 139  43   0   0   0   0   0   0   0   0   0\n",
      "   2   6  13   0 109 205 160 184 197 192 188 186 224 223 218 218 210 215\n",
      "  87   0   0   0   0   0   0   0   2   7   0   0   0  10 202   0  85 224\n",
      " 181 193 202 184 180 183 193 200 205 211  95   0   0   0   0   0   3   1\n",
      "   0   0   0 150  62 153  64   0   0 200 249 203 195 203 180 170 186 200\n",
      " 192 200  86   0   0   0   0   0   0   0   0 101 155 136 153 184   0   0\n",
      "   0  21 210 228 230 214 231 209 154 195 192 194  86   0   0   0   2   0\n",
      "   0 107 139 169 158 151 130 138 104   0   0   0 151 195 205 238  56 130\n",
      " 245 195 194 190  83   0   1   1   4   0  66 142 183   0 101 200 161 141\n",
      " 198 106   0   0 104 226 201 254   0   0 138 220 182 192  84   0   0   0\n",
      "   4   0  73 108 136   0  75 156 149 180 223 211   2   0   0 203 180 210\n",
      "  66   0   0 207 199 196  65   0   0   0   0   0 157 224 163   0 208 241\n",
      " 161 119 210 217 211  15  66 205 206 224 118  52 107 172 189 187  86   0\n",
      "  80 132 107  66 142 183 162  23 151 182 174 139 166 164 151 134 134 144\n",
      " 144 132 130 150 139 123 121 123 147  20  32  72  92 117  93  80 111 143\n",
      " 120 111 105 110  93  92  79 101 109 119 109 112 108 116 115 117 116 105\n",
      " 117  22   0   0   0   1   3  10  10   8  14  15  19  10  11   2   1   6\n",
      "  27  47  45  47  41  23  27  30  29  28  28   0   0   0   0   0   0   0\n",
      "   0   0   0   0   0   0   0   0   0   0   0   0   0   0   0   0   0   0\n",
      "   0   0   0   0   0   0   0   0   0   0   0   0   0   0   0   0   0   0\n",
      "   0   0   0   0   0   0   0   0   0   0   0   0   0   0   0   0   0   0\n",
      "   0   0   0   0   0   0   0   0   0   0   0   0   0   0   0   0   0   0\n",
      "   0   0   0   0   0   0   0   0   0   0   0   0   0   0   0   0   0   0\n",
      "   0   0   0   0   0   0   0   0   0   0   0   0   0   0   0   0   0   0\n",
      "   0   0   0   0   0   0   0   0   0   0   0   0   0   0   0   0   0   0\n",
      "   0   0   0   0   0   0   0   0   0   0   0   0   0   0   0   0   0   0\n",
      "   0   0   0   0   0   0   0   0   0   0   0   0   0   0   0   0   0   0\n",
      "   0   0   0   0   0   0   0   0   0   0   0   0   0   0   0   0   0   0\n",
      "   0   0   0   0   0   0   0   0   0   0]\n"
     ]
    }
   ],
   "source": [
    "x_train_reshape = x_train.reshape(x_train.shape[0], x_train.shape[1] * x_train.shape[2])\n",
    "x_test_reshape = x_test.reshape(x_test.shape[0], x_test.shape[1] * x_test.shape[2])\n",
    "print(f'훈련 데이터 {x_train_reshape.shape} / 검증 데이터 {x_train_reshape.shape}')\n",
    "print(x_train_reshape[0])"
   ]
  },
  {
   "cell_type": "markdown",
   "metadata": {},
   "source": [
    "### 이미지 데이터 정규화"
   ]
  },
  {
   "cell_type": "markdown",
   "metadata": {},
   "source": [
    "각 픽셀의 색상값은 0~255사이의 값을 갖는다.\n",
    "\n",
    "그러므로 색상값을 255로 나누면 0~1 사이의 범위를 갖도록 데이터 정규화가 수행된다."
   ]
  },
  {
   "cell_type": "code",
   "execution_count": 13,
   "metadata": {},
   "outputs": [
    {
     "data": {
      "text/plain": [
       "array([0.        , 0.        , 0.        , 0.        , 0.        ,\n",
       "       0.        , 0.        , 0.        , 0.        , 0.        ,\n",
       "       0.        , 0.        , 0.        , 0.        , 0.        ,\n",
       "       0.        , 0.        , 0.        , 0.        , 0.        ,\n",
       "       0.        , 0.        , 0.        , 0.        , 0.        ,\n",
       "       0.        , 0.        , 0.        , 0.        , 0.        ,\n",
       "       0.        , 0.        , 0.        , 0.        , 0.        ,\n",
       "       0.        , 0.        , 0.        , 0.        , 0.        ,\n",
       "       0.        , 0.        , 0.        , 0.        , 0.        ,\n",
       "       0.        , 0.        , 0.        , 0.        , 0.        ,\n",
       "       0.        , 0.        , 0.        , 0.        , 0.        ,\n",
       "       0.        , 0.        , 0.        , 0.        , 0.        ,\n",
       "       0.        , 0.        , 0.        , 0.        , 0.        ,\n",
       "       0.        , 0.        , 0.        , 0.        , 0.        ,\n",
       "       0.        , 0.        , 0.        , 0.        , 0.        ,\n",
       "       0.        , 0.        , 0.        , 0.        , 0.        ,\n",
       "       0.        , 0.        , 0.        , 0.        , 0.        ,\n",
       "       0.        , 0.        , 0.        , 0.        , 0.        ,\n",
       "       0.        , 0.        , 0.        , 0.        , 0.        ,\n",
       "       0.        , 0.        , 0.        , 0.        , 0.        ,\n",
       "       0.        , 0.        , 0.        , 0.        , 0.        ,\n",
       "       0.        , 0.        , 0.        , 0.        , 0.        ,\n",
       "       0.        , 0.        , 0.        , 0.        , 0.        ,\n",
       "       0.        , 0.        , 0.        , 0.        , 0.        ,\n",
       "       0.        , 0.        , 0.        , 0.        , 0.        ,\n",
       "       0.        , 0.        , 0.        , 0.        , 0.        ,\n",
       "       0.        , 0.        , 0.        , 0.        , 0.        ,\n",
       "       0.        , 0.        , 0.        , 0.        , 0.        ,\n",
       "       0.        , 0.        , 0.        , 0.        , 0.        ,\n",
       "       0.        , 0.        , 0.        , 0.        , 0.        ,\n",
       "       0.        , 0.        , 0.        , 0.        , 0.        ,\n",
       "       0.        , 0.        , 0.        , 0.        , 0.        ,\n",
       "       0.        , 0.        , 0.        , 0.        , 0.        ,\n",
       "       0.        , 0.        , 0.        , 0.        , 0.        ,\n",
       "       0.        , 0.        , 0.        , 0.        , 0.        ,\n",
       "       0.        , 0.        , 0.        , 0.        , 0.        ,\n",
       "       0.        , 0.        , 0.        , 0.        , 0.        ,\n",
       "       0.        , 0.        , 0.        , 0.        , 0.        ,\n",
       "       0.        , 0.        , 0.        , 0.        , 0.        ,\n",
       "       0.        , 0.        , 0.        , 0.        , 0.        ,\n",
       "       0.        , 0.        , 0.        , 0.        , 0.00784314,\n",
       "       0.        , 0.        , 0.        , 0.        , 0.36078431,\n",
       "       0.41568627, 0.        , 0.        , 0.        , 0.        ,\n",
       "       0.01176471, 0.01176471, 0.01960784, 0.01960784, 0.01960784,\n",
       "       0.01960784, 0.01960784, 0.00784314, 0.        , 0.        ,\n",
       "       0.        , 0.        , 0.        , 0.        , 0.        ,\n",
       "       0.        , 0.        , 0.        , 0.        , 0.01568627,\n",
       "       0.        , 0.11372549, 0.61176471, 0.62352941, 0.47058824,\n",
       "       0.18431373, 0.        , 0.        , 0.        , 0.        ,\n",
       "       0.        , 0.        , 0.        , 0.        , 0.        ,\n",
       "       0.        , 0.        , 0.        , 0.        , 0.        ,\n",
       "       0.        , 0.        , 0.        , 0.        , 0.        ,\n",
       "       0.        , 0.        , 0.        , 0.        , 0.51372549,\n",
       "       0.64313725, 0.47058824, 0.52156863, 0.76078431, 0.83921569,\n",
       "       0.36862745, 0.        , 0.06666667, 0.37254902, 0.50588235,\n",
       "       0.52156863, 0.50196078, 0.54509804, 0.16862745, 0.        ,\n",
       "       0.        , 0.        , 0.        , 0.        , 0.        ,\n",
       "       0.        , 0.        , 0.        , 0.00784314, 0.02352941,\n",
       "       0.05098039, 0.        , 0.42745098, 0.80392157, 0.62745098,\n",
       "       0.72156863, 0.77254902, 0.75294118, 0.7372549 , 0.72941176,\n",
       "       0.87843137, 0.8745098 , 0.85490196, 0.85490196, 0.82352941,\n",
       "       0.84313725, 0.34117647, 0.        , 0.        , 0.        ,\n",
       "       0.        , 0.        , 0.        , 0.        , 0.00784314,\n",
       "       0.02745098, 0.        , 0.        , 0.        , 0.03921569,\n",
       "       0.79215686, 0.        , 0.33333333, 0.87843137, 0.70980392,\n",
       "       0.75686275, 0.79215686, 0.72156863, 0.70588235, 0.71764706,\n",
       "       0.75686275, 0.78431373, 0.80392157, 0.82745098, 0.37254902,\n",
       "       0.        , 0.        , 0.        , 0.        , 0.        ,\n",
       "       0.01176471, 0.00392157, 0.        , 0.        , 0.        ,\n",
       "       0.58823529, 0.24313725, 0.6       , 0.25098039, 0.        ,\n",
       "       0.        , 0.78431373, 0.97647059, 0.79607843, 0.76470588,\n",
       "       0.79607843, 0.70588235, 0.66666667, 0.72941176, 0.78431373,\n",
       "       0.75294118, 0.78431373, 0.3372549 , 0.        , 0.        ,\n",
       "       0.        , 0.        , 0.        , 0.        , 0.        ,\n",
       "       0.        , 0.39607843, 0.60784314, 0.53333333, 0.6       ,\n",
       "       0.72156863, 0.        , 0.        , 0.        , 0.08235294,\n",
       "       0.82352941, 0.89411765, 0.90196078, 0.83921569, 0.90588235,\n",
       "       0.81960784, 0.60392157, 0.76470588, 0.75294118, 0.76078431,\n",
       "       0.3372549 , 0.        , 0.        , 0.        , 0.00784314,\n",
       "       0.        , 0.        , 0.41960784, 0.54509804, 0.6627451 ,\n",
       "       0.61960784, 0.59215686, 0.50980392, 0.54117647, 0.40784314,\n",
       "       0.        , 0.        , 0.        , 0.59215686, 0.76470588,\n",
       "       0.80392157, 0.93333333, 0.21960784, 0.50980392, 0.96078431,\n",
       "       0.76470588, 0.76078431, 0.74509804, 0.3254902 , 0.        ,\n",
       "       0.00392157, 0.00392157, 0.01568627, 0.        , 0.25882353,\n",
       "       0.55686275, 0.71764706, 0.        , 0.39607843, 0.78431373,\n",
       "       0.63137255, 0.55294118, 0.77647059, 0.41568627, 0.        ,\n",
       "       0.        , 0.40784314, 0.88627451, 0.78823529, 0.99607843,\n",
       "       0.        , 0.        , 0.54117647, 0.8627451 , 0.71372549,\n",
       "       0.75294118, 0.32941176, 0.        , 0.        , 0.        ,\n",
       "       0.01568627, 0.        , 0.28627451, 0.42352941, 0.53333333,\n",
       "       0.        , 0.29411765, 0.61176471, 0.58431373, 0.70588235,\n",
       "       0.8745098 , 0.82745098, 0.00784314, 0.        , 0.        ,\n",
       "       0.79607843, 0.70588235, 0.82352941, 0.25882353, 0.        ,\n",
       "       0.        , 0.81176471, 0.78039216, 0.76862745, 0.25490196,\n",
       "       0.        , 0.        , 0.        , 0.        , 0.        ,\n",
       "       0.61568627, 0.87843137, 0.63921569, 0.        , 0.81568627,\n",
       "       0.94509804, 0.63137255, 0.46666667, 0.82352941, 0.85098039,\n",
       "       0.82745098, 0.05882353, 0.25882353, 0.80392157, 0.80784314,\n",
       "       0.87843137, 0.4627451 , 0.20392157, 0.41960784, 0.6745098 ,\n",
       "       0.74117647, 0.73333333, 0.3372549 , 0.        , 0.31372549,\n",
       "       0.51764706, 0.41960784, 0.25882353, 0.55686275, 0.71764706,\n",
       "       0.63529412, 0.09019608, 0.59215686, 0.71372549, 0.68235294,\n",
       "       0.54509804, 0.65098039, 0.64313725, 0.59215686, 0.5254902 ,\n",
       "       0.5254902 , 0.56470588, 0.56470588, 0.51764706, 0.50980392,\n",
       "       0.58823529, 0.54509804, 0.48235294, 0.4745098 , 0.48235294,\n",
       "       0.57647059, 0.07843137, 0.1254902 , 0.28235294, 0.36078431,\n",
       "       0.45882353, 0.36470588, 0.31372549, 0.43529412, 0.56078431,\n",
       "       0.47058824, 0.43529412, 0.41176471, 0.43137255, 0.36470588,\n",
       "       0.36078431, 0.30980392, 0.39607843, 0.42745098, 0.46666667,\n",
       "       0.42745098, 0.43921569, 0.42352941, 0.45490196, 0.45098039,\n",
       "       0.45882353, 0.45490196, 0.41176471, 0.45882353, 0.08627451,\n",
       "       0.        , 0.        , 0.        , 0.00392157, 0.01176471,\n",
       "       0.03921569, 0.03921569, 0.03137255, 0.05490196, 0.05882353,\n",
       "       0.0745098 , 0.03921569, 0.04313725, 0.00784314, 0.00392157,\n",
       "       0.02352941, 0.10588235, 0.18431373, 0.17647059, 0.18431373,\n",
       "       0.16078431, 0.09019608, 0.10588235, 0.11764706, 0.11372549,\n",
       "       0.10980392, 0.10980392, 0.        , 0.        , 0.        ,\n",
       "       0.        , 0.        , 0.        , 0.        , 0.        ,\n",
       "       0.        , 0.        , 0.        , 0.        , 0.        ,\n",
       "       0.        , 0.        , 0.        , 0.        , 0.        ,\n",
       "       0.        , 0.        , 0.        , 0.        , 0.        ,\n",
       "       0.        , 0.        , 0.        , 0.        , 0.        ,\n",
       "       0.        , 0.        , 0.        , 0.        , 0.        ,\n",
       "       0.        , 0.        , 0.        , 0.        , 0.        ,\n",
       "       0.        , 0.        , 0.        , 0.        , 0.        ,\n",
       "       0.        , 0.        , 0.        , 0.        , 0.        ,\n",
       "       0.        , 0.        , 0.        , 0.        , 0.        ,\n",
       "       0.        , 0.        , 0.        , 0.        , 0.        ,\n",
       "       0.        , 0.        , 0.        , 0.        , 0.        ,\n",
       "       0.        , 0.        , 0.        , 0.        , 0.        ,\n",
       "       0.        , 0.        , 0.        , 0.        , 0.        ,\n",
       "       0.        , 0.        , 0.        , 0.        , 0.        ,\n",
       "       0.        , 0.        , 0.        , 0.        , 0.        ,\n",
       "       0.        , 0.        , 0.        , 0.        , 0.        ,\n",
       "       0.        , 0.        , 0.        , 0.        , 0.        ,\n",
       "       0.        , 0.        , 0.        , 0.        , 0.        ,\n",
       "       0.        , 0.        , 0.        , 0.        , 0.        ,\n",
       "       0.        , 0.        , 0.        , 0.        , 0.        ,\n",
       "       0.        , 0.        , 0.        , 0.        , 0.        ,\n",
       "       0.        , 0.        , 0.        , 0.        , 0.        ,\n",
       "       0.        , 0.        , 0.        , 0.        , 0.        ,\n",
       "       0.        , 0.        , 0.        , 0.        , 0.        ,\n",
       "       0.        , 0.        , 0.        , 0.        , 0.        ,\n",
       "       0.        , 0.        , 0.        , 0.        , 0.        ,\n",
       "       0.        , 0.        , 0.        , 0.        , 0.        ,\n",
       "       0.        , 0.        , 0.        , 0.        , 0.        ,\n",
       "       0.        , 0.        , 0.        , 0.        , 0.        ,\n",
       "       0.        , 0.        , 0.        , 0.        , 0.        ,\n",
       "       0.        , 0.        , 0.        , 0.        , 0.        ,\n",
       "       0.        , 0.        , 0.        , 0.        , 0.        ,\n",
       "       0.        , 0.        , 0.        , 0.        , 0.        ,\n",
       "       0.        , 0.        , 0.        , 0.        , 0.        ,\n",
       "       0.        , 0.        , 0.        , 0.        , 0.        ,\n",
       "       0.        , 0.        , 0.        , 0.        , 0.        ,\n",
       "       0.        , 0.        , 0.        , 0.        , 0.        ,\n",
       "       0.        , 0.        , 0.        , 0.        ])"
      ]
     },
     "execution_count": 13,
     "metadata": {},
     "output_type": "execute_result"
    }
   ],
   "source": [
    "x_train_normal = x_train_reshape / 255\n",
    "x_test_normal = x_test_reshape / 255\n",
    "x_train_normal[0]"
   ]
  },
  {
   "cell_type": "markdown",
   "metadata": {},
   "source": [
    "## 6) 모델 개발\n",
    "\n",
    "### 모델 정의"
   ]
  },
  {
   "cell_type": "code",
   "execution_count": 14,
   "metadata": {},
   "outputs": [
    {
     "name": "stdout",
     "output_type": "stream",
     "text": [
      "Model: \"sequential\"\n",
      "_________________________________________________________________\n",
      "Layer (type)                 Output Shape              Param #   \n",
      "=================================================================\n",
      "dense (Dense)                (None, 256)               200960    \n",
      "_________________________________________________________________\n",
      "dense_1 (Dense)              (None, 128)               32896     \n",
      "_________________________________________________________________\n",
      "dense_2 (Dense)              (None, 64)                8256      \n",
      "_________________________________________________________________\n",
      "dense_3 (Dense)              (None, 32)                2080      \n",
      "_________________________________________________________________\n",
      "dense_4 (Dense)              (None, 10)                330       \n",
      "=================================================================\n",
      "Total params: 244,522\n",
      "Trainable params: 244,522\n",
      "Non-trainable params: 0\n",
      "_________________________________________________________________\n"
     ]
    }
   ],
   "source": [
    "model = Sequential()\n",
    "model.add(Dense(256, input_shape=(len(x_train_normal[0]), ), activation='relu'))\n",
    "model.add(Dense(128, activation='relu'))\n",
    "model.add(Dense(64, activation='relu'))\n",
    "model.add(Dense(32, activation='relu'))\n",
    "model.add(Dense(10, activation='softmax'))\n",
    "model.compile(optimizer='adam', loss='categorical_crossentropy', metrics=['acc'])\n",
    "model.summary()"
   ]
  },
  {
   "cell_type": "markdown",
   "metadata": {},
   "source": [
    "### 학습하기"
   ]
  },
  {
   "cell_type": "code",
   "execution_count": 15,
   "metadata": {},
   "outputs": [
    {
     "name": "stdout",
     "output_type": "stream",
     "text": [
      "Epoch 1/500\n",
      "1313/1313 [==============================] - 3s 2ms/step - loss: 0.5502 - acc: 0.8020 - val_loss: 0.4736 - val_acc: 0.8207\n",
      "Epoch 2/500\n",
      "1313/1313 [==============================] - 3s 2ms/step - loss: 0.3915 - acc: 0.8540 - val_loss: 0.3639 - val_acc: 0.8638\n",
      "Epoch 3/500\n",
      "1313/1313 [==============================] - 3s 2ms/step - loss: 0.3519 - acc: 0.8696 - val_loss: 0.3695 - val_acc: 0.8715s -  - ETA: 0s - loss: 0.3514 - acc: 0.8\n",
      "Epoch 4/500\n",
      "1313/1313 [==============================] - 2s 2ms/step - loss: 0.3250 - acc: 0.8794 - val_loss: 0.3351 - val_acc: 0.8801\n",
      "Epoch 5/500\n",
      "1313/1313 [==============================] - 3s 2ms/step - loss: 0.3098 - acc: 0.8847 - val_loss: 0.3376 - val_acc: 0.8806\n",
      "Epoch 6/500\n",
      "1313/1313 [==============================] - 2s 2ms/step - loss: 0.2912 - acc: 0.8911 - val_loss: 0.3565 - val_acc: 0.8756\n",
      "Epoch 7/500\n",
      "1313/1313 [==============================] - 2s 2ms/step - loss: 0.2812 - acc: 0.8950 - val_loss: 0.3486 - val_acc: 0.8761\n",
      "\n",
      "Epoch 00007: ReduceLROnPlateau reducing learning rate to 0.0005000000237487257.\n",
      "Epoch 8/500\n",
      "1313/1313 [==============================] - 3s 2ms/step - loss: 0.2360 - acc: 0.9112 - val_loss: 0.2989 - val_acc: 0.8926\n",
      "Epoch 9/500\n",
      "1313/1313 [==============================] - 2s 2ms/step - loss: 0.2239 - acc: 0.9147 - val_loss: 0.3076 - val_acc: 0.8979loss\n",
      "Epoch 10/500\n",
      "1313/1313 [==============================] - 3s 2ms/step - loss: 0.2141 - acc: 0.9184 - val_loss: 0.3130 - val_acc: 0.8949: 0s - loss: 0.2136\n",
      "Epoch 11/500\n",
      "1313/1313 [==============================] - 2s 2ms/step - loss: 0.2036 - acc: 0.9215 - val_loss: 0.3114 - val_acc: 0.8961 loss: 0.2039 - acc: 0.9\n",
      "\n",
      "Epoch 00011: ReduceLROnPlateau reducing learning rate to 0.0002500000118743628.\n",
      "Epoch 12/500\n",
      "1313/1313 [==============================] - 3s 2ms/step - loss: 0.1785 - acc: 0.9304 - val_loss: 0.3176 - val_acc: 0.8984\n",
      "Epoch 13/500\n",
      "1313/1313 [==============================] - 2s 2ms/step - loss: 0.1706 - acc: 0.9338 - val_loss: 0.3198 - val_acc: 0.8996\n",
      "Epoch 00013: early stopping\n"
     ]
    },
    {
     "data": {
      "text/html": [
       "<div>\n",
       "<style scoped>\n",
       "    .dataframe tbody tr th:only-of-type {\n",
       "        vertical-align: middle;\n",
       "    }\n",
       "\n",
       "    .dataframe tbody tr th {\n",
       "        vertical-align: top;\n",
       "    }\n",
       "\n",
       "    .dataframe thead th {\n",
       "        text-align: right;\n",
       "    }\n",
       "</style>\n",
       "<table border=\"1\" class=\"dataframe\">\n",
       "  <thead>\n",
       "    <tr style=\"text-align: right;\">\n",
       "      <th></th>\n",
       "      <th>loss</th>\n",
       "      <th>acc</th>\n",
       "      <th>val_loss</th>\n",
       "      <th>val_acc</th>\n",
       "      <th>lr</th>\n",
       "    </tr>\n",
       "    <tr>\n",
       "      <th>epochs</th>\n",
       "      <th></th>\n",
       "      <th></th>\n",
       "      <th></th>\n",
       "      <th></th>\n",
       "      <th></th>\n",
       "    </tr>\n",
       "  </thead>\n",
       "  <tbody>\n",
       "    <tr>\n",
       "      <th>1</th>\n",
       "      <td>0.550208</td>\n",
       "      <td>0.802048</td>\n",
       "      <td>0.473623</td>\n",
       "      <td>0.820722</td>\n",
       "      <td>0.00100</td>\n",
       "    </tr>\n",
       "    <tr>\n",
       "      <th>2</th>\n",
       "      <td>0.391485</td>\n",
       "      <td>0.854048</td>\n",
       "      <td>0.363935</td>\n",
       "      <td>0.863833</td>\n",
       "      <td>0.00100</td>\n",
       "    </tr>\n",
       "    <tr>\n",
       "      <th>3</th>\n",
       "      <td>0.351858</td>\n",
       "      <td>0.869643</td>\n",
       "      <td>0.369538</td>\n",
       "      <td>0.871500</td>\n",
       "      <td>0.00100</td>\n",
       "    </tr>\n",
       "    <tr>\n",
       "      <th>4</th>\n",
       "      <td>0.325015</td>\n",
       "      <td>0.879357</td>\n",
       "      <td>0.335062</td>\n",
       "      <td>0.880111</td>\n",
       "      <td>0.00100</td>\n",
       "    </tr>\n",
       "    <tr>\n",
       "      <th>5</th>\n",
       "      <td>0.309849</td>\n",
       "      <td>0.884667</td>\n",
       "      <td>0.337599</td>\n",
       "      <td>0.880556</td>\n",
       "      <td>0.00100</td>\n",
       "    </tr>\n",
       "    <tr>\n",
       "      <th>6</th>\n",
       "      <td>0.291170</td>\n",
       "      <td>0.891143</td>\n",
       "      <td>0.356538</td>\n",
       "      <td>0.875611</td>\n",
       "      <td>0.00100</td>\n",
       "    </tr>\n",
       "    <tr>\n",
       "      <th>7</th>\n",
       "      <td>0.281221</td>\n",
       "      <td>0.895024</td>\n",
       "      <td>0.348592</td>\n",
       "      <td>0.876056</td>\n",
       "      <td>0.00100</td>\n",
       "    </tr>\n",
       "    <tr>\n",
       "      <th>8</th>\n",
       "      <td>0.235959</td>\n",
       "      <td>0.911238</td>\n",
       "      <td>0.298895</td>\n",
       "      <td>0.892611</td>\n",
       "      <td>0.00050</td>\n",
       "    </tr>\n",
       "    <tr>\n",
       "      <th>9</th>\n",
       "      <td>0.223906</td>\n",
       "      <td>0.914738</td>\n",
       "      <td>0.307567</td>\n",
       "      <td>0.897889</td>\n",
       "      <td>0.00050</td>\n",
       "    </tr>\n",
       "    <tr>\n",
       "      <th>10</th>\n",
       "      <td>0.214110</td>\n",
       "      <td>0.918405</td>\n",
       "      <td>0.313018</td>\n",
       "      <td>0.894889</td>\n",
       "      <td>0.00050</td>\n",
       "    </tr>\n",
       "    <tr>\n",
       "      <th>11</th>\n",
       "      <td>0.203632</td>\n",
       "      <td>0.921524</td>\n",
       "      <td>0.311396</td>\n",
       "      <td>0.896111</td>\n",
       "      <td>0.00050</td>\n",
       "    </tr>\n",
       "    <tr>\n",
       "      <th>12</th>\n",
       "      <td>0.178499</td>\n",
       "      <td>0.930405</td>\n",
       "      <td>0.317569</td>\n",
       "      <td>0.898389</td>\n",
       "      <td>0.00025</td>\n",
       "    </tr>\n",
       "    <tr>\n",
       "      <th>13</th>\n",
       "      <td>0.170619</td>\n",
       "      <td>0.933810</td>\n",
       "      <td>0.319842</td>\n",
       "      <td>0.899611</td>\n",
       "      <td>0.00025</td>\n",
       "    </tr>\n",
       "  </tbody>\n",
       "</table>\n",
       "</div>"
      ],
      "text/plain": [
       "            loss       acc  val_loss   val_acc       lr\n",
       "epochs                                                 \n",
       "1       0.550208  0.802048  0.473623  0.820722  0.00100\n",
       "2       0.391485  0.854048  0.363935  0.863833  0.00100\n",
       "3       0.351858  0.869643  0.369538  0.871500  0.00100\n",
       "4       0.325015  0.879357  0.335062  0.880111  0.00100\n",
       "5       0.309849  0.884667  0.337599  0.880556  0.00100\n",
       "6       0.291170  0.891143  0.356538  0.875611  0.00100\n",
       "7       0.281221  0.895024  0.348592  0.876056  0.00100\n",
       "8       0.235959  0.911238  0.298895  0.892611  0.00050\n",
       "9       0.223906  0.914738  0.307567  0.897889  0.00050\n",
       "10      0.214110  0.918405  0.313018  0.894889  0.00050\n",
       "11      0.203632  0.921524  0.311396  0.896111  0.00050\n",
       "12      0.178499  0.930405  0.317569  0.898389  0.00025\n",
       "13      0.170619  0.933810  0.319842  0.899611  0.00025"
      ]
     },
     "execution_count": 15,
     "metadata": {},
     "output_type": "execute_result"
    }
   ],
   "source": [
    "result = model.fit(x_train_normal, y_train_one_hot, epochs=500, validation_data=(x_test_normal, y_test_one_hot), callbacks = [\n",
    "    #ModelCheckpoint(filepath = 'check_point.h5', monitor = 'val_loss', verbose=1, save_best_only = True),\n",
    "    EarlyStopping(monitor = 'val_loss', patience=5, verbose = 1),\n",
    "    ReduceLROnPlateau(monitor= \"val_loss\", patience=3, factor = 0.5, min_lr=0.0001, verbose=1)\n",
    "])\n",
    "\n",
    "result_df = DataFrame(result.history)\n",
    "result_df['epochs'] = result_df.index+1\n",
    "result_df.set_index('epochs', inplace=True)\n",
    "result_df"
   ]
  },
  {
   "cell_type": "markdown",
   "metadata": {},
   "source": [
    "## 7) 학습 결과 평가"
   ]
  },
  {
   "cell_type": "markdown",
   "metadata": {},
   "source": [
    "### 학습 결과 시각화"
   ]
  },
  {
   "cell_type": "code",
   "execution_count": 16,
   "metadata": {},
   "outputs": [
    {
     "data": {
      "image/png": "[encoded data removed]",
      "text/plain": [
       "<Figure size 3000x750 with 2 Axes>"
      ]
     },
     "metadata": {
      "needs_background": "light"
     },
     "output_type": "display_data"
    }
   ],
   "source": [
    "# 그래프 기본 설정\n",
    "# ----------------------------------------\n",
    "plt.rcParams[\"font.family\"] = 'Malgun Gothic'\n",
    "plt.rcParams[\"font.size\"] = 16\n",
    "plt.rcParams['axes.unicode_minus'] = False\n",
    "\n",
    "# 그래프를 그리기 위한 객체 생성\n",
    "# ----------------------------------------\n",
    "fig, (ax1, ax2) = plt.subplots(1, 2, figsize=(20, 5), dpi=150)\n",
    "\n",
    "# 1) 훈련 및 검증 손실 그리기\n",
    "# ----------------------------------------\n",
    "sns.lineplot(x=result_df.index, y='loss', data=result_df, color='blue', label='훈련 손실률', ax=ax1)\n",
    "sns.lineplot(x=result_df.index, y='val_loss', data=result_df, color='orange', label='검증 손실률', ax=ax1)\n",
    "ax1.set_title('훈련 및 검증 손실률')\n",
    "ax1.set_xlabel('반복회차')\n",
    "ax1.set_ylabel('손실률')\n",
    "ax1.grid()\n",
    "ax1.legend()\n",
    "\n",
    "# 2) 훈련 및 검증 절대오차 그리기\n",
    "# ----------------------------------------\n",
    "sns.lineplot(x=result_df.index, y='acc', data=result_df, color = 'blue', label = '훈련 정확도', ax=ax2)\n",
    "sns.lineplot(x=result_df.index, y='val_acc', data=result_df, color = 'orange', label = '검증 정확도', ax=ax2)\n",
    "ax2.set_title('훈련 및 검증 정확도')\n",
    "ax2.set_xlabel('반복회차')\n",
    "ax2.set_ylabel('정확도')\n",
    "ax2.grid()\n",
    "ax2.legend()\n",
    "\n",
    "plt.show()\n",
    "plt.close()"
   ]
  },
  {
   "cell_type": "markdown",
   "metadata": {},
   "source": [
    "### 모델 성능 평가"
   ]
  },
  {
   "cell_type": "code",
   "execution_count": 17,
   "metadata": {},
   "outputs": [
    {
     "name": "stdout",
     "output_type": "stream",
     "text": [
      "563/563 [==============================] - 0s 792us/step - loss: 0.3198 - acc: 0.8996\n",
      "최종 손실률: 0.319842, 최종 정확도: 0.899611\n"
     ]
    }
   ],
   "source": [
    "evaluate = model.evaluate(x_test_normal, y_test_one_hot)\n",
    "print(\"최종 손실률: %f, 최종 정확도: %f\" % (evaluate[0], evaluate[1]))"
   ]
  },
  {
   "cell_type": "markdown",
   "metadata": {},
   "source": [
    "## 8) 학습 결과 적용\n",
    "---"
   ]
  },
  {
   "cell_type": "markdown",
   "metadata": {},
   "source": [
    "### 테스트 데이터에 대한 예측 결과 산정"
   ]
  },
  {
   "cell_type": "code",
   "execution_count": 18,
   "metadata": {},
   "outputs": [
    {
     "name": "stdout",
     "output_type": "stream",
     "text": [
      "18000개의 검증 데이터가 10개의 경우의 수를 갖는다.\n"
     ]
    },
    {
     "data": {
      "text/plain": [
       "array([6.4612704e-04, 2.3233113e-06, 4.0289295e-01, 1.3225741e-04,\n",
       "       5.8276767e-01, 5.3595056e-10, 1.3533849e-02, 7.7185005e-09,\n",
       "       2.4888117e-05, 1.5532200e-08], dtype=float32)"
      ]
     },
     "execution_count": 18,
     "metadata": {},
     "output_type": "execute_result"
    }
   ],
   "source": [
    "result = model.predict(x_test_normal)\n",
    "data_count, case_count = result.shape\n",
    "print(\"%d개의 검증 데이터가 %d개의 경우의 수를 갖는다.\" % (data_count, case_count))\n",
    "result[0]"
   ]
  },
  {
   "cell_type": "markdown",
   "metadata": {},
   "source": [
    "### 가장 큰 확률 값의 인덱스를 별도 리스트로 추출"
   ]
  },
  {
   "cell_type": "code",
   "execution_count": 19,
   "metadata": {},
   "outputs": [
    {
     "data": {
      "text/plain": [
       "array([4, 3, 4, ..., 5, 6, 7], dtype=int64)"
      ]
     },
     "execution_count": 19,
     "metadata": {},
     "output_type": "execute_result"
    }
   ],
   "source": [
    "arg_result = np.argmax(result, axis=-1)\n",
    "arg_result"
   ]
  },
  {
   "cell_type": "markdown",
   "metadata": {},
   "source": [
    "### 데이터 비교"
   ]
  },
  {
   "cell_type": "code",
   "execution_count": 20,
   "metadata": {},
   "outputs": [
    {
     "data": {
      "image/png": "[encoded data removed]",
      "text/plain": [
       "<Figure size 1500x300 with 5 Axes>"
      ]
     },
     "metadata": {
      "needs_background": "light"
     },
     "output_type": "display_data"
    }
   ],
   "source": [
    "fig, ax = plt.subplots(1, 5, figsize=(15, 3), dpi=100)\n",
    "\n",
    "for i in range(0, len(ax)):\n",
    "    train = x_test[i]\n",
    "    label = y_test[i]\n",
    "    ax[i].imshow(train)\n",
    "    ax[i].set_title(\"label=%s\\n LM=%s\" % (class_names[label], class_names[arg_result[i]]))\n",
    "\n",
    "plt.show()\n",
    "plt.close()"
   ]
  },
  {
   "cell_type": "markdown",
   "metadata": {},
   "source": [
    "### 결과 데이터 셋 구성"
   ]
  },
  {
   "cell_type": "code",
   "execution_count": 21,
   "metadata": {},
   "outputs": [
    {
     "data": {
      "text/html": [
       "<div>\n",
       "<style scoped>\n",
       "    .dataframe tbody tr th:only-of-type {\n",
       "        vertical-align: middle;\n",
       "    }\n",
       "\n",
       "    .dataframe tbody tr th {\n",
       "        vertical-align: top;\n",
       "    }\n",
       "\n",
       "    .dataframe thead th {\n",
       "        text-align: right;\n",
       "    }\n",
       "</style>\n",
       "<table border=\"1\" class=\"dataframe\">\n",
       "  <thead>\n",
       "    <tr style=\"text-align: right;\">\n",
       "      <th></th>\n",
       "      <th>예측값</th>\n",
       "      <th>실제값</th>\n",
       "    </tr>\n",
       "  </thead>\n",
       "  <tbody>\n",
       "    <tr>\n",
       "      <th>0</th>\n",
       "      <td>4</td>\n",
       "      <td>2</td>\n",
       "    </tr>\n",
       "    <tr>\n",
       "      <th>1</th>\n",
       "      <td>3</td>\n",
       "      <td>3</td>\n",
       "    </tr>\n",
       "    <tr>\n",
       "      <th>2</th>\n",
       "      <td>4</td>\n",
       "      <td>4</td>\n",
       "    </tr>\n",
       "    <tr>\n",
       "      <th>3</th>\n",
       "      <td>0</td>\n",
       "      <td>0</td>\n",
       "    </tr>\n",
       "    <tr>\n",
       "      <th>4</th>\n",
       "      <td>9</td>\n",
       "      <td>9</td>\n",
       "    </tr>\n",
       "    <tr>\n",
       "      <th>...</th>\n",
       "      <td>...</td>\n",
       "      <td>...</td>\n",
       "    </tr>\n",
       "    <tr>\n",
       "      <th>17995</th>\n",
       "      <td>2</td>\n",
       "      <td>2</td>\n",
       "    </tr>\n",
       "    <tr>\n",
       "      <th>17996</th>\n",
       "      <td>5</td>\n",
       "      <td>5</td>\n",
       "    </tr>\n",
       "    <tr>\n",
       "      <th>17997</th>\n",
       "      <td>5</td>\n",
       "      <td>5</td>\n",
       "    </tr>\n",
       "    <tr>\n",
       "      <th>17998</th>\n",
       "      <td>6</td>\n",
       "      <td>6</td>\n",
       "    </tr>\n",
       "    <tr>\n",
       "      <th>17999</th>\n",
       "      <td>7</td>\n",
       "      <td>7</td>\n",
       "    </tr>\n",
       "  </tbody>\n",
       "</table>\n",
       "<p>18000 rows × 2 columns</p>\n",
       "</div>"
      ],
      "text/plain": [
       "       예측값  실제값\n",
       "0        4    2\n",
       "1        3    3\n",
       "2        4    4\n",
       "3        0    0\n",
       "4        9    9\n",
       "...    ...  ...\n",
       "17995    2    2\n",
       "17996    5    5\n",
       "17997    5    5\n",
       "17998    6    6\n",
       "17999    7    7\n",
       "\n",
       "[18000 rows x 2 columns]"
      ]
     },
     "execution_count": 21,
     "metadata": {},
     "output_type": "execute_result"
    }
   ],
   "source": [
    "result_df = DataFrame()\n",
    "result_df['예측값'] = arg_result\n",
    "result_df['실제값'] = y_test\n",
    "result_df"
   ]
  },
  {
   "cell_type": "code",
   "execution_count": 22,
   "metadata": {},
   "outputs": [
    {
     "data": {
      "text/html": [
       "<div>\n",
       "<style scoped>\n",
       "    .dataframe tbody tr th:only-of-type {\n",
       "        vertical-align: middle;\n",
       "    }\n",
       "\n",
       "    .dataframe tbody tr th {\n",
       "        vertical-align: top;\n",
       "    }\n",
       "\n",
       "    .dataframe thead th {\n",
       "        text-align: right;\n",
       "    }\n",
       "</style>\n",
       "<table border=\"1\" class=\"dataframe\">\n",
       "  <thead>\n",
       "    <tr style=\"text-align: right;\">\n",
       "      <th></th>\n",
       "      <th>index</th>\n",
       "      <th>variable</th>\n",
       "      <th>value</th>\n",
       "    </tr>\n",
       "  </thead>\n",
       "  <tbody>\n",
       "    <tr>\n",
       "      <th>0</th>\n",
       "      <td>0</td>\n",
       "      <td>예측값</td>\n",
       "      <td>4</td>\n",
       "    </tr>\n",
       "    <tr>\n",
       "      <th>1</th>\n",
       "      <td>1</td>\n",
       "      <td>예측값</td>\n",
       "      <td>3</td>\n",
       "    </tr>\n",
       "    <tr>\n",
       "      <th>2</th>\n",
       "      <td>2</td>\n",
       "      <td>예측값</td>\n",
       "      <td>4</td>\n",
       "    </tr>\n",
       "    <tr>\n",
       "      <th>3</th>\n",
       "      <td>3</td>\n",
       "      <td>예측값</td>\n",
       "      <td>0</td>\n",
       "    </tr>\n",
       "    <tr>\n",
       "      <th>4</th>\n",
       "      <td>4</td>\n",
       "      <td>예측값</td>\n",
       "      <td>9</td>\n",
       "    </tr>\n",
       "    <tr>\n",
       "      <th>...</th>\n",
       "      <td>...</td>\n",
       "      <td>...</td>\n",
       "      <td>...</td>\n",
       "    </tr>\n",
       "    <tr>\n",
       "      <th>35995</th>\n",
       "      <td>35995</td>\n",
       "      <td>실제값</td>\n",
       "      <td>2</td>\n",
       "    </tr>\n",
       "    <tr>\n",
       "      <th>35996</th>\n",
       "      <td>35996</td>\n",
       "      <td>실제값</td>\n",
       "      <td>5</td>\n",
       "    </tr>\n",
       "    <tr>\n",
       "      <th>35997</th>\n",
       "      <td>35997</td>\n",
       "      <td>실제값</td>\n",
       "      <td>5</td>\n",
       "    </tr>\n",
       "    <tr>\n",
       "      <th>35998</th>\n",
       "      <td>35998</td>\n",
       "      <td>실제값</td>\n",
       "      <td>6</td>\n",
       "    </tr>\n",
       "    <tr>\n",
       "      <th>35999</th>\n",
       "      <td>35999</td>\n",
       "      <td>실제값</td>\n",
       "      <td>7</td>\n",
       "    </tr>\n",
       "  </tbody>\n",
       "</table>\n",
       "<p>36000 rows × 3 columns</p>\n",
       "</div>"
      ],
      "text/plain": [
       "       index variable  value\n",
       "0          0      예측값      4\n",
       "1          1      예측값      3\n",
       "2          2      예측값      4\n",
       "3          3      예측값      0\n",
       "4          4      예측값      9\n",
       "...      ...      ...    ...\n",
       "35995  35995      실제값      2\n",
       "35996  35996      실제값      5\n",
       "35997  35997      실제값      5\n",
       "35998  35998      실제값      6\n",
       "35999  35999      실제값      7\n",
       "\n",
       "[36000 rows x 3 columns]"
      ]
     },
     "execution_count": 22,
     "metadata": {},
     "output_type": "execute_result"
    }
   ],
   "source": [
    "mdf = result_df.melt()\n",
    "mdf.reset_index(inplace=True)\n",
    "mdf"
   ]
  },
  {
   "cell_type": "markdown",
   "metadata": {},
   "source": [
    "### 실제 결과값과 머신러닝에 의한 예측값 비교"
   ]
  },
  {
   "cell_type": "code",
   "execution_count": 23,
   "metadata": {},
   "outputs": [
    {
     "data": {
      "text/html": [
       "<div>\n",
       "<style scoped>\n",
       "    .dataframe tbody tr th:only-of-type {\n",
       "        vertical-align: middle;\n",
       "    }\n",
       "\n",
       "    .dataframe tbody tr th {\n",
       "        vertical-align: top;\n",
       "    }\n",
       "\n",
       "    .dataframe thead th {\n",
       "        text-align: right;\n",
       "    }\n",
       "</style>\n",
       "<table border=\"1\" class=\"dataframe\">\n",
       "  <thead>\n",
       "    <tr style=\"text-align: right;\">\n",
       "      <th>variable</th>\n",
       "      <th>실제값</th>\n",
       "      <th>예측값</th>\n",
       "    </tr>\n",
       "    <tr>\n",
       "      <th>value</th>\n",
       "      <th></th>\n",
       "      <th></th>\n",
       "    </tr>\n",
       "  </thead>\n",
       "  <tbody>\n",
       "    <tr>\n",
       "      <th>0</th>\n",
       "      <td>1751</td>\n",
       "      <td>1659</td>\n",
       "    </tr>\n",
       "    <tr>\n",
       "      <th>1</th>\n",
       "      <td>1826</td>\n",
       "      <td>1811</td>\n",
       "    </tr>\n",
       "    <tr>\n",
       "      <th>2</th>\n",
       "      <td>1799</td>\n",
       "      <td>1709</td>\n",
       "    </tr>\n",
       "    <tr>\n",
       "      <th>3</th>\n",
       "      <td>1843</td>\n",
       "      <td>1859</td>\n",
       "    </tr>\n",
       "    <tr>\n",
       "      <th>4</th>\n",
       "      <td>1831</td>\n",
       "      <td>1907</td>\n",
       "    </tr>\n",
       "    <tr>\n",
       "      <th>5</th>\n",
       "      <td>1785</td>\n",
       "      <td>1739</td>\n",
       "    </tr>\n",
       "    <tr>\n",
       "      <th>6</th>\n",
       "      <td>1789</td>\n",
       "      <td>1901</td>\n",
       "    </tr>\n",
       "    <tr>\n",
       "      <th>7</th>\n",
       "      <td>1791</td>\n",
       "      <td>1816</td>\n",
       "    </tr>\n",
       "    <tr>\n",
       "      <th>8</th>\n",
       "      <td>1772</td>\n",
       "      <td>1765</td>\n",
       "    </tr>\n",
       "    <tr>\n",
       "      <th>9</th>\n",
       "      <td>1813</td>\n",
       "      <td>1834</td>\n",
       "    </tr>\n",
       "  </tbody>\n",
       "</table>\n",
       "</div>"
      ],
      "text/plain": [
       "variable   실제값   예측값\n",
       "value               \n",
       "0         1751  1659\n",
       "1         1826  1811\n",
       "2         1799  1709\n",
       "3         1843  1859\n",
       "4         1831  1907\n",
       "5         1785  1739\n",
       "6         1789  1901\n",
       "7         1791  1816\n",
       "8         1772  1765\n",
       "9         1813  1834"
      ]
     },
     "execution_count": 23,
     "metadata": {},
     "output_type": "execute_result"
    }
   ],
   "source": [
    "import pandas as pd\n",
    "df = pd.pivot_table(mdf, index='value', columns='variable', values='index', aggfunc='count')\n",
    "df"
   ]
  },
  {
   "cell_type": "code",
   "execution_count": 24,
   "metadata": {},
   "outputs": [
    {
     "data": {
      "text/plain": [
       "<matplotlib.legend.Legend at 0x1b909330a00>"
      ]
     },
     "execution_count": 24,
     "metadata": {},
     "output_type": "execute_result"
    },
    {
     "data": {
      "text/plain": [
       "<Figure size 2160x1440 with 0 Axes>"
      ]
     },
     "metadata": {},
     "output_type": "display_data"
    },
    {
     "data": {
      "image/png": "[encoded data removed]",
      "text/plain": [
       "<Figure size 432x288 with 1 Axes>"
      ]
     },
     "metadata": {
      "needs_background": "light"
     },
     "output_type": "display_data"
    }
   ],
   "source": [
    "plt.figure(figsize=(30,20))\n",
    "df.plot.bar(rot = 0)\n",
    "plt.title('예측값과 실제값 비교')\n",
    "plt.grid()\n",
    "plt.legend(loc='center left', bbox_to_anchor=(1, 0.5))"
   ]
  },
  {
   "cell_type": "code",
   "execution_count": null,
   "metadata": {},
   "outputs": [],
   "source": []
  }
 ],
 "metadata": {
  "kernelspec": {
   "display_name": "Python 3",
   "language": "python",
   "name": "python3"
  },
  "language_info": {
   "codemirror_mode": {
    "name": "ipython",
    "version": 3
   },
   "file_extension": ".py",
   "mimetype": "text/x-python",
   "name": "python",
   "nbconvert_exporter": "python",
   "pygments_lexer": "ipython3",
   "version": "3.8.8"
  }
 },
 "nbformat": 4,
 "nbformat_minor": 4
}
