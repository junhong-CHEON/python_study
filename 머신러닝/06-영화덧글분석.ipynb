{
 "cells": [
  {
   "cell_type": "markdown",
   "metadata": {
    "id": "Ubj0V4nifZf1"
   },
   "source": [
    "# 영화 덧글 분석\n",
    "---"
   ]
  },
  {
   "cell_type": "markdown",
   "metadata": {},
   "source": [
    "## Colab 초기화"
   ]
  },
  {
   "cell_type": "code",
   "execution_count": 1,
   "metadata": {
    "executionInfo": {
     "elapsed": 5409,
     "status": "ok",
     "timestamp": 1626661467913,
     "user": {
      "displayName": "이광호",
      "photoUrl": "https://lh3.googleusercontent.com/a-/AOh14GgYmsbweeGHRMVq6GAJfsERaAq1xJmNnVrsjIaP8A=s64",
      "userId": "07837067054228516785"
     },
     "user_tz": -540
    },
    "id": "vF6w1ijifmto"
   },
   "outputs": [],
   "source": [
    "#!apt-get update -qq\n",
    "#!apt-get install fonts-nanum* -qq\n",
    "#! git clone https://github.com/SOMJANG/Mecab-ko-for-Google-Colab.git\n",
    "#! ls\n",
    "#% cd Mecab-ko-for-Google-Colab\n",
    "#! bash install_mecab-ko_on_colab190912.sh"
   ]
  },
  {
   "cell_type": "markdown",
   "metadata": {},
   "source": [
    "## 1) 패키지 준비하기"
   ]
  },
  {
   "cell_type": "code",
   "execution_count": 1,
   "metadata": {
    "executionInfo": {
     "elapsed": 2294,
     "status": "ok",
     "timestamp": 1626661025344,
     "user": {
      "displayName": "이광호",
      "photoUrl": "https://lh3.googleusercontent.com/a-/AOh14GgYmsbweeGHRMVq6GAJfsERaAq1xJmNnVrsjIaP8A=s64",
      "userId": "07837067054228516785"
     },
     "user_tz": -540
    },
    "id": "jEQcSEP4fZf3"
   },
   "outputs": [],
   "source": [
    "from pandas import DataFrame\n",
    "from pandas import read_excel\n",
    "from matplotlib import pyplot as plt\n",
    "import seaborn as sns\n",
    "import numpy as np\n",
    "# 한글 형태소 분석\n",
    "# -> window\n",
    "from eunjeon import Mecab\n",
    "# -> mac, linux(colab)\n",
    "#from konlpy.tag import Mecab\n",
    "#from konlpy.tag import Okt\n",
    "\n",
    "from tensorflow.keras.models import Sequential\n",
    "from tensorflow.keras.layers import Embedding, Dense, GRU\n",
    "from tensorflow.keras.preprocessing.text import Tokenizer\n",
    "from tensorflow.keras.preprocessing.sequence import pad_sequences\n",
    "from tensorflow.keras.callbacks import EarlyStopping\n",
    "from tensorflow.keras.callbacks import ReduceLROnPlateau\n",
    "from tensorflow.keras.callbacks import ModelCheckpoint\n",
    "\n",
    "from sklearn.model_selection import train_test_split\n",
    "from sklearn.metrics import classification_report, confusion_matrix"
   ]
  },
  {
   "cell_type": "markdown",
   "metadata": {
    "id": "jDDlfvP9fZf4"
   },
   "source": [
    "## 2) 데이터셋 준비하기"
   ]
  },
  {
   "cell_type": "code",
   "execution_count": 2,
   "metadata": {
    "colab": {
     "base_uri": "https://localhost:8080/",
     "height": 419
    },
    "executionInfo": {
     "elapsed": 11758,
     "status": "ok",
     "timestamp": 1626661037100,
     "user": {
      "displayName": "이광호",
      "photoUrl": "https://lh3.googleusercontent.com/a-/AOh14GgYmsbweeGHRMVq6GAJfsERaAq1xJmNnVrsjIaP8A=s64",
      "userId": "07837067054228516785"
     },
     "user_tz": -540
    },
    "id": "nbgCu2LifZf4",
    "outputId": "ca068467-f4f2-4178-ec55-235cff6660ca"
   },
   "outputs": [
    {
     "data": {
      "text/html": [
       "<div>\n",
       "<style scoped>\n",
       "    .dataframe tbody tr th:only-of-type {\n",
       "        vertical-align: middle;\n",
       "    }\n",
       "\n",
       "    .dataframe tbody tr th {\n",
       "        vertical-align: top;\n",
       "    }\n",
       "\n",
       "    .dataframe thead th {\n",
       "        text-align: right;\n",
       "    }\n",
       "</style>\n",
       "<table border=\"1\" class=\"dataframe\">\n",
       "  <thead>\n",
       "    <tr style=\"text-align: right;\">\n",
       "      <th></th>\n",
       "      <th>document</th>\n",
       "      <th>label</th>\n",
       "    </tr>\n",
       "  </thead>\n",
       "  <tbody>\n",
       "    <tr>\n",
       "      <th>0</th>\n",
       "      <td>아 더빙.. 진짜 짜증나네요 목소리</td>\n",
       "      <td>부정</td>\n",
       "    </tr>\n",
       "    <tr>\n",
       "      <th>1</th>\n",
       "      <td>흠...포스터보고 초딩영화줄....오버연기조차 가볍지 않구나</td>\n",
       "      <td>긍정</td>\n",
       "    </tr>\n",
       "    <tr>\n",
       "      <th>2</th>\n",
       "      <td>너무재밓었다그래서보는것을추천한다</td>\n",
       "      <td>부정</td>\n",
       "    </tr>\n",
       "    <tr>\n",
       "      <th>3</th>\n",
       "      <td>교도소 이야기구먼 ..솔직히 재미는 없다..평점 조정</td>\n",
       "      <td>부정</td>\n",
       "    </tr>\n",
       "    <tr>\n",
       "      <th>4</th>\n",
       "      <td>사이몬페그의 익살스런 연기가 돋보였던 영화!스파이더맨에서 늙어보이기만 했던 커스틴 ...</td>\n",
       "      <td>긍정</td>\n",
       "    </tr>\n",
       "    <tr>\n",
       "      <th>...</th>\n",
       "      <td>...</td>\n",
       "      <td>...</td>\n",
       "    </tr>\n",
       "    <tr>\n",
       "      <th>199995</th>\n",
       "      <td>오랜만에 평점 로긴했네ㅋㅋ 킹왕짱 쌈뽕한 영화를 만났습니다 강렬하게 육쾌함</td>\n",
       "      <td>긍정</td>\n",
       "    </tr>\n",
       "    <tr>\n",
       "      <th>199996</th>\n",
       "      <td>의지 박약들이나 하는거다 탈영은 일단 주인공 김대희 닮았고 이등병 찐따 OOOO</td>\n",
       "      <td>부정</td>\n",
       "    </tr>\n",
       "    <tr>\n",
       "      <th>199997</th>\n",
       "      <td>그림도 좋고 완성도도 높았지만... 보는 내내 불안하게 만든다</td>\n",
       "      <td>부정</td>\n",
       "    </tr>\n",
       "    <tr>\n",
       "      <th>199998</th>\n",
       "      <td>절대 봐서는 안 될 영화.. 재미도 없고 기분만 잡치고.. 한 세트장에서 다 해먹네</td>\n",
       "      <td>부정</td>\n",
       "    </tr>\n",
       "    <tr>\n",
       "      <th>199999</th>\n",
       "      <td>마무리는 또 왜이래</td>\n",
       "      <td>부정</td>\n",
       "    </tr>\n",
       "  </tbody>\n",
       "</table>\n",
       "<p>200000 rows × 2 columns</p>\n",
       "</div>"
      ],
      "text/plain": [
       "                                                 document label\n",
       "0                                     아 더빙.. 진짜 짜증나네요 목소리    부정\n",
       "1                       흠...포스터보고 초딩영화줄....오버연기조차 가볍지 않구나    긍정\n",
       "2                                       너무재밓었다그래서보는것을추천한다    부정\n",
       "3                           교도소 이야기구먼 ..솔직히 재미는 없다..평점 조정    부정\n",
       "4       사이몬페그의 익살스런 연기가 돋보였던 영화!스파이더맨에서 늙어보이기만 했던 커스틴 ...    긍정\n",
       "...                                                   ...   ...\n",
       "199995          오랜만에 평점 로긴했네ㅋㅋ 킹왕짱 쌈뽕한 영화를 만났습니다 강렬하게 육쾌함    긍정\n",
       "199996       의지 박약들이나 하는거다 탈영은 일단 주인공 김대희 닮았고 이등병 찐따 OOOO    부정\n",
       "199997                 그림도 좋고 완성도도 높았지만... 보는 내내 불안하게 만든다    부정\n",
       "199998     절대 봐서는 안 될 영화.. 재미도 없고 기분만 잡치고.. 한 세트장에서 다 해먹네    부정\n",
       "199999                                         마무리는 또 왜이래    부정\n",
       "\n",
       "[200000 rows x 2 columns]"
      ]
     },
     "execution_count": 2,
     "metadata": {},
     "output_type": "execute_result"
    }
   ],
   "source": [
    "df = read_excel('http://itpaper.co.kr/data/movie_review.xlsx', engine='openpyxl')\n",
    "df"
   ]
  },
  {
   "cell_type": "markdown",
   "metadata": {
    "id": "DemfSX52fZf5"
   },
   "source": [
    "## 3) 데이터 전처리"
   ]
  },
  {
   "cell_type": "markdown",
   "metadata": {
    "id": "hQNbBXH-fZf6"
   },
   "source": [
    "### 결측치 확인"
   ]
  },
  {
   "cell_type": "code",
   "execution_count": 12,
   "metadata": {
    "colab": {
     "base_uri": "https://localhost:8080/"
    },
    "executionInfo": {
     "elapsed": 5,
     "status": "ok",
     "timestamp": 1626661037101,
     "user": {
      "displayName": "이광호",
      "photoUrl": "https://lh3.googleusercontent.com/a-/AOh14GgYmsbweeGHRMVq6GAJfsERaAq1xJmNnVrsjIaP8A=s64",
      "userId": "07837067054228516785"
     },
     "user_tz": -540
    },
    "id": "VAaBiBOAfZf6",
    "outputId": "8f4d27b7-861a-4642-a593-3dcea6418fd4"
   },
   "outputs": [
    {
     "data": {
      "text/plain": [
       "document    0\n",
       "label       0\n",
       "dtype: int64"
      ]
     },
     "execution_count": 12,
     "metadata": {},
     "output_type": "execute_result"
    }
   ],
   "source": [
    "df.isna().sum()"
   ]
  },
  {
   "cell_type": "markdown",
   "metadata": {
    "id": "LQu4HLrIfZf7"
   },
   "source": [
    "### 한글과 공백을 제외하고 제거"
   ]
  },
  {
   "cell_type": "code",
   "execution_count": 13,
   "metadata": {
    "colab": {
     "base_uri": "https://localhost:8080/"
    },
    "executionInfo": {
     "elapsed": 528,
     "status": "ok",
     "timestamp": 1626661037626,
     "user": {
      "displayName": "이광호",
      "photoUrl": "https://lh3.googleusercontent.com/a-/AOh14GgYmsbweeGHRMVq6GAJfsERaAq1xJmNnVrsjIaP8A=s64",
      "userId": "07837067054228516785"
     },
     "user_tz": -540
    },
    "id": "l7qSPC6CfZf7",
    "outputId": "7ea72115-6ea6-4463-e89d-333ef1b8b603"
   },
   "outputs": [
    {
     "data": {
      "text/plain": [
       "document    0\n",
       "label       0\n",
       "dtype: int64"
      ]
     },
     "execution_count": 13,
     "metadata": {},
     "output_type": "execute_result"
    }
   ],
   "source": [
    "# regex=True 파라미터를 지정하지 않을 경우 다음버전부터는 \"regex=True\" 가 필요하다는 경고 발생함\n",
    "df['document'] = df['document'].str.replace(\"[^ㄱ-ㅎㅏ-ㅣ가-힣 ]\", \"\", regex=True)\n",
    "df['document'].replace('', np.nan, inplace=True)\n",
    "df.isnull().sum()"
   ]
  },
  {
   "cell_type": "markdown",
   "metadata": {
    "id": "ql1XKByGfZf8"
   },
   "source": [
    "### 결측치 삭제"
   ]
  },
  {
   "cell_type": "code",
   "execution_count": 14,
   "metadata": {
    "colab": {
     "base_uri": "https://localhost:8080/"
    },
    "executionInfo": {
     "elapsed": 14,
     "status": "ok",
     "timestamp": 1626661037627,
     "user": {
      "displayName": "이광호",
      "photoUrl": "https://lh3.googleusercontent.com/a-/AOh14GgYmsbweeGHRMVq6GAJfsERaAq1xJmNnVrsjIaP8A=s64",
      "userId": "07837067054228516785"
     },
     "user_tz": -540
    },
    "id": "ELaWg6jzfZf8",
    "outputId": "5f462e95-5542-4ad8-ad27-ac4119ba3142"
   },
   "outputs": [
    {
     "data": {
      "text/plain": [
       "document    0\n",
       "label       0\n",
       "dtype: int64"
      ]
     },
     "execution_count": 14,
     "metadata": {},
     "output_type": "execute_result"
    }
   ],
   "source": [
    "df.dropna(inplace=True)\n",
    "df.isna().sum()"
   ]
  },
  {
   "cell_type": "markdown",
   "metadata": {
    "id": "UeAfLsrxfZf8"
   },
   "source": [
    "### 종속변수 레이블링"
   ]
  },
  {
   "cell_type": "code",
   "execution_count": 15,
   "metadata": {
    "colab": {
     "base_uri": "https://localhost:8080/"
    },
    "executionInfo": {
     "elapsed": 13,
     "status": "ok",
     "timestamp": 1626661037628,
     "user": {
      "displayName": "이광호",
      "photoUrl": "https://lh3.googleusercontent.com/a-/AOh14GgYmsbweeGHRMVq6GAJfsERaAq1xJmNnVrsjIaP8A=s64",
      "userId": "07837067054228516785"
     },
     "user_tz": -540
    },
    "id": "fBK7f6LGfZf9",
    "outputId": "cd717e8a-4449-4444-bc8a-7299a3a680da"
   },
   "outputs": [
    {
     "data": {
      "text/plain": [
       "array([0, 1], dtype=int64)"
      ]
     },
     "execution_count": 15,
     "metadata": {},
     "output_type": "execute_result"
    }
   ],
   "source": [
    "df['label'] = df['label'].replace({'긍정': 1, '부정': 0})\n",
    "df['label'].unique()"
   ]
  },
  {
   "cell_type": "markdown",
   "metadata": {
    "id": "Gk-aPKbrfZf9"
   },
   "source": [
    "## 4) 탐색적 데이터 분석\n",
    "\n",
    "### 긍정과 부정 비율 확인"
   ]
  },
  {
   "cell_type": "code",
   "execution_count": 16,
   "metadata": {
    "colab": {
     "base_uri": "https://localhost:8080/",
     "height": 142
    },
    "executionInfo": {
     "elapsed": 11,
     "status": "ok",
     "timestamp": 1626661037628,
     "user": {
      "displayName": "이광호",
      "photoUrl": "https://lh3.googleusercontent.com/a-/AOh14GgYmsbweeGHRMVq6GAJfsERaAq1xJmNnVrsjIaP8A=s64",
      "userId": "07837067054228516785"
     },
     "user_tz": -540
    },
    "id": "5f_crJ74fZf9",
    "outputId": "fb045de1-f5dd-4377-ffe2-fda950d17e7f"
   },
   "outputs": [
    {
     "data": {
      "text/html": [
       "<div>\n",
       "<style scoped>\n",
       "    .dataframe tbody tr th:only-of-type {\n",
       "        vertical-align: middle;\n",
       "    }\n",
       "\n",
       "    .dataframe tbody tr th {\n",
       "        vertical-align: top;\n",
       "    }\n",
       "\n",
       "    .dataframe thead th {\n",
       "        text-align: right;\n",
       "    }\n",
       "</style>\n",
       "<table border=\"1\" class=\"dataframe\">\n",
       "  <thead>\n",
       "    <tr style=\"text-align: right;\">\n",
       "      <th></th>\n",
       "      <th>document</th>\n",
       "    </tr>\n",
       "    <tr>\n",
       "      <th>label</th>\n",
       "      <th></th>\n",
       "    </tr>\n",
       "  </thead>\n",
       "  <tbody>\n",
       "    <tr>\n",
       "      <th>0</th>\n",
       "      <td>99398</td>\n",
       "    </tr>\n",
       "    <tr>\n",
       "      <th>1</th>\n",
       "      <td>99511</td>\n",
       "    </tr>\n",
       "  </tbody>\n",
       "</table>\n",
       "</div>"
      ],
      "text/plain": [
       "       document\n",
       "label          \n",
       "0         99398\n",
       "1         99511"
      ]
     },
     "execution_count": 16,
     "metadata": {},
     "output_type": "execute_result"
    }
   ],
   "source": [
    "df.groupby('label').count()"
   ]
  },
  {
   "cell_type": "markdown",
   "metadata": {
    "id": "iLg4aoTufZf-"
   },
   "source": [
    "### 형태소 분석 객체 생성"
   ]
  },
  {
   "cell_type": "code",
   "execution_count": 17,
   "metadata": {
    "colab": {
     "base_uri": "https://localhost:8080/"
    },
    "executionInfo": {
     "elapsed": 10,
     "status": "ok",
     "timestamp": 1626661037629,
     "user": {
      "displayName": "이광호",
      "photoUrl": "https://lh3.googleusercontent.com/a-/AOh14GgYmsbweeGHRMVq6GAJfsERaAq1xJmNnVrsjIaP8A=s64",
      "userId": "07837067054228516785"
     },
     "user_tz": -540
    },
    "id": "yv7ZP-61fZf-",
    "outputId": "300fc384-beec-476c-818f-a48e6e18a9bb"
   },
   "outputs": [
    {
     "name": "stdout",
     "output_type": "stream",
     "text": [
      "['아', '더', '빙', '진짜', '짜증', '나', '네요', '목소리']\n"
     ]
    }
   ],
   "source": [
    "mecab = Mecab()\n",
    "morphs = mecab.morphs(df['document'][0])\n",
    "\n",
    "#okt = Okt()\n",
    "#morphs = okt.morphs(df['document'][10])\n",
    "print(morphs)"
   ]
  },
  {
   "cell_type": "markdown",
   "metadata": {
    "id": "8OEcy6rJfZf-"
   },
   "source": [
    "### 불용어 리스트 정의\n",
    "\n",
    "분석에 포함시키지 않을 단어들 나열."
   ]
  },
  {
   "cell_type": "code",
   "execution_count": 18,
   "metadata": {
    "executionInfo": {
     "elapsed": 8,
     "status": "ok",
     "timestamp": 1626661037629,
     "user": {
      "displayName": "이광호",
      "photoUrl": "https://lh3.googleusercontent.com/a-/AOh14GgYmsbweeGHRMVq6GAJfsERaAq1xJmNnVrsjIaP8A=s64",
      "userId": "07837067054228516785"
     },
     "user_tz": -540
    },
    "id": "m8HoAxGwfZf-"
   },
   "outputs": [],
   "source": [
    "stopwords = ['의','가','이','은','들','는','좀','잘','걍','과','도','를','으로','자','에','와','한','하다', '걍']"
   ]
  },
  {
   "cell_type": "markdown",
   "metadata": {
    "id": "iBxG8hIjfZf-"
   },
   "source": [
    "### 모든 데이터에 대해서 형태소 분석을 수행하고 불용어는 제거한 결과를 생성"
   ]
  },
  {
   "cell_type": "code",
   "execution_count": 11,
   "metadata": {
    "colab": {
     "base_uri": "https://localhost:8080/"
    },
    "executionInfo": {
     "elapsed": 21730,
     "status": "ok",
     "timestamp": 1626661059352,
     "user": {
      "displayName": "이광호",
      "photoUrl": "https://lh3.googleusercontent.com/a-/AOh14GgYmsbweeGHRMVq6GAJfsERaAq1xJmNnVrsjIaP8A=s64",
      "userId": "07837067054228516785"
     },
     "user_tz": -540
    },
    "id": "TlOmFYiKfZf_",
    "outputId": "4e6f08c9-1693-4c78-deed-18383989a02c"
   },
   "outputs": [
    {
     "data": {
      "text/plain": [
       "[['아', '더', '빙', '진짜', '짜증', '나', '네요', '목소리'],\n",
       " ['흠', '포스터', '보고', '초딩', '영화', '줄', '오버', '연기', '조차', '가볍', '지', '않', '구나'],\n",
       " ['너무', '재', '밓었다그래서보는것을추천한다']]"
      ]
     },
     "execution_count": 11,
     "metadata": {},
     "output_type": "execute_result"
    }
   ],
   "source": [
    "word_set = []\n",
    "\n",
    "for i, v in enumerate(df['document']):\n",
    "    #morphs = okt.morphs(v)\n",
    "    morphs = mecab.morphs(v)\n",
    "    tmp_word = []\n",
    "    for j in morphs:\n",
    "        if j not in stopwords:\n",
    "            tmp_word.append(j)\n",
    "            \n",
    "    word_set.append(tmp_word)\n",
    "    \n",
    "# 상위 3건만 출력해서 확인\n",
    "word_set[:3]"
   ]
  },
  {
   "cell_type": "markdown",
   "metadata": {
    "id": "Rxe2FaCOfZf_"
   },
   "source": [
    "### 토큰화\n",
    "\n",
    "단어집합 생성 및 인덱스 번호 부여\n",
    "\n",
    "각 정수는 전체 훈련 데이터에서 등장 빈도수가 높은 순서대로 부여되었기 때문에, 높은 정수가 부여된 단어들은 등장 빈도수가 매우 낮다는 것을 의미"
   ]
  },
  {
   "cell_type": "code",
   "execution_count": 12,
   "metadata": {
    "colab": {
     "base_uri": "https://localhost:8080/",
     "height": 198
    },
    "executionInfo": {
     "elapsed": 2965,
     "status": "error",
     "timestamp": 1626661419785,
     "user": {
      "displayName": "이광호",
      "photoUrl": "https://lh3.googleusercontent.com/a-/AOh14GgYmsbweeGHRMVq6GAJfsERaAq1xJmNnVrsjIaP8A=s64",
      "userId": "07837067054228516785"
     },
     "user_tz": -540
    },
    "id": "1Wk07-bHfZf_",
    "outputId": "4ae721f0-03f4-4d01-bc60-379abde09d82"
   },
   "outputs": [
    {
     "data": {
      "text/plain": [
       "56651"
      ]
     },
     "execution_count": 12,
     "metadata": {},
     "output_type": "execute_result"
    }
   ],
   "source": [
    "tokenizer = Tokenizer()\n",
    "tokenizer.fit_on_texts(word_set)\n",
    "len(tokenizer.word_index)"
   ]
  },
  {
   "cell_type": "markdown",
   "metadata": {
    "id": "Wa9nx3K3fZf_"
   },
   "source": [
    "### 등장 빈도수가 3회 미만인 단어의 비중 확인"
   ]
  },
  {
   "cell_type": "markdown",
   "metadata": {
    "id": "BwsJEe0CfZf_"
   },
   "source": [
    "- 등장 빈도가 threshold 값인 3회 미만. 즉, 2회 이하인 단어들은 단어 집합에서 무려 절반 이상을 차지\n",
    "- 실제로 훈련 데이터에서 등장 빈도로 차지하는 비중은 상대적으로 매우 적은 수치인 4.3%\n",
    "- 등장 빈도가 2회 이하인 단어들은 자연어 처리에서 별로 중요하지 않은 듯 \n",
    "- 이 단어들은 정수 인코딩 과정에서 배제!!!"
   ]
  },
  {
   "cell_type": "code",
   "execution_count": 13,
   "metadata": {
    "colab": {
     "base_uri": "https://localhost:8080/"
    },
    "executionInfo": {
     "elapsed": 604,
     "status": "ok",
     "timestamp": 1626661063810,
     "user": {
      "displayName": "이광호",
      "photoUrl": "https://lh3.googleusercontent.com/a-/AOh14GgYmsbweeGHRMVq6GAJfsERaAq1xJmNnVrsjIaP8A=s64",
      "userId": "07837067054228516785"
     },
     "user_tz": -540
    },
    "id": "zIkVV27sfZf_",
    "outputId": "29d4c711-c5ed-4f53-e7d4-004d9ebfeb8d"
   },
   "outputs": [
    {
     "name": "stdout",
     "output_type": "stream",
     "text": [
      "단어 집합(vocabulary)의 크기 : 56651\n",
      "등장 빈도가 2번 이하인 희귀 단어의 수: 31517\n",
      "단어 집합에서 희귀 단어의 비율: 55.633616352756356\n",
      "전체 등장 빈도에서 희귀 단어 등장 빈도 비율: 1.4541638195565423\n"
     ]
    }
   ],
   "source": [
    "threshold = 3\n",
    "total_cnt = len(tokenizer.word_index) # 단어의 수\n",
    "rare_cnt = 0 # 등장 빈도수가 threshold보다 작은 단어의 개수를 카운트\n",
    "total_freq = 0 # 훈련 데이터의 전체 단어 빈도수 총 합\n",
    "rare_freq = 0 # 등장 빈도수가 threshold보다 작은 단어의 등장 빈도수의 총 합\n",
    "\n",
    "# 단어와 빈도수의 쌍(pair)을 key와 value로 받는다.\n",
    "for key, value in tokenizer.word_counts.items():\n",
    "    total_freq = total_freq + value\n",
    "\n",
    "    # 단어의 등장 빈도수가 threshold보다 작으면\n",
    "    if(value < threshold):\n",
    "        rare_cnt = rare_cnt + 1\n",
    "        rare_freq = rare_freq + value\n",
    "        \n",
    "print('단어 집합(vocabulary)의 크기 :',total_cnt)\n",
    "print('등장 빈도가 %s번 이하인 희귀 단어의 수: %s'%(threshold - 1, rare_cnt))\n",
    "print(\"단어 집합에서 희귀 단어의 비율:\", (rare_cnt / total_cnt)*100)\n",
    "print(\"전체 등장 빈도에서 희귀 단어 등장 빈도 비율:\", (rare_freq / total_freq)*100)"
   ]
  },
  {
   "cell_type": "markdown",
   "metadata": {
    "id": "qigFmCrvfZgA"
   },
   "source": [
    "### 단어 집합의 최대 크기 정의\n",
    "\n",
    "- 등장 빈도수가 2이하인 단어들의 수를 제외한 단어의 개수를 단어 집합의 최대 크기로 제한\n",
    "- 0번 패딩 토큰과 1번 OOV 토큰을 고려하여 +2"
   ]
  },
  {
   "cell_type": "code",
   "execution_count": 14,
   "metadata": {
    "colab": {
     "base_uri": "https://localhost:8080/"
    },
    "executionInfo": {
     "elapsed": 4,
     "status": "ok",
     "timestamp": 1626661063810,
     "user": {
      "displayName": "이광호",
      "photoUrl": "https://lh3.googleusercontent.com/a-/AOh14GgYmsbweeGHRMVq6GAJfsERaAq1xJmNnVrsjIaP8A=s64",
      "userId": "07837067054228516785"
     },
     "user_tz": -540
    },
    "id": "GBXtuHLpfZgA",
    "outputId": "a610cd91-af42-40d0-9332-7d82ffaecbee"
   },
   "outputs": [
    {
     "name": "stdout",
     "output_type": "stream",
     "text": [
      "단어 집합의 크기 : 25136\n"
     ]
    }
   ],
   "source": [
    "vocab_size = total_cnt - rare_cnt + 2\n",
    "print('단어 집합의 크기 :', vocab_size)"
   ]
  },
  {
   "cell_type": "markdown",
   "metadata": {
    "id": "PxiOb-oJfZgA"
   },
   "source": [
    "### 텍스트 시퀀스를 숫자 시퀀스로 변환\n",
    "\n",
    "산출된 단어 집합의 크기(vocab_size)를 케라스 토크나이저의 인자로 설정하여 텍스트 시퀀스를 숫자 시퀀스로 변환\n",
    "\n",
    "-> 이보다 큰 숫자가 부여된 단어들은 OOV로 변환"
   ]
  },
  {
   "cell_type": "code",
   "execution_count": 15,
   "metadata": {
    "colab": {
     "base_uri": "https://localhost:8080/"
    },
    "executionInfo": {
     "elapsed": 2596,
     "status": "ok",
     "timestamp": 1626661066403,
     "user": {
      "displayName": "이광호",
      "photoUrl": "https://lh3.googleusercontent.com/a-/AOh14GgYmsbweeGHRMVq6GAJfsERaAq1xJmNnVrsjIaP8A=s64",
      "userId": "07837067054228516785"
     },
     "user_tz": -540
    },
    "id": "BOeNwyU_fZgA",
    "outputId": "1aa29ee3-2325-4f98-ee73-6fed6d4f6068"
   },
   "outputs": [
    {
     "data": {
      "text/plain": [
       "198909"
      ]
     },
     "execution_count": 15,
     "metadata": {},
     "output_type": "execute_result"
    }
   ],
   "source": [
    "tokenizer = Tokenizer(vocab_size, oov_token = 'OOV') \n",
    "tokenizer.fit_on_texts(word_set)\n",
    "token_set = tokenizer.texts_to_sequences(word_set)\n",
    "len(token_set)"
   ]
  },
  {
   "cell_type": "markdown",
   "metadata": {},
   "source": [
    "### 토큰화 결과를 json 파일로 저장"
   ]
  },
  {
   "cell_type": "code",
   "execution_count": 33,
   "metadata": {},
   "outputs": [],
   "source": [
    "import json\n",
    "with open(\"word_index.json\", \"w\", encoding='utf-8') as f:\n",
    "    json = json.dumps(tokenizer.word_index)\n",
    "    f.write(json)"
   ]
  },
  {
   "cell_type": "markdown",
   "metadata": {
    "id": "Zt4f9iHufZgA"
   },
   "source": [
    "### 빈 샘플 찾기\n",
    "\n",
    "전체 데이터에서 빈도수가 낮은 단어가 삭제되었다는 것은 빈도수가 낮은 단어만으로 구성된 리뷰는 이제 빈 샘플이 되었다는 것을 의미함.\n",
    "\n",
    "빈 샘플은 의미가 없으므로 삭제하는 것이 성능 향상에 도움이 됨.\n",
    "\n",
    "각 샘플들의 길이를 확인해서 길이가 0인 샘플들의 인덱스를 받아온다."
   ]
  },
  {
   "cell_type": "code",
   "execution_count": 16,
   "metadata": {
    "colab": {
     "base_uri": "https://localhost:8080/"
    },
    "executionInfo": {
     "elapsed": 20,
     "status": "ok",
     "timestamp": 1626661066404,
     "user": {
      "displayName": "이광호",
      "photoUrl": "https://lh3.googleusercontent.com/a-/AOh14GgYmsbweeGHRMVq6GAJfsERaAq1xJmNnVrsjIaP8A=s64",
      "userId": "07837067054228516785"
     },
     "user_tz": -540
    },
    "id": "TzE4YY8yfZgA",
    "outputId": "a782dfa7-118a-4b48-bd1a-9a4073ef2ea9"
   },
   "outputs": [
    {
     "data": {
      "text/plain": [
       "617"
      ]
     },
     "execution_count": 16,
     "metadata": {},
     "output_type": "execute_result"
    }
   ],
   "source": [
    "drop_train = []\n",
    "\n",
    "for i, v in enumerate(token_set):\n",
    "    if len(v) < 1:\n",
    "        drop_train.append(i)\n",
    "        \n",
    "len(drop_train)"
   ]
  },
  {
   "cell_type": "markdown",
   "metadata": {
    "id": "sArIpxBtfZgB"
   },
   "source": [
    "### 빈 샘플 삭제"
   ]
  },
  {
   "cell_type": "code",
   "execution_count": 17,
   "metadata": {
    "colab": {
     "base_uri": "https://localhost:8080/"
    },
    "executionInfo": {
     "elapsed": 17,
     "status": "ok",
     "timestamp": 1626661066404,
     "user": {
      "displayName": "이광호",
      "photoUrl": "https://lh3.googleusercontent.com/a-/AOh14GgYmsbweeGHRMVq6GAJfsERaAq1xJmNnVrsjIaP8A=s64",
      "userId": "07837067054228516785"
     },
     "user_tz": -540
    },
    "id": "mDwFRHcOfZgB",
    "outputId": "38123ed4-3e1a-46ba-c8c2-c1c2e0cb11d0"
   },
   "outputs": [
    {
     "name": "stderr",
     "output_type": "stream",
     "text": [
      "/Library/Frameworks/Python.framework/Versions/3.8/lib/python3.8/site-packages/numpy/core/_asarray.py:83: VisibleDeprecationWarning: Creating an ndarray from ragged nested sequences (which is a list-or-tuple of lists-or-tuples-or ndarrays with different lengths or shapes) is deprecated. If you meant to do this, you must specify 'dtype=object' when creating the ndarray\n",
      "  return array(a, dtype, copy=False, order=order)\n"
     ]
    },
    {
     "data": {
      "text/plain": [
       "198292"
      ]
     },
     "execution_count": 17,
     "metadata": {},
     "output_type": "execute_result"
    }
   ],
   "source": [
    "fill_token_set = np.delete(token_set, drop_train, axis=0)\n",
    "len(fill_token_set)"
   ]
  },
  {
   "cell_type": "markdown",
   "metadata": {
    "id": "sOYI22yHfZgB"
   },
   "source": [
    "### 레이블에 대해서도 해당 위치의 항목들 삭제"
   ]
  },
  {
   "cell_type": "code",
   "execution_count": 18,
   "metadata": {
    "colab": {
     "base_uri": "https://localhost:8080/"
    },
    "executionInfo": {
     "elapsed": 15,
     "status": "ok",
     "timestamp": 1626661066404,
     "user": {
      "displayName": "이광호",
      "photoUrl": "https://lh3.googleusercontent.com/a-/AOh14GgYmsbweeGHRMVq6GAJfsERaAq1xJmNnVrsjIaP8A=s64",
      "userId": "07837067054228516785"
     },
     "user_tz": -540
    },
    "id": "fNvhZcc8fZgB",
    "outputId": "8a37a8c3-a6d5-40b8-a66d-81646c540afb"
   },
   "outputs": [
    {
     "data": {
      "text/plain": [
       "198292"
      ]
     },
     "execution_count": 18,
     "metadata": {},
     "output_type": "execute_result"
    }
   ],
   "source": [
    "lables = np.delete(np.array(df['label']), drop_train)\n",
    "len(lables)"
   ]
  },
  {
   "cell_type": "markdown",
   "metadata": {
    "id": "kTCG-j2mfZgB"
   },
   "source": [
    "### 패딩\n",
    "\n",
    "서로 다른 길이의 샘플들의 길이를 동일하게 맞춰주는 작업.\n",
    "\n",
    "여기서는 전체 데이터에서 가장 길이가 긴 리뷰와 전체 데이터의 길이 분포를 확인"
   ]
  },
  {
   "cell_type": "code",
   "execution_count": 19,
   "metadata": {
    "colab": {
     "base_uri": "https://localhost:8080/",
     "height": 313
    },
    "executionInfo": {
     "elapsed": 5,
     "status": "ok",
     "timestamp": 1626661067038,
     "user": {
      "displayName": "이광호",
      "photoUrl": "https://lh3.googleusercontent.com/a-/AOh14GgYmsbweeGHRMVq6GAJfsERaAq1xJmNnVrsjIaP8A=s64",
      "userId": "07837067054228516785"
     },
     "user_tz": -540
    },
    "id": "7GFF9H5CfZgB",
    "outputId": "167ad5b5-4523-4ca3-8cb3-42e79d827506"
   },
   "outputs": [
    {
     "name": "stdout",
     "output_type": "stream",
     "text": [
      "리뷰의 최대 길이 : 83\n",
      "리뷰의 평균 길이 : 13.565156435963125\n"
     ]
    },
    {
     "data": {
      "image/png": "[encoded data removed]",
      "text/plain": [
       "<Figure size 432x288 with 1 Axes>"
      ]
     },
     "metadata": {
      "needs_background": "light"
     },
     "output_type": "display_data"
    }
   ],
   "source": [
    "print('리뷰의 최대 길이 :',max(len(l) for l in fill_token_set))\n",
    "print('리뷰의 평균 길이 :',sum(map(len, fill_token_set))/len(fill_token_set))\n",
    "plt.hist([len(s) for s in fill_token_set], bins=50)\n",
    "plt.xlabel('length of samples')\n",
    "plt.ylabel('number of samples')\n",
    "plt.show()"
   ]
  },
  {
   "cell_type": "code",
   "execution_count": 20,
   "metadata": {
    "executionInfo": {
     "elapsed": 975,
     "status": "ok",
     "timestamp": 1626661068010,
     "user": {
      "displayName": "이광호",
      "photoUrl": "https://lh3.googleusercontent.com/a-/AOh14GgYmsbweeGHRMVq6GAJfsERaAq1xJmNnVrsjIaP8A=s64",
      "userId": "07837067054228516785"
     },
     "user_tz": -540
    },
    "id": "8piXAPz0fZgB"
   },
   "outputs": [],
   "source": [
    "pad_token_set = pad_sequences(fill_token_set, maxlen=30)"
   ]
  },
  {
   "cell_type": "markdown",
   "metadata": {
    "id": "xiVX_QzxfZgB"
   },
   "source": [
    "## 5) 데이터셋 분할하기\n",
    "\n",
    "### 랜덤시드 고정"
   ]
  },
  {
   "cell_type": "code",
   "execution_count": 21,
   "metadata": {
    "executionInfo": {
     "elapsed": 5,
     "status": "ok",
     "timestamp": 1626661068012,
     "user": {
      "displayName": "이광호",
      "photoUrl": "https://lh3.googleusercontent.com/a-/AOh14GgYmsbweeGHRMVq6GAJfsERaAq1xJmNnVrsjIaP8A=s64",
      "userId": "07837067054228516785"
     },
     "user_tz": -540
    },
    "id": "8c7Grdu4fZgC"
   },
   "outputs": [],
   "source": [
    "np.random.seed(777)"
   ]
  },
  {
   "cell_type": "markdown",
   "metadata": {
    "id": "MI9oo6IhfZgC"
   },
   "source": [
    "### 훈련 데이터와 검증 데이터로 분할"
   ]
  },
  {
   "cell_type": "code",
   "execution_count": 22,
   "metadata": {
    "colab": {
     "base_uri": "https://localhost:8080/"
    },
    "executionInfo": {
     "elapsed": 4,
     "status": "ok",
     "timestamp": 1626661068012,
     "user": {
      "displayName": "이광호",
      "photoUrl": "https://lh3.googleusercontent.com/a-/AOh14GgYmsbweeGHRMVq6GAJfsERaAq1xJmNnVrsjIaP8A=s64",
      "userId": "07837067054228516785"
     },
     "user_tz": -540
    },
    "id": "Hhcpe2PRfZgC",
    "outputId": "842dabae-63ae-4795-fe67-a33f9c8662e6"
   },
   "outputs": [
    {
     "name": "stdout",
     "output_type": "stream",
     "text": [
      "훈련용 데이터셋 크기: 138804, 검증용 데이터셋 크기: 59488\n"
     ]
    }
   ],
   "source": [
    "x_train, x_test, y_train, y_test = train_test_split(pad_token_set, lables, test_size = 0.3, random_state = 777)\n",
    "print(\"훈련용 데이터셋 크기: %d, 검증용 데이터셋 크기: %d\" % (len(x_train),  len(x_test)))"
   ]
  },
  {
   "cell_type": "markdown",
   "metadata": {
    "id": "AmDuRkbvfZgC"
   },
   "source": [
    "## 6) 모델 개발\n",
    "\n",
    "### 모델 정의"
   ]
  },
  {
   "cell_type": "code",
   "execution_count": 23,
   "metadata": {
    "colab": {
     "base_uri": "https://localhost:8080/"
    },
    "executionInfo": {
     "elapsed": 1013,
     "status": "ok",
     "timestamp": 1626661069022,
     "user": {
      "displayName": "이광호",
      "photoUrl": "https://lh3.googleusercontent.com/a-/AOh14GgYmsbweeGHRMVq6GAJfsERaAq1xJmNnVrsjIaP8A=s64",
      "userId": "07837067054228516785"
     },
     "user_tz": -540
    },
    "id": "0eDz77S1fZgC",
    "outputId": "045d2fde-68f5-42c2-8e15-2db12610bc07"
   },
   "outputs": [
    {
     "name": "stdout",
     "output_type": "stream",
     "text": [
      "Model: \"sequential\"\n",
      "_________________________________________________________________\n",
      "Layer (type)                 Output Shape              Param #   \n",
      "=================================================================\n",
      "embedding (Embedding)        (None, None, 32)          804352    \n",
      "_________________________________________________________________\n",
      "gru (GRU)                    (None, 128)               62208     \n",
      "_________________________________________________________________\n",
      "dense (Dense)                (None, 1)                 129       \n",
      "=================================================================\n",
      "Total params: 866,689\n",
      "Trainable params: 866,689\n",
      "Non-trainable params: 0\n",
      "_________________________________________________________________\n"
     ]
    }
   ],
   "source": [
    "model = Sequential()\n",
    "\n",
    "# input_dim의 크기는 토큰 생성시 지정한 최대 단어수(vocab_size)와 동일하게 설정\n",
    "# output_dim의 크기는 input_dim보다 작은 값 중에서 설정\n",
    "model.add(Embedding(input_dim = vocab_size, output_dim = 32))\n",
    "model.add(GRU(128))\n",
    "model.add(Dense(1, activation = 'sigmoid'))\n",
    "\n",
    "model.compile(optimizer='adam', loss = 'binary_crossentropy', metrics = ['acc'])\n",
    "model.summary()"
   ]
  },
  {
   "cell_type": "markdown",
   "metadata": {
    "id": "w5wbBh-nfZgC"
   },
   "source": [
    "### 학습하기"
   ]
  },
  {
   "cell_type": "code",
   "execution_count": 24,
   "metadata": {
    "colab": {
     "base_uri": "https://localhost:8080/",
     "height": 586
    },
    "executionInfo": {
     "elapsed": 322237,
     "status": "ok",
     "timestamp": 1626661391257,
     "user": {
      "displayName": "이광호",
      "photoUrl": "https://lh3.googleusercontent.com/a-/AOh14GgYmsbweeGHRMVq6GAJfsERaAq1xJmNnVrsjIaP8A=s64",
      "userId": "07837067054228516785"
     },
     "user_tz": -540
    },
    "id": "pD96lHnZfZgC",
    "outputId": "6e29bc4f-9d3c-42be-ad12-05889fc356c3"
   },
   "outputs": [
    {
     "name": "stdout",
     "output_type": "stream",
     "text": [
      "Epoch 1/30\n",
      "4338/4338 [==============================] - 56s 13ms/step - loss: 0.4285 - acc: 0.7938 - val_loss: 0.3342 - val_acc: 0.8542\n",
      "\n",
      "Epoch 00001: val_loss improved from inf to 0.33420, saving model to check_point.h5\n",
      "Epoch 2/30\n",
      "4338/4338 [==============================] - 61s 14ms/step - loss: 0.2873 - acc: 0.8806 - val_loss: 0.3272 - val_acc: 0.8578\n",
      "\n",
      "Epoch 00002: val_loss improved from 0.33420 to 0.32725, saving model to check_point.h5\n",
      "Epoch 3/30\n",
      "4338/4338 [==============================] - 60s 14ms/step - loss: 0.2390 - acc: 0.9024 - val_loss: 0.3388 - val_acc: 0.8554\n",
      "\n",
      "Epoch 00003: val_loss did not improve from 0.32725\n",
      "Epoch 4/30\n",
      "4338/4338 [==============================] - 57s 13ms/step - loss: 0.1979 - acc: 0.9225 - val_loss: 0.3549 - val_acc: 0.8538\n",
      "\n",
      "Epoch 00004: val_loss did not improve from 0.32725\n",
      "Epoch 5/30\n",
      "4338/4338 [==============================] - 57s 13ms/step - loss: 0.1625 - acc: 0.9371 - val_loss: 0.3978 - val_acc: 0.8497\n",
      "\n",
      "Epoch 00005: val_loss did not improve from 0.32725\n",
      "\n",
      "Epoch 00005: ReduceLROnPlateau reducing learning rate to 0.0005000000237487257.\n",
      "Epoch 6/30\n",
      "4338/4338 [==============================] - 58s 13ms/step - loss: 0.1212 - acc: 0.9550 - val_loss: 0.4819 - val_acc: 0.8451\n",
      "\n",
      "Epoch 00006: val_loss did not improve from 0.32725\n",
      "Epoch 7/30\n",
      "4338/4338 [==============================] - 60s 14ms/step - loss: 0.0997 - acc: 0.9639 - val_loss: 0.5412 - val_acc: 0.8430\n",
      "\n",
      "Epoch 00007: val_loss did not improve from 0.32725\n",
      "Epoch 00007: early stopping\n"
     ]
    },
    {
     "data": {
      "text/html": [
       "<div>\n",
       "<style scoped>\n",
       "    .dataframe tbody tr th:only-of-type {\n",
       "        vertical-align: middle;\n",
       "    }\n",
       "\n",
       "    .dataframe tbody tr th {\n",
       "        vertical-align: top;\n",
       "    }\n",
       "\n",
       "    .dataframe thead th {\n",
       "        text-align: right;\n",
       "    }\n",
       "</style>\n",
       "<table border=\"1\" class=\"dataframe\">\n",
       "  <thead>\n",
       "    <tr style=\"text-align: right;\">\n",
       "      <th></th>\n",
       "      <th>loss</th>\n",
       "      <th>acc</th>\n",
       "      <th>val_loss</th>\n",
       "      <th>val_acc</th>\n",
       "      <th>lr</th>\n",
       "    </tr>\n",
       "    <tr>\n",
       "      <th>epochs</th>\n",
       "      <th></th>\n",
       "      <th></th>\n",
       "      <th></th>\n",
       "      <th></th>\n",
       "      <th></th>\n",
       "    </tr>\n",
       "  </thead>\n",
       "  <tbody>\n",
       "    <tr>\n",
       "      <th>1</th>\n",
       "      <td>0.377209</td>\n",
       "      <td>0.829429</td>\n",
       "      <td>0.334204</td>\n",
       "      <td>0.854206</td>\n",
       "      <td>0.0010</td>\n",
       "    </tr>\n",
       "    <tr>\n",
       "      <th>2</th>\n",
       "      <td>0.292028</td>\n",
       "      <td>0.877554</td>\n",
       "      <td>0.327247</td>\n",
       "      <td>0.857786</td>\n",
       "      <td>0.0010</td>\n",
       "    </tr>\n",
       "    <tr>\n",
       "      <th>3</th>\n",
       "      <td>0.246667</td>\n",
       "      <td>0.899196</td>\n",
       "      <td>0.338829</td>\n",
       "      <td>0.855383</td>\n",
       "      <td>0.0010</td>\n",
       "    </tr>\n",
       "    <tr>\n",
       "      <th>4</th>\n",
       "      <td>0.208110</td>\n",
       "      <td>0.917164</td>\n",
       "      <td>0.354865</td>\n",
       "      <td>0.853819</td>\n",
       "      <td>0.0010</td>\n",
       "    </tr>\n",
       "    <tr>\n",
       "      <th>5</th>\n",
       "      <td>0.172828</td>\n",
       "      <td>0.932459</td>\n",
       "      <td>0.397753</td>\n",
       "      <td>0.849667</td>\n",
       "      <td>0.0010</td>\n",
       "    </tr>\n",
       "    <tr>\n",
       "      <th>6</th>\n",
       "      <td>0.124630</td>\n",
       "      <td>0.952862</td>\n",
       "      <td>0.481908</td>\n",
       "      <td>0.845061</td>\n",
       "      <td>0.0005</td>\n",
       "    </tr>\n",
       "    <tr>\n",
       "      <th>7</th>\n",
       "      <td>0.104063</td>\n",
       "      <td>0.961500</td>\n",
       "      <td>0.541249</td>\n",
       "      <td>0.843027</td>\n",
       "      <td>0.0005</td>\n",
       "    </tr>\n",
       "  </tbody>\n",
       "</table>\n",
       "</div>"
      ],
      "text/plain": [
       "            loss       acc  val_loss   val_acc      lr\n",
       "epochs                                                \n",
       "1       0.377209  0.829429  0.334204  0.854206  0.0010\n",
       "2       0.292028  0.877554  0.327247  0.857786  0.0010\n",
       "3       0.246667  0.899196  0.338829  0.855383  0.0010\n",
       "4       0.208110  0.917164  0.354865  0.853819  0.0010\n",
       "5       0.172828  0.932459  0.397753  0.849667  0.0010\n",
       "6       0.124630  0.952862  0.481908  0.845061  0.0005\n",
       "7       0.104063  0.961500  0.541249  0.843027  0.0005"
      ]
     },
     "execution_count": 24,
     "metadata": {},
     "output_type": "execute_result"
    }
   ],
   "source": [
    "result = model.fit(x_train, y_train, batch_size = 32, epochs = 30, validation_data=(x_test, y_test), callbacks = [\n",
    "    ModelCheckpoint(filepath = 'check_point.h5', monitor = 'val_loss', verbose=1, save_best_only = True),\n",
    "    EarlyStopping(monitor = 'val_loss', patience=5, verbose = 1),\n",
    "    ReduceLROnPlateau(monitor= \"val_loss\", patience=3, factor = 0.5, min_lr=0.0001, verbose=1)\n",
    "])\n",
    "\n",
    "result_df = DataFrame(result.history)\n",
    "result_df['epochs'] = result_df.index+1\n",
    "result_df.set_index('epochs', inplace=True)\n",
    "result_df"
   ]
  },
  {
   "cell_type": "markdown",
   "metadata": {
    "id": "ApQHeqirfZgD"
   },
   "source": [
    "## 7) 학습 결과 평가"
   ]
  },
  {
   "cell_type": "markdown",
   "metadata": {
    "id": "zAcYFmaIfZgD"
   },
   "source": [
    "### 학습 결과 시각화"
   ]
  },
  {
   "cell_type": "code",
   "execution_count": 25,
   "metadata": {
    "colab": {
     "base_uri": "https://localhost:8080/",
     "height": 1000
    },
    "executionInfo": {
     "elapsed": 1687,
     "status": "ok",
     "timestamp": 1626661478751,
     "user": {
      "displayName": "이광호",
      "photoUrl": "https://lh3.googleusercontent.com/a-/AOh14GgYmsbweeGHRMVq6GAJfsERaAq1xJmNnVrsjIaP8A=s64",
      "userId": "07837067054228516785"
     },
     "user_tz": -540
    },
    "id": "vNrEetLvfZgD",
    "outputId": "23693a57-4512-4a64-a22d-3801932085e8"
   },
   "outputs": [
    {
     "data": {
      "image/png": "[encoded data removed]",
      "text/plain": [
       "<Figure size 3000x750 with 2 Axes>"
      ]
     },
     "metadata": {
      "needs_background": "light"
     },
     "output_type": "display_data"
    }
   ],
   "source": [
    "# 그래프 기본 설정\n",
    "# ----------------------------------------\n",
    "plt.rcParams[\"font.family\"] = 'NanumGothic'\n",
    "plt.rcParams[\"font.size\"] = 16\n",
    "plt.rcParams['axes.unicode_minus'] = False\n",
    "\n",
    "# 그래프를 그리기 위한 객체 생성\n",
    "# ----------------------------------------\n",
    "fig, (ax1, ax2) = plt.subplots(1, 2, figsize=(20, 5), dpi=150)\n",
    "\n",
    "# 1) 훈련 및 검증 손실 그리기\n",
    "# ----------------------------------------\n",
    "sns.lineplot(x=result_df.index, y='loss', data=result_df, color='blue', label='훈련 손실률', ax=ax1)\n",
    "sns.lineplot(x=result_df.index, y='val_loss', data=result_df, color='orange', label='검증 손실률', ax=ax1)\n",
    "ax1.set_title('훈련 및 검증 손실률')\n",
    "ax1.set_xlabel('반복회차')\n",
    "ax1.set_ylabel('손실률')\n",
    "ax1.grid()\n",
    "ax1.legend()\n",
    "\n",
    "# 2) 훈련 및 검증 절대오차 그리기\n",
    "# ----------------------------------------\n",
    "sns.lineplot(x=result_df.index, y='acc', data=result_df, color = 'blue', label = '훈련 정확도', ax=ax2)\n",
    "sns.lineplot(x=result_df.index, y='val_acc', data=result_df, color = 'orange', label = '검증 정확도', ax=ax2)\n",
    "ax2.set_title('훈련 및 검증 정확도')\n",
    "ax2.set_xlabel('반복회차')\n",
    "ax2.set_ylabel('정확도')\n",
    "ax2.grid()\n",
    "ax2.legend()\n",
    "\n",
    "#plt.savefig('result.png', dpi=200, bbox_inches='tight')\n",
    "plt.show()\n",
    "plt.close()"
   ]
  },
  {
   "cell_type": "markdown",
   "metadata": {
    "id": "dHeehEFbfZgD"
   },
   "source": [
    "### 모델 성능 평가"
   ]
  },
  {
   "cell_type": "code",
   "execution_count": 26,
   "metadata": {
    "colab": {
     "base_uri": "https://localhost:8080/"
    },
    "executionInfo": {
     "elapsed": 5092,
     "status": "ok",
     "timestamp": 1626661505897,
     "user": {
      "displayName": "이광호",
      "photoUrl": "https://lh3.googleusercontent.com/a-/AOh14GgYmsbweeGHRMVq6GAJfsERaAq1xJmNnVrsjIaP8A=s64",
      "userId": "07837067054228516785"
     },
     "user_tz": -540
    },
    "id": "OizxZfVUfZgD",
    "outputId": "5b15a50e-c610-4807-acf2-83642b99f008"
   },
   "outputs": [
    {
     "name": "stdout",
     "output_type": "stream",
     "text": [
      "1859/1859 [==============================] - 5s 3ms/step - loss: 0.5412 - acc: 0.8430\n",
      "최종 손실률: 0.541249, 최종 정확도: 0.843027\n"
     ]
    }
   ],
   "source": [
    "evaluate = model.evaluate(x_test, y_test)\n",
    "print(\"최종 손실률: %f, 최종 정확도: %f\" % (evaluate[0], evaluate[1]))"
   ]
  },
  {
   "cell_type": "markdown",
   "metadata": {
    "id": "eEOG71PzfZgD"
   },
   "source": [
    "## 8) 학습 결과 적용\n",
    "---"
   ]
  },
  {
   "cell_type": "markdown",
   "metadata": {
    "id": "frYiiHMPfZgD"
   },
   "source": [
    "### 테스트 데이터에 대한 예측 결과 산정"
   ]
  },
  {
   "cell_type": "code",
   "execution_count": 27,
   "metadata": {
    "colab": {
     "base_uri": "https://localhost:8080/"
    },
    "executionInfo": {
     "elapsed": 3839,
     "status": "ok",
     "timestamp": 1626661514988,
     "user": {
      "displayName": "이광호",
      "photoUrl": "https://lh3.googleusercontent.com/a-/AOh14GgYmsbweeGHRMVq6GAJfsERaAq1xJmNnVrsjIaP8A=s64",
      "userId": "07837067054228516785"
     },
     "user_tz": -540
    },
    "id": "n-yTYTNMfZgD",
    "outputId": "cbe0e4a8-6d00-4b85-c051-cd16b7d83b2a"
   },
   "outputs": [
    {
     "name": "stdout",
     "output_type": "stream",
     "text": [
      "59488개의 검증 데이터가 1개의 경우의 수를 갖는다.\n"
     ]
    },
    {
     "data": {
      "text/plain": [
       "array([0.00041834], dtype=float32)"
      ]
     },
     "execution_count": 27,
     "metadata": {},
     "output_type": "execute_result"
    }
   ],
   "source": [
    "result = model.predict(x_test)\n",
    "data_count, case_count = result.shape\n",
    "print(\"%d개의 검증 데이터가 %d개의 경우의 수를 갖는다.\" % (data_count, case_count))\n",
    "result[0]"
   ]
  },
  {
   "cell_type": "markdown",
   "metadata": {
    "id": "Tlaj6P2hfZgD"
   },
   "source": [
    "### 결과 데이터 셋 구성"
   ]
  },
  {
   "cell_type": "code",
   "execution_count": 28,
   "metadata": {
    "colab": {
     "base_uri": "https://localhost:8080/",
     "height": 419
    },
    "executionInfo": {
     "elapsed": 412,
     "status": "ok",
     "timestamp": 1626661520639,
     "user": {
      "displayName": "이광호",
      "photoUrl": "https://lh3.googleusercontent.com/a-/AOh14GgYmsbweeGHRMVq6GAJfsERaAq1xJmNnVrsjIaP8A=s64",
      "userId": "07837067054228516785"
     },
     "user_tz": -540
    },
    "id": "3HvWZnShfZgD",
    "outputId": "bcdb4fbe-d275-437f-f1f0-b6f1426069c3"
   },
   "outputs": [
    {
     "data": {
      "text/html": [
       "<div>\n",
       "<style scoped>\n",
       "    .dataframe tbody tr th:only-of-type {\n",
       "        vertical-align: middle;\n",
       "    }\n",
       "\n",
       "    .dataframe tbody tr th {\n",
       "        vertical-align: top;\n",
       "    }\n",
       "\n",
       "    .dataframe thead th {\n",
       "        text-align: right;\n",
       "    }\n",
       "</style>\n",
       "<table border=\"1\" class=\"dataframe\">\n",
       "  <thead>\n",
       "    <tr style=\"text-align: right;\">\n",
       "      <th></th>\n",
       "      <th>결과값</th>\n",
       "      <th>예측치</th>\n",
       "    </tr>\n",
       "  </thead>\n",
       "  <tbody>\n",
       "    <tr>\n",
       "      <th>0</th>\n",
       "      <td>1</td>\n",
       "      <td>0</td>\n",
       "    </tr>\n",
       "    <tr>\n",
       "      <th>1</th>\n",
       "      <td>1</td>\n",
       "      <td>1</td>\n",
       "    </tr>\n",
       "    <tr>\n",
       "      <th>2</th>\n",
       "      <td>1</td>\n",
       "      <td>1</td>\n",
       "    </tr>\n",
       "    <tr>\n",
       "      <th>3</th>\n",
       "      <td>0</td>\n",
       "      <td>0</td>\n",
       "    </tr>\n",
       "    <tr>\n",
       "      <th>4</th>\n",
       "      <td>1</td>\n",
       "      <td>1</td>\n",
       "    </tr>\n",
       "    <tr>\n",
       "      <th>...</th>\n",
       "      <td>...</td>\n",
       "      <td>...</td>\n",
       "    </tr>\n",
       "    <tr>\n",
       "      <th>59483</th>\n",
       "      <td>1</td>\n",
       "      <td>1</td>\n",
       "    </tr>\n",
       "    <tr>\n",
       "      <th>59484</th>\n",
       "      <td>1</td>\n",
       "      <td>0</td>\n",
       "    </tr>\n",
       "    <tr>\n",
       "      <th>59485</th>\n",
       "      <td>0</td>\n",
       "      <td>0</td>\n",
       "    </tr>\n",
       "    <tr>\n",
       "      <th>59486</th>\n",
       "      <td>0</td>\n",
       "      <td>0</td>\n",
       "    </tr>\n",
       "    <tr>\n",
       "      <th>59487</th>\n",
       "      <td>0</td>\n",
       "      <td>0</td>\n",
       "    </tr>\n",
       "  </tbody>\n",
       "</table>\n",
       "<p>59488 rows × 2 columns</p>\n",
       "</div>"
      ],
      "text/plain": [
       "       결과값  예측치\n",
       "0        1    0\n",
       "1        1    1\n",
       "2        1    1\n",
       "3        0    0\n",
       "4        1    1\n",
       "...    ...  ...\n",
       "59483    1    1\n",
       "59484    1    0\n",
       "59485    0    0\n",
       "59486    0    0\n",
       "59487    0    0\n",
       "\n",
       "[59488 rows x 2 columns]"
      ]
     },
     "execution_count": 28,
     "metadata": {},
     "output_type": "execute_result"
    }
   ],
   "source": [
    "kdf = DataFrame({\n",
    "    '결과값': y_test,\n",
    "    '예측치' : np.round(result.flatten())\n",
    "})\n",
    "\n",
    "kdf['예측치'] = kdf['예측치'].astype('int')\n",
    "kdf"
   ]
  },
  {
   "cell_type": "markdown",
   "metadata": {
    "id": "OrnIPDJqfZgD"
   },
   "source": [
    "### 오차행렬\n",
    "\n",
    "실제 결과값과 머신러닝에 의한 예측값 비교"
   ]
  },
  {
   "cell_type": "code",
   "execution_count": 29,
   "metadata": {
    "colab": {
     "base_uri": "https://localhost:8080/",
     "height": 111
    },
    "executionInfo": {
     "elapsed": 302,
     "status": "ok",
     "timestamp": 1626661524005,
     "user": {
      "displayName": "이광호",
      "photoUrl": "https://lh3.googleusercontent.com/a-/AOh14GgYmsbweeGHRMVq6GAJfsERaAq1xJmNnVrsjIaP8A=s64",
      "userId": "07837067054228516785"
     },
     "user_tz": -540
    },
    "id": "ErjCyqsbfZgD",
    "outputId": "c8039de2-4d87-46f4-b548-de7424b00009"
   },
   "outputs": [
    {
     "data": {
      "text/html": [
       "<div>\n",
       "<style scoped>\n",
       "    .dataframe tbody tr th:only-of-type {\n",
       "        vertical-align: middle;\n",
       "    }\n",
       "\n",
       "    .dataframe tbody tr th {\n",
       "        vertical-align: top;\n",
       "    }\n",
       "\n",
       "    .dataframe thead th {\n",
       "        text-align: right;\n",
       "    }\n",
       "</style>\n",
       "<table border=\"1\" class=\"dataframe\">\n",
       "  <thead>\n",
       "    <tr style=\"text-align: right;\">\n",
       "      <th></th>\n",
       "      <th>예측값(P)</th>\n",
       "      <th>예측값(N)</th>\n",
       "    </tr>\n",
       "  </thead>\n",
       "  <tbody>\n",
       "    <tr>\n",
       "      <th>실제값(T)</th>\n",
       "      <td>25381</td>\n",
       "      <td>4272</td>\n",
       "    </tr>\n",
       "    <tr>\n",
       "      <th>실제값(F)</th>\n",
       "      <td>5066</td>\n",
       "      <td>24769</td>\n",
       "    </tr>\n",
       "  </tbody>\n",
       "</table>\n",
       "</div>"
      ],
      "text/plain": [
       "        예측값(P)  예측값(N)\n",
       "실제값(T)   25381    4272\n",
       "실제값(F)    5066   24769"
      ]
     },
     "execution_count": 29,
     "metadata": {},
     "output_type": "execute_result"
    }
   ],
   "source": [
    "cm = confusion_matrix(kdf['결과값'], kdf['예측치'])\n",
    "cmdf1 = DataFrame(cm, columns=['예측값(P)', '예측값(N)'], index=['실제값(T)', '실제값(F)'])\n",
    "cmdf1"
   ]
  },
  {
   "cell_type": "code",
   "execution_count": 30,
   "metadata": {
    "colab": {
     "base_uri": "https://localhost:8080/",
     "height": 809
    },
    "executionInfo": {
     "elapsed": 391,
     "status": "ok",
     "timestamp": 1626661590499,
     "user": {
      "displayName": "이광호",
      "photoUrl": "https://lh3.googleusercontent.com/a-/AOh14GgYmsbweeGHRMVq6GAJfsERaAq1xJmNnVrsjIaP8A=s64",
      "userId": "07837067054228516785"
     },
     "user_tz": -540
    },
    "id": "KUzvJydckkLI",
    "outputId": "d9b03f7e-5ea9-48da-f566-de451b33d438"
   },
   "outputs": [
    {
     "data": {
      "image/png": "[encoded data removed]",
      "text/plain": [
       "<Figure size 500x500 with 2 Axes>"
      ]
     },
     "metadata": {
      "needs_background": "light"
     },
     "output_type": "display_data"
    }
   ],
   "source": [
    "# --> 5를 분류할 때 가장 많이 혼란스러워 한다.\n",
    "# --> 오차행렬은 모델의 강점과 약점을 파악하기에 유용하다.\n",
    "plt.rcParams[\"font.family\"] = 'NanumGothic'\n",
    "plt.rcParams[\"font.size\"] = 16\n",
    "\n",
    "fig, ax = plt.subplots(1, 1, figsize=(5, 5), dpi=100)\n",
    "# 오차 행렬을 히트맵 그래프로 표현\n",
    "# -> annot : 그래프의 각 칸에 수치값 출력\n",
    "# -> fmt : 수치값 출력 format (여기서는 10진수)\n",
    "# -> cmap : 색상맵 (https://matplotlib.org/3.2.1/tutorials/colors/colormaps.html)\n",
    "sns.heatmap(cm, annot = True, fmt = 'd',cmap = 'Blues', ax=ax)\n",
    "ax.set_xlabel('예측값')\n",
    "ax.set_ylabel('결과값')\n",
    "plt.show()\n",
    "plt.close()"
   ]
  }
 ],
 "metadata": {
  "accelerator": "GPU",
  "colab": {
   "collapsed_sections": [],
   "machine_shape": "hm",
   "name": "06-영화덧글분석.ipynb의 사본",
   "provenance": [
    {
     "file_id": "1gOfXulSalAxaa4IYIOUrN0AQCHvfkH96",
     "timestamp": 1626662139071
    }
   ]
  },
  "kernelspec": {
   "display_name": "Python 3",
   "language": "python",
   "name": "python3"
  },
  "language_info": {
   "codemirror_mode": {
    "name": "ipython",
    "version": 3
   },
   "file_extension": ".py",
   "mimetype": "text/x-python",
   "name": "python",
   "nbconvert_exporter": "python",
   "pygments_lexer": "ipython3",
   "version": "3.8.8"
  }
 },
 "nbformat": 4,
 "nbformat_minor": 4
}
