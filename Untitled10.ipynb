{
 "cells": [
  {
   "cell_type": "code",
   "execution_count": 1,
   "id": "3aa464f6",
   "metadata": {},
   "outputs": [],
   "source": [
    "from pandas import DataFrame\n",
    "from matplotlib import pyplot as plt\n",
    "import numpy as np\n",
    "import seaborn as sns\n",
    "from scipy import stats\n",
    "from statsmodels.formula.api import ols\n",
    "import scipy"
   ]
  },
  {
   "cell_type": "code",
   "execution_count": 2,
   "id": "e21dca1d",
   "metadata": {},
   "outputs": [
    {
     "data": {
      "text/html": [
       "<div>\n",
       "<style scoped>\n",
       "    .dataframe tbody tr th:only-of-type {\n",
       "        vertical-align: middle;\n",
       "    }\n",
       "\n",
       "    .dataframe tbody tr th {\n",
       "        vertical-align: top;\n",
       "    }\n",
       "\n",
       "    .dataframe thead th {\n",
       "        text-align: right;\n",
       "    }\n",
       "</style>\n",
       "<table border=\"1\" class=\"dataframe\">\n",
       "  <thead>\n",
       "    <tr style=\"text-align: right;\">\n",
       "      <th></th>\n",
       "      <th>광고비</th>\n",
       "      <th>매출액</th>\n",
       "    </tr>\n",
       "    <tr>\n",
       "      <th>월</th>\n",
       "      <th></th>\n",
       "      <th></th>\n",
       "    </tr>\n",
       "  </thead>\n",
       "  <tbody>\n",
       "    <tr>\n",
       "      <th>1월</th>\n",
       "      <td>62</td>\n",
       "      <td>100</td>\n",
       "    </tr>\n",
       "    <tr>\n",
       "      <th>2월</th>\n",
       "      <td>142</td>\n",
       "      <td>299</td>\n",
       "    </tr>\n",
       "    <tr>\n",
       "      <th>3월</th>\n",
       "      <td>122</td>\n",
       "      <td>298</td>\n",
       "    </tr>\n",
       "    <tr>\n",
       "      <th>4월</th>\n",
       "      <td>130</td>\n",
       "      <td>390</td>\n",
       "    </tr>\n",
       "    <tr>\n",
       "      <th>5월</th>\n",
       "      <td>185</td>\n",
       "      <td>590</td>\n",
       "    </tr>\n",
       "    <tr>\n",
       "      <th>6월</th>\n",
       "      <td>121</td>\n",
       "      <td>200</td>\n",
       "    </tr>\n",
       "    <tr>\n",
       "      <th>7월</th>\n",
       "      <td>101</td>\n",
       "      <td>190</td>\n",
       "    </tr>\n",
       "    <tr>\n",
       "      <th>8월</th>\n",
       "      <td>199</td>\n",
       "      <td>460</td>\n",
       "    </tr>\n",
       "    <tr>\n",
       "      <th>9월</th>\n",
       "      <td>221</td>\n",
       "      <td>660</td>\n",
       "    </tr>\n",
       "    <tr>\n",
       "      <th>10월</th>\n",
       "      <td>139</td>\n",
       "      <td>350</td>\n",
       "    </tr>\n",
       "    <tr>\n",
       "      <th>11월</th>\n",
       "      <td>169</td>\n",
       "      <td>650</td>\n",
       "    </tr>\n",
       "    <tr>\n",
       "      <th>12월</th>\n",
       "      <td>237</td>\n",
       "      <td>880</td>\n",
       "    </tr>\n",
       "  </tbody>\n",
       "</table>\n",
       "</div>"
      ],
      "text/plain": [
       "     광고비  매출액\n",
       "월            \n",
       "1월    62  100\n",
       "2월   142  299\n",
       "3월   122  298\n",
       "4월   130  390\n",
       "5월   185  590\n",
       "6월   121  200\n",
       "7월   101  190\n",
       "8월   199  460\n",
       "9월   221  660\n",
       "10월  139  350\n",
       "11월  169  650\n",
       "12월  237  880"
      ]
     },
     "execution_count": 2,
     "metadata": {},
     "output_type": "execute_result"
    }
   ],
   "source": [
    "df = DataFrame({'월' : ['1월', '2월', '3월', '4월', '5월', '6월' ,'7월', '8월', '9월' ,'10월', '11월', '12월'],\n",
    "               '광고비' : [62, 142, 122, 130, 185, 121, 101, 199, 221, 139, 169, 237],\n",
    "               '매출액' : [100, 299, 298, 390, 590, 200, 190, 460, 660, 350, 650, 880]}).set_index('월')\n",
    "\n",
    "df"
   ]
  },
  {
   "cell_type": "code",
   "execution_count": 3,
   "id": "d3708c84",
   "metadata": {},
   "outputs": [],
   "source": [
    "plt.rcParams[\"font.family\"] = 'Malgun Gothic'\n",
    "plt.rcParams[\"font.size\"] = 16\n",
    "plt.rcParams[\"figure.figsize\"] = (12, 6)\n",
    "plt.rcParams[\"axes.unicode_minus\"] = False"
   ]
  },
  {
   "cell_type": "markdown",
   "id": "193dffee",
   "metadata": {},
   "source": [
    "## 1)"
   ]
  },
  {
   "cell_type": "code",
   "execution_count": 4,
   "id": "ce49ff37",
   "metadata": {},
   "outputs": [
    {
     "data": {
      "image/png": "[encoded data removed]",
      "text/plain": [
       "<Figure size 864x432 with 4 Axes>"
      ]
     },
     "metadata": {
      "needs_background": "light"
     },
     "output_type": "display_data"
    }
   ],
   "source": [
    "fig, ax = plt.subplots(2,2)\n",
    "\n",
    "ax_ind = 0\n",
    "for i in df:\n",
    "    n, bins = np.histogram(df[i], bins = 5, range = (0, 250))\n",
    "    df[i].hist(ax = ax[0][ax_ind], bins = 5, range = (df[i].min(), df[i].max()))\n",
    "    ax_ind += 1\n",
    "ax_ind = 0\n",
    "\n",
    "for i in df:\n",
    "    df.boxplot(i, ax = ax[1][ax_ind])\n",
    "    ax_ind += 1\n",
    "    \n"
   ]
  },
  {
   "cell_type": "markdown",
   "id": "4f6718b0",
   "metadata": {},
   "source": [
    "## 2)\n",
    "### 귀무가설\n",
    "- 광고비와 매출액간의 평균에는 차이가 없다.\n",
    "### 대립가설\n",
    "- 광고비와 매출액간의 평균에는 차이가 있다."
   ]
  },
  {
   "cell_type": "code",
   "execution_count": 5,
   "id": "6012a7c2",
   "metadata": {},
   "outputs": [
    {
     "name": "stdout",
     "output_type": "stream",
     "text": [
      "ShapiroResult(statistic=0.9736641645431519, pvalue=0.9451501369476318)\n",
      "ShapiroResult(statistic=0.9542535543441772, pvalue=0.6997367143630981)\n"
     ]
    }
   ],
   "source": [
    "normal1 = stats.shapiro(df['광고비'])\n",
    "normal2 = stats.shapiro(df['매출액'])\n",
    "\n",
    "print(normal1)\n",
    "print(normal2)"
   ]
  },
  {
   "cell_type": "markdown",
   "id": "9699f66d",
   "metadata": {},
   "source": [
    "- pvalue > 0.05 이므로 정규성을 만족한다."
   ]
  },
  {
   "cell_type": "code",
   "execution_count": 6,
   "id": "3077ee9a",
   "metadata": {},
   "outputs": [
    {
     "name": "stdout",
     "output_type": "stream",
     "text": [
      "LeveneResult(statistic=11.468914426982767, pvalue=0.0026549729691913017)\n"
     ]
    }
   ],
   "source": [
    "levene = stats.levene(df['광고비'],df['매출액'])\n",
    "\n",
    "print(levene)"
   ]
  },
  {
   "cell_type": "markdown",
   "id": "86294d26",
   "metadata": {},
   "source": [
    "- pvalue < 0.05 이므로 등분산성을 만족하지 못한다. 따라서 두 표본은 가설을 입증하기에 다소 부적합하다."
   ]
  },
  {
   "cell_type": "code",
   "execution_count": 7,
   "id": "c40bc5f7",
   "metadata": {},
   "outputs": [
    {
     "data": {
      "text/plain": [
       "Ttest_indResult(statistic=-3.9369776768911073, pvalue=0.0007032302839313774)"
      ]
     },
     "execution_count": 7,
     "metadata": {},
     "output_type": "execute_result"
    }
   ],
   "source": [
    "tTestResult = stats.ttest_ind(df['광고비'], df['매출액'])\n",
    "tTestResult"
   ]
  },
  {
   "cell_type": "markdown",
   "id": "cadf6ea3",
   "metadata": {},
   "source": [
    "- t-test의 결과로 pvalue < 0.05 이기떄문에 5프로 유의수준에서 귀무가설을 기각할 수 있다.\n",
    "- 하지만 두 표본이 등분산성을 가지지 않기 때문에 신뢰도가 떨어질 수 있다."
   ]
  },
  {
   "cell_type": "markdown",
   "id": "1050a913",
   "metadata": {},
   "source": [
    "## 3)"
   ]
  },
  {
   "cell_type": "code",
   "execution_count": 8,
   "id": "2092d183",
   "metadata": {},
   "outputs": [
    {
     "data": {
      "text/plain": [
       "array([[ 2626.06060606, 10985.54545455],\n",
       "       [10985.54545455, 53778.56818182]])"
      ]
     },
     "execution_count": 8,
     "metadata": {},
     "output_type": "execute_result"
    }
   ],
   "source": [
    "np.cov(df['광고비'], df['매출액'])"
   ]
  },
  {
   "cell_type": "markdown",
   "id": "021e5e86",
   "metadata": {},
   "source": [
    "- 결과가 양수값 이므로 비례관계"
   ]
  },
  {
   "cell_type": "code",
   "execution_count": 9,
   "id": "d30ef61e",
   "metadata": {},
   "outputs": [
    {
     "name": "stdout",
     "output_type": "stream",
     "text": [
      "상관계수 : 0.924410, pvalue: 0.000017\n"
     ]
    }
   ],
   "source": [
    "상관계수, pvalue = stats.pearsonr(df['광고비'] , df['매출액'])\n",
    "print('상관계수 : %f, pvalue: %f' %(상관계수, pvalue))"
   ]
  },
  {
   "cell_type": "markdown",
   "id": "4137c07c",
   "metadata": {},
   "source": [
    "- 상관계수가 1에 가까워 양의 상관관계를 가지고있다.\n",
    "- pvalue < 0.05 이기때문에 대립가설을 채택하여 상관분석이 가능하다.\n"
   ]
  },
  {
   "cell_type": "code",
   "execution_count": 10,
   "id": "14a2fad1",
   "metadata": {},
   "outputs": [
    {
     "data": {
      "text/html": [
       "<div>\n",
       "<style scoped>\n",
       "    .dataframe tbody tr th:only-of-type {\n",
       "        vertical-align: middle;\n",
       "    }\n",
       "\n",
       "    .dataframe tbody tr th {\n",
       "        vertical-align: top;\n",
       "    }\n",
       "\n",
       "    .dataframe thead th {\n",
       "        text-align: right;\n",
       "    }\n",
       "</style>\n",
       "<table border=\"1\" class=\"dataframe\">\n",
       "  <thead>\n",
       "    <tr style=\"text-align: right;\">\n",
       "      <th></th>\n",
       "      <th>광고비</th>\n",
       "      <th>매출액</th>\n",
       "    </tr>\n",
       "  </thead>\n",
       "  <tbody>\n",
       "    <tr>\n",
       "      <th>광고비</th>\n",
       "      <td>1.00000</td>\n",
       "      <td>0.92441</td>\n",
       "    </tr>\n",
       "    <tr>\n",
       "      <th>매출액</th>\n",
       "      <td>0.92441</td>\n",
       "      <td>1.00000</td>\n",
       "    </tr>\n",
       "  </tbody>\n",
       "</table>\n",
       "</div>"
      ],
      "text/plain": [
       "         광고비      매출액\n",
       "광고비  1.00000  0.92441\n",
       "매출액  0.92441  1.00000"
      ]
     },
     "execution_count": 10,
     "metadata": {},
     "output_type": "execute_result"
    }
   ],
   "source": [
    "df.corr()"
   ]
  },
  {
   "cell_type": "code",
   "execution_count": 11,
   "id": "367bfe54",
   "metadata": {},
   "outputs": [
    {
     "data": {
      "text/plain": [
       "<AxesSubplot:>"
      ]
     },
     "execution_count": 11,
     "metadata": {},
     "output_type": "execute_result"
    },
    {
     "data": {
      "image/png": "[encoded data removed]",
      "text/plain": [
       "<Figure size 864x432 with 2 Axes>"
      ]
     },
     "metadata": {
      "needs_background": "light"
     },
     "output_type": "display_data"
    }
   ],
   "source": [
    "corr = df.corr()\n",
    "\n",
    "sns.heatmap(corr,\n",
    "            square = True,\n",
    "            cmap='Wistia',\n",
    "            linewidth = 0.1,\n",
    "            linecolor = 'white',\n",
    "            annot = True,\n",
    "            annot_kws={'size' : 14})"
   ]
  },
  {
   "cell_type": "markdown",
   "id": "1b167024",
   "metadata": {},
   "source": [
    "## 4)"
   ]
  },
  {
   "cell_type": "code",
   "execution_count": 12,
   "id": "15c1b5f2",
   "metadata": {},
   "outputs": [
    {
     "name": "stderr",
     "output_type": "stream",
     "text": [
      "c:\\users\\junhong\\appdata\\local\\programs\\python\\python38\\lib\\site-packages\\scipy\\stats\\stats.py:1603: UserWarning: kurtosistest only valid for n>=20 ... continuing anyway, n=12\n",
      "  warnings.warn(\"kurtosistest only valid for n>=20 ... continuing \"\n"
     ]
    },
    {
     "data": {
      "text/html": [
       "<table class=\"simpletable\">\n",
       "<caption>OLS Regression Results</caption>\n",
       "<tr>\n",
       "  <th>Dep. Variable:</th>           <td>매출액</td>       <th>  R-squared:         </th> <td>   0.855</td>\n",
       "</tr>\n",
       "<tr>\n",
       "  <th>Model:</th>                   <td>OLS</td>       <th>  Adj. R-squared:    </th> <td>   0.840</td>\n",
       "</tr>\n",
       "<tr>\n",
       "  <th>Method:</th>             <td>Least Squares</td>  <th>  F-statistic:       </th> <td>   58.74</td>\n",
       "</tr>\n",
       "<tr>\n",
       "  <th>Date:</th>             <td>Wed, 16 Jun 2021</td> <th>  Prob (F-statistic):</th> <td>1.71e-05</td>\n",
       "</tr>\n",
       "<tr>\n",
       "  <th>Time:</th>                 <td>17:35:41</td>     <th>  Log-Likelihood:    </th> <td> -70.294</td>\n",
       "</tr>\n",
       "<tr>\n",
       "  <th>No. Observations:</th>      <td>    12</td>      <th>  AIC:               </th> <td>   144.6</td>\n",
       "</tr>\n",
       "<tr>\n",
       "  <th>Df Residuals:</th>          <td>    10</td>      <th>  BIC:               </th> <td>   145.6</td>\n",
       "</tr>\n",
       "<tr>\n",
       "  <th>Df Model:</th>              <td>     1</td>      <th>                     </th>     <td> </td>   \n",
       "</tr>\n",
       "<tr>\n",
       "  <th>Covariance Type:</th>      <td>nonrobust</td>    <th>                     </th>     <td> </td>   \n",
       "</tr>\n",
       "</table>\n",
       "<table class=\"simpletable\">\n",
       "<tr>\n",
       "      <td></td>         <th>coef</th>     <th>std err</th>      <th>t</th>      <th>P>|t|</th>  <th>[0.025</th>    <th>0.975]</th>  \n",
       "</tr>\n",
       "<tr>\n",
       "  <th>Intercept</th> <td> -215.0029</td> <td>   87.350</td> <td>   -2.461</td> <td> 0.034</td> <td> -409.630</td> <td>  -20.376</td>\n",
       "</tr>\n",
       "<tr>\n",
       "  <th>광고비</th>       <td>    4.1833</td> <td>    0.546</td> <td>    7.664</td> <td> 0.000</td> <td>    2.967</td> <td>    5.399</td>\n",
       "</tr>\n",
       "</table>\n",
       "<table class=\"simpletable\">\n",
       "<tr>\n",
       "  <th>Omnibus:</th>       <td> 0.004</td> <th>  Durbin-Watson:     </th> <td>   1.345</td>\n",
       "</tr>\n",
       "<tr>\n",
       "  <th>Prob(Omnibus):</th> <td> 0.998</td> <th>  Jarque-Bera (JB):  </th> <td>   0.168</td>\n",
       "</tr>\n",
       "<tr>\n",
       "  <th>Skew:</th>          <td> 0.025</td> <th>  Prob(JB):          </th> <td>   0.919</td>\n",
       "</tr>\n",
       "<tr>\n",
       "  <th>Kurtosis:</th>      <td> 2.422</td> <th>  Cond. No.          </th> <td>    522.</td>\n",
       "</tr>\n",
       "</table><br/><br/>Notes:<br/>[1] Standard Errors assume that the covariance matrix of the errors is correctly specified."
      ],
      "text/plain": [
       "<class 'statsmodels.iolib.summary.Summary'>\n",
       "\"\"\"\n",
       "                            OLS Regression Results                            \n",
       "==============================================================================\n",
       "Dep. Variable:                    매출액   R-squared:                       0.855\n",
       "Model:                            OLS   Adj. R-squared:                  0.840\n",
       "Method:                 Least Squares   F-statistic:                     58.74\n",
       "Date:                Wed, 16 Jun 2021   Prob (F-statistic):           1.71e-05\n",
       "Time:                        17:35:41   Log-Likelihood:                -70.294\n",
       "No. Observations:                  12   AIC:                             144.6\n",
       "Df Residuals:                      10   BIC:                             145.6\n",
       "Df Model:                           1                                         \n",
       "Covariance Type:            nonrobust                                         \n",
       "==============================================================================\n",
       "                 coef    std err          t      P>|t|      [0.025      0.975]\n",
       "------------------------------------------------------------------------------\n",
       "Intercept   -215.0029     87.350     -2.461      0.034    -409.630     -20.376\n",
       "광고비            4.1833      0.546      7.664      0.000       2.967       5.399\n",
       "==============================================================================\n",
       "Omnibus:                        0.004   Durbin-Watson:                   1.345\n",
       "Prob(Omnibus):                  0.998   Jarque-Bera (JB):                0.168\n",
       "Skew:                           0.025   Prob(JB):                        0.919\n",
       "Kurtosis:                       2.422   Cond. No.                         522.\n",
       "==============================================================================\n",
       "\n",
       "Notes:\n",
       "[1] Standard Errors assume that the covariance matrix of the errors is correctly specified.\n",
       "\"\"\""
      ]
     },
     "execution_count": 12,
     "metadata": {},
     "output_type": "execute_result"
    }
   ],
   "source": [
    "res = ols('매출액 ~ 광고비', data = df).fit()\n",
    "res.summary()"
   ]
  },
  {
   "cell_type": "markdown",
   "id": "d8df1255",
   "metadata": {},
   "source": [
    "- R-squared(결정계수) 값이 0.855로 선형성을 가지고 있다고 볼 수 있다.\n",
    "- 판매액에 대하여 광고비로 예측하는 회귀분석을 실시한 결과, 이 회귀모형은 통계적으로 유의하다<br>\n",
    "`F(1,10) = 58.74, p < 0.05`\n",
    "- 광고비의 회귀계수는 4.1833으로, 매출액에 대하여 유의미한 예측변인인 것으로 타나남.<br>\n",
    "`t(10) = 7.664, p < 0.05`\n",
    "- y 절편값은 -215.0029 이고, 따라서 회귀식은 다음과 같음"
   ]
  },
  {
   "cell_type": "code",
   "execution_count": 13,
   "id": "86bc972c",
   "metadata": {},
   "outputs": [
    {
     "name": "stdout",
     "output_type": "stream",
     "text": [
      "y = 4.183279x + (-215.002908)\n"
     ]
    }
   ],
   "source": [
    "a = res.params.광고비\n",
    "b = res.params.Intercept\n",
    "print('y = %fx + (%f)' % (a,b))"
   ]
  },
  {
   "cell_type": "markdown",
   "id": "ab38d62b",
   "metadata": {},
   "source": [
    "## 5)"
   ]
  },
  {
   "cell_type": "code",
   "execution_count": 14,
   "id": "97d3ba90",
   "metadata": {},
   "outputs": [
    {
     "data": {
      "image/png": "[encoded data removed]",
      "text/plain": [
       "<Figure size 864x432 with 1 Axes>"
      ]
     },
     "metadata": {
      "needs_background": "light"
     },
     "output_type": "display_data"
    }
   ],
   "source": [
    "fitted = res.predict(df)\n",
    "residual = df['매출액'] - fitted\n",
    "\n",
    "sns.regplot(x = fitted, y = residual, lowess=True, line_kws={'color' : 'red'})\n",
    "plt.plot([fitted.min(), fitted.max()], [0, 0], '--', color = 'grey')\n",
    "plt.grid()\n",
    "plt.show()"
   ]
  },
  {
   "cell_type": "markdown",
   "id": "15ddb479",
   "metadata": {},
   "source": [
    "- 예측값에 따른 잔차의 추세가 0과 가까운 범위에 있으므로 잔차가 일정하게 분포되어 있다."
   ]
  },
  {
   "cell_type": "code",
   "execution_count": 15,
   "id": "f491d8e9",
   "metadata": {},
   "outputs": [
    {
     "data": {
      "image/png": "[encoded data removed]",
      "text/plain": [
       "<Figure size 864x432 with 1 Axes>"
      ]
     },
     "metadata": {
      "needs_background": "light"
     },
     "output_type": "display_data"
    }
   ],
   "source": [
    "sr = scipy.stats.zscore(residual)\n",
    "(x, y), fig = scipy.stats.probplot(sr)\n",
    "sns.scatterplot(x=x, y=y)\n",
    "plt.plot([-3, 3], [-3, 3], linestyle='--', color='grey')\n",
    "plt.grid()\n",
    "\n",
    "plt.show()"
   ]
  },
  {
   "cell_type": "markdown",
   "id": "53a7e399",
   "metadata": {},
   "source": [
    "- Q-Q plot의 결과로 잔차의 정규성을 확인할 수 있다."
   ]
  },
  {
   "cell_type": "code",
   "execution_count": 16,
   "id": "07a145a3",
   "metadata": {},
   "outputs": [
    {
     "data": {
      "text/plain": [
       "ShapiroResult(statistic=0.9933653473854065, pvalue=0.9999908804893494)"
      ]
     },
     "execution_count": 16,
     "metadata": {},
     "output_type": "execute_result"
    }
   ],
   "source": [
    "stats.shapiro(residual)"
   ]
  },
  {
   "cell_type": "markdown",
   "id": "9d4e439d",
   "metadata": {},
   "source": [
    "- 유의수준 5%에서 잔차의 정규성을 충족한다."
   ]
  },
  {
   "cell_type": "code",
   "execution_count": 17,
   "id": "d3ac6840",
   "metadata": {},
   "outputs": [
    {
     "data": {
      "image/png": "[encoded data removed]",
      "text/plain": [
       "<Figure size 864x432 with 1 Axes>"
      ]
     },
     "metadata": {
      "needs_background": "light"
     },
     "output_type": "display_data"
    }
   ],
   "source": [
    "sns.regplot(x=fitted, y=np.sqrt(np.abs(sr)), lowess=True, line_kws={'color': 'red'})\n",
    "plt.grid()\n",
    "plt.show()"
   ]
  },
  {
   "cell_type": "markdown",
   "id": "a2e1dbb9",
   "metadata": {},
   "source": [
    "- 잔차의 분산추세가 수평에 가깝지 않으므로 등분산성이 있지 않다고 볼 수 있다."
   ]
  },
  {
   "cell_type": "markdown",
   "id": "19a4912e",
   "metadata": {},
   "source": [
    "- Durbin-Watson 검정값이 1.345로 양의 자기상관관계를 가지고 있다고 볼 수 있다.\n",
    "- 잔차들이 독립이라고 보기 어렵고, 회귀모형이 다소 부적합 할 수 있다."
   ]
  },
  {
   "cell_type": "markdown",
   "id": "eb769b2d",
   "metadata": {},
   "source": [
    "## 6)"
   ]
  },
  {
   "cell_type": "code",
   "execution_count": 18,
   "id": "fb7c5bb5",
   "metadata": {},
   "outputs": [
    {
     "data": {
      "text/plain": [
       "Text(62, 780, 'y = 4.183279x + -215.002908')"
      ]
     },
     "execution_count": 18,
     "metadata": {},
     "output_type": "execute_result"
    },
    {
     "data": {
      "image/png": "[encoded data removed]",
      "text/plain": [
       "<Figure size 864x432 with 2 Axes>"
      ]
     },
     "metadata": {
      "needs_background": "light"
     },
     "output_type": "display_data"
    }
   ],
   "source": [
    "fig, ax = plt.subplots(1,2)\n",
    "\n",
    "sns.scatterplot(x = '광고비', y = '매출액', data = df, ax = ax[0])\n",
    "z = np.polyfit(df['광고비'], df['매출액'] , 1)\n",
    "a, b = z\n",
    "f = np.poly1d(z)\n",
    "ax[0].plot(df['광고비'],f(df['광고비']),'#ff0000')\n",
    "ax[0].text(df['광고비'].min(), df['매출액'].max() - 100, 'y = %fx + %f' %(a,b), color = 'red')\n",
    "\n",
    "#--------------------------------------------------------------------------------------------------\n",
    "sns.scatterplot(x = '광고비', y = res.fittedvalues, data = df, ax = ax[1])\n",
    "a = res.params.광고비\n",
    "b = res.params.Intercept\n",
    "\n",
    "ax[1].plot(df['광고비'],res.fittedvalues,'#ff0000')\n",
    "ax[1].text(df['광고비'].min(), df['매출액'].max() - 100, 'y = %fx + %f' %(a,b), color = 'red')"
   ]
  },
  {
   "cell_type": "markdown",
   "id": "8b791aab",
   "metadata": {},
   "source": [
    "## 7)"
   ]
  },
  {
   "cell_type": "code",
   "execution_count": 47,
   "id": "97dfb7c0",
   "metadata": {},
   "outputs": [
    {
     "data": {
      "image/png": "[encoded data removed]",
      "text/plain": [
       "<Figure size 864x432 with 1 Axes>"
      ]
     },
     "metadata": {
      "needs_background": "light"
     },
     "output_type": "display_data"
    }
   ],
   "source": [
    "목표매출액 = np.linspace(900, 950, 5)\n",
    "\n",
    "def 추정광고비(매출액):\n",
    "    a = res.params.광고비\n",
    "    b = res.params.Intercept\n",
    "    return (매출액 - b)/a\n",
    "\n",
    "추정광고비_list = []\n",
    "\n",
    "for i in 목표매출액:\n",
    "    추정광고비_list.append(추정광고비(i))\n",
    "    \n",
    "p1 = plt.bar(추정광고비_list, 목표매출액)\n",
    "plt.xticks(추정광고비_list)\n",
    "plt.bar_label(p1)\n",
    "plt.grid()\n",
    "\n",
    "\n"
   ]
  },
  {
   "cell_type": "code",
   "execution_count": null,
   "id": "4523e66c",
   "metadata": {},
   "outputs": [],
   "source": []
  },
  {
   "cell_type": "code",
   "execution_count": null,
   "id": "637f0cba",
   "metadata": {},
   "outputs": [],
   "source": []
  },
  {
   "cell_type": "code",
   "execution_count": null,
   "id": "9d472106",
   "metadata": {},
   "outputs": [],
   "source": []
  }
 ],
 "metadata": {
  "kernelspec": {
   "display_name": "Python 3",
   "language": "python",
   "name": "python3"
  },
  "language_info": {
   "codemirror_mode": {
    "name": "ipython",
    "version": 3
   },
   "file_extension": ".py",
   "mimetype": "text/x-python",
   "name": "python",
   "nbconvert_exporter": "python",
   "pygments_lexer": "ipython3",
   "version": "3.8.8"
  }
 },
 "nbformat": 4,
 "nbformat_minor": 5
}
