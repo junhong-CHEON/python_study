{
 "cells": [
  {
   "cell_type": "code",
   "execution_count": 1,
   "id": "f28be882",
   "metadata": {},
   "outputs": [],
   "source": [
    "from scipy import stats\n",
    "import numpy as np"
   ]
  },
  {
   "cell_type": "code",
   "execution_count": null,
   "id": "fd307368",
   "metadata": {},
   "outputs": [],
   "source": [
    "언어영역 = [392, 404, 346, 382, 368, 449, 391]\n",
    "수리영역 = [428, 518, 376, 426, 409, 490, 448]\n",
    "\n",
    "corr,p_value = stats.pearsonr(mtcars['cyl'], mtcars['wt'])\n",
    "print(\"corr: {0}, p_value: {1}\".format(corr, p_value))"
   ]
  }
 ],
 "metadata": {
  "kernelspec": {
   "display_name": "Python 3",
   "language": "python",
   "name": "python3"
  },
  "language_info": {
   "codemirror_mode": {
    "name": "ipython",
    "version": 3
   },
   "file_extension": ".py",
   "mimetype": "text/x-python",
   "name": "python",
   "nbconvert_exporter": "python",
   "pygments_lexer": "ipython3",
   "version": "3.8.8"
  }
 },
 "nbformat": 4,
 "nbformat_minor": 5
}
