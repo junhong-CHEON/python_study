{
 "cells": [
  {
   "cell_type": "markdown",
   "id": "396e234d",
   "metadata": {},
   "source": [
    "# 7장 연습문제"
   ]
  },
  {
   "cell_type": "markdown",
   "id": "b178c941",
   "metadata": {},
   "source": [
    "## 1)"
   ]
  },
  {
   "cell_type": "code",
   "execution_count": 1,
   "id": "d7af95f9",
   "metadata": {},
   "outputs": [],
   "source": [
    "import numpy as np\n",
    "from scipy import stats\n"
   ]
  },
  {
   "cell_type": "code",
   "execution_count": 16,
   "id": "b5d0e54a",
   "metadata": {},
   "outputs": [
    {
     "data": {
      "text/plain": [
       "array([25.8, 24.6, 26.1, 22.9, 25.1, 27.3, 24. , 24.5, 23.9, 26.2, 24.3,\n",
       "       24.6, 23.3, 25.5, 28.1, 24.8, 23.5, 26.3, 25.4, 25.5, 23.9, 27. ,\n",
       "       24.8, 22.9, 25.4])"
      ]
     },
     "execution_count": 16,
     "metadata": {},
     "output_type": "execute_result"
    }
   ],
   "source": [
    "crab_temp = np.array([25.8, 24.6, 26.1, 22.9, 25.1, 27.3, 24, 24.5, 23.9, 26.2,\n",
    "        24.3, 24.6, 23.3, 25.5, 28.1, 24.8, 23.5, 26.3, 25.4, 25.5,\n",
    "        23.9, 27, 24.8, 22.9, 25.4])\n",
    "crab_temp"
   ]
  },
  {
   "cell_type": "code",
   "execution_count": 17,
   "id": "d6b3eb12",
   "metadata": {},
   "outputs": [
    {
     "data": {
      "text/plain": [
       "Ttest_1sampResult(statistic=2.7127692953052716, pvalue=0.012145537241648427)"
      ]
     },
     "execution_count": 17,
     "metadata": {},
     "output_type": "execute_result"
    }
   ],
   "source": [
    "tTestResult = stats.ttest_1samp(crab_temp, 24.3)\n",
    "tTestResult\n",
    "\n",
    "#p_value가 유의수준 0.05 이하이므로 귀무가설을 기각한다.\n"
   ]
  },
  {
   "cell_type": "markdown",
   "id": "af4eb51b",
   "metadata": {},
   "source": [
    "## 2)"
   ]
  },
  {
   "cell_type": "code",
   "execution_count": 18,
   "id": "1f1b132d",
   "metadata": {},
   "outputs": [],
   "source": [
    "B = np.array([8.8, 8.4, 7.9, 8.7, 9.1, 9.6])\n",
    "G = np.array([9.9, 9.0, 11.1, 9.6, 8.7, 10.4,9.5])"
   ]
  },
  {
   "cell_type": "code",
   "execution_count": 20,
   "id": "85eef2c1",
   "metadata": {},
   "outputs": [
    {
     "data": {
      "text/plain": [
       "Ttest_indResult(statistic=-2.476489813980959, pvalue=0.030764898866015765)"
      ]
     },
     "execution_count": 20,
     "metadata": {},
     "output_type": "execute_result"
    }
   ],
   "source": [
    "tTestResult = stats.ttest_ind(B,G)\n",
    "tTestResult\n",
    "\n",
    "#p_value 가 작으므로 귀무가설을 기각한다."
   ]
  },
  {
   "cell_type": "markdown",
   "id": "f000cddf",
   "metadata": {},
   "source": [
    "## 3)"
   ]
  },
  {
   "cell_type": "code",
   "execution_count": 112,
   "id": "cce19824",
   "metadata": {},
   "outputs": [
    {
     "name": "stdout",
     "output_type": "stream",
     "text": [
      "ShapiroResult(statistic=0.9131616353988647, pvalue=0.4181988835334778)\n",
      "ShapiroResult(statistic=0.981028139591217, pvalue=0.967812180519104)\n",
      "LeveneResult(statistic=6.7166436258577775, pvalue=0.022357369583390106)\n",
      "BartlettResult(statistic=8.58575251120547, pvalue=0.003388033495525509)\n"
     ]
    },
    {
     "data": {
      "text/plain": [
       "Ttest_indResult(statistic=0.15276139183108392, pvalue=0.8809320166198722)"
      ]
     },
     "execution_count": 112,
     "metadata": {},
     "output_type": "execute_result"
    }
   ],
   "source": [
    "group_1 = np.array([3.84, 2.60, 1.19, 2.00, 6.20, 0.96, 5.50])\n",
    "group_2 = np.array([3.97, 2.50, 2.70, 3.36, 3.55, 2.97, 3.20, 2.30])\n",
    "\n",
    "# 데이터 정규성 검정\n",
    "normal1 = stats.shapiro(group_1)\n",
    "normal2 = stats.shapiro(group_2)\n",
    "\n",
    "print(normal1)\n",
    "print(normal2)\n",
    "\n",
    "# 등분산성 검정\n",
    "\n",
    "levene = stats.levene(group_1, group_2)\n",
    "print(levene)\n",
    "bartlett = stats.bartlett(group_1, group_2)\n",
    "print(bartlett)\n",
    "tTestResult = stats.ttest_ind(group_1,group_2)\n",
    "tTestResult\n",
    "\n",
    "# 정규성을 만족하지 않으므로 심장계수는 근거가 될 수 없다."
   ]
  },
  {
   "cell_type": "markdown",
   "id": "b5448b0e",
   "metadata": {},
   "source": [
    "## 4)"
   ]
  },
  {
   "cell_type": "code",
   "execution_count": 117,
   "id": "7fa464e0",
   "metadata": {},
   "outputs": [
    {
     "name": "stdout",
     "output_type": "stream",
     "text": [
      "[ 4  4 -3  5 -1  5  6  5  6  2]\n"
     ]
    },
    {
     "data": {
      "text/plain": [
       "Ttest_1sampResult(statistic=3.413793103448276, pvalue=0.007703223347263766)"
      ]
     },
     "execution_count": 117,
     "metadata": {},
     "output_type": "execute_result"
    }
   ],
   "source": [
    "뒷다리 = [142, 140, 144, 144, 142, 146, 149, 150, 142, 148]\n",
    "앞다리 = [138, 136, 147, 139, 143, 141, 143, 145, 136, 146]\n",
    "\n",
    "legs = np.array(뒷다리) - np.array(앞다리)\n",
    "print(legs)\n",
    "# 뒷다리 - 앞다리 의 평균이 0이 아니다. 를 귀무가설로 세움\n",
    "result1 = stats.ttest_1samp(legs, 0)\n",
    "\n",
    "result1\n",
    "# 차이가 없다"
   ]
  },
  {
   "cell_type": "markdown",
   "id": "8452cb94",
   "metadata": {},
   "source": [
    "## 5)"
   ]
  },
  {
   "cell_type": "code",
   "execution_count": 106,
   "id": "5fb53e36",
   "metadata": {},
   "outputs": [
    {
     "name": "stdout",
     "output_type": "stream",
     "text": [
      "Ttest_1sampResult(statistic=1.201193447239071, pvalue=0.2393950968482102)\n",
      "Ttest_1sampResult(statistic=3.6245319211888405, pvalue=0.0010971068319053047)\n"
     ]
    }
   ],
   "source": [
    "보험 = [15, 10, 8, 12, 10, 2.5, 9, 7.5, 5.5, 25, 10.5, 3.5, 9.7,\n",
    "        12.5, 30, 11, 8.8, 4.5, 7.8, 6.7, 7, 33, 15, 20, 4, 5, 15,\n",
    "        30, 5, 10]\n",
    "\n",
    "수입 = [100, 150, 120, 140, 150, 200, 90, 180, 250, 300, 220, 80,\n",
    "        175, 280, 550, 235, 110, 125, 160, 99, 148, 400, 115,\n",
    "        165, 80, 210, 340, 510, 130, 650]\n",
    "\n",
    "result_1 = stats.ttest_1samp(보험, 10)\n",
    "print(result_1)\n",
    "\n",
    "result_2 = stats.ttest_1samp(수입, 120)\n",
    "print(result_2)"
   ]
  },
  {
   "cell_type": "markdown",
   "id": "5567187b",
   "metadata": {},
   "source": [
    "## 6)"
   ]
  },
  {
   "cell_type": "code",
   "execution_count": 31,
   "id": "d608be47",
   "metadata": {},
   "outputs": [
    {
     "data": {
      "text/plain": [
       "Ttest_indResult(statistic=-1.2535782990867543, pvalue=0.23207151514181695)"
      ]
     },
     "execution_count": 31,
     "metadata": {},
     "output_type": "execute_result"
    }
   ],
   "source": [
    "group_a = [54, 60, 66, 53, 62, 61, 42, 50]\n",
    "group_b = [65, 70, 62, 67, 59, 45, 60]\n",
    "\n",
    "result = stats.ttest_ind(group_a, group_b)\n",
    "result\n",
    "\n",
    "# p-value 값이 0.05 유의수준보다 크므로 사료는 생산량에 영향을 미치지 않는다.\n"
   ]
  },
  {
   "cell_type": "markdown",
   "id": "1a4c6cbe",
   "metadata": {},
   "source": [
    "## 7)"
   ]
  },
  {
   "cell_type": "code",
   "execution_count": 36,
   "id": "8b485f7a",
   "metadata": {},
   "outputs": [
    {
     "data": {
      "text/plain": [
       "Ttest_relResult(statistic=3.226236530469768, pvalue=0.03208991550156059)"
      ]
     },
     "execution_count": 36,
     "metadata": {},
     "output_type": "execute_result"
    }
   ],
   "source": [
    "used = [11.8, 13.9, 16.3, 11.6, 8.4]\n",
    "\n",
    "un_used = [11.4, 13.1, 16.1, 10.9, 8.3]\n",
    "\n",
    "result = stats.ttest_rel(used, un_used)\n",
    "result\n",
    "\n",
    "# 관계가 있다."
   ]
  },
  {
   "cell_type": "markdown",
   "id": "b9366dc0",
   "metadata": {},
   "source": [
    "## 8)"
   ]
  },
  {
   "cell_type": "code",
   "execution_count": 37,
   "id": "a8bd4373",
   "metadata": {},
   "outputs": [
    {
     "data": {
      "text/plain": [
       "Ttest_indResult(statistic=1.676025364631745, pvalue=0.11011138184228597)"
      ]
     },
     "execution_count": 37,
     "metadata": {},
     "output_type": "execute_result"
    }
   ],
   "source": [
    "label_1 = [80.4, 78.2, 80.1, 77.1, 79.6, 80.4, 81.6, 79.9, 84.4, 80.9, 83.1]\n",
    "label_2 = [80.1, 81.2, 79.5, 78.0, 76.1, 77.0, 80.1, 79.9, 78.8, 80.8]\n",
    "\n",
    "result = stats.ttest_ind(label_1, label_2)\n",
    "result"
   ]
  },
  {
   "cell_type": "markdown",
   "id": "2852dc05",
   "metadata": {},
   "source": [
    "## 10)"
   ]
  },
  {
   "cell_type": "code",
   "execution_count": 42,
   "id": "907564f0",
   "metadata": {},
   "outputs": [
    {
     "data": {
      "text/plain": [
       "Ttest_relResult(statistic=3.105360487466109, pvalue=0.007749436106654119)"
      ]
     },
     "execution_count": 42,
     "metadata": {},
     "output_type": "execute_result"
    }
   ],
   "source": [
    "before = [70, 80, 72, 76, 76, 76, 72, 78, 82, 64, 74, 92, 74, 68, 84]\n",
    "after = [68, 72, 62, 70, 58, 66, 68, 52, 64, 72, 74, 60, 74, 72, 74]\n",
    "\n",
    "result = stats.ttest_rel(before, after)\n",
    "result\n",
    "\n",
    "# 영향을 미친다."
   ]
  },
  {
   "cell_type": "markdown",
   "id": "4ff356fb",
   "metadata": {},
   "source": [
    "## 11)"
   ]
  },
  {
   "cell_type": "code",
   "execution_count": 107,
   "id": "b2e8fcce",
   "metadata": {},
   "outputs": [
    {
     "name": "stdout",
     "output_type": "stream",
     "text": [
      "Ttest_relResult(statistic=2.3654081485744824, pvalue=0.037454446305019644)\n",
      "Ttest_relResult(statistic=-7.179926973956724, pvalue=1.798236117030195e-05)\n",
      "Ttest_relResult(statistic=-6.841977654731714, pvalue=2.7937021187235204e-05)\n",
      "Ttest_relResult(statistic=nan, pvalue=nan)\n"
     ]
    }
   ],
   "source": [
    "악력전 = [43, 42, 52, 53, 44, 46, 48, 58, 50, 48, 56, 43]\n",
    "악력후 = [41, 41, 50, 52, 40, 47, 47, 55, 50, 50, 48, 41]\n",
    "result = stats.ttest_rel(악력전, 악력후)\n",
    "print(result)\n",
    "\n",
    "윗몸전 = [35, 40, 36, 38, 36, 39, 35, 34, 33, 39, 37, 33]\n",
    "윗몸후 = [41, 44, 41, 42, 42, 44, 42, 36, 35, 45, 37, 37]\n",
    "result = stats.ttest_rel(윗몸전, 윗몸후)\n",
    "print(result)\n",
    "\n",
    "턱전 = [25, 25, 22, 10, 15, 17, 24, 17, 17, 21, 31, 15]\n",
    "턱후 = [29, 29, 23, 15, 19, 19, 26, 18, 20, 25, 35, 22]\n",
    "result = stats.ttest_rel(턱전, 턱후)\n",
    "print(result)\n",
    "\n",
    "달전 = [14.5, 13.4, 13.5, 13.9, 13.4, 13.9, 13.6, 13.9, 13.1, 13.8, 13.7, 14.9]\n",
    "달후 = [14.5, 13.4, 13.5, 13.9, 13.4, 13.9, 13.6, 13.9, 13.1, 13.8, 13.7, 14.9]\n",
    "result = stats.ttest_rel(달전, 달후)\n",
    "print(result)"
   ]
  },
  {
   "cell_type": "markdown",
   "id": "67398901",
   "metadata": {},
   "source": [
    "## 12)"
   ]
  },
  {
   "cell_type": "code",
   "execution_count": 55,
   "id": "9a508309",
   "metadata": {},
   "outputs": [
    {
     "name": "stdout",
     "output_type": "stream",
     "text": [
      "          언어영역      수리영역\n",
      "언어영역  1.000000  0.821064\n",
      "수리영역  0.821064  1.000000\n"
     ]
    },
    {
     "data": {
      "image/png": "[encoded data removed]",
      "text/plain": [
       "<Figure size 720x720 with 2 Axes>"
      ]
     },
     "metadata": {
      "needs_background": "light"
     },
     "output_type": "display_data"
    }
   ],
   "source": [
    "import seaborn as sns\n",
    "from matplotlib import pyplot as plt\n",
    "from pandas import DataFrame\n",
    "\n",
    "plt.rcParams[\"font.family\"] = 'Malgun Gothic'\n",
    "plt.rcParams[\"font.size\"] = 12\n",
    "plt.rcParams[\"figure.figsize\"] = (10, 10)\n",
    "plt.rcParams[\"axes.unicode_minus\"] = False\n",
    "\n",
    "dic = {'언어영역' : [392, 404, 346, 382, 368, 449, 391],\n",
    "        '수리영역' : [428, 518, 376, 426, 409, 490, 448]}\n",
    "\n",
    "score = DataFrame(dic)\n",
    "corr = score.corr()\n",
    "\n",
    "print(corr)\n",
    "\n",
    "ax = sns.heatmap(corr,\n",
    "                square = True,\n",
    "                cmap='RdYlGn',\n",
    "                linewidth = 0.1,\n",
    "                linecolor = 'white',\n",
    "                annot = True,\n",
    "                annot_kws={'size' : 14})\n",
    "\n",
    "plt.title('Heatmap of MTCARS by seaborn', fontsize = 16)\n",
    "plt.show()\n",
    "\n"
   ]
  },
  {
   "cell_type": "code",
   "execution_count": 58,
   "id": "4034db98",
   "metadata": {},
   "outputs": [
    {
     "data": {
      "text/plain": [
       "Text(0, 0.5, '수리영역')"
      ]
     },
     "execution_count": 58,
     "metadata": {},
     "output_type": "execute_result"
    },
    {
     "data": {
      "image/png": "[encoded data removed]",
      "text/plain": [
       "<Figure size 720x720 with 1 Axes>"
      ]
     },
     "metadata": {
      "needs_background": "light"
     },
     "output_type": "display_data"
    }
   ],
   "source": [
    "score.plot.scatter(x='언어영역', y = '수리영역', color = 'orange', marker = 'o')\n",
    "plt.grid()\n",
    "plt.title('언어영역과 수리영역의 관계')\n",
    "plt.xlabel('언어영역')\n",
    "plt.ylabel('수리영역')"
   ]
  },
  {
   "cell_type": "markdown",
   "id": "b9a1c09e",
   "metadata": {},
   "source": [
    "## 13)"
   ]
  },
  {
   "cell_type": "code",
   "execution_count": 90,
   "id": "e3108510",
   "metadata": {},
   "outputs": [
    {
     "data": {
      "text/plain": [
       "<AxesSubplot:xlabel='[수학]', ylabel='[음악]'>"
      ]
     },
     "execution_count": 90,
     "metadata": {},
     "output_type": "execute_result"
    },
    {
     "data": {
      "image/png": "[encoded data removed]",
      "text/plain": [
       "<Figure size 720x720 with 9 Axes>"
      ]
     },
     "metadata": {
      "needs_background": "light"
     },
     "output_type": "display_data"
    }
   ],
   "source": [
    "score = DataFrame({'학생번호' : [1, 2, 3, 4, 5, 6, 7, 8, 9, 10],\n",
    "                  '수학' : [66, 64, 48, 46, 78, 60, 90, 50, 66, 70],\n",
    "                  '물리' : [70, 68, 46, 48, 84, 64, 92, 52, 68, 72],\n",
    "                  '음악' : [80, 70, 88, 66, 76, 86, 84, 74, 60, 78]})\n",
    "\n",
    "score.set_index('학생번호', inplace = True)\n",
    "\n",
    "fig, ax = plt.subplots(2,3)\n",
    "\n",
    "corr = score.filter(['수학', '물리']).corr()\n",
    "sns.heatmap(corr,ax = ax[0][0],annot = True, linewidth=0.5, square = True,cmap='PuBuGn')\n",
    "corr = score.filter(['물리', '음악']).corr()\n",
    "sns.heatmap(corr,ax = ax[0][1],annot = True, linewidth=0.5, square = True,cmap='RdYlBu')\n",
    "corr = score.filter(['수학', '음악']).corr()\n",
    "sns.heatmap(corr,ax = ax[0][2],annot = True, linewidth=0.5, square = True,cmap='flare_r')\n",
    "\n",
    "score.plot.scatter(x = ['수학'], y = ['물리'], ax = ax[1][0])\n",
    "score.plot.scatter(x = ['물리'], y = ['음악'], ax = ax[1][1])\n",
    "score.plot.scatter(x = ['수학'], y = ['음악'], ax = ax[1][2])"
   ]
  },
  {
   "cell_type": "code",
   "execution_count": 99,
   "id": "2469cfc3",
   "metadata": {},
   "outputs": [
    {
     "data": {
      "text/plain": [
       "<AxesSubplot:xlabel='[홈런수]', ylabel='[평균타율]'>"
      ]
     },
     "execution_count": 99,
     "metadata": {},
     "output_type": "execute_result"
    },
    {
     "data": {
      "image/png": "[encoded data removed]",
      "text/plain": [
       "<Figure size 720x720 with 3 Axes>"
      ]
     },
     "metadata": {
      "needs_background": "light"
     },
     "output_type": "display_data"
    }
   ],
   "source": [
    "df = DataFrame({'홈런수' : [174, 163, 161, 230, 214, 194, 187, 167, 190, 196, 199, 173, 213, 172],\n",
    "               '평균타율' : [0.277, 0.276, 0.272, 0.272, 0.269, 0.266, 0.263, 0.262, 0.262, 0.261, 0.259, 0.258, 0.257, 0.252]})\n",
    "corr = df.corr()\n",
    "corr\n",
    "fig, ax = plt.subplots(1,2)\n",
    "sns.heatmap(corr, ax = ax[0], linewidth = 0.1, linecolor = 'white', cmap='flare_r',square = True, annot = True)\n",
    "df.plot.scatter(x = ['홈런수'], y = ['평균타율'], color = 'orange', marker='x', ax = ax[1])"
   ]
  },
  {
   "cell_type": "code",
   "execution_count": 104,
   "id": "9fcda990",
   "metadata": {},
   "outputs": [
    {
     "data": {
      "text/plain": [
       "<AxesSubplot:xlabel='x', ylabel='y'>"
      ]
     },
     "execution_count": 104,
     "metadata": {},
     "output_type": "execute_result"
    },
    {
     "data": {
      "image/png": "[encoded data removed]",
      "text/plain": [
       "<Figure size 720x720 with 3 Axes>"
      ]
     },
     "metadata": {
      "needs_background": "light"
     },
     "output_type": "display_data"
    }
   ],
   "source": [
    "df = DataFrame({'x' : [36, 40, 34, 44, 33, 36, 40, 33, 26, 36],\n",
    "               'y' : [29, 32, 29, 40, 31, 29, 34, 30, 25, 31]})\n",
    "corr = df.corr()\n",
    "\n",
    "fig, ax = plt.subplots(1,2)\n",
    "sns.heatmap(corr, ax = ax[0], cmap = 'RdPu', square = True, annot = True)\n",
    "df.plot.scatter(x ='x', y = 'y', color = 'blue', marker = 'o', ax = ax[1])"
   ]
  },
  {
   "cell_type": "code",
   "execution_count": null,
   "id": "ab9d2bbc",
   "metadata": {},
   "outputs": [],
   "source": []
  }
 ],
 "metadata": {
  "kernelspec": {
   "display_name": "Python 3",
   "language": "python",
   "name": "python3"
  },
  "language_info": {
   "codemirror_mode": {
    "name": "ipython",
    "version": 3
   },
   "file_extension": ".py",
   "mimetype": "text/x-python",
   "name": "python",
   "nbconvert_exporter": "python",
   "pygments_lexer": "ipython3",
   "version": "3.8.8"
  }
 },
 "nbformat": 4,
 "nbformat_minor": 5
}
