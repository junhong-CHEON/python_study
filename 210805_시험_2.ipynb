{
 "cells": [
  {
   "cell_type": "code",
   "execution_count": 1,
   "id": "d89b15fc",
   "metadata": {},
   "outputs": [],
   "source": [
    "import requests\n",
    "import json\n",
    "from pandas import DataFrame\n",
    "from matplotlib import pyplot as plt\n",
    "import datetime as dt\n",
    "import pymysql\n",
    "from sqlalchemy import create_engine\n",
    "from sqlalchemy import text\n",
    "import time\n",
    "import urllib\n",
    "import schedule"
   ]
  },
  {
   "cell_type": "markdown",
   "id": "8b18aa45",
   "metadata": {},
   "source": [
    "# 3,4번 코드"
   ]
  },
  {
   "cell_type": "code",
   "execution_count": 2,
   "id": "01c15262",
   "metadata": {},
   "outputs": [
    {
     "data": {
      "text/plain": [
       "Every 1 day at 10:00:00 do update_covid19_data() (last run: [never], next run: 2021-08-06 10:00:00)"
      ]
     },
     "execution_count": 2,
     "metadata": {},
     "output_type": "execute_result"
    }
   ],
   "source": [
    "def update_covid19_data():\n",
    "    HOSTNAME = \"localhost\"\n",
    "    PORT = 3306\n",
    "    USERNAME = \"root\"\n",
    "    PASSWORD = \"root\"\n",
    "    DATABASE = \"covid_19\"\n",
    "    CHARSET1 = \"utf8\"\n",
    "    CHARSET2 = \"utf-8\"\n",
    "\n",
    "    json_url = 'http://www.itpaper.co.kr/demo/covid19/now.php'\n",
    "\n",
    "    user_agent =\"Mozilla/5.0 (Windows NT 10.0; Win64; x64) AppleWebKit/537.36 (KHTML, like Gecko) Chrome/77.0.3865.120 Safari/537.36\"\n",
    "    header_info ={'User-agent': user_agent,'referer':None}\n",
    "\n",
    "    r = requests.get(json_url, headers = header_info)\n",
    "\n",
    "    if r.status_code != 200:\n",
    "        err_msg = '%d %s 에러가 발생했습니다.' %(r.status_code, r.reason)\n",
    "        raise Exception(err_msg)\n",
    "\n",
    "    r.encoding = 'utf-8'\n",
    "    json_dict = json.loads(r.text)\n",
    "    df = DataFrame(json_dict['state'])\n",
    "\n",
    "    now = dt.datetime.now()\n",
    "    hour = now.hour\n",
    "\n",
    "    if hour < 23:\n",
    "        now += dt.timedelta(days = -1)\n",
    "\n",
    "    time_str = now.strftime('%Y-%m-%d')\n",
    "    df['reg_date'] = time_str\n",
    "\n",
    "    con_str_fmt\t=\"mysql+mysqldb://{0}:{1}@{2}:{3}/{4}?charset={5}\"\n",
    "    con_str = con_str_fmt.format(USERNAME, urllib.parse.quote(PASSWORD), HOSTNAME, PORT, DATABASE,\n",
    "    CHARSET1)\n",
    "    pymysql.install_as_MySQLdb()\n",
    "    import MySQLdb\n",
    "\n",
    "    engine = create_engine(con_str,encoding=CHARSET2)\n",
    "    conn = engine.connect()\n",
    "\n",
    "    engine.execute(text('DELETE FROM covid19_state WHERE reg_date = :date'),{'date':time_str})\n",
    "\n",
    "    df.to_sql(name='covid19_state', con=conn, if_exists='append',index=False)\n",
    "    print('excute_success')\n",
    "    \n",
    "schedule.every(10).seconds.do(update_covid19_data)\n",
    "\n",
    "schedule.every().days.at('10:00').do(update_covid19_data)"
   ]
  },
  {
   "cell_type": "code",
   "execution_count": 9,
   "id": "f0a32860",
   "metadata": {},
   "outputs": [
    {
     "name": "stdout",
     "output_type": "stream",
     "text": [
      "excute_success\n",
      "excute_success\n",
      "excute_success\n",
      "excute_success\n",
      "excute_success\n"
     ]
    }
   ],
   "source": [
    "test = 0 # 테스트용 변수\n",
    " \n",
    "while test < 50:\n",
    "    schedule.run_pending()\n",
    "    time.sleep(1)\n",
    "    test += 1"
   ]
  },
  {
   "cell_type": "code",
   "execution_count": null,
   "id": "6df2f486",
   "metadata": {},
   "outputs": [],
   "source": []
  }
 ],
 "metadata": {
  "kernelspec": {
   "display_name": "Python 3",
   "language": "python",
   "name": "python3"
  },
  "language_info": {
   "codemirror_mode": {
    "name": "ipython",
    "version": 3
   },
   "file_extension": ".py",
   "mimetype": "text/x-python",
   "name": "python",
   "nbconvert_exporter": "python",
   "pygments_lexer": "ipython3",
   "version": "3.8.8"
  }
 },
 "nbformat": 4,
 "nbformat_minor": 5
}
