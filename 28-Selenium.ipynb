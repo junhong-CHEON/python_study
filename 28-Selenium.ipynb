{
 "cells": [
  {
   "cell_type": "markdown",
   "id": "a2ca2481-1b38-4060-b0ef-7a000c80ccc4",
   "metadata": {},
   "source": [
    "# 26-쇼핑몰 장바구니 데이터 수집\n",
    "## Selenium 소개\n",
    "Selenium은 주로 웹앱을 테스트하는 웹 프레임워크로서 크롬이나 파이어폭스같은 각 브라우저의 각 브라우저마다 제공되는 Webdriver API를 활용하여 크롬이나 파이어폭스 같은 웹 브라우저를 Java나 C#, Python 같은 프로그래밍 언어를 통해 제어합니다.\n",
    "\n",
    "웹 브라우저를 직접 제어하기 때문에 자바스크립트에 의해 동적으로 생성되는 사이트의 데이터를 크롤링할 때 매우 유용하게 사용되는 스크래핑 도구입니다.\n",
    "\n",
    "### 1) Selenium 동작 방식\n",
    "Selenium은 아래와 같은 과정을 거쳐 크롬 브라우저를 제어합니다.\n",
    "\n",
    "Python 소스코드 --> Selenium 패키지 --> ChromeDriver(WebDriver) --> Google Chrome\n",
    "\n",
    "키보드 입력값을 전달한다거나 스크롤을 이동시키는 등의 제어가 가능하고 웹 브라우저의 개발자도구에서 확인 가능한 Element 내용을 수집하기 때문에 웹 페이지 로딩 후 동적인 결과를 가져오는 웹 페이지의 컨텐츠를 수집할 수 있습니다. requests 패키지를 통해 URL을 수집하는 경우 동적 결과는 가져오지 못하는 경우 Selenium을 활용하면 컨텐츠 수집이 가능합니다.\n",
    "\n",
    "### 2) ChromeDriver 내려받기\n",
    "원래는 https://chromedriver.chromium.org/downloads에서 사용중인 운영체제와 Google Chrome 브라우저의 버전에 맞는 ChromeDriver를 내려받아서 python 소스코드에서 접근할 수 있는 경로상에 ChromeDriver를 배치해야 한다.\n",
    "\n",
    "크롬 특성상 버전업이 자주 있기 때문에 매번 ChromeDriver를 직접 내려받는 번거로움이 발생.\n",
    "\n",
    "chromedriver_autoinstaller 패키지를 사용하면 Python 스스로 현재 크롬 버전에 맞는 ChromeDriver를 내려받아 사용할 수 있다.\n",
    "\n",
    "### 3) selenium 설치하기\n",
    "- pip install --upgrade selenium\n",
    "- pip install --upgrade chromedriver_autoinstaller"
   ]
  },
  {
   "cell_type": "code",
   "execution_count": 5,
   "id": "02732683-f2dc-4824-85de-e5af66a90349",
   "metadata": {},
   "outputs": [],
   "source": [
    "# ChromeDriver 자동 설치 모듈\n",
    "import chromedriver_autoinstaller\n",
    "# Chrome을 제어하기 위한 객체\n",
    "from selenium import webdriver\n",
    "# Chrome이 웹 페이지 로딩을 완료 할 때까지 최대 n초간 대기하는 기능.\n",
    "from selenium.webdriver.support.ui import WebDriverWait\n",
    "from bs4 import BeautifulSoup\n",
    "from pandas import DataFrame\n",
    "# 파이썬 프로그램에 지정된 시간동안 랙을 거는 기능을 위해 사용\n",
    "import time"
   ]
  },
  {
   "cell_type": "code",
   "execution_count": 6,
   "id": "b6a821c9-2132-4aca-abb8-4080e49cb8f5",
   "metadata": {},
   "outputs": [
    {
     "data": {
      "text/plain": [
       "'c:\\\\users\\\\ezen\\\\appdata\\\\local\\\\programs\\\\python\\\\python38\\\\lib\\\\site-packages\\\\chromedriver_autoinstaller\\\\90\\\\chromedriver.exe'"
      ]
     },
     "execution_count": 6,
     "metadata": {},
     "output_type": "execute_result"
    }
   ],
   "source": [
    "chromedriver_autoinstaller.install()"
   ]
  },
  {
   "cell_type": "code",
   "execution_count": 7,
   "id": "96b51f56-d39a-4aac-aa84-058d3618add6",
   "metadata": {},
   "outputs": [],
   "source": [
    "# 크롬드라이버 실행\n",
    "driver = webdriver.Chrome()\n",
    "\n",
    "# 크롬브라우저가 준비될 때 까지 최대 5초씩 대기\n",
    "driver.implicitly_wait(5)"
   ]
  },
  {
   "cell_type": "markdown",
   "id": "33a6ca09-5638-4686-905d-f0187a881086",
   "metadata": {},
   "source": [
    "## 샘플 쇼핑몰 로그인\n",
    "### 1) 로그인 페이지로 이동하기"
   ]
  },
  {
   "cell_type": "code",
   "execution_count": 19,
   "id": "0251c26f-f781-428f-9cab-b6567095eb39",
   "metadata": {},
   "outputs": [],
   "source": [
    "driver.get('http://itproject.ezenac.co.kr/springmyshop/account/login')\n",
    "time.sleep(3)"
   ]
  },
  {
   "cell_type": "markdown",
   "id": "d29f65df-1a31-4978-97b0-c62ebcba0363",
   "metadata": {},
   "source": [
    "### 2) 로그인하기"
   ]
  },
  {
   "cell_type": "code",
   "execution_count": 20,
   "id": "24885789-8729-43d3-885c-a9f5f1c24a0d",
   "metadata": {},
   "outputs": [],
   "source": [
    "id_input = WebDriverWait(driver,3).until(lambda x: x.find_element_by_css_selector('#user_id'))\n",
    "\n",
    "id_input.send_keys('cj5622')"
   ]
  },
  {
   "cell_type": "code",
   "execution_count": 21,
   "id": "b6c9d840-e876-4072-a902-de568310b822",
   "metadata": {},
   "outputs": [],
   "source": [
    "pw_input = WebDriverWait(driver, 3).until(lambda x: x.find_element_by_css_selector(\"#user_pw\"))\n",
    "pw_input.send_keys(\"sl237&46\")"
   ]
  },
  {
   "cell_type": "code",
   "execution_count": 22,
   "id": "54a0fdac-6286-47b2-a0d2-37b7ed1867c8",
   "metadata": {},
   "outputs": [],
   "source": [
    "login_button = WebDriverWait(driver, 3).until(\n",
    "                lambda x: x.find_element_by_css_selector(\"button[type='submit']\"))\n",
    "login_button.click()"
   ]
  },
  {
   "cell_type": "code",
   "execution_count": 23,
   "id": "fbd0ae50-78ae-45d0-a0a6-fea8062cf42d",
   "metadata": {},
   "outputs": [],
   "source": [
    "time.sleep(3)"
   ]
  },
  {
   "cell_type": "markdown",
   "id": "2bc97ae6-eca8-4a82-931e-e177f4d821c5",
   "metadata": {},
   "source": [
    "## 장바구니 데이터 수집\n",
    "### 1) 장바구니 페이지로 이동"
   ]
  },
  {
   "cell_type": "code",
   "execution_count": 24,
   "id": "762eda3c-63b7-4c88-b9cd-45a4b176a88c",
   "metadata": {},
   "outputs": [],
   "source": [
    "driver.get(\"http://itproject.ezenac.co.kr/springmyshop/shopping/cart\")\n",
    "# 페이지를 이동하는 동안 최대 3초간 대기\n",
    "time.sleep(3)"
   ]
  },
  {
   "cell_type": "markdown",
   "id": "6dfdbe99-2bd3-40a4-9c0e-cdc07e003e6b",
   "metadata": {},
   "source": [
    "### 2) 장바구니 페이지의 HTML 코드를 BeautifulSoup 객체로 생성"
   ]
  },
  {
   "cell_type": "markdown",
   "id": "9d250298-ddc8-41d4-b0f1-5f1f601ed47b",
   "metadata": {},
   "source": [
    "#### HTML 코드 추출"
   ]
  },
  {
   "cell_type": "code",
   "execution_count": 25,
   "id": "2affc43c-03a2-49a4-872f-c2654d4e9efb",
   "metadata": {},
   "outputs": [],
   "source": [
    "html = driver.page_source\n",
    "#print(html)"
   ]
  },
  {
   "cell_type": "markdown",
   "id": "87fdae74-f370-4889-949e-33b11d5e6713",
   "metadata": {},
   "source": [
    "#### BeautifulSoup 객체로 변환"
   ]
  },
  {
   "cell_type": "code",
   "execution_count": 26,
   "id": "99150b95-aead-4524-ad9c-e75d786e33a4",
   "metadata": {},
   "outputs": [],
   "source": [
    "soup = BeautifulSoup(html, 'html.parser')"
   ]
  },
  {
   "cell_type": "code",
   "execution_count": 27,
   "id": "94bee2c4-a4b2-4020-9b32-3aa9e1c171bd",
   "metadata": {},
   "outputs": [],
   "source": [
    "#크롬 브라우저 닫기\n",
    "driver.quit()"
   ]
  },
  {
   "cell_type": "markdown",
   "id": "50b95721-9c95-40be-81c5-a90e6658c86e",
   "metadata": {},
   "source": [
    "### 3) BeautifulSoup을 활용하여 장바구니 데이터 가져오기\n",
    "장바구니 내역 가져오기"
   ]
  },
  {
   "cell_type": "code",
   "execution_count": 28,
   "id": "07e65c2e-2ae0-434d-9a41-1135a00962fe",
   "metadata": {},
   "outputs": [
    {
     "data": {
      "text/plain": [
       "[<tr class=\"cart-item cart-item-935\">\n",
       " <td class=\"text-center\" rowspan=\"1\">\n",
       " <input checked=\"\" class=\"cart_id\" name=\"cart_id[]\" type=\"checkbox\" value=\"935\"/>\n",
       " </td>\n",
       " <td class=\"text-center\" rowspan=\"1\">\n",
       " <a href=\"/springmyshop/product/detail/2175\">\n",
       " <img src=\"\" width=\"50\"/>\n",
       " </a>\n",
       " </td>\n",
       " <td class=\"text-center\" rowspan=\"1\">\n",
       " <a href=\"/springmyshop/product/detail/2175\">코데모 셔링원피스</a>\n",
       " </td>\n",
       " <td class=\"text-center\">블랙(black)</td>\n",
       " <td class=\"text-center\">\n",
       " <span class=\"price\" data-value=\"35800\">\n",
       "                                                 35,800</span>\n",
       " <span>원</span>\n",
       " </td>\n",
       " <td class=\"text-center\">1</td>\n",
       " <td class=\"text-center text-primary\">\n",
       " <span class=\"total\" data-value=\"35800\">\n",
       "                                                 35,800</span>\n",
       " <span>원</span>\n",
       " </td>\n",
       " <td class=\"text-center\">\n",
       " <strong class=\"text-warning\"><span class=\"order-price\" data-value=\"35800\">\n",
       "                                                         35,800</span>원</strong>\n",
       " </td>\n",
       " <td class=\"text-center\">\n",
       " <button class=\"btn-cart-remove btn btn-danger btn-xs\" data-cart-id=\"935\" data-product-name=\"코데모 셔링원피스\">\n",
       " <i aria-hidden=\"true\" class=\"fa fa-trash\"></i>\n",
       " </button>\n",
       " </td>\n",
       " </tr>,\n",
       " <tr class=\"cart-item cart-item-936\">\n",
       " <td class=\"text-center\" rowspan=\"1\">\n",
       " <input checked=\"\" class=\"cart_id\" name=\"cart_id[]\" type=\"checkbox\" value=\"936\"/>\n",
       " </td>\n",
       " <td class=\"text-center\" rowspan=\"1\">\n",
       " <a href=\"/springmyshop/product/detail/2160\">\n",
       " <img src=\"\" width=\"50\"/>\n",
       " </a>\n",
       " </td>\n",
       " <td class=\"text-center\" rowspan=\"1\">\n",
       " <a href=\"/springmyshop/product/detail/2160\">카이덴 캉캉스커트</a>\n",
       " </td>\n",
       " <td class=\"text-center\">블랙-도트(black)</td>\n",
       " <td class=\"text-center\">\n",
       " <span class=\"price\" data-value=\"19000\">\n",
       "                                                 19,000</span>\n",
       " <span>원</span>\n",
       " </td>\n",
       " <td class=\"text-center\">1</td>\n",
       " <td class=\"text-center text-primary\">\n",
       " <span class=\"total\" data-value=\"19000\">\n",
       "                                                 19,000</span>\n",
       " <span>원</span>\n",
       " </td>\n",
       " <td class=\"text-center\">\n",
       " <strong class=\"text-warning\"><span class=\"order-price\" data-value=\"19000\">\n",
       "                                                         19,000</span>원</strong>\n",
       " </td>\n",
       " <td class=\"text-center\">\n",
       " <button class=\"btn-cart-remove btn btn-danger btn-xs\" data-cart-id=\"936\" data-product-name=\"카이덴 캉캉스커트\">\n",
       " <i aria-hidden=\"true\" class=\"fa fa-trash\"></i>\n",
       " </button>\n",
       " </td>\n",
       " </tr>,\n",
       " <tr class=\"cart-item cart-item-937\">\n",
       " <td class=\"text-center\" rowspan=\"1\">\n",
       " <input checked=\"\" class=\"cart_id\" name=\"cart_id[]\" type=\"checkbox\" value=\"937\"/>\n",
       " </td>\n",
       " <td class=\"text-center\" rowspan=\"1\">\n",
       " <a href=\"/springmyshop/product/detail/1695\">\n",
       " <img src=\"\" width=\"50\"/>\n",
       " </a>\n",
       " </td>\n",
       " <td class=\"text-center\" rowspan=\"1\">\n",
       " <a href=\"/springmyshop/product/detail/1695\">엔티스운동화</a>\n",
       " </td>\n",
       " <td class=\"text-center\">화이트(white), 250</td>\n",
       " <td class=\"text-center\">\n",
       " <span class=\"price\" data-value=\"26900\">\n",
       "                                                 26,900</span>\n",
       " <span>원</span>\n",
       " </td>\n",
       " <td class=\"text-center\">1</td>\n",
       " <td class=\"text-center text-primary\">\n",
       " <span class=\"total\" data-value=\"26900\">\n",
       "                                                 26,900</span>\n",
       " <span>원</span>\n",
       " </td>\n",
       " <td class=\"text-center\">\n",
       " <strong class=\"text-warning\"><span class=\"order-price\" data-value=\"26900\">\n",
       "                                                         26,900</span>원</strong>\n",
       " </td>\n",
       " <td class=\"text-center\">\n",
       " <button class=\"btn-cart-remove btn btn-danger btn-xs\" data-cart-id=\"937\" data-product-name=\"엔티스운동화\">\n",
       " <i aria-hidden=\"true\" class=\"fa fa-trash\"></i>\n",
       " </button>\n",
       " </td>\n",
       " </tr>,\n",
       " <tr class=\"cart-item cart-item-938\">\n",
       " <td class=\"text-center\" rowspan=\"1\">\n",
       " <input checked=\"\" class=\"cart_id\" name=\"cart_id[]\" type=\"checkbox\" value=\"938\"/>\n",
       " </td>\n",
       " <td class=\"text-center\" rowspan=\"1\">\n",
       " <a href=\"/springmyshop/product/detail/1713\">\n",
       " <img src=\"\" width=\"50\"/>\n",
       " </a>\n",
       " </td>\n",
       " <td class=\"text-center\" rowspan=\"1\">\n",
       " <a href=\"/springmyshop/product/detail/1713\">티트랑 미키bag</a>\n",
       " </td>\n",
       " <td class=\"text-center\">레드(red)</td>\n",
       " <td class=\"text-center\">\n",
       " <span class=\"price\" data-value=\"44000\">\n",
       "                                                 44,000</span>\n",
       " <span>원</span>\n",
       " </td>\n",
       " <td class=\"text-center\">1</td>\n",
       " <td class=\"text-center text-primary\">\n",
       " <span class=\"total\" data-value=\"44000\">\n",
       "                                                 44,000</span>\n",
       " <span>원</span>\n",
       " </td>\n",
       " <td class=\"text-center\">\n",
       " <strong class=\"text-warning\"><span class=\"order-price\" data-value=\"44000\">\n",
       "                                                         44,000</span>원</strong>\n",
       " </td>\n",
       " <td class=\"text-center\">\n",
       " <button class=\"btn-cart-remove btn btn-danger btn-xs\" data-cart-id=\"938\" data-product-name=\"티트랑 미키bag\">\n",
       " <i aria-hidden=\"true\" class=\"fa fa-trash\"></i>\n",
       " </button>\n",
       " </td>\n",
       " </tr>]"
      ]
     },
     "execution_count": 28,
     "metadata": {},
     "output_type": "execute_result"
    }
   ],
   "source": [
    "tr = soup.select('.cart-item')\n",
    "tr"
   ]
  },
  {
   "cell_type": "code",
   "execution_count": 30,
   "id": "24968e31-9eee-4462-bb71-90c2b3e77f04",
   "metadata": {},
   "outputs": [
    {
     "data": {
      "text/plain": [
       "[{'상품명': '코데모 셔링원피스',\n",
       "  '옵션': '블랙(black)',\n",
       "  '상품가격': 35800,\n",
       "  '수량': 1,\n",
       "  '합계': 35800,\n",
       "  '판매금액': 35800},\n",
       " {'상품명': '카이덴 캉캉스커트',\n",
       "  '옵션': '블랙-도트(black)',\n",
       "  '상품가격': 19000,\n",
       "  '수량': 1,\n",
       "  '합계': 19000,\n",
       "  '판매금액': 19000},\n",
       " {'상품명': '엔티스운동화',\n",
       "  '옵션': '화이트(white), 250',\n",
       "  '상품가격': 26900,\n",
       "  '수량': 1,\n",
       "  '합계': 26900,\n",
       "  '판매금액': 26900},\n",
       " {'상품명': '티트랑 미키bag',\n",
       "  '옵션': '레드(red)',\n",
       "  '상품가격': 44000,\n",
       "  '수량': 1,\n",
       "  '합계': 44000,\n",
       "  '판매금액': 44000}]"
      ]
     },
     "execution_count": 30,
     "metadata": {},
     "output_type": "execute_result"
    }
   ],
   "source": [
    "cart = []\n",
    "\n",
    "for tr_item in tr:\n",
    "    td = tr_item.select('.text-center')\n",
    "    \n",
    "    item_dict = {\n",
    "        '상품명' : td[2].text.strip(),\n",
    "        '옵션' : td[3].text.strip(),\n",
    "        '상품가격' : int(td[4].text.strip().replace('원',\"\").replace(',','')),\n",
    "        \"수량\": int(td[5].text.strip()),\n",
    "        \"합계\": int(td[6].text.strip().replace(\"원\", \"\").replace(\",\", \"\")),\n",
    "        \"판매금액\": int(td[7].text.strip().replace(\"원\", \"\").replace(\",\", \"\"))\n",
    "    }\n",
    "    \n",
    "    cart.append(item_dict)\n",
    "    \n",
    "cart"
   ]
  },
  {
   "cell_type": "code",
   "execution_count": 31,
   "id": "af5d69cf-638f-4417-b086-c295f4762214",
   "metadata": {},
   "outputs": [
    {
     "data": {
      "text/html": [
       "<div>\n",
       "<style scoped>\n",
       "    .dataframe tbody tr th:only-of-type {\n",
       "        vertical-align: middle;\n",
       "    }\n",
       "\n",
       "    .dataframe tbody tr th {\n",
       "        vertical-align: top;\n",
       "    }\n",
       "\n",
       "    .dataframe thead th {\n",
       "        text-align: right;\n",
       "    }\n",
       "</style>\n",
       "<table border=\"1\" class=\"dataframe\">\n",
       "  <thead>\n",
       "    <tr style=\"text-align: right;\">\n",
       "      <th></th>\n",
       "      <th>상품명</th>\n",
       "      <th>옵션</th>\n",
       "      <th>상품가격</th>\n",
       "      <th>수량</th>\n",
       "      <th>합계</th>\n",
       "      <th>판매금액</th>\n",
       "    </tr>\n",
       "  </thead>\n",
       "  <tbody>\n",
       "    <tr>\n",
       "      <th>0</th>\n",
       "      <td>코데모 셔링원피스</td>\n",
       "      <td>블랙(black)</td>\n",
       "      <td>35800</td>\n",
       "      <td>1</td>\n",
       "      <td>35800</td>\n",
       "      <td>35800</td>\n",
       "    </tr>\n",
       "    <tr>\n",
       "      <th>1</th>\n",
       "      <td>카이덴 캉캉스커트</td>\n",
       "      <td>블랙-도트(black)</td>\n",
       "      <td>19000</td>\n",
       "      <td>1</td>\n",
       "      <td>19000</td>\n",
       "      <td>19000</td>\n",
       "    </tr>\n",
       "    <tr>\n",
       "      <th>2</th>\n",
       "      <td>엔티스운동화</td>\n",
       "      <td>화이트(white), 250</td>\n",
       "      <td>26900</td>\n",
       "      <td>1</td>\n",
       "      <td>26900</td>\n",
       "      <td>26900</td>\n",
       "    </tr>\n",
       "    <tr>\n",
       "      <th>3</th>\n",
       "      <td>티트랑 미키bag</td>\n",
       "      <td>레드(red)</td>\n",
       "      <td>44000</td>\n",
       "      <td>1</td>\n",
       "      <td>44000</td>\n",
       "      <td>44000</td>\n",
       "    </tr>\n",
       "  </tbody>\n",
       "</table>\n",
       "</div>"
      ],
      "text/plain": [
       "         상품명               옵션   상품가격  수량     합계   판매금액\n",
       "0  코데모 셔링원피스        블랙(black)  35800   1  35800  35800\n",
       "1  카이덴 캉캉스커트     블랙-도트(black)  19000   1  19000  19000\n",
       "2     엔티스운동화  화이트(white), 250  26900   1  26900  26900\n",
       "3  티트랑 미키bag          레드(red)  44000   1  44000  44000"
      ]
     },
     "execution_count": 31,
     "metadata": {},
     "output_type": "execute_result"
    }
   ],
   "source": [
    "cart_df = DataFrame(cart)\n",
    "cart_df"
   ]
  },
  {
   "cell_type": "code",
   "execution_count": 32,
   "id": "88a5273c-20de-4727-9f13-33e33e6e302a",
   "metadata": {},
   "outputs": [
    {
     "data": {
      "text/plain": [
       "125700"
      ]
     },
     "execution_count": 32,
     "metadata": {},
     "output_type": "execute_result"
    }
   ],
   "source": [
    "cart_df['판매금액'].sum()"
   ]
  },
  {
   "cell_type": "code",
   "execution_count": null,
   "id": "9e98f14e-c7d1-4a74-978b-b3526936a4a9",
   "metadata": {},
   "outputs": [],
   "source": []
  }
 ],
 "metadata": {
  "kernelspec": {
   "display_name": "Python 3",
   "language": "python",
   "name": "python3"
  },
  "language_info": {
   "codemirror_mode": {
    "name": "ipython",
    "version": 3
   },
   "file_extension": ".py",
   "mimetype": "text/x-python",
   "name": "python",
   "nbconvert_exporter": "python",
   "pygments_lexer": "ipython3",
   "version": "3.8.0"
  }
 },
 "nbformat": 4,
 "nbformat_minor": 5
}
