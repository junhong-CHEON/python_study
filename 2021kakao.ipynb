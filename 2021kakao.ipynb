{
 "cells": [
  {
   "cell_type": "code",
   "execution_count": 5,
   "source": [
    "confirm_list = ['zero','one','two','three','four','five','six','seven','eight','nine']\r\n",
    "\r\n",
    "query = 'one4sevennine'\r\n",
    "\r\n",
    "for i,v in enumerate(confirm_list):\r\n",
    "    query = query.replace(v,str(i))\r\n",
    "\r\n",
    "print(query)"
   ],
   "outputs": [
    {
     "output_type": "stream",
     "name": "stdout",
     "text": [
      "1479\n"
     ]
    }
   ],
   "metadata": {}
  },
  {
   "cell_type": "code",
   "execution_count": null,
   "source": [],
   "outputs": [],
   "metadata": {}
  }
 ],
 "metadata": {
  "orig_nbformat": 4,
  "language_info": {
   "name": "python",
   "version": "3.8.8",
   "mimetype": "text/x-python",
   "codemirror_mode": {
    "name": "ipython",
    "version": 3
   },
   "pygments_lexer": "ipython3",
   "nbconvert_exporter": "python",
   "file_extension": ".py"
  },
  "kernelspec": {
   "name": "python3",
   "display_name": "Python 3.8.8 64-bit"
  },
  "interpreter": {
   "hash": "d451e435adb2362ec4bd316678cb904438859799482c433728cdc6321af7cb2a"
  }
 },
 "nbformat": 4,
 "nbformat_minor": 2
}