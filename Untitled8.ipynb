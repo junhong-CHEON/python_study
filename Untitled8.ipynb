{
 "cells": [
  {
   "cell_type": "code",
   "execution_count": 4,
   "id": "601e70ae",
   "metadata": {},
   "outputs": [],
   "source": [
    "import numpy             # 표본집단을 랜덤값으로 생성하기 위해서 사용\n",
    "from scipy import stats\n",
    "from matplotlib import pyplot as plt\n",
    "nonsmokers = [18, 22, 21, 17, 20, 17, 23, 20, 22, 21]\n",
    "smokers = [16, 20, 14, 21, 20, 18, 13, 15, 17, 21]"
   ]
  },
  {
   "cell_type": "code",
   "execution_count": 5,
   "id": "e0c01c3c",
   "metadata": {},
   "outputs": [
    {
     "name": "stdout",
     "output_type": "stream",
     "text": [
      "ShapiroResult(statistic=0.9119927883148193, pvalue=0.2949617803096771)\n",
      "ShapiroResult(statistic=0.9194088578224182, pvalue=0.35205063223838806)\n"
     ]
    }
   ],
   "source": [
    "normal1 = stats.shapiro(nonsmokers)\n",
    "normal2 = stats.shapiro(smokers)\n",
    "print(normal1)\n",
    "print(normal2)"
   ]
  },
  {
   "cell_type": "code",
   "execution_count": 8,
   "id": "4d024f78",
   "metadata": {},
   "outputs": [
    {
     "data": {
      "text/plain": [
       "(array([2., 1., 0., 0., 0., 2., 2., 0., 2., 1.]),\n",
       " array([17. , 17.6, 18.2, 18.8, 19.4, 20. , 20.6, 21.2, 21.8, 22.4, 23. ]),\n",
       " <BarContainer object of 10 artists>)"
      ]
     },
     "execution_count": 8,
     "metadata": {},
     "output_type": "execute_result"
    },
    {
     "data": {
      "image/png": "[encoded data removed]",
      "text/plain": [
       "<Figure size 432x288 with 1 Axes>"
      ]
     },
     "metadata": {
      "needs_background": "light"
     },
     "output_type": "display_data"
    }
   ],
   "source": [
    "plt.hist(nonsmokers)"
   ]
  },
  {
   "cell_type": "code",
   "execution_count": null,
   "id": "3c68ed5f",
   "metadata": {},
   "outputs": [],
   "source": []
  }
 ],
 "metadata": {
  "kernelspec": {
   "display_name": "Python 3",
   "language": "python",
   "name": "python3"
  },
  "language_info": {
   "codemirror_mode": {
    "name": "ipython",
    "version": 3
   },
   "file_extension": ".py",
   "mimetype": "text/x-python",
   "name": "python",
   "nbconvert_exporter": "python",
   "pygments_lexer": "ipython3",
   "version": "3.8.8"
  }
 },
 "nbformat": 4,
 "nbformat_minor": 5
}
