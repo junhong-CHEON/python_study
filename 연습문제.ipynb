{
 "cells": [
  {
   "cell_type": "markdown",
   "id": "661956a5",
   "metadata": {
    "tags": []
   },
   "source": [
    "# 연습문제 1\n"
   ]
  },
  {
   "cell_type": "code",
   "execution_count": 2,
   "id": "b0da22ce",
   "metadata": {},
   "outputs": [
    {
     "name": "stdout",
     "output_type": "stream",
     "text": [
      "26\n"
     ]
    }
   ],
   "source": [
    "year = 1996\n",
    "age = 2021 - year + 1\n",
    "print(age)"
   ]
  },
  {
   "cell_type": "markdown",
   "id": "32ddb7f9",
   "metadata": {},
   "source": [
    "# 연습문제 2"
   ]
  },
  {
   "cell_type": "code",
   "execution_count": 6,
   "id": "0b1e0306",
   "metadata": {},
   "outputs": [
    {
     "name": "stdout",
     "output_type": "stream",
     "text": [
      "1996\n"
     ]
    }
   ],
   "source": [
    "age = 26\n",
    "year = 2021 - age + 1\n",
    "print(year)"
   ]
  },
  {
   "cell_type": "markdown",
   "id": "39a7aa06",
   "metadata": {},
   "source": [
    "# 연습문제 3"
   ]
  },
  {
   "cell_type": "code",
   "execution_count": 8,
   "id": "8dda9e16",
   "metadata": {},
   "outputs": [
    {
     "name": "stdout",
     "output_type": "stream",
     "text": [
      "당신의 생일은 80년 10월 23일 입니다.\n"
     ]
    }
   ],
   "source": [
    "jumin = \"801023-1000123\"\n",
    "answer = \"당신의 생일은 {0}년 {1}월 {2}일 입니다.\"\n",
    "print(answer.format(jumin[:2], jumin[2:4], jumin[4:6]))"
   ]
  },
  {
   "cell_type": "markdown",
   "id": "27e868ef",
   "metadata": {},
   "source": [
    "# 연습문제 4"
   ]
  },
  {
   "cell_type": "code",
   "execution_count": 12,
   "id": "f76a4dc6",
   "metadata": {},
   "outputs": [
    {
     "name": "stdout",
     "output_type": "stream",
     "text": [
      "C:\\mypthoto\n",
      "helloworld\n",
      "jpg\n"
     ]
    }
   ],
   "source": [
    "path = \"C:\\mypthoto\\helloworld.jpg\"\n",
    "answer = \"{0}\\n{1}\\n{2}\"\n",
    "split_1 = path.rfind('\\\\')\n",
    "split_2 = path.rfind('.')\n",
    "print(answer.format(path[:split_1], path[split_1 + 1:split_2], path[split_2 + 1:]))"
   ]
  },
  {
   "cell_type": "markdown",
   "id": "82848589",
   "metadata": {},
   "source": [
    "# 연습문제 5"
   ]
  },
  {
   "cell_type": "code",
   "execution_count": 18,
   "id": "87b36991",
   "metadata": {},
   "outputs": [
    {
     "name": "stdout",
     "output_type": "stream",
     "text": [
      "['Life', 'is', 'too', 'short']\n",
      "Life is too short\n",
      "LIFE IS TOO SHORT\n"
     ]
    }
   ],
   "source": [
    "list = [\"Life\", \"is\", \"too\", \"short\"]\n",
    "join_char = \" \"\n",
    "answer = join_char.join(list)\n",
    "print(list)\n",
    "print(answer)\n",
    "print(answer.upper())"
   ]
  },
  {
   "cell_type": "markdown",
   "id": "04905d7c",
   "metadata": {
    "tags": []
   },
   "source": [
    "# 연습문제 1\n"
   ]
  },
  {
   "cell_type": "markdown",
   "id": "2dfebd4b",
   "metadata": {},
   "source": []
  },
  {
   "cell_type": "code",
   "execution_count": null,
   "id": "dd1b767a",
   "metadata": {},
   "outputs": [],
   "source": []
  }
 ],
 "metadata": {
  "kernelspec": {
   "display_name": "Python 3",
   "language": "python",
   "name": "python3"
  },
  "language_info": {
   "codemirror_mode": {
    "name": "ipython",
    "version": 3
   },
   "file_extension": ".py",
   "mimetype": "text/x-python",
   "name": "python",
   "nbconvert_exporter": "python",
   "pygments_lexer": "ipython3",
   "version": "3.8.8"
  }
 },
 "nbformat": 4,
 "nbformat_minor": 5
}
