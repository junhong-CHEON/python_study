{
 "cells": [
  {
   "cell_type": "code",
   "execution_count": 1,
   "id": "2946bcfe",
   "metadata": {},
   "outputs": [
    {
     "data": {
      "text/plain": [
       "'봄'"
      ]
     },
     "execution_count": 1,
     "metadata": {},
     "output_type": "execute_result"
    }
   ],
   "source": [
    "import datetime as dt\n",
    "\n",
    "season_list = ['겨울','겨울','봄','봄','봄','여름','여름','여름','가을','가을','가을','겨울']\n",
    "\n",
    "month = dt.datetime.now().month\n",
    "\n",
    "q = season_list[month - 1]\n",
    "q"
   ]
  },
  {
   "cell_type": "code",
   "execution_count": null,
   "id": "e4da6a01",
   "metadata": {},
   "outputs": [],
   "source": []
  }
 ],
 "metadata": {
  "kernelspec": {
   "display_name": "Python 3",
   "language": "python",
   "name": "python3"
  },
  "language_info": {
   "codemirror_mode": {
    "name": "ipython",
    "version": 3
   },
   "file_extension": ".py",
   "mimetype": "text/x-python",
   "name": "python",
   "nbconvert_exporter": "python",
   "pygments_lexer": "ipython3",
   "version": "3.8.8"
  }
 },
 "nbformat": 4,
 "nbformat_minor": 5
}
