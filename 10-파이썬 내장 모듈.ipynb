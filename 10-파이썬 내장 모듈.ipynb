{
 "cells": [
  {
   "cell_type": "markdown",
   "id": "9971a565",
   "metadata": {},
   "source": [
    "# 파이썬 내장 모듈"
   ]
  },
  {
   "cell_type": "markdown",
   "id": "bb4a1f91",
   "metadata": {},
   "source": [
    "### 알아둬야 하는 모듈\n",
    "---\n",
    "|기능|모듈들|\n",
    "|----|------|\n",
    "|시스템 정보|sys, os|\n",
    "|파일, 디렉토리작업|os, shutil, glob|\n",
    "|날짜, 시간 관련 작업|datetime|\n",
    "|메일관련 작업|smtlib, email|"
   ]
  },
  {
   "cell_type": "markdown",
   "id": "342bc7ec",
   "metadata": {},
   "source": [
    "## 운영체제 이름 조회하기"
   ]
  },
  {
   "cell_type": "code",
   "execution_count": 4,
   "id": "11dc5046",
   "metadata": {},
   "outputs": [
    {
     "name": "stdout",
     "output_type": "stream",
     "text": [
      "win32\n"
     ]
    }
   ],
   "source": [
    "import sys\n",
    "import os\n",
    "\n",
    "# 현재 운영체제 이름 얻기\n",
    "print(sys.platform)"
   ]
  },
  {
   "cell_type": "markdown",
   "id": "e3182275",
   "metadata": {},
   "source": [
    "## 운영체제별 CLI명령어 수행하기"
   ]
  },
  {
   "cell_type": "code",
   "execution_count": 23,
   "id": "acafdc1c",
   "metadata": {},
   "outputs": [
    {
     "data": {
      "text/plain": [
       "0"
      ]
     },
     "execution_count": 23,
     "metadata": {},
     "output_type": "execute_result"
    }
   ],
   "source": [
    "if sys.platform == 'win32':\n",
    "    command = 'dir'\n",
    "else:\n",
    "    command = 'ls -l'\n",
    "\n",
    "os.system(command)\n"
   ]
  },
  {
   "cell_type": "markdown",
   "id": "c57a9a45",
   "metadata": {},
   "source": [
    "## 폴더 파일 작업"
   ]
  },
  {
   "cell_type": "code",
   "execution_count": 11,
   "id": "2e2bb283",
   "metadata": {},
   "outputs": [
    {
     "name": "stdout",
     "output_type": "stream",
     "text": [
      "True\n"
     ]
    }
   ],
   "source": [
    "# 폴더나 파일의 존재 여부 검사\n",
    "k = os.path.exists(\"helloworld.txt\")\n",
    "\n",
    "print(k)"
   ]
  },
  {
   "cell_type": "code",
   "execution_count": 14,
   "id": "d80c2333",
   "metadata": {},
   "outputs": [],
   "source": [
    "# 폴더 트리 생성하기\n",
    "\n",
    "#os.mkdir(\"list/is/short\") # life나 is 폴더가 없다면 에러\n",
    "\n",
    "os.makedirs(\"list/is/short\") # 폴더가 없으면 순차적으로 모두 생성"
   ]
  },
  {
   "cell_type": "code",
   "execution_count": 24,
   "id": "e9bdc3ce",
   "metadata": {},
   "outputs": [
    {
     "name": "stdout",
     "output_type": "stream",
     "text": [
      "C:\\python_practice\n"
     ]
    }
   ],
   "source": [
    "# 현재 폴더의 위치 조회하기\n",
    "\n",
    "print(os.getcwd())"
   ]
  },
  {
   "cell_type": "code",
   "execution_count": 17,
   "id": "76d4288a",
   "metadata": {},
   "outputs": [
    {
     "name": "stdout",
     "output_type": "stream",
     "text": [
      "['.ipynb_checkpoints', '01-HelloPython.ipynb', '01-변수와_문자열_연습문제.ipynb', '02-프로그래밍_언어의_이해.ipynb', '02-프로그램 흐름 제어 연습문제.ipynb', '03-반복문,리스트 연습문제.ipynb', '03-연산자,문자열,포메팅.ipynb', '04-리스트, 튜플.ipynb', '04-리스트,딕셔너리 연습문제.ipynb', '05-반복문 연습문제.ipynb', '05-반복문,리스트,함수,파일입출력 연습문제.ipynb', '06-딕셔너리,조건문.ipynb', '07-함수.ipynb', '08-파일입출력.ipynb', '09-객체지향, 클래스.ipynb', '10-파이썬 내장 모듈.ipynb', 'csv과제.ipynb', 'grade.csv', 'hellopython.txt', 'HelloWorld.py', 'helloworld.txt', 'KakaoTalk_20210414_215039285.mp4', 'KakaoTalk_20210414_215455858.mp4', 'list', 'my_mod1.py', 'my_mod2.py', 'my_mod3.py', 'traffic.csv', '__pycache__', '연습문제.ipynb', '카카오톡 받은 파일', '파이썬 연습문제 06.ipynb']\n"
     ]
    }
   ],
   "source": [
    "# 하위 항목 조회\n",
    "\n",
    "ls = os.listdir(\"./\")\n",
    "print(ls)"
   ]
  },
  {
   "cell_type": "markdown",
   "id": "f16021cb",
   "metadata": {},
   "source": [
    "* 절대경로 항목 조회\n",
    "절대 결로는 운영 체제에 맞춰서 값을 입력해줘야 함\n",
    "\n",
    "- 리눅스/맥 : / 로 구분\n",
    "- 윈도우 : \\ 로 구분 \\\\로 사용"
   ]
  },
  {
   "cell_type": "code",
   "execution_count": 18,
   "id": "7c7cf293",
   "metadata": {},
   "outputs": [
    {
     "name": "stdout",
     "output_type": "stream",
     "text": [
      "C:\\python_practice\\helloworld.txt\n"
     ]
    }
   ],
   "source": [
    "# 절대 경로 확인\n",
    "\n",
    "print(os.path.abspath(\"helloworld.txt\"))"
   ]
  },
  {
   "cell_type": "markdown",
   "id": "d0da34ee",
   "metadata": {},
   "source": [
    "## 폴더의 생성과 삭제"
   ]
  },
  {
   "cell_type": "code",
   "execution_count": 29,
   "id": "62e74dc8",
   "metadata": {},
   "outputs": [
    {
     "name": "stdout",
     "output_type": "stream",
     "text": [
      "hello 폴더를 삭제했습니다. \n"
     ]
    }
   ],
   "source": [
    "k = os.path.exists(\"hello\")\n",
    "\n",
    "if k == False:\n",
    "    os.mkdir('./hello')\n",
    "    print(\"hello 폴더를 생성했습니다. \")\n",
    "else:\n",
    "    os.rmdir('./hello')\n",
    "    print('hello 폴더를 삭제했습니다. ')"
   ]
  },
  {
   "cell_type": "markdown",
   "id": "94314df0",
   "metadata": {},
   "source": [
    "## shutil 모듈"
   ]
  },
  {
   "cell_type": "markdown",
   "id": "3cae3abb",
   "metadata": {},
   "source": [
    "### 파일 이동과 복사를 담당하는 모듈"
   ]
  },
  {
   "cell_type": "code",
   "execution_count": 37,
   "id": "48fc8ddb",
   "metadata": {},
   "outputs": [
    {
     "name": "stdout",
     "output_type": "stream",
     "text": [
      "python폴더와 하위 폴더를 생성했습니다\n",
      "python 폴더를 python1으로 이동 했습니다. \n",
      "python1 폴더를 python2으로 복사 했습니다. \n"
     ]
    }
   ],
   "source": [
    "# 폴더 복사 이동 이름바꾸기 삭제\n",
    "\n",
    "import shutil\n",
    "\n",
    "if os.path.exists('python1') == False and os.path.exists('python2') == False:\n",
    "    # 순환적으로 폴더 생성\n",
    "    # exist_ok 옵션은 폴더가 이미 존재하더라도 에러 발생 안함\n",
    "    os.makedirs('python/test/hello/world', exist_ok = True)\n",
    "    print('python폴더와 하위 폴더를 생성했습니다')\n",
    "    \n",
    "    if os.path.exists('python1') == False:\n",
    "        shutil.move('python', 'python1')\n",
    "        print('python 폴더를 python1으로 이동 했습니다. ')\n",
    "        \n",
    "    if os.path.exists('python2') == False:\n",
    "        shutil.copytree('python1', 'python2')\n",
    "        print('python1 폴더를 python2으로 복사 했습니다. ')\n",
    "          \n",
    "else:\n",
    "    shutil.rmtree('python1')\n",
    "    shutil.rmtree('python2')\n",
    "    print(\"python1, python2 폴더가 삭제되었습니다. \")\n",
    "    "
   ]
  },
  {
   "cell_type": "code",
   "execution_count": 43,
   "id": "95ffde24",
   "metadata": {},
   "outputs": [
    {
     "name": "stdout",
     "output_type": "stream",
     "text": [
      "hello.txt가 삭제되었습니다. \n",
      "world.txt가 삭제되었습니다. \n"
     ]
    }
   ],
   "source": [
    "# 파일 복사 이동 이름바꾸기 삭제\n",
    "\n",
    "if os.path.exists('hello.txt') == False:\n",
    "    \n",
    "    with open(\"hello.txt\", \"w\") as f:\n",
    "        f.write(\"Life is too short, You need Pyhton\")\n",
    "        print('hello.txt 파일을 생성했습니다.')\n",
    "    \n",
    "    shutil.copy('hello.txt', 'world.txt')\n",
    "    print('hello.txt가 world.txt로 복사되엇습니다. ')\n",
    "else:\n",
    "    os.remove('hello.txt')\n",
    "    print('hello.txt가 삭제되었습니다. ')\n",
    "    \n",
    "    os.remove('world.txt')\n",
    "    print('world.txt가 삭제되었습니다. ')\n",
    "    "
   ]
  },
  {
   "cell_type": "markdown",
   "id": "3a581ec5",
   "metadata": {},
   "source": [
    "## Glob 모듈 파일 필터링"
   ]
  },
  {
   "cell_type": "code",
   "execution_count": 55,
   "id": "ad2fe8fd",
   "metadata": {},
   "outputs": [
    {
     "name": "stdout",
     "output_type": "stream",
     "text": [
      "['01-HelloPython.ipynb', '01-변수와_문자열_연습문제.ipynb', '02-프로그래밍_언어의_이해.ipynb', '02-프로그램 흐름 제어 연습문제.ipynb', '03-반복문,리스트 연습문제.ipynb', '03-연산자,문자열,포메팅.ipynb', '04-리스트, 튜플.ipynb', '04-리스트,딕셔너리 연습문제.ipynb', '05-반복문 연습문제.ipynb', '05-반복문,리스트,함수,파일입출력 연습문제.ipynb', '06-딕셔너리,조건문.ipynb', '07-함수.ipynb', '08-파일입출력.ipynb', '09-객체지향, 클래스.ipynb', '10-파이썬 내장 모듈.ipynb']\n"
     ]
    }
   ],
   "source": [
    "import glob as gl # 코드에 혼란을 주지 않기 위해 별칭사용\n",
    "\n",
    "ls = gl.glob('??-*') #파일 필터링 가능\n",
    "print(ls)"
   ]
  },
  {
   "cell_type": "markdown",
   "id": "c842e014",
   "metadata": {},
   "source": [
    "## 날짜 시간 관련 모듈"
   ]
  },
  {
   "cell_type": "markdown",
   "id": "01412e13",
   "metadata": {},
   "source": [
    "### 현재 시각 조회하기"
   ]
  },
  {
   "cell_type": "code",
   "execution_count": 58,
   "id": "5ec76cbb",
   "metadata": {},
   "outputs": [
    {
     "name": "stdout",
     "output_type": "stream",
     "text": [
      "2021-04-15 11:09:06.972757\n",
      "2021\n",
      "4\n",
      "15\n",
      "11\n",
      "9\n",
      "6\n",
      "972757\n"
     ]
    }
   ],
   "source": [
    "import datetime as dt\n",
    "\n",
    "# 현재시각을 갖는 객체 가져오기\n",
    "now_time = dt.datetime.now()\n",
    "print(now_time)\n",
    "\n",
    "# 원하는 값 추출\n",
    "print(now_time.year)\n",
    "print(now_time.month)\n",
    "print(now_time.day)\n",
    "print(now_time.hour)\n",
    "print(now_time.minute)\n",
    "print(now_time.second)\n",
    "print(now_time.microsecond)"
   ]
  },
  {
   "cell_type": "markdown",
   "id": "44541071",
   "metadata": {},
   "source": [
    "### 오늘 요일 조회하기\n"
   ]
  },
  {
   "cell_type": "code",
   "execution_count": 61,
   "id": "30d1da9f",
   "metadata": {},
   "outputs": [
    {
     "name": "stdout",
     "output_type": "stream",
     "text": [
      "3\n",
      "목\n"
     ]
    }
   ],
   "source": [
    "d = now_time.weekday() #(0: 월 1:화 2:수 3:목 4:금 5:토 6:일)\n",
    "print(d)\n",
    "\n",
    "days = (\"월\", \"화\", \"수\", \"목\", \"금\", \"토\", \"일\")\n",
    "print(days[d])"
   ]
  },
  {
   "cell_type": "code",
   "execution_count": 66,
   "id": "55c0e21c",
   "metadata": {},
   "outputs": [
    {
     "name": "stdout",
     "output_type": "stream",
     "text": [
      "21-04-15 11:09:06 목요일\n"
     ]
    }
   ],
   "source": [
    "# 출력 형식 만들기\n",
    "\n",
    "\"\"\"\n",
    "%Y 앞의 빈자리를0으로 채우는 4자리 연도 숫자\n",
    "%y 앞의 빈자리를0으로 채우는 2자리 연도 숫자\n",
    "%m 앞의 빈자리를0으로 채우는 2자리 월 숫자\n",
    "%d 앞의 빈자리를0으로 채우는 2자리 일 숫자\n",
    "%H 앞의 빈자리를0으로 채우는 24시간 형식 2자리 시간 숫자\n",
    "%M 앞의 빈자리를0으로 채우는 2자리 분 숫자\n",
    "%S 앞의 빈자리를0으로 채우는 2자리 초 숫자\n",
    "\"\"\"\n",
    "\n",
    "print(now_time.strftime(\"%y-%m-%d %H:%M:%S\") ,\"%s요일\" %days[d])"
   ]
  },
  {
   "cell_type": "markdown",
   "id": "110b2a05",
   "metadata": {},
   "source": [
    "# 날짜 객체를 만드는 다른 방법"
   ]
  },
  {
   "cell_type": "code",
   "execution_count": 70,
   "id": "bed1a0e2",
   "metadata": {},
   "outputs": [
    {
     "name": "stdout",
     "output_type": "stream",
     "text": [
      "18-08-30 13:26:55\n",
      "17-01-02 14:44:00\n",
      "18-01-16 15:44:00\n"
     ]
    }
   ],
   "source": [
    "# 특정 시간을 저장\n",
    "someday = dt.datetime(2018,8,30,13,26,55)\n",
    "print(someday.strftime(\"%y-%m-%d %H:%M:%S\"))\n",
    "\n",
    "# 날짜 형식으 문자열을 날짜객체로 변환\n",
    "date_str = \"2017년 01월 02일 14시 44분\"\n",
    "oldday = dt.datetime.strptime(date_str, \"%Y년 %m월 %d일 %H시 %M분\")\n",
    "print(oldday.strftime(\"%y-%m-%d %H:%M:%S\"))\n",
    "\n",
    "# 특정 값 변경하기\n",
    "change_date = oldday.replace(year = 2018, day = 16, hour = 15)\n",
    "print(change_date.strftime(\"%y-%m-%d %H:%M:%S\"))"
   ]
  },
  {
   "cell_type": "markdown",
   "id": "1624f584",
   "metadata": {},
   "source": [
    "### 날짜 차이 계산하기"
   ]
  },
  {
   "cell_type": "code",
   "execution_count": 71,
   "id": "742da196",
   "metadata": {},
   "outputs": [
    {
     "name": "stdout",
     "output_type": "stream",
     "text": [
      "260 days, 12:36:04.617195\n"
     ]
    }
   ],
   "source": [
    "# 오늘 날짜\n",
    "today = dt.datetime.now()\n",
    "# 내년 자정\n",
    "next_year = dt.datetime(today.year + 1,1,1,0,0,0)\n",
    "\n",
    "td = next_year - today #날짜와 초 형식\n",
    "print(td)"
   ]
  },
  {
   "cell_type": "code",
   "execution_count": 74,
   "id": "65e22ffd",
   "metadata": {},
   "outputs": [
    {
     "name": "stdout",
     "output_type": "stream",
     "text": [
      "260\n",
      "45364\n",
      "올해는 260일 남았습니다. \n",
      "22509364.617195\n"
     ]
    }
   ],
   "source": [
    "# 날짜만 추출\n",
    "print(td.days)\n",
    "\n",
    "# 시,분,초를 초로 합산\n",
    "print(td.seconds)\n",
    "print(\"올해는 %d일 남았습니다. \" %td.days)\n",
    "\n",
    "# 모든 속성을 초로\n",
    "print(\"%f\" %td.total_seconds())"
   ]
  },
  {
   "cell_type": "markdown",
   "id": "11721a3e",
   "metadata": {},
   "source": [
    "## 100일 하고 한시간 후의 날짜 계산"
   ]
  },
  {
   "cell_type": "code",
   "execution_count": 75,
   "id": "5b6dfc23",
   "metadata": {},
   "outputs": [
    {
     "name": "stdout",
     "output_type": "stream",
     "text": [
      "2021-07-24 12:27:40\n"
     ]
    }
   ],
   "source": [
    "now_time = dt.datetime.now()\n",
    "\n",
    "d = dt.timedelta(100, 3600)\n",
    "\n",
    "after_time = now_time + d\n",
    "print(after_time.strftime(\"%Y-%m-%d %H:%M:%S\"))"
   ]
  },
  {
   "cell_type": "code",
   "execution_count": null,
   "id": "a2c5ec23",
   "metadata": {},
   "outputs": [],
   "source": []
  }
 ],
 "metadata": {
  "kernelspec": {
   "display_name": "Python 3",
   "language": "python",
   "name": "python3"
  },
  "language_info": {
   "codemirror_mode": {
    "name": "ipython",
    "version": 3
   },
   "file_extension": ".py",
   "mimetype": "text/x-python",
   "name": "python",
   "nbconvert_exporter": "python",
   "pygments_lexer": "ipython3",
   "version": "3.8.8"
  }
 },
 "nbformat": 4,
 "nbformat_minor": 5
}
