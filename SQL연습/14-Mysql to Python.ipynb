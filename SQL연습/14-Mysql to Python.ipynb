{
 "cells": [
  {
   "cell_type": "markdown",
   "id": "7be338aa",
   "metadata": {},
   "source": [
    "# PyMySQL을 활용한 데이터 입출력 구현"
   ]
  },
  {
   "cell_type": "code",
   "execution_count": 16,
   "id": "f0b9025d",
   "metadata": {},
   "outputs": [],
   "source": [
    "import pymysql\n",
    "from pandas import DataFrame\n",
    "\n",
    "# 접속정보 변수 초기화\n",
    "HOSTNAME = 'localhost'\n",
    "PORT = 3306\n",
    "USERNAME = 'root'\n",
    "PASSWORD = '123qwe!@#'\n",
    "DATABASE = 'myschool'\n",
    "CHARSET = 'utf8'\n",
    "\n",
    "# 데이터베이스 접속하기\n",
    "dbcon = pymysql.connect(host = HOSTNAME, port = PORT, user = USERNAME, password = PASSWORD,\n",
    "                       db=DATABASE, charset = CHARSET)"
   ]
  },
  {
   "cell_type": "markdown",
   "id": "b6e428a7",
   "metadata": {},
   "source": [
    "## 데이터 입력, 수정, 삭제"
   ]
  },
  {
   "cell_type": "markdown",
   "id": "b99dee74",
   "metadata": {},
   "source": [
    "### 1) 커서 객체 생성\n",
    "<li> SQL을 실행하는 기능을 갖는 커서 객체를 생성하고, execute()함수를 사용하여 SQL문을 파라미터로 전달한다.</li>"
   ]
  },
  {
   "cell_type": "code",
   "execution_count": 17,
   "id": "6b57d6b2",
   "metadata": {},
   "outputs": [],
   "source": [
    "# 커서 생성하기\n",
    "cursor = dbcon.cursor()"
   ]
  },
  {
   "cell_type": "markdown",
   "id": "c22ab414",
   "metadata": {},
   "source": [
    "### 2) 데이터 저장하기\n",
    "<li>테이블의 데이터에 상관없이 <b>%s</b>로 정의, execute()함수의 두 번째 파라미터로 이스케이프 문자를 치환하기 위한 튜플을 전달</li>\n",
    "<li>INSERT문의 경우 sql 수행 후 AUTO_INCREMENT로 지정된 PK값을 반환받을 수 있다.</li>\n",
    "<li>입력, 수정, 삭제 처리의 경우 dbcon.commit()을 호출해야 저장</li>"
   ]
  },
  {
   "cell_type": "code",
   "execution_count": 18,
   "id": "9f13d855",
   "metadata": {},
   "outputs": [
    {
     "name": "stdout",
     "output_type": "stream",
     "text": [
      "생성된 학과번호 : 204\n"
     ]
    }
   ],
   "source": [
    "# 저장할 데이터 설정\n",
    "dname = 'Python'\n",
    "loc = '1401호',\n",
    "\n",
    "# 저장을 위한 SQL 실행(문자열 데이터도 홑따옴표 사용 안함)\n",
    "sql = \"INSERT INTO department_2 (dname, loc) VALUES (%s, %s)\"\n",
    "cursor.execute(sql, (dname,loc))\n",
    "\n",
    "# insert시에 생성된 PK값 얻기\n",
    "# -> 반드시 commit() 전에 조회 (update, delete는 불필요)\n",
    "\n",
    "new_deptno = dbcon.insert_id()\n",
    "print('생성된 학과번호 : %d' % new_deptno)\n",
    "\n",
    "# 변경사항 저장하기\n",
    "dbcon.commit()"
   ]
  },
  {
   "cell_type": "markdown",
   "id": "dd5575cf",
   "metadata": {},
   "source": [
    "### 3) 데이터 수정하기\n",
    "<li>앞에서 저장한 데이터의 학과명과 위치 수정</li>\n",
    "<li>SQL에 지정되는 모든 변수는 %s 타입 숫자면 str()사용</li>"
   ]
  },
  {
   "cell_type": "code",
   "execution_count": 19,
   "id": "b10dc793",
   "metadata": {},
   "outputs": [
    {
     "name": "stdout",
     "output_type": "stream",
     "text": [
      "수정된 데이터 수 : 1\n"
     ]
    }
   ],
   "source": [
    "# 수정할 데이터 설정\n",
    "dname = '빅데이터'\n",
    "loc = '공학관'\n",
    "\n",
    "# 수정을 위한 SQL 실행\n",
    "sql = \"UPDATE department_2 SET dname=%s, loc=%s WHERE deptno=%s\"\n",
    "edit_count = cursor.execute(sql, (dname, loc, new_deptno))\n",
    "\n",
    "print('수정된 데이터 수 : %d' % edit_count )\n",
    "\n",
    "dbcon.commit()"
   ]
  },
  {
   "cell_type": "markdown",
   "id": "c39f50d8",
   "metadata": {},
   "source": [
    "### 4) 데이터 삭제하기"
   ]
  },
  {
   "cell_type": "code",
   "execution_count": 20,
   "id": "c3d401ae",
   "metadata": {},
   "outputs": [
    {
     "name": "stdout",
     "output_type": "stream",
     "text": [
      "삭제된 데이터 수 : 1 \n"
     ]
    }
   ],
   "source": [
    "# 삭제를 위한 sql 실행\n",
    "sql = 'DELETE FROM department_2 WHERE deptno=%s'\n",
    "delete_count = cursor.execute(sql, (new_deptno))\n",
    "\n",
    "print('삭제된 데이터 수 : %d ' % delete_count)\n",
    "\n",
    "dbcon.commit()"
   ]
  },
  {
   "cell_type": "markdown",
   "id": "468e18da",
   "metadata": {},
   "source": [
    "### 5) 데이터 조회하기\n",
    "<li>cursor 객체의 fetchone() 함수를 호출하면 조회 결과를 리턴</li>\n"
   ]
  },
  {
   "cell_type": "code",
   "execution_count": 24,
   "id": "3b8b9245",
   "metadata": {},
   "outputs": [
    {
     "data": {
      "text/plain": [
       "(202, '기계공학과', '4호관')"
      ]
     },
     "execution_count": 24,
     "metadata": {},
     "output_type": "execute_result"
    }
   ],
   "source": [
    "# 단일행 조회\n",
    "# 조회를 위한 sql 형식\n",
    "sql = \"\"\"select deptno '학과번호', dname '학과이름', loc '학과위치'\n",
    "from department_2 where deptno=%s\"\"\"\n",
    "\n",
    "# %s에 202라는 값을 적용하여 실행\n",
    "cursor.execute(sql, (202))\n",
    "\n",
    "# 조회 결과 한 줄을 튜플로 반환\n",
    "result = cursor.fetchone()\n",
    "result"
   ]
  },
  {
   "cell_type": "code",
   "execution_count": 25,
   "id": "e98a747a",
   "metadata": {},
   "outputs": [
    {
     "data": {
      "text/plain": [
       "((101, '컴퓨터공학과', '1호관'),\n",
       " (102, '멀티미디어학과', '2호관'),\n",
       " (201, '전자공학과', '3호관'),\n",
       " (202, '기계공학과', '4호관'))"
      ]
     },
     "execution_count": 25,
     "metadata": {},
     "output_type": "execute_result"
    }
   ],
   "source": [
    "# 다중행 데이터 조회\n",
    "# fetchall() 함수 사용\n",
    "sql = 'select deptno, dname, loc from department_2'\n",
    "cursor.execute(sql)\n",
    "\n",
    "result = cursor.fetchall()\n",
    "result"
   ]
  },
  {
   "cell_type": "markdown",
   "id": "32d143f0",
   "metadata": {},
   "source": [
    "### 데이터 결과를 딕셔너리로 반환\n"
   ]
  },
  {
   "cell_type": "code",
   "execution_count": 26,
   "id": "0dd159ff",
   "metadata": {},
   "outputs": [],
   "source": [
    "# 딕셔너리를 반환받기 위한 커서 객체 생성\n",
    "cursor = dbcon.cursor(pymysql.cursors.DictCursor)"
   ]
  },
  {
   "cell_type": "code",
   "execution_count": 27,
   "id": "5fe758b6",
   "metadata": {},
   "outputs": [
    {
     "data": {
      "text/plain": [
       "{'학과번호': 202, '학과이름': '기계공학과', '학과위치': '4호관'}"
      ]
     },
     "execution_count": 27,
     "metadata": {},
     "output_type": "execute_result"
    }
   ],
   "source": [
    "# 단일행 조회\n",
    "# 조회를 위한 sql 형식\n",
    "sql = \"\"\"select deptno '학과번호', dname '학과이름', loc '학과위치'\n",
    "from department_2 where deptno=%s\"\"\"\n",
    "\n",
    "# %s에 202라는 값을 적용하여 실행\n",
    "cursor.execute(sql, (202))\n",
    "\n",
    "# 조회 결과 한 줄을 딕셔너리로 반환\n",
    "result = cursor.fetchone()\n",
    "result"
   ]
  },
  {
   "cell_type": "code",
   "execution_count": 28,
   "id": "c4d0360d",
   "metadata": {},
   "outputs": [
    {
     "data": {
      "text/plain": [
       "[{'deptno': 101, 'dname': '컴퓨터공학과', 'loc': '1호관'},\n",
       " {'deptno': 102, 'dname': '멀티미디어학과', 'loc': '2호관'},\n",
       " {'deptno': 201, 'dname': '전자공학과', 'loc': '3호관'},\n",
       " {'deptno': 202, 'dname': '기계공학과', 'loc': '4호관'}]"
      ]
     },
     "execution_count": 28,
     "metadata": {},
     "output_type": "execute_result"
    }
   ],
   "source": [
    "# 다중행 데이터 조회\n",
    "# fetchall() 함수 사용\n",
    "sql = 'select deptno, dname, loc from department_2'\n",
    "cursor.execute(sql)\n",
    "\n",
    "result = cursor.fetchall()\n",
    "result"
   ]
  },
  {
   "cell_type": "markdown",
   "id": "25534f41",
   "metadata": {},
   "source": [
    "### 데이터프레임으로 변환"
   ]
  },
  {
   "cell_type": "code",
   "execution_count": 29,
   "id": "f504c0f6",
   "metadata": {},
   "outputs": [
    {
     "data": {
      "text/html": [
       "<div>\n",
       "<style scoped>\n",
       "    .dataframe tbody tr th:only-of-type {\n",
       "        vertical-align: middle;\n",
       "    }\n",
       "\n",
       "    .dataframe tbody tr th {\n",
       "        vertical-align: top;\n",
       "    }\n",
       "\n",
       "    .dataframe thead th {\n",
       "        text-align: right;\n",
       "    }\n",
       "</style>\n",
       "<table border=\"1\" class=\"dataframe\">\n",
       "  <thead>\n",
       "    <tr style=\"text-align: right;\">\n",
       "      <th></th>\n",
       "      <th>dname</th>\n",
       "      <th>loc</th>\n",
       "    </tr>\n",
       "    <tr>\n",
       "      <th>deptno</th>\n",
       "      <th></th>\n",
       "      <th></th>\n",
       "    </tr>\n",
       "  </thead>\n",
       "  <tbody>\n",
       "    <tr>\n",
       "      <th>101</th>\n",
       "      <td>컴퓨터공학과</td>\n",
       "      <td>1호관</td>\n",
       "    </tr>\n",
       "    <tr>\n",
       "      <th>102</th>\n",
       "      <td>멀티미디어학과</td>\n",
       "      <td>2호관</td>\n",
       "    </tr>\n",
       "    <tr>\n",
       "      <th>201</th>\n",
       "      <td>전자공학과</td>\n",
       "      <td>3호관</td>\n",
       "    </tr>\n",
       "    <tr>\n",
       "      <th>202</th>\n",
       "      <td>기계공학과</td>\n",
       "      <td>4호관</td>\n",
       "    </tr>\n",
       "  </tbody>\n",
       "</table>\n",
       "</div>"
      ],
      "text/plain": [
       "          dname  loc\n",
       "deptno              \n",
       "101      컴퓨터공학과  1호관\n",
       "102     멀티미디어학과  2호관\n",
       "201       전자공학과  3호관\n",
       "202       기계공학과  4호관"
      ]
     },
     "execution_count": 29,
     "metadata": {},
     "output_type": "execute_result"
    }
   ],
   "source": [
    "df = DataFrame(result)\n",
    "df.set_index('deptno', inplace=True)\n",
    "df"
   ]
  },
  {
   "cell_type": "code",
   "execution_count": null,
   "id": "b7800766",
   "metadata": {},
   "outputs": [],
   "source": []
  }
 ],
 "metadata": {
  "kernelspec": {
   "display_name": "Python 3",
   "language": "python",
   "name": "python3"
  },
  "language_info": {
   "codemirror_mode": {
    "name": "ipython",
    "version": 3
   },
   "file_extension": ".py",
   "mimetype": "text/x-python",
   "name": "python",
   "nbconvert_exporter": "python",
   "pygments_lexer": "ipython3",
   "version": "3.8.8"
  }
 },
 "nbformat": 4,
 "nbformat_minor": 5
}
