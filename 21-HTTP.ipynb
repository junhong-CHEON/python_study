{
 "cells": [
  {
   "cell_type": "markdown",
   "metadata": {},
   "source": [
    "# HTTP 웹통신"
   ]
  },
  {
   "cell_type": "code",
   "execution_count": 4,
   "metadata": {},
   "outputs": [
    {
     "name": "stdout",
     "output_type": "stream",
     "text": [
      "<Response [200]>\n"
     ]
    }
   ],
   "source": [
    "import requests\n",
    "\n",
    "# text data url\n",
    "simple_test_url = 'http://itpaper.co.kr/data/simple_text.txt'\n",
    "\n",
    "r = requests.get(simple_test_url)\n",
    "print(r)\n",
    "\n",
    "if r.status_code != 200:\n",
    "    err_msg = '%d %s 에러가 발생했습니다.' %(r.status_code, r.reason)\n",
    "    # 강제로 에러발생\n",
    "    raise Exception(err_msg)\n"
   ]
  },
  {
   "cell_type": "markdown",
   "metadata": {},
   "source": [
    "## 텍스트 데이터 추출\n",
    "---\n",
    "- 수집한 인코딩 형식을 파이썬에게 알려준 후 텍스트 추출"
   ]
  },
  {
   "cell_type": "code",
   "execution_count": 6,
   "metadata": {},
   "outputs": [
    {
     "name": "stdout",
     "output_type": "stream",
     "text": [
      "Hello Python~!!!\n",
      "안녕하세요. 파이썬~!!!\n",
      "\n"
     ]
    }
   ],
   "source": [
    "r.encoding = 'utf-8'\n",
    "print(r.text)"
   ]
  },
  {
   "cell_type": "markdown",
   "metadata": {},
   "source": [
    "## UserAgent값을 확인하고 header 정보를 통해서 접근"
   ]
  },
  {
   "cell_type": "code",
   "execution_count": 8,
   "metadata": {},
   "outputs": [
    {
     "data": {
      "text/plain": [
       "\\n<button type=\"button\" class=\"btn_keyword_del\"><span class=\"sp_btn_keyword_del\"><span class=\"blind\">입력 내용 삭제</span></span></button>\\n    </div>\\n    <div class=\"set_keyword\">\\n        <label for=\"item_keyword2_1\" class=\"blind\">주제어5 하위 주제어</label>\\n        <input type=\"text\" value=\"\" id=\"item_sub_keyword5_1\" class=\"input_text w2\"\\n               placeholder=\"주제어 5에 해당하는 모든 검색어를 컴마(,)로 구분하여 최대 20개까지 입력\" data-text=\"\">\\n<button type=\"button\" class=\"btn_keyword_del\"><span class=\"sp_btn_keyword_del\"><span class=\"blind\">입력 내용 삭제</span></span></button>\\n    </div>\\n</div>\\n<div class=\"form_row hr\">\\n\\t<strong class=\"title\">기간</strong>\\n    <div class=\"set_period\">\\n        <input type=\"radio\" name=\"item_period\" id=\"set_period1\" class=\"blind\">\\n        <label for=\"set_period1\" class=\"period \">전체</label>\\n        <input type=\"radio\" name=\"item_period\" id=\"set_period2\" class=\"blind\">\\n        <label for=\"set_period2\" class=\"period\">1개월</label>\\n        <input type=\"radio\" name=\"item_period\" id=\"set_period3\" class=\"blind\">\\n        <label for=\"set_period3\" class=\"period\">3개월</label>\\n        <input type=\"radio\" name=\"item_period\" id=\"set_period4\" class=\"blind\">\\n        <label for=\"set_period4\" class=\"period\">1년</label>\\n        <input type=\"radio\" name=\"item_period\" id=\"set_period5\" class=\"blind\">\\n        <label for=\"set_period5\" class=\"period input \">직접입력</label>\\n\\n<div id=\"timeDimensionDiv\" class=\"select w4\">\\n    <input type=\"hidden\" id=\"timeDimension\" name=\"timeDimension\" class=\"_select_input\" value=\"date\"/>\\n    <a href=\"#\" id=\"timeDimensionTitle\" class=\"select_btn\">일간</a>\\n    <ul class=\"select_list scroll_cst\">\\n        <li class=\"select_item _item_date active\" value=\"date\"><a href=\"#\" class=\"option\">일간</a></li>\\n        <li class=\"select_item _item_week\" value=\"week\"><a href=\"#\" class=\"option\">주간</a></li>\\n        <li class=\"select_item _item_month\" value=\"month\"><a href=\"#\" class=\"option\">월간</a></li>\\n    </ul>\\n</div>\\n    </div>\\n    <div class=\"set_period_target\">\\n<div id=\"startYearDiv\" class=\"select w2\" >\\n    <input type=\"hidden\" id=\"startYearInput\" name=\"startYearInput\" class=\"_select_input\" value=\"2016\"/>\\n    <a href=\"#\" id=\"startYear\" class=\"select_btn\">2016</a>\\n    <ul class=\"select_list scroll_cst\">\\n        <li class=\"select_item _item_2016\"><a href=\"#\" class=\"option\">2016</a></li>\\n        <li class=\"select_item _item_2017\"><a href=\"#\" class=\"option\">2017</a></li>\\n        <li class=\"select_item _item_2018\"><a href=\"#\" class=\"option\">2018</a></li>\\n        <li class=\"select_item _item_2019\"><a href=\"#\" class=\"option\">2019</a></li>\\n        <li class=\"select_item _item_2020\"><a href=\"#\" class=\"option\">2020</a></li>\\n        <li class=\"select_item _item_2021\"><a href=\"#\" class=\"option\">2021</a></li>\\n    </ul>\\n</div>\\n<div id=\"startMonthDiv\" class=\"select w3\" >\\n    <input type=\"hidden\" id=\"startMonthInput\" name=\"startMonthInput\" class=\"_select_input\" value=\"05\"/>\\n    <a href=\"#\" id=\"startMonth\" class=\"select_btn\">05</a>\\n    <ul class=\"select_list scroll_cst\">\\n        <li class=\"select_item _item_01\"><a href=\"#\" class=\"option\">01</a></li>\\n        <li class=\"select_item _item_02\"><a href=\"#\" class=\"option\">02</a></li>\\n        <li class=\"select_item _item_03\"><a href=\"#\" class=\"option\">03</a></li>\\n        <li class=\"select_item _item_04\"><a href=\"#\" class=\"option\">04</a></li>\\n        <li class=\"select_item _item_05\"><a href=\"#\" class=\"option\">05</a></li>\\n        <li class=\"select_item _item_06\"><a href=\"#\" class=\"option\">06</a></li>\\n        <li class=\"select_item _item_07\"><a href=\"#\" class=\"option\">07</a></li>\\n        <li class=\"select_item _item_08\"><a href=\"#\" class=\"option\">08</a></li>\\n        <li class=\"select_item _item_09\"><a href=\"#\" class=\"option\">09</a></li>\\n        <li class=\"select_item _item_10\"><a href=\"#\" class=\"option\">10</a></li>\\n        <li class=\"select_item _item_11\"><a href=\"#\" class=\"option\">11</a></li>\\n        <li class=\"select_item _item_12\"><a href=\"#\" class=\"option\">12</a></li>\\n    </ul>\\n</div>\\n<div id=\"startDayDiv\" class=\"select w3\" >\\n    <input type=\"hidden\" id=\"startDayInput\" name=\"startDayInput\" class=\"_select_input\" value=\"18\"/>\\n    <a href=\"#\" id=\"startDay\" class=\"select_btn\">18</a>\\n    <ul class=\"select_list scroll_cst\">\\n        <li class=\"select_item _item_01\"><a href=\"#\" class=\"option\">01</a></li>\\n        <li class=\"select_item _item_02\"><a href=\"#\" class=\"option\">02</a></li>\\n        <li class=\"select_item _item_03\"><a href=\"#\" class=\"option\">03</a></li>\\n        <li class=\"select_item _item_04\"><a href=\"#\" class=\"option\">04</a></li>\\n        <li class=\"select_item _item_05\"><a href=\"#\" class=\"option\">05</a></li>\\n        <li class=\"select_item _item_06\"><a href=\"#\" class=\"option\">06</a></li>\\n        <li class=\"select_item _item_07\"><a href=\"#\" class=\"option\">07</a></li>\\n        <li class=\"select_item _item_08\"><a href=\"#\" class=\"option\">08</a></li>\\n        <li class=\"select_item _item_09\"><a href=\"#\" class=\"option\">09</a></li>\\n        <li class=\"select_item _item_10\"><a href=\"#\" class=\"option\">10</a></li>\\n        <li class=\"select_item _item_11\"><a href=\"#\" class=\"option\">11</a></li>\\n        <li class=\"select_item _item_12\"><a href=\"#\" class=\"option\">12</a></li>\\n        <li class=\"select_item _item_13\"><a href=\"#\" class=\"option\">13</a></li>\\n        <li class=\"select_item _item_14\"><a href=\"#\" class=\"option\">14</a></li>\\n        <li class=\"select_item _item_15\"><a href=\"#\" class=\"option\">15</a></li>\\n        <li class=\"select_item _item_16\"><a href=\"#\" class=\"option\">16</a></li>\\n        <li class=\"select_item _item_17\"><a href=\"#\" class=\"option\">17</a></li>\\n        <li class=\"select_item _item_18\"><a href=\"#\" class=\"option\">18</a></li>\\n        <li class=\"select_item _item_19\"><a href=\"#\" class=\"option\">19</a></li>\\n        <li class=\"select_item _item_20\"><a href=\"#\" class=\"option\">20</a></li>\\n        <li class=\"select_item _item_21\"><a href=\"#\" class=\"option\">21</a></li>\\n        <li class=\"select_item _item_22\"><a href=\"#\" class=\"option\">22</a></li>\\n        <li class=\"select_item _item_23\"><a href=\"#\" class=\"option\">23</a></li>\\n        <li class=\"select_item _item_24\"><a href=\"#\" class=\"option\">24</a></li>\\n        <li class=\"select_item _item_25\"><a href=\"#\" class=\"option\">25</a></li>\\n        <li class=\"select_item _item_26\"><a href=\"#\" class=\"option\">26</a></li>\\n        <li class=\"select_item _item_27\"><a href=\"#\" class=\"option\">27</a></li>\\n        <li class=\"select_item _item_28\"><a href=\"#\" class=\"option\">28</a></li>\\n        <li class=\"select_item _item_29\"><a href=\"#\" class=\"option\">29</a></li>\\n        <li class=\"select_item _item_30\"><a href=\"#\" class=\"option\">30</a></li>\\n        <li class=\"select_item _item_31\"><a href=\"#\" class=\"option\">31</a></li>\\n    </ul>\\n</div>\\n        <span class=\"bar\">\\n            <span class=\"blind\">부터</span>\\n        </span>\\n<div id=\"endYearDiv\" class=\"select w2\" >\\n    <input type=\"hidden\" id=\"endYearInput\" name=\"endYearInput\" class=\"_select_input\" value=\"2021\"/>\\n    <a href=\"#\" id=\"endYear\" class=\"select_btn\">2021</a>\\n    <ul class=\"select_list scroll_cst\">\\n        <li class=\"select_item _item_2016\"><a href=\"#\" class=\"option\">2016</a></li>\\n        <li class=\"select_item _item_2017\"><a href=\"#\" class=\"option\">2017</a></li>\\n        <li class=\"select_item _item_2018\"><a href=\"#\" class=\"option\">2018</a></li>\\n        <li class=\"select_item _item_2019\"><a href=\"#\" class=\"option\">2019</a></li>\\n        <li class=\"select_item _item_2020\"><a href=\"#\" class=\"option\">2020</a></li>\\n        <li class=\"select_item _item_2021\"><a href=\"#\" class=\"option\">2021</a></li>\\n    </ul>\\n</div>\\n<div id=\"endMonthDiv\" class=\"select w3\" >\\n    <input type=\"hidden\" id=\"endMonthInput\" name=\"endMonthInput\" class=\"_select_input\" value=\"05\"/>\\n    <a href=\"#\" id=\"endMonth\" class=\"select_btn\">05</a>\\n    <ul class=\"select_list scroll_cst\">\\n        <li class=\"select_item _item_01\"><a href=\"#\" class=\"option\">01</a></li>\\n        <li class=\"select_item _item_02\"><a href=\"#\" class=\"option\">02</a></li>\\n        <li class=\"select_item _item_03\"><a href=\"#\" class=\"option\">03</a></li>\\n        <li class=\"select_item _item_04\"><a href=\"#\" class=\"option\">04</a></li>\\n        <li class=\"select_item _item_05\"><a href=\"#\" class=\"option\">05</a></li>\\n    </ul>\\n</div>\\n<div id=\"endDayDiv\" class=\"select w3\" >\\n    <input type=\"hidden\" id=\"endDayInput\" name=\"endDayInput\" class=\"_select_input\" value=\"18\"/>\\n    <a href=\"#\" id=\"endDay\" class=\"select_btn\">18</a>\\n    <ul class=\"select_list scroll_cst\">\\n        <li class=\"select_item _item_01\"><a href=\"#\" class=\"option\">01</a></li>\\n        <li class=\"select_item _item_02\"><a href=\"#\" class=\"option\">02</a></li>\\n        <li class=\"select_item _item_03\"><a href=\"#\" class=\"option\">03</a></li>\\n        <li class=\"select_item _item_04\"><a href=\"#\" class=\"option\">04</a></li>\\n        <li class=\"select_item _item_05\"><a href=\"#\" class=\"option\">05</a></li>\\n        <li class=\"select_item _item_06\"><a href=\"#\" class=\"option\">06</a></li>\\n        <li class=\"select_item _item_07\"><a href=\"#\" class=\"option\">07</a></li>\\n        <li class=\"select_item _item_08\"><a href=\"#\" class=\"option\">08</a></li>\\n        <li class=\"select_item _item_09\"><a href=\"#\" class=\"option\">09</a></li>\\n        <li class=\"select_item _item_10\"><a href=\"#\" class=\"option\">10</a></li>\\n        <li class=\"select_item _item_11\"><a href=\"#\" class=\"option\">11</a></li>\\n        <li class=\"select_item _item_12\"><a href=\"#\" class=\"option\">12</a></li>\\n        <li class=\"select_item _item_13\"><a href=\"#\" class=\"option\">13</a></li>\\n        <li class=\"select_item _item_14\"><a href=\"#\" class=\"option\">14</a></li>\\n        <li class=\"select_item _item_15\"><a href=\"#\" class=\"option\">15</a></li>\\n        <li class=\"select_item _item_16\"><a href=\"#\" class=\"option\">16</a></li>\\n        <li class=\"select_item _item_17\"><a href=\"#\" class=\"option\">17</a></li>\\n        <li class=\"select_item _item_18\"><a href=\"#\" class=\"option\">18</a></li>\\n    </ul>\\n</div>\\n    </div>\\n    <p class=\"form_row_desc dot_ver\">2016년 1월 이후 조회할 수 있습니다.</p>\\n</div>\\n<div class=\"form_row mb4\">\\n    <strong class=\"title\">범위</strong>\\n    <div class=\"set_col set_target_chk _checkbox_ui\">\\n        <div class=\"set_chk\">\\n            <span class=\"select_chk v1\">\\n                <input type=\"checkbox\" id=\"item_device_0\" class=\"chk _check_all\">\\n                <label class=\"lbl\" for=\"item_device_0\">전체</label>\\n            </span>\\n            <span class=\"_item_check_div _device_div\" style=\"margin-left:11px;\">\\n                <span class=\"select_chk v1\">\\n                    <input type=\"checkbox\" id=\"item_device_1\" value=\"mo\" class=\"chk\" >\\n                    <label class=\"lbl\" for=\"item_device_1\">모바일</label>\\n                </span>\\n                <span class=\"select_chk v1\">\\n                    <input type=\"checkbox\" id=\"item_device_2\" value=\"pc\" class=\"chk\" >\\n                    <label class=\"lbl\" for=\"item_device_2\">PC</label>\\n                </span>\\n            </span>\\n        </div>\\n    </div>\\n</div>\\n\\n<div class=\"form_row mb4\">\\n    <strong class=\"title\">성별</strong>\\n    <div class=\"set_col set_target_chk _checkbox_ui\">\\n        <div class=\"set_chk\">\\n            <span class=\"select_chk v1\">\\n                <input type=\"checkbox\" id=\"item_gender_0\" class=\"chk _check_all\">\\n                <label class=\"lbl\" for=\"item_gender_0\">전체</label>\\n            </span>\\n            <span class=\"_item_check_div _gender_div\" style=\"margin-left:11px;\">\\n                <span class=\"select_chk v1\">\\n                    <input type=\"checkbox\" id=\"item_gender_1\" class=\"chk\" value=\"f\" >\\n                    <label class=\"lbl\" for=\"item_gender_1\">여성</label>\\n                </span>\\n                <span class=\"select_chk v1\">\\n                    <input type=\"checkbox\" id=\"item_gender_2\" class=\"chk\" value=\"m\" >\\n                    <label class=\"lbl\" for=\"item_gender_2\">남성</label>\\n                </span>\\n            </span>\\n        </div>\\n    </div>\\n</div>\\n\\n<div class=\"form_row\">\\n    <strong class=\"title v2\">연령선택</strong>\\n    <div class=\"set_col set_target_chk _checkbox_ui\">\\n        <div class=\"set_chk\">\\n            <span class=\"select_chk v1\">\\n                <input type=\"checkbox\" id=\"item_age_0\" class=\"chk _check_all\">\\n                <!-- [D] 텍스트 활성화 active 추가 -->\\n                <label class=\"lbl \" for=\"item_age_0\">전체</label>\\n            </span>\\n        </div>\\n        <div class=\"set_chk _item_check_div _age_div\">\\n            <span class=\"select_chk v1\">\\n                <input type=\"checkbox\" id=\"item_age_1\" value=\"1\"  class=\"chk\">\\n                <label class=\"lbl \" for=\"item_age_1\">~12</label>\\n            </span>\\n            <span class=\"select_chk v1\">\\n                <input type=\"checkbox\" id=\"item_age_2\" value=\"2\"  class=\"chk\">\\n                <label class=\"lbl \" for=\"item_age_2\">13~18</label>\\n            </span>\\n            <span class=\"select_chk v1\">\\n                <input type=\"checkbox\" id=\"item_age_3\" value=\"3\"  class=\"chk\">\\n                <label class=\"lbl \" for=\"item_age_3\">19~24</label>\\n            </span>\\n            <span class=\"select_chk v1\">\\n                <input type=\"checkbox\" id=\"item_age_4\" value=\"4\"  class=\"chk\">\\n                <label class=\"lbl \" for=\"item_age_4\">25~29</label>\\n            </span>\\n            <span class=\"select_chk v1\">\\n                <input type=\"checkbox\" id=\"item_age_5\" value=\"5\"  class=\"chk\">\\n                <label class=\"lbl \" for=\"item_age_5\">30~34</label>\\n            </span>\\n            <span class=\"select_chk v1\">\\n                <input type=\"checkbox\" id=\"item_age_6\" value=\"6\"  class=\"chk\">\\n                <label class=\"lbl \" for=\"item_age_6\">35~39</label>\\n            </span>\\n            <span class=\"select_chk v1\">\\n                <input type=\"checkbox\" id=\"item_age_7\" value=\"7\"  class=\"chk\">\\n                <label class=\"lbl \" for=\"item_age_7\">40~44</label>\\n            </span>\\n            <span class=\"select_chk v1\">\\n                <input type=\"checkbox\" id=\"item_age_8\" value=\"8\"  class=\"chk\">\\n                <label class=\"lbl \" for=\"item_age_8\">45~49</label>\\n            </span>\\n            <span class=\"select_chk v1\">\\n                <input type=\"checkbox\" id=\"item_age_9\" value=\"9\"  class=\"chk\">\\n                <label class=\"lbl \" for=\"item_age_9\">50~54</label>\\n            </span>\\n            <span class=\"select_chk v1\">\\n                <input type=\"checkbox\" id=\"item_age_10\" value=\"10\"  class=\"chk\">\\n                <label class=\"lbl \" for=\"item_age_10\">55~60</label>\\n            </span>\\n            <span class=\"select_chk v1\">\\n                <input type=\"checkbox\" id=\"item_age_11\" value=\"11\"  class=\"chk\">\\n                <label class=\"lbl \" for=\"item_age_11\">60~</label>\\n            </span>\\n        </div>\\n    </div>\\n</div>\\n                                </div>\\n                                <a href=\"#\" class=\"ca_btn_go _trend_search_detail_query\">\\n                                    <span class=\"text\">네이버 검색 데이터 조회</span>\\n                                </a>\\n                            </fieldset>\\n                        </form>\\n                    </div>\\n                </div>\\n            </div>\\n        </div>\\n        <div class=\"section_home_local\">\\n            <div class=\"com_title\">\\n                <h4 class=\"title\">지역통계</h4>\\n                <em class=\"desc\">네이버 검색데이터와 다른 기관/기업 데이터를 통해 만들어진 정보로 지역별, 업종별 추이를 확인할 수 있습니다.</em>\\n            </div>\\n            <div class=\"local_list\">\\n                <div class=\"list\">\\n                    <a href=\"/local/trend.naver\">\\n                        <div class=\"list_thumb\">\\n                            <img src=\"https://ssl.pstatic.net/static.datalab/202104010127/img/img_home_local_trend.jpg\" width=\"540\" height=\"230\" alt=\"임시 이미지\">\\n                        </div>\\n                        <div class=\"list_desc\">\\n                            <strong class=\"desc_title\">지역별 관심도</strong>\\n                            <p class=\"desc\">지역별 관심도는, 네이버에서 매일 발생하는 수 억건의 검색어와 네이버가 가지고 있는 수 백만건의 지역 데이터를 기초로, 조회기간내 지역별/업종별 관심도 정도를 확인할 수 있는 서비스입니다.</p>\\n                        </div>\\n                    </a>\\n                </div>\\n                <div class=\"list\">\\n                    <a href=\"/local/card.naver\">\\n                        <div class=\"list_thumb\">\\n                            <img src=\"https://ssl.pstatic.net/static.datalab/202104010127/img/img_home_local_card.jpg\" width=\"540\" height=\"230\" alt=\"임시 이미지\">\\n                        </div>\\n                        <div class=\"list_desc\">\\n                            <strong class=\"desc_title\">카드 소비통계</strong>\\n                            <p class=\"desc\">카드 소비통계는 전국의 지역별, 업종별로 발생하는 카드 결제 규모를 확인할 수 있는 서비스입니다. 연령별 성별로도 조회할 수 있습니다. 이 카드 소비 데이터는 BC카드에서 제공합니다.</p>\\n                        </div>\\n                    </a>\\n                </div>\\n            </div>\\n        </div>\\n    </div>\\n</div>\\n\\n    <div id=\"footer\" class=\"footer\">\\n        <div class=\"footer_inner\">\\n            <div class=\"footer_info\">\\n                <a href=\"https://policy.naver.com/rules/service.html\" target=\"_blank\">이용약관</a>\\n                <a href=\"https://policy.naver.com/rules/privacy.html\" target=\"_blank\"><strong>개인정보처리방침</strong></a>\\n                <a href=\"https://policy.naver.com/rules/disclaimer.html\" target=\"_blank\">책임의 한계와 법적고지</a>\\n                <a href=\"https://help.naver.com/support/service/main.nhn?serviceNo=14493\" target=\"_blank\">고객센터</a>\\n            </div>\\n            <div class=\"footer_copyright\">\\n                <a href=\"https://www.naver.com/\" target=\"_blank\" class=\"sp_footer_logo\"><span class=\"blind\">NAVER</span></a>\\n                <em class=\"copyright\">Copyright ©</em>\\n                <strong><a href=\"https://www.navercorp.com/ko/index.nhn\" target=\"_blank\">NAVER Corp.</a></strong> All Rights Reserved.\\n            </div>\\n        </div>\\n    </div>\\n</div>\\n\\n<!--[if lte IE 9]>\\n<div class=\"com_browser_pop\" style=\"display:none\">\\n    <div class=\"pop_dimmed\"></div>\\n    <div class=\"pop_inner type_browser\">\\n        <strong class=\"browser_title\">권장 브라우저 안내</strong>\\n        <p class=\"browser_desc\">\\n            해당 사이트에 최적화된 브라우저는 Internet Explorer10 이상입니다<br>\\n            편리한 사이트 이용을 위하여 최신 브라우저로 업그레이드를 권장합니다\\n        </p>\\n        <div class=\"browser_list\">\\n\\t\\t\\t<span class=\"list ie\">\\n\\t\\t\\t\\t<span class=\"title\">Internet Explore</span>\\n\\t\\t\\t</span>\\n            <span class=\"list firefox\">\\n\\t\\t\\t\\t<span class=\"title\">Firefox</span>\\n\\t\\t\\t</span>\\n            <span class=\"list chrome\">\\n\\t\\t\\t\\t<span class=\"title\">Google Chrome</span>\\n\\t\\t\\t</span>\\n            <span class=\"list safari\">\\n\\t\\t\\t\\t<span class=\"title\">Safari</span>\\n\\t\\t\\t</span>\\n        </div>\\n        <div class=\"browser_close_chk\">\\n\\t\\t\\t<span class=\"select_chk _old_browser_cookie\">\\n\\t\\t\\t\\t<input type=\"checkbox\" id=\"item_browser\" class=\"chk\" checked=\"\">\\n\\t\\t\\t\\t<label class=\"lbl\" for=\"item_browser\">이 메세지를 다시 표시하지 않습니다</label>\\n\\t\\t\\t</span>\\n        </div>\\n        <a href=\"#\" class=\"sp_btn_pop_close\">\\n            <span class=\"blind\">권장 브라우저 안내 팝업 닫기</span>\\n        </a>\\n    </div>\\n</div>\\n<![endif]-->\\n\\n<script type=\"text/javascript\">\\n(function() {\\n    window.$DATALAB = (typeof $DATALAB != \"undefined\") ? $DATALAB : {};\\n    window.$DATALAB.CONFIG = (typeof $DATALAB.CONFIG != \"undefined\") ? $DATALAB.CONFIG : {};\\n\\n    $DATALAB.CONFIG.request_url = \"\\'http://datalab.naver.com/\";\\n    $DATALAB.CONFIG.realTimeOpenDate = \"\";\\n\\n    if(location.href.indexOf(\"dev\") > 0) {\\n        window.lcs_SerName = \"alpha-lcs.naver.com\";\\n    }\\n})();\\n</script>\\n<script type=\"text/javascript\" src=\"https://ssl.pstatic.net/static.datalab/202104010127/js/vendor.202104010127.js\"></script>\\n\\n\\n\\n\\n\\n\\n\\n\\n\\n\\n\\n\\n    <script type=\"text/javascript\" src=\"https://ssl.pstatic.net/static.datalab/202104010127/js/home.202104010127.js\"></script>\\n\\n</body>\\n</html>'"
      ]
     },
     "execution_count": 8,
     "metadata": {},
     "output_type": "execute_result"
    }
   ],
   "source": [
    "user_agent = \"Mozilla/5.0 (Windows NT 10.0; Win64; x64) AppleWebKit/537.36 (KHTML, like Gecko) Chrome/90.0.4430.212 Safari/537.36\"\n",
    "\n",
    "r = requests.get(\"https://datalab.naver.com/\", \n",
    "                 headers={'User-agent': user_agent, 'referer': None})\n",
    "\n",
    "if r.status_code != 200:\n",
    "    # 에러코드와 에러메시지 출력\n",
    "    err_msg = \"%d %s 에러가 발생했습니다.\" % (r.status_code, r.reason)\n",
    "    raise Exception(err_msg)\n",
    "\n",
    "r.encoding = \"utf-8\"\n",
    "r.text"
   ]
  },
  {
   "cell_type": "markdown",
   "metadata": {},
   "source": [
    "## 파일 다운로드"
   ]
  },
  {
   "cell_type": "code",
   "execution_count": 10,
   "metadata": {},
   "outputs": [],
   "source": [
    "file_url = \"http://itpaper.co.kr/data/sample.png\"\n",
    "\n",
    "# URL에 파일을 다운로드 하기 위해 접속 -> stream=True 파라미터 추가\n",
    "r = requests.get(file_url, \n",
    "                 headers={'User-agent': user_agent, 'referer': None},\n",
    "                 stream=True)\n",
    "\n",
    "# 접속 성공/실패 여부 확인\n",
    "if r.status_code != 200:\n",
    "    # 에러코드와 에러메시지 출력\n",
    "    err_msg = \"%d %s 에러가 발생했습니다.\" % (r.status_code, r.reason)\n",
    "    raise Exception(err_msg)"
   ]
  },
  {
   "cell_type": "markdown",
   "metadata": {},
   "source": [
    "## raw data 저장\n"
   ]
  },
  {
   "cell_type": "code",
   "execution_count": 11,
   "metadata": {},
   "outputs": [
    {
     "name": "stdout",
     "output_type": "stream",
     "text": [
      "다운로드 완료\n"
     ]
    }
   ],
   "source": [
    "data = r.raw.read()\n",
    "\n",
    "with open('download.png', 'wb') as f:\n",
    "    f.write(data)\n",
    "    print('다운로드 완료')"
   ]
  },
  {
   "cell_type": "code",
   "execution_count": 16,
   "metadata": {},
   "outputs": [
    {
     "data": {
      "image/png": "\n",
      "text/plain": [
       "<IPython.core.display.Image object>"
      ]
     },
     "execution_count": 16,
     "metadata": {},
     "output_type": "execute_result"
    }
   ],
   "source": [
    "# 이미지 표시\n",
    "from IPython.display import Image\n",
    "Image(\"./download.png\")"
   ]
  },
  {
   "cell_type": "code",
   "execution_count": null,
   "metadata": {},
   "outputs": [],
   "source": []
  },
  {
   "cell_type": "code",
   "execution_count": null,
   "metadata": {},
   "outputs": [],
   "source": []
  }
 ],
 "metadata": {
  "kernelspec": {
   "display_name": "Python 3",
   "language": "python",
   "name": "python3"
  },
  "language_info": {
   "codemirror_mode": {
    "name": "ipython",
    "version": 3
   },
   "file_extension": ".py",
   "mimetype": "text/x-python",
   "name": "python",
   "nbconvert_exporter": "python",
   "pygments_lexer": "ipython3",
   "version": "3.8.8"
  }
 },
 "nbformat": 4,
 "nbformat_minor": 4
}
