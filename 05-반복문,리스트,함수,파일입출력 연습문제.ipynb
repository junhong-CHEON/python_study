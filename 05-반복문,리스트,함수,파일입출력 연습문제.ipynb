{
 "cells": [
  {
   "cell_type": "markdown",
   "metadata": {},
   "source": [
    "# 파이썬 연습문제 05\n",
    "\n",
    "---\n",
    "\n",
    "### 문제1\n",
    "\n",
    "여행에서 찍은 사진을 \"C:\\myphoto\\helloworld.jpg\"의 경로에 보관하고 있다. \n",
    "\n",
    "이 사진 파일의 경로를 임의의 변수에 할당하고, 사진이 보관되어 있는 폴더의 위치와 파일 이름, \n",
    "확장자를 출력하는 프로그램을 작성하시오."
   ]
  },
  {
   "cell_type": "code",
   "execution_count": 51,
   "metadata": {},
   "outputs": [
    {
     "name": "stdout",
     "output_type": "stream",
     "text": [
      "C:\\myphoto\\\n",
      "helloworld\n",
      "jpg\n"
     ]
    }
   ],
   "source": [
    "path = \"C:\\myphoto\\helloworld.jpg\"\n",
    "\n",
    "token1 = path.rfind('\\\\')\n",
    "token2 = path.rfind('.')\n",
    "\n",
    "print(path[:token1 + 1])\n",
    "print(path[token1 + 1: token2])\n",
    "print(path[token2 + 1 :])                "
   ]
  },
  {
   "cell_type": "markdown",
   "metadata": {},
   "source": [
    "---\n",
    "\n",
    "### 문제2\n",
    "\n",
    "임의의 숫자를 입력받은 후 그 값이 홀수인지 짝수인지를 판별하시오."
   ]
  },
  {
   "cell_type": "code",
   "execution_count": 55,
   "metadata": {},
   "outputs": [
    {
     "name": "stdin",
     "output_type": "stream",
     "text": [
      "숫자를 입력하세요: 1\n"
     ]
    },
    {
     "name": "stdout",
     "output_type": "stream",
     "text": [
      "1는 홀수 입니다. \n"
     ]
    }
   ],
   "source": [
    "num = int(input(\"숫자를 입력하세요:\"))\n",
    "\n",
    "if num%2 == 0:\n",
    "    print(\"%d는 짝수 입니다. \" %num)\n",
    "else:\n",
    "    print(\"%d는 홀수 입니다. \" %num)"
   ]
  },
  {
   "cell_type": "markdown",
   "metadata": {},
   "source": [
    "---\n",
    "\n",
    "### 문제3\n",
    "\n",
    "임의의 숫자를 입력받은 후 값만큼 \"HelloPython\"이라는 문구를 반복해서 출력하시오.\n",
    "\n",
    "> 예) 3을 입력한 경우 -> HelloPythonHelloPythonHelloPython"
   ]
  },
  {
   "cell_type": "code",
   "execution_count": 56,
   "metadata": {},
   "outputs": [
    {
     "name": "stdin",
     "output_type": "stream",
     "text": [
      "숫자를 입력하세요 : 1\n"
     ]
    },
    {
     "name": "stdout",
     "output_type": "stream",
     "text": [
      "HelloPython\n"
     ]
    }
   ],
   "source": [
    "msg = \"HelloPython\"\n",
    "\n",
    "num = int(input(\"숫자를 입력하세요 :\"))\n",
    "\n",
    "print(msg * num)"
   ]
  },
  {
   "cell_type": "markdown",
   "metadata": {},
   "source": [
    "---\n",
    "\n",
    "### 문제 4\n",
    "\n",
    "다음의 리스트는 어느 학급의 중간고사 성적을 나타낸다\n",
    "\n",
    "```python\n",
    "exam = {\n",
    "    \"철수\": [89, 82, 79, 91],\n",
    "    \"민영\": [91, 95, 94, 89],\n",
    "    \"남철\": [65, 57, 71, 64],\n",
    "    \"혜진\": [82, 76, 81, 83]\n",
    "}\n",
    "```\n",
    "\n",
    "위 데이터에서 학생별 총점과 평균을 구하시오."
   ]
  },
  {
   "cell_type": "code",
   "execution_count": 57,
   "metadata": {},
   "outputs": [
    {
     "name": "stdout",
     "output_type": "stream",
     "text": [
      "철수의 총점은 341점 이고 평균은 85.25점 입니다.\n",
      "민영의 총점은 369점 이고 평균은 92.25점 입니다.\n",
      "남철의 총점은 257점 이고 평균은 64.25점 입니다.\n",
      "혜진의 총점은 322점 이고 평균은 80.5점 입니다.\n"
     ]
    }
   ],
   "source": [
    "msg = \"{0}의 총점은 {1}점 이고 평균은 {2}점 입니다.\"\n",
    "\n",
    "exam = {\n",
    "    \"철수\": [89, 82, 79, 91],\n",
    "    \"민영\": [91, 95, 94, 89],\n",
    "    \"남철\": [65, 57, 71, 64],\n",
    "    \"혜진\": [82, 76, 81, 83]\n",
    "}\n",
    "\n",
    "key_list = list(exam.keys())\n",
    "value_list = list(exam.values())\n",
    "\n",
    "total_list = []\n",
    "avg_list = []\n",
    "total = 0\n",
    "avg = 0\n",
    "\n",
    "\n",
    "for i in range(0, len(value_list)):\n",
    "    total = 0\n",
    "    for j in range(0, len(value_list[0])):\n",
    "        total += value_list[i][j]\n",
    "    total_list.append(total)\n",
    "    avg_list.append(total/len(value_list[0]))\n",
    "    \n",
    "for i in range(0, len(key_list)):\n",
    "    print(msg.format(key_list[i], total_list[i], avg_list[i]))\n",
    "        \n",
    "\n",
    "   \n",
    "    "
   ]
  },
  {
   "cell_type": "markdown",
   "metadata": {},
   "source": [
    "---\n",
    "\n",
    "### 문제5\n",
    "\n",
    "위 4번 문제의 점수가 순서대로 국어, 영어, 수학, 과학일 경우 수학에 대한 모든 학생의 총점과 평균을 구하시오."
   ]
  },
  {
   "cell_type": "code",
   "execution_count": 58,
   "metadata": {},
   "outputs": [
    {
     "name": "stdout",
     "output_type": "stream",
     "text": [
      "모든 학생의 수학 총점은 325점 이고 평균은 81점 입니다. \n"
     ]
    }
   ],
   "source": [
    "sum_math = 0\n",
    "\n",
    "for i in range(0, len(key_list)):\n",
    "    sum_math += value_list[i][2]\n",
    "    \n",
    "print(\"모든 학생의 수학 총점은 %d점 이고 평균은 %d점 입니다. \" %(sum_math, sum_math/len(key_list)))"
   ]
  },
  {
   "cell_type": "markdown",
   "metadata": {},
   "source": [
    "---\n",
    "\n",
    "### 문제6\n",
    "\n",
    "1부터 100까지의 자연수 중에서 3의 배수의 총 합은 얼마인지 구하시오."
   ]
  },
  {
   "cell_type": "code",
   "execution_count": 59,
   "metadata": {},
   "outputs": [
    {
     "name": "stdout",
     "output_type": "stream",
     "text": [
      "1683\n"
     ]
    }
   ],
   "source": [
    "sum = 0\n",
    "\n",
    "for i in range(1, 101):\n",
    "    if i % 3 == 0:\n",
    "        sum += i\n",
    "        \n",
    "print(sum)"
   ]
  },
  {
   "cell_type": "markdown",
   "metadata": {},
   "source": [
    "---\n",
    "\n",
    "### 문제7\n",
    "\n",
    "월드컵은 4년에 한 번 개최된다. 2002~2050년까지 중 월드컵이 개최되는 연도를 출력하라."
   ]
  },
  {
   "cell_type": "code",
   "execution_count": 60,
   "metadata": {},
   "outputs": [
    {
     "name": "stdout",
     "output_type": "stream",
     "text": [
      "2002\n",
      "2006\n",
      "2010\n",
      "2014\n",
      "2018\n",
      "2022\n",
      "2026\n",
      "2030\n",
      "2034\n",
      "2038\n",
      "2042\n",
      "2046\n",
      "2050\n"
     ]
    }
   ],
   "source": [
    "for i in range(2002, 2051, 4):\n",
    "    print(i)"
   ]
  },
  {
   "cell_type": "markdown",
   "metadata": {},
   "source": [
    "---\n",
    "\n",
    "### 문제8\n",
    "\n",
    "구구단 프로그램을 만들고자 한다.\n",
    "\n",
    "전체를 출력하는 구구단이 아니라 1번을 입력하면 홀수 단(3, 5, 7, 9) 2번을 입력하면 짝수 단(2, 4, 6, 8)을 출력하는 프로그램을 완성하시오."
   ]
  },
  {
   "cell_type": "code",
   "execution_count": 61,
   "metadata": {},
   "outputs": [
    {
     "name": "stdin",
     "output_type": "stream",
     "text": [
      "숫자를 입력하세요: 1\n"
     ]
    },
    {
     "name": "stdout",
     "output_type": "stream",
     "text": [
      "3 X 1 = 3\n",
      "3 X 2 = 6\n",
      "3 X 3 = 9\n",
      "3 X 4 = 12\n",
      "3 X 5 = 15\n",
      "3 X 6 = 18\n",
      "3 X 7 = 21\n",
      "3 X 8 = 24\n",
      "3 X 9 = 27\n",
      "5 X 1 = 5\n",
      "5 X 2 = 10\n",
      "5 X 3 = 15\n",
      "5 X 4 = 20\n",
      "5 X 5 = 25\n",
      "5 X 6 = 30\n",
      "5 X 7 = 35\n",
      "5 X 8 = 40\n",
      "5 X 9 = 45\n",
      "7 X 1 = 7\n",
      "7 X 2 = 14\n",
      "7 X 3 = 21\n",
      "7 X 4 = 28\n",
      "7 X 5 = 35\n",
      "7 X 6 = 42\n",
      "7 X 7 = 49\n",
      "7 X 8 = 56\n",
      "7 X 9 = 63\n",
      "9 X 1 = 9\n",
      "9 X 2 = 18\n",
      "9 X 3 = 27\n",
      "9 X 4 = 36\n",
      "9 X 5 = 45\n",
      "9 X 6 = 54\n",
      "9 X 7 = 63\n",
      "9 X 8 = 72\n",
      "9 X 9 = 81\n"
     ]
    }
   ],
   "source": [
    "num = int(input(\"숫자를 입력하세요:\"))\n",
    "\n",
    "if num == 1:\n",
    "    for i in range(3, 10, 2):\n",
    "        for j in range(1, 10):\n",
    "            print(\"%d X %d = %d\" %(i,j, i*j))\n",
    "elif num == 2:\n",
    "     for i in range(2, 10, 2):\n",
    "        for j in range(1, 10):\n",
    "            print(\"%d X %d = %d\" %(i,j, i*j))\n",
    "            "
   ]
  },
  {
   "cell_type": "code",
   "execution_count": 2,
   "metadata": {},
   "outputs": [
    {
     "name": "stdin",
     "output_type": "stream",
     "text": [
      "숫자를 입력하세요: 2\n"
     ]
    },
    {
     "name": "stdout",
     "output_type": "stream",
     "text": [
      "2 X 1 = 2\n",
      "2 X 2 = 4\n",
      "2 X 3 = 6\n",
      "2 X 4 = 8\n",
      "2 X 5 = 10\n",
      "2 X 6 = 12\n",
      "2 X 7 = 14\n",
      "2 X 8 = 16\n",
      "2 X 9 = 18\n",
      "4 X 1 = 4\n",
      "4 X 2 = 8\n",
      "4 X 3 = 12\n",
      "4 X 4 = 16\n",
      "4 X 5 = 20\n",
      "4 X 6 = 24\n",
      "4 X 7 = 28\n",
      "4 X 8 = 32\n",
      "4 X 9 = 36\n",
      "6 X 1 = 6\n",
      "6 X 2 = 12\n",
      "6 X 3 = 18\n",
      "6 X 4 = 24\n",
      "6 X 5 = 30\n",
      "6 X 6 = 36\n",
      "6 X 7 = 42\n",
      "6 X 8 = 48\n",
      "6 X 9 = 54\n",
      "8 X 1 = 8\n",
      "8 X 2 = 16\n",
      "8 X 3 = 24\n",
      "8 X 4 = 32\n",
      "8 X 5 = 40\n",
      "8 X 6 = 48\n",
      "8 X 7 = 56\n",
      "8 X 8 = 64\n",
      "8 X 9 = 72\n"
     ]
    }
   ],
   "source": [
    "num = int(input(\"숫자를 입력하세요:\"))\n",
    "\n",
    "#4-x라는 방정식을 적용\n",
    "for i in range(4-num,10,2):\n",
    "    for j in range(1,10):\n",
    "        print(\"%d X %d = %d\" %(i,j,i*j))"
   ]
  },
  {
   "cell_type": "markdown",
   "metadata": {},
   "source": [
    "---\n",
    "\n",
    "### 문제9\n",
    "\n",
    "아래와 같은 출력 결과가 나타나도록 중첩 반복문을 for 문 형식으로 구현하시오.\n",
    "\n",
    "단, 반복문에서 사용되는 초기식 변수(`i`,`j`)외에 다른 변수를 사용해서는 안됩니다.\n",
    "\n",
    "```\n",
    "1\n",
    "12\n",
    "123\n",
    "1234\n",
    "12345\n",
    "123456\n",
    "1234567\n",
    "```"
   ]
  },
  {
   "cell_type": "code",
   "execution_count": 62,
   "metadata": {},
   "outputs": [
    {
     "name": "stdout",
     "output_type": "stream",
     "text": [
      "\n",
      "1\n",
      "12\n",
      "123\n",
      "1234\n",
      "12345\n",
      "123456\n",
      "1234567\n"
     ]
    }
   ],
   "source": [
    "for i in range(1,9):\n",
    "    for j in range(1,i):\n",
    "        print(j, end=\"\")\n",
    "    print(\"\", end='\\n')"
   ]
  },
  {
   "cell_type": "markdown",
   "metadata": {},
   "source": [
    "---\n",
    "\n",
    "### 문제10\n",
    "\n",
    "정수를 한 개 입력받아, 1부터 입력받은 수까지 각각에 대해 제곱을 구해 프린트하는 프로그램을 작성해 보세요. \n",
    "\n",
    "단, while 문을 사용하세요.\n",
    "\n",
    "#### 예 1\n",
    "\n",
    "입력:3\n",
    "```\n",
    "1 1\n",
    "2 4\n",
    "3 9\n",
    "```\n",
    "\n",
    "#### 예 2\n",
    "입력: 5\n",
    "```\n",
    "1 1\n",
    "2 4\n",
    "3 9\n",
    "4 16\n",
    "5 25\n",
    "```"
   ]
  },
  {
   "cell_type": "code",
   "execution_count": 63,
   "metadata": {},
   "outputs": [
    {
     "name": "stdin",
     "output_type": "stream",
     "text": [
      "숫자를 입력하세요:  6\n"
     ]
    },
    {
     "name": "stdout",
     "output_type": "stream",
     "text": [
      "1 1\n",
      "2 4\n",
      "3 9\n",
      "4 16\n",
      "5 25\n",
      "6 36\n"
     ]
    }
   ],
   "source": [
    "num = int(input(\"숫자를 입력하세요: \"))\n",
    "\n",
    "for i in range(1, num + 1):\n",
    "    print(\"%d %d\" %(i, i*i))"
   ]
  },
  {
   "cell_type": "code",
   "execution_count": null,
   "metadata": {},
   "outputs": [],
   "source": []
  }
 ],
 "metadata": {
  "kernelspec": {
   "display_name": "Python 3",
   "language": "python",
   "name": "python3"
  },
  "language_info": {
   "codemirror_mode": {
    "name": "ipython",
    "version": 3
   },
   "file_extension": ".py",
   "mimetype": "text/x-python",
   "name": "python",
   "nbconvert_exporter": "python",
   "pygments_lexer": "ipython3",
   "version": "3.8.8"
  }
 },
 "nbformat": 4,
 "nbformat_minor": 4
}
