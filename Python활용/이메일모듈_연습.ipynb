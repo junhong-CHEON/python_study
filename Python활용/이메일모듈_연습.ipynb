{
 "cells": [
  {
   "cell_type": "code",
   "execution_count": 3,
   "id": "eef4f895",
   "metadata": {},
   "outputs": [],
   "source": [
    "from sendmail import sendmail\n",
    "import datetime as dt"
   ]
  },
  {
   "cell_type": "code",
   "execution_count": 15,
   "id": "6482235d",
   "metadata": {},
   "outputs": [
    {
     "name": "stdout",
     "output_type": "stream",
     "text": [
      "[1 / 5]메일 발송 완료 Python학생1 <cj562270@gmail.com>\n",
      "[2 / 5]메일 발송 완료 Python학생2 <cj562270@gmail.com>\n",
      "[3 / 5]메일 발송 완료 Python학생3 <cj562270@gmail.com>\n",
      "[4 / 5]메일 발송 완료 Python학생4 <cj562270@gmail.com>\n",
      "[5 / 5]메일 발송 완료 Python학생5 <cj562270@gmail.com>\n"
     ]
    }
   ],
   "source": [
    "today = dt.datetime.now()\n",
    "now_year = today.year\n",
    "now_month = today.month\n",
    "\n",
    "from_addr = 'cj562270@gmail.com'\n",
    "\n",
    "subject_tpl = \"{name}님의 {yy}년 {mm}월 급여 명세서 입니다.\"\n",
    "\n",
    "with open(\"mail/content.html\", \"r\", encoding = \"utf-8\") as f:\n",
    "    content_tpl = f.read()\n",
    "\n",
    "\n",
    "with open('mail/mail_list.csv', 'r', encoding = 'euc-kr') as f:\n",
    "    line_list = f.readlines()\n",
    "    for i, line in enumerate(line_list):\n",
    "        tmp = line.strip().split(',')\n",
    "        to_name = tmp[0]\n",
    "        to_addr = tmp[1]\n",
    "        file1 = tmp[2]\n",
    "        file2 = tmp[3]\n",
    "        \n",
    "        subject = subject_tpl.format(name = to_name, yy = now_year, mm = now_month)\n",
    "        content = content_tpl.format(name = to_name, yy = now_year, mm = now_month)\n",
    "        \n",
    "        sendmail(from_addr,to_addr,subject,content,[file1, file2])\n",
    "        \n",
    "        print(\"[%d / %d]메일 발송 완료 %s <%s>\" %(i + 1, len(line_list), to_name, to_addr))\n",
    "        "
   ]
  },
  {
   "cell_type": "code",
   "execution_count": null,
   "id": "0e1ae68a",
   "metadata": {},
   "outputs": [],
   "source": []
  }
 ],
 "metadata": {
  "kernelspec": {
   "display_name": "Python 3",
   "language": "python",
   "name": "python3"
  },
  "language_info": {
   "codemirror_mode": {
    "name": "ipython",
    "version": 3
   },
   "file_extension": ".py",
   "mimetype": "text/x-python",
   "name": "python",
   "nbconvert_exporter": "python",
   "pygments_lexer": "ipython3",
   "version": "3.8.8"
  }
 },
 "nbformat": 4,
 "nbformat_minor": 5
}
