{
 "cells": [
  {
   "cell_type": "markdown",
   "id": "0caa5358",
   "metadata": {},
   "source": [
    "# tensorflow"
   ]
  },
  {
   "cell_type": "code",
   "execution_count": 1,
   "id": "7b15d53c",
   "metadata": {},
   "outputs": [],
   "source": [
    "import tensorflow as tf"
   ]
  },
  {
   "cell_type": "code",
   "execution_count": 4,
   "id": "5723c475",
   "metadata": {},
   "outputs": [
    {
     "name": "stdout",
     "output_type": "stream",
     "text": [
      "123\n",
      "223\n"
     ]
    }
   ],
   "source": [
    "# 암묵적 타입 변수 생성\n",
    "x = tf.Variable(123)\n",
    "tf.print(x)\n",
    "\n",
    "y = tf.Variable(x + 100)\n",
    "tf.print(y)"
   ]
  },
  {
   "cell_type": "code",
   "execution_count": 5,
   "id": "4a9f14d4",
   "metadata": {},
   "outputs": [
    {
     "name": "stdout",
     "output_type": "stream",
     "text": [
      "123\n"
     ]
    }
   ],
   "source": [
    "# 명시적 타입 변수 생성\n",
    "x = tf.Variable(123, dtype = tf.float32)\n",
    "tf.print(x)"
   ]
  },
  {
   "cell_type": "code",
   "execution_count": 6,
   "id": "6081048c",
   "metadata": {},
   "outputs": [],
   "source": [
    "import numpy as np"
   ]
  },
  {
   "cell_type": "code",
   "execution_count": 8,
   "id": "cbaa5c3e",
   "metadata": {},
   "outputs": [
    {
     "name": "stdout",
     "output_type": "stream",
     "text": [
      "()\n"
     ]
    },
    {
     "data": {
      "text/plain": [
       "array(100)"
      ]
     },
     "execution_count": 8,
     "metadata": {},
     "output_type": "execute_result"
    }
   ],
   "source": [
    "# rank 0 -> scalar\n",
    "a = 100\n",
    "ts1 = np.array(a)\n",
    "print(ts1.shape)\n",
    "ts1"
   ]
  },
  {
   "cell_type": "code",
   "execution_count": 10,
   "id": "6d9bfa8c",
   "metadata": {},
   "outputs": [
    {
     "name": "stdout",
     "output_type": "stream",
     "text": [
      "(3,)\n"
     ]
    },
    {
     "data": {
      "text/plain": [
       "array([1, 2, 3])"
      ]
     },
     "execution_count": 10,
     "metadata": {},
     "output_type": "execute_result"
    }
   ],
   "source": [
    "# rank 1 -> vector\n",
    "b = [1,2,3]\n",
    "ts2 = np.array(b)\n",
    "print(ts2.shape)\n",
    "ts2"
   ]
  },
  {
   "cell_type": "code",
   "execution_count": 11,
   "id": "19774d46",
   "metadata": {},
   "outputs": [
    {
     "name": "stdout",
     "output_type": "stream",
     "text": [
      "(2, 3)\n"
     ]
    },
    {
     "data": {
      "text/plain": [
       "array([[ 10,  20,  30],\n",
       "       [100, 200, 300]])"
      ]
     },
     "execution_count": 11,
     "metadata": {},
     "output_type": "execute_result"
    }
   ],
   "source": [
    "# rank 2 -> matrix\n",
    "c = [[10,20,30],[100,200,300]]\n",
    "ts3 = np.array(c)\n",
    "print(ts3.shape)\n",
    "ts3"
   ]
  },
  {
   "cell_type": "code",
   "execution_count": 12,
   "id": "ef216cb7",
   "metadata": {},
   "outputs": [
    {
     "name": "stdout",
     "output_type": "stream",
     "text": [
      "(2, 2, 3)\n"
     ]
    },
    {
     "data": {
      "text/plain": [
       "array([[[-1, -2, -3],\n",
       "        [ 1,  2,  3]],\n",
       "\n",
       "       [[-1,  0,  1],\n",
       "        [ 1,  0, -1]]])"
      ]
     },
     "execution_count": 12,
     "metadata": {},
     "output_type": "execute_result"
    }
   ],
   "source": [
    "# rank 3 -> tensor\n",
    "d = [[[-1,-2,-3], [1,2,3]], [[-1,0,1],[1,0,-1]]]\n",
    "ts4 = np.array(d)\n",
    "print(ts4.shape)\n",
    "ts4"
   ]
  },
  {
   "cell_type": "markdown",
   "id": "d31ded42",
   "metadata": {},
   "source": [
    "### 계산그래프"
   ]
  },
  {
   "cell_type": "code",
   "execution_count": 13,
   "id": "72b8d807",
   "metadata": {},
   "outputs": [
    {
     "name": "stdout",
     "output_type": "stream",
     "text": [
      "tf.Tensor(3.0, shape=(), dtype=float32)\n",
      "3\n"
     ]
    }
   ],
   "source": [
    "# 명시적타입 노드\n",
    "node1 = tf.constant(3.0, dtype = tf.float32, name='hello')\n",
    "print(node1)\n",
    "tf.print(node1)"
   ]
  },
  {
   "cell_type": "code",
   "execution_count": 14,
   "id": "b8416a42",
   "metadata": {},
   "outputs": [
    {
     "name": "stdout",
     "output_type": "stream",
     "text": [
      "tf.Tensor(4.0, shape=(), dtype=float32)\n",
      "4\n"
     ]
    }
   ],
   "source": [
    "# 암묵적타입 노드\n",
    "node2 = tf.constant(4.0, name = 'world')\n",
    "print(node2)\n",
    "tf.print(node2)"
   ]
  },
  {
   "cell_type": "code",
   "execution_count": 16,
   "id": "d5ea80e5",
   "metadata": {},
   "outputs": [
    {
     "name": "stdout",
     "output_type": "stream",
     "text": [
      "tf.Tensor(7.0, shape=(), dtype=float32)\n",
      "7\n"
     ]
    }
   ],
   "source": [
    "node3 = tf.add(node1, node2)\n",
    "print(node3)\n",
    "tf.print(node3)"
   ]
  },
  {
   "cell_type": "markdown",
   "id": "bd7607b6",
   "metadata": {},
   "source": [
    "# 01. 균등 분포 난수\n",
    "\n",
    "일반적으로 각 이벤트의 결과값을 알 수 없는 경우 미래에 발생할 이벤트의 결과값 $x$가 각 예상되는 범위별로 균등한 확률로 일어날 것이라고 예상될 때 사용.\n",
    "\n",
    "## 1) 균등 분포 난수의 사용 예\n",
    "\n",
    "### 주사위에 대한 확률\n",
    "\n",
    "- 200번을 던지고 201번째  주사위를 던진다고 했을 때 201번째 결과값은 앞의 1에서 200번까지 결과값에 영향을 받지 않는다.\n",
    "- 201번째 결과값이 1,2,3,4,5,6 각각의 결과값으로 나올 확률은 6분의 1이며 이는 앞의 1~200번째 결과값에 영향을 받아 줄어들거나 늘어나지 않는다는 것이다.\n",
    "- 이처럼 미래 결과값이 경험적으로 알 수 없을 상황에서 사용하는 것이 균등분포이다."
   ]
  },
  {
   "cell_type": "markdown",
   "id": "e579fdf2",
   "metadata": {},
   "source": [
    "## 2) 균등 분포 난수 실험\n",
    "\n",
    "생성되는 배열의 각 원소들은 **서로 아무런 연관이 없는 값**들이다."
   ]
  },
  {
   "cell_type": "code",
   "execution_count": 18,
   "id": "297b2369",
   "metadata": {},
   "outputs": [
    {
     "name": "stdout",
     "output_type": "stream",
     "text": [
      "97\n"
     ]
    }
   ],
   "source": [
    "# 스칼라 형태\n",
    "uni_rnd1 = tf.random.uniform(shape=[], minval = 0, maxval = 100, dtype=tf.int32)\n",
    "tf.print(uni_rnd1)"
   ]
  },
  {
   "cell_type": "code",
   "execution_count": 19,
   "id": "760a0508",
   "metadata": {},
   "outputs": [
    {
     "name": "stdout",
     "output_type": "stream",
     "text": [
      "[19 24 60 10 99]\n"
     ]
    }
   ],
   "source": [
    "# 백터 형태\n",
    "uni_rnd2 = tf.random.uniform(shape=[5], minval=0, maxval=100, dtype=tf.int32)\n",
    "tf.print(uni_rnd2)"
   ]
  },
  {
   "cell_type": "code",
   "execution_count": 20,
   "id": "1b62ed2d",
   "metadata": {},
   "outputs": [
    {
     "name": "stdout",
     "output_type": "stream",
     "text": [
      "[[21 35 72]\n",
      " [31 31 30]]\n"
     ]
    }
   ],
   "source": [
    "# 행렬 형태\n",
    "uni_rnd3 = tf.random.uniform(shape=[2,3], minval=0, maxval=100, dtype=tf.int32)\n",
    "tf.print(uni_rnd3)"
   ]
  },
  {
   "cell_type": "code",
   "execution_count": 21,
   "id": "76810207",
   "metadata": {},
   "outputs": [
    {
     "name": "stdout",
     "output_type": "stream",
     "text": [
      "[[[75 98 53 56]\n",
      "  [61 65 35 35]\n",
      "  [44 95 30 19]]\n",
      "\n",
      " [[97 35 97 54]\n",
      "  [14 20 69 18]\n",
      "  [90 12 20 75]]]\n"
     ]
    }
   ],
   "source": [
    "# 텐서 형태\n",
    "uni_rnd4 = tf.random.uniform(shape=[2,3,4], minval=0, maxval=100, dtype=tf.int32)\n",
    "tf.print(uni_rnd4)"
   ]
  },
  {
   "cell_type": "markdown",
   "id": "6e7f8a68",
   "metadata": {},
   "source": [
    "## 3) 렌덤값을 갖는 행렬 곱 예시"
   ]
  },
  {
   "cell_type": "code",
   "execution_count": 22,
   "id": "3856f05a",
   "metadata": {},
   "outputs": [
    {
     "name": "stdout",
     "output_type": "stream",
     "text": [
      "[[0.168972492 0.520079494]\n",
      " [0.69362545 0.729974151]\n",
      " [0.467871428 0.794957161]]\n"
     ]
    }
   ],
   "source": [
    "# 랜덤값을 갖는 3행2열의 행렬을 변수 x로 정의\n",
    "\n",
    "x = tf.Variable(tf.random.uniform([3,2]))\n",
    "tf.print(x)"
   ]
  },
  {
   "cell_type": "code",
   "execution_count": 23,
   "id": "9905dc96",
   "metadata": {},
   "outputs": [
    {
     "name": "stdout",
     "output_type": "stream",
     "text": [
      "[[0.339716792]\n",
      " [0.744208]]\n"
     ]
    }
   ],
   "source": [
    "# 랜덤값을 갖는 2행1열의 행렬을 변수 y로 정의\n",
    "y = tf.Variable(tf.random.uniform([2,1]))\n",
    "tf.print(y)"
   ]
  },
  {
   "cell_type": "code",
   "execution_count": 24,
   "id": "3f9b774c",
   "metadata": {},
   "outputs": [
    {
     "name": "stdout",
     "output_type": "stream",
     "text": [
      "[[0.44445011]\n",
      " [0.778888822]\n",
      " [0.750557244]]\n"
     ]
    }
   ],
   "source": [
    "# 행렬곱 연산\n",
    "expr = tf.matmul(x,y)\n",
    "tf.print(expr)"
   ]
  },
  {
   "cell_type": "markdown",
   "id": "bf93f7af",
   "metadata": {},
   "source": [
    "# 02. 정규 분포 난수\n",
    "\n",
    "정규분포란 과거의 축적된 경험적 데이타를 이미 보유하고 있는 상태에서 이용하여 미래에 발생할 결과값 $x$의 각 예상되는 범위별로 발생될 확률을 어느정도 추정할 수 있을 때 사용\n",
    "\n",
    "## 1) 정규 분포 난수의 사용 예\n",
    "\n",
    "### 매장의 매출액 예측\n",
    "\n",
    "- 이전 3개월의 매출이 2천만원, 2천백만원, 2천2백원 발생한 경우 평균이나 범위에 대한 예측이 가능하다.\n",
    "- **`평균`에 대한 예측** → 이번달 매출은 과거 3개월의 매출평균인 2천백만원으로 예측.\n",
    "- **`범위`에 대한 예측** → 최소 2천만원 ~  최대 2천2백만원까지 매출이 발생할 수 있다는 예상이 가능함.\n",
    "\n",
    "## 2) 정규 분포 난수 실험\n",
    "\n",
    "정규 분포 난수를 생성할 때는 평균(`mean`)과 표준편차(`stddev`)를 지정해야 한다."
   ]
  },
  {
   "cell_type": "code",
   "execution_count": 26,
   "id": "8a7ff8ad",
   "metadata": {},
   "outputs": [
    {
     "name": "stdout",
     "output_type": "stream",
     "text": [
      "-0.427608\n"
     ]
    }
   ],
   "source": [
    "# 스칼라 형태의 정규 분포 난수\n",
    "\n",
    "normal_rnd1 = tf.random.normal(shape=[], mean=0.0, stddev=1.0)\n",
    "tf.print(normal_rnd1)"
   ]
  },
  {
   "cell_type": "code",
   "execution_count": 27,
   "id": "6ec56b1b",
   "metadata": {},
   "outputs": [
    {
     "name": "stdout",
     "output_type": "stream",
     "text": [
      "[0.539380193 -0.979874313 -0.876616597 -0.885023236 0.0747114494]\n"
     ]
    }
   ],
   "source": [
    "# 벡터 형태의 정규 분포 난수\n",
    "\n",
    "normal_rnd2 = tf.random.normal(shape=[5], mean=0.0, stddev=1.0)\n",
    "tf.print(normal_rnd2)"
   ]
  },
  {
   "cell_type": "code",
   "execution_count": 29,
   "id": "76f124f6",
   "metadata": {},
   "outputs": [
    {
     "name": "stdout",
     "output_type": "stream",
     "text": [
      "[[-0.818370879 -1.72787797 0.624223113]\n",
      " [-2.18556547 0.323906064 -2.63690782]]\n"
     ]
    }
   ],
   "source": [
    "# 행렬 형태의 정규 분포 난수\n",
    "\n",
    "normal_rnd3 = tf.random.normal(shape=[2,3], mean=0.0, stddev=1.0)\n",
    "tf.print(normal_rnd3)"
   ]
  },
  {
   "cell_type": "code",
   "execution_count": 30,
   "id": "9bedd7c2",
   "metadata": {},
   "outputs": [
    {
     "name": "stdout",
     "output_type": "stream",
     "text": [
      "[[[0.522125065 -0.680715 1.79687464 0.490538329]\n",
      "  [0.494646877 -0.571822286 -0.149716884 1.79880142]\n",
      "  [-1.06935501 1.34277308 -1.48494351 0.102838553]]\n",
      "\n",
      " [[0.696822047 -0.492854625 -1.67485976 -0.491056114]\n",
      "  [1.27685153 -0.962324321 -1.21202707 0.954417825]\n",
      "  [0.388219953 0.180628195 0.336251825 -0.300854832]]]\n"
     ]
    }
   ],
   "source": [
    "# 텐서 형태의 정규 분포 난수\n",
    "\n",
    "normal_rnd4 = tf.random.normal(shape=[2,3,4], mean=0.0, stddev=1.0)\n",
    "tf.print(normal_rnd4)"
   ]
  },
  {
   "cell_type": "code",
   "execution_count": null,
   "id": "8b0757ac",
   "metadata": {},
   "outputs": [],
   "source": []
  }
 ],
 "metadata": {
  "kernelspec": {
   "display_name": "Python 3",
   "language": "python",
   "name": "python3"
  },
  "language_info": {
   "codemirror_mode": {
    "name": "ipython",
    "version": 3
   },
   "file_extension": ".py",
   "mimetype": "text/x-python",
   "name": "python",
   "nbconvert_exporter": "python",
   "pygments_lexer": "ipython3",
   "version": "3.8.8"
  }
 },
 "nbformat": 4,
 "nbformat_minor": 5
}
