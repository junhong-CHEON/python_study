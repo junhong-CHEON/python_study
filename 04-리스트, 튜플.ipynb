{
 "cells": [
  {
   "cell_type": "markdown",
   "id": "727529ed",
   "metadata": {},
   "source": [
    "# **리스트**"
   ]
  },
  {
   "cell_type": "markdown",
   "id": "87b4256c",
   "metadata": {},
   "source": [
    "## 리스트 자료형 생성하기"
   ]
  },
  {
   "cell_type": "code",
   "execution_count": 1,
   "id": "c491d494",
   "metadata": {},
   "outputs": [
    {
     "name": "stdout",
     "output_type": "stream",
     "text": [
      "[98, 82, 73, 64, 100]\n"
     ]
    }
   ],
   "source": [
    "# 5명의 학생에 대한 성적 나열.\n",
    "grade = [ 98, 82, 73, 64, 100 ]\n",
    "print( grade )"
   ]
  },
  {
   "cell_type": "code",
   "execution_count": 3,
   "id": "2f5a83a0",
   "metadata": {},
   "outputs": [
    {
     "name": "stdout",
     "output_type": "stream",
     "text": [
      "['철수', '영희', '나영', '민식', '호영']\n"
     ]
    }
   ],
   "source": [
    "# 각 학생의 이름에 대한 나열\n",
    "names = [ \"철수\" , \"영희\", \"나영\", \"민식\", \"호영\" ]\n",
    "print(names)"
   ]
  },
  {
   "cell_type": "code",
   "execution_count": 8,
   "id": "97170ea8",
   "metadata": {},
   "outputs": [
    {
     "name": "stdout",
     "output_type": "stream",
     "text": [
      "['철수', 98]\n",
      "['영희', 82]\n",
      "['나영', 73]\n"
     ]
    }
   ],
   "source": [
    "# 파이썬은 서로 다른 자료형들을 함께 사용 가능\n",
    "stud1 = [ \"철수\", 98 ]\n",
    "stud2 = [ \"영희\", 82 ]\n",
    "stud3 = [ \"나영\", 73 ]\n",
    "print(stud1)\n",
    "print(stud2)\n",
    "print(stud3)"
   ]
  },
  {
   "cell_type": "markdown",
   "id": "b17e2519",
   "metadata": {},
   "source": [
    "## 인덱스 번호를 통해 리스트의 각 원소 사용하기"
   ]
  },
  {
   "cell_type": "code",
   "execution_count": 10,
   "id": "c35cf17d",
   "metadata": {},
   "outputs": [
    {
     "name": "stdout",
     "output_type": "stream",
     "text": [
      "철수\n",
      "98\n"
     ]
    }
   ],
   "source": [
    "name = stud1[0]\n",
    "point = stud1[1]\n",
    "print(name)\n",
    "print(point)"
   ]
  },
  {
   "cell_type": "code",
   "execution_count": 11,
   "id": "cf4957a3",
   "metadata": {},
   "outputs": [],
   "source": [
    "# 값의 변경\n",
    "stud1[0] = \"철호\"\n",
    "stud1[1] = 100"
   ]
  },
  {
   "cell_type": "code",
   "execution_count": 12,
   "id": "79349ef2",
   "metadata": {},
   "outputs": [
    {
     "name": "stdout",
     "output_type": "stream",
     "text": [
      "철호(이)의 점수는 100점 입니다. \n",
      "영희(이)의 점수는 82점 입니다. \n",
      "나영(이)의 점수는 73점 입니다. \n"
     ]
    }
   ],
   "source": [
    "# 리스트의 원소를 직접 출력하는 예시\n",
    "msg = \"{0}(이)의 점수는 {1}점 입니다. \"\n",
    "print( msg.format(stud1[0], stud1[1]) )\n",
    "print( msg.format(stud2[0], stud2[1]) )\n",
    "print( msg.format(stud3[0], stud3[1]) )"
   ]
  },
  {
   "cell_type": "markdown",
   "id": "cc77ce70",
   "metadata": {},
   "source": [
    "## 2차원 리스트의 생성"
   ]
  },
  {
   "cell_type": "code",
   "execution_count": 14,
   "id": "5a228f12",
   "metadata": {},
   "outputs": [
    {
     "name": "stdout",
     "output_type": "stream",
     "text": [
      "[['철수', 98], ['영희', 82], ['나영', 73]]\n"
     ]
    }
   ],
   "source": [
    "stud1 = [\"철수\", 98]\n",
    "stud2 = [\"영희\", 82]\n",
    "stud3 = [\"나영\", 73]\n",
    "\n",
    "stud_group = [ stud1, stud2, stud3 ]\n",
    "print(stud_group)"
   ]
  },
  {
   "cell_type": "markdown",
   "id": "bd76ea19",
   "metadata": {},
   "source": [
    "## 각 원소에 접근하여 출력하기"
   ]
  },
  {
   "cell_type": "code",
   "execution_count": 17,
   "id": "d9bf4b55",
   "metadata": {},
   "outputs": [
    {
     "name": "stdout",
     "output_type": "stream",
     "text": [
      "['철수', 98]\n",
      "['영희', 82]\n"
     ]
    }
   ],
   "source": [
    "# 1차원 원소에 접근하기\n",
    "print(stud_group[0])\n",
    "print(stud_group[1])"
   ]
  },
  {
   "cell_type": "code",
   "execution_count": 18,
   "id": "7aea61bb",
   "metadata": {},
   "outputs": [
    {
     "name": "stdout",
     "output_type": "stream",
     "text": [
      "철수\n",
      "98\n",
      "영희\n",
      "82\n"
     ]
    }
   ],
   "source": [
    "# 2차원 원소에 접근하기\n",
    "print(stud_group[0][0])\n",
    "print(stud_group[0][1])\n",
    "print(stud_group[1][0])\n",
    "print(stud_group[1][1])"
   ]
  },
  {
   "cell_type": "markdown",
   "id": "c447a58e",
   "metadata": {},
   "source": [
    "## 리스트의 인덱싱"
   ]
  },
  {
   "cell_type": "code",
   "execution_count": 28,
   "id": "a9382f8a",
   "metadata": {},
   "outputs": [],
   "source": [
    "mylist = [10, 20, 30, 40, 50 ]"
   ]
  },
  {
   "cell_type": "code",
   "execution_count": 29,
   "id": "d7dfca7a",
   "metadata": {},
   "outputs": [
    {
     "name": "stdout",
     "output_type": "stream",
     "text": [
      "20\n"
     ]
    }
   ],
   "source": [
    "# 1번째 원소에 접근 -> 0부터\n",
    "print(mylist[1])"
   ]
  },
  {
   "cell_type": "code",
   "execution_count": 30,
   "id": "10d15517",
   "metadata": {},
   "outputs": [
    {
     "name": "stdout",
     "output_type": "stream",
     "text": [
      "50\n"
     ]
    }
   ],
   "source": [
    "# 뒤에서 1번째 원소에 접근 -> -1부터\n",
    "print(mylist[-1])"
   ]
  },
  {
   "cell_type": "markdown",
   "id": "d63897f4",
   "metadata": {},
   "source": [
    "## 리스트 슬라이싱"
   ]
  },
  {
   "cell_type": "markdown",
   "id": "0bb4c8fd",
   "metadata": {},
   "source": [
    "### 문자열과 동일"
   ]
  },
  {
   "cell_type": "code",
   "execution_count": 31,
   "id": "2c5bcfc4",
   "metadata": {},
   "outputs": [
    {
     "name": "stdout",
     "output_type": "stream",
     "text": [
      "[20, 30]\n",
      "[10, 20, 30]\n",
      "[40, 50]\n",
      "[10, 20, 30, 40, 50]\n",
      "[20, 30]\n"
     ]
    }
   ],
   "source": [
    "# 1번째 부터 3번째 전까지\n",
    "print(mylist[1:3])\n",
    "\n",
    "# 0번째(처음) 부터 3번째 전까지\n",
    "print(mylist[:3])\n",
    "\n",
    "# 3번쨰부터 끝까지\n",
    "print(mylist[3:])\n",
    "\n",
    "# 리스트 전체\n",
    "print(mylist[:])\n",
    "\n",
    "# list에서 1번쨰부터 뒤에서 두번째 다음까지\n",
    "print(mylist[1:-2])"
   ]
  },
  {
   "cell_type": "markdown",
   "id": "e0f73b6d",
   "metadata": {},
   "source": [
    "## 리스트의 연산"
   ]
  },
  {
   "cell_type": "code",
   "execution_count": 39,
   "id": "7c952c3a",
   "metadata": {},
   "outputs": [
    {
     "name": "stdout",
     "output_type": "stream",
     "text": [
      "[1, 2, 3, 4, 5, 6]\n"
     ]
    }
   ],
   "source": [
    "list1 = [1,2,3]\n",
    "list2 = [4,5,6]\n",
    "\n",
    "# 덧셈은 단순 병합\n",
    "list3 = list1 + list2\n",
    "print(list3)"
   ]
  },
  {
   "cell_type": "code",
   "execution_count": 33,
   "id": "826ac322",
   "metadata": {},
   "outputs": [
    {
     "name": "stdout",
     "output_type": "stream",
     "text": [
      "[1, 2, 3, 1, 2, 3, 1, 2, 3]\n"
     ]
    }
   ],
   "source": [
    "# 곱셉은 내용 반복\n",
    "list4 = list1 * 3\n",
    "print(list4)"
   ]
  },
  {
   "cell_type": "markdown",
   "id": "c4c93c54",
   "metadata": {},
   "source": [
    "## 리스트의 확장 / 축소"
   ]
  },
  {
   "cell_type": "code",
   "execution_count": 34,
   "id": "741e3f0f",
   "metadata": {},
   "outputs": [
    {
     "name": "stdout",
     "output_type": "stream",
     "text": [
      "[1, 2, 4]\n"
     ]
    }
   ],
   "source": [
    "# 대입연산자 값 수정\n",
    "mylist = [1,2,3]\n",
    "mylist[2] = 4\n",
    "print(mylist)"
   ]
  },
  {
   "cell_type": "code",
   "execution_count": 35,
   "id": "7ba643ea",
   "metadata": {},
   "outputs": [
    {
     "name": "stdout",
     "output_type": "stream",
     "text": [
      "[1, 20, 30]\n"
     ]
    }
   ],
   "source": [
    "# 대입연산자 범위 수정\n",
    "mylist = [1,2,3]\n",
    "mylist[1:3] = [20,30]\n",
    "print(mylist)"
   ]
  },
  {
   "cell_type": "code",
   "execution_count": 36,
   "id": "69b5f355",
   "metadata": {},
   "outputs": [
    {
     "name": "stdout",
     "output_type": "stream",
     "text": [
      "[1, 1000]\n"
     ]
    }
   ],
   "source": [
    "# 주어진 범위보다 작은 개수를 갖는 리스트 지정 -> 리스트 잘림\n",
    "mylist = [1,2,3]\n",
    "mylist[1:3] = [1000]\n",
    "print(mylist)"
   ]
  },
  {
   "cell_type": "code",
   "execution_count": 37,
   "id": "4b0dc0f3",
   "metadata": {},
   "outputs": [
    {
     "name": "stdout",
     "output_type": "stream",
     "text": [
      "[1, 7, 8, 9, 0, 3]\n"
     ]
    }
   ],
   "source": [
    "# 주어진 범위보다 많은 개수를 갖는 리스트 지정 -> 리스트 확장\n",
    "mylist = [1,2,3]\n",
    "mylist[1:2] = [7,8,9,0]\n",
    "print(mylist)"
   ]
  },
  {
   "cell_type": "markdown",
   "id": "c9872e68",
   "metadata": {},
   "source": [
    "## 리스트의 원소 삭제"
   ]
  },
  {
   "cell_type": "code",
   "execution_count": 40,
   "id": "dc2192cd",
   "metadata": {},
   "outputs": [
    {
     "name": "stdout",
     "output_type": "stream",
     "text": [
      "[1, 3, 4, 5]\n"
     ]
    }
   ],
   "source": [
    "# 특정 위치의 원소 삭제\n",
    "mylist = [1,2,3,4,5]\n",
    "del(mylist[1])\n",
    "print(mylist)"
   ]
  },
  {
   "cell_type": "code",
   "execution_count": 41,
   "id": "16e66e0a",
   "metadata": {},
   "outputs": [
    {
     "name": "stdout",
     "output_type": "stream",
     "text": [
      "[1, 3, 4, 5]\n"
     ]
    }
   ],
   "source": [
    "# 특정 범위 삭제\n",
    "mylsit = [1,2,3,4,5]\n",
    "del(mylsit[1:3])\n",
    "print(mylist)"
   ]
  },
  {
   "cell_type": "code",
   "execution_count": 43,
   "id": "8944e955",
   "metadata": {},
   "outputs": [
    {
     "name": "stdout",
     "output_type": "stream",
     "text": [
      "[1, 4, 5]\n"
     ]
    }
   ],
   "source": [
    "# 특정 범위 삭제 다른 방법\n",
    "mylist = [1,2,3,4,5]\n",
    "mylist[1:3] = []\n",
    "print(mylsit)"
   ]
  },
  {
   "cell_type": "markdown",
   "id": "86f09ecb",
   "metadata": {},
   "source": [
    "## 리스트 삽입 확장 비교"
   ]
  },
  {
   "cell_type": "code",
   "execution_count": 45,
   "id": "4a951aa5",
   "metadata": {},
   "outputs": [
    {
     "name": "stdout",
     "output_type": "stream",
     "text": [
      "[1, 2, 3, 4, 5]\n",
      "[1, [100, 200], 3, 4, 5]\n"
     ]
    }
   ],
   "source": [
    "# 인덱싱으로 접근하는 경우 -> 단순 삽입\n",
    "mylist = [1,2,3,4,5]\n",
    "print(mylist)\n",
    "mylist[1] = [100, 200]\n",
    "print(mylist)"
   ]
  },
  {
   "cell_type": "code",
   "execution_count": 46,
   "id": "804270b7",
   "metadata": {},
   "outputs": [
    {
     "name": "stdout",
     "output_type": "stream",
     "text": [
      "[1, 2, 3, 4, 5]\n",
      "[1, 100, 200, 3, 4, 5]\n"
     ]
    }
   ],
   "source": [
    "# 슬라이싱으로 접근하는 경우 -> 확장 또는 축소\n",
    "mylist = [1,2,3,4,5]\n",
    "print(mylist)\n",
    "mylist[1:2] = [100, 200]\n",
    "print(mylist)"
   ]
  },
  {
   "cell_type": "markdown",
   "id": "bcd53cb7",
   "metadata": {},
   "source": [
    "## 리스트 관련 함수(1)"
   ]
  },
  {
   "cell_type": "code",
   "execution_count": 47,
   "id": "f9c84682",
   "metadata": {},
   "outputs": [],
   "source": [
    "# 원소의 개수 조회\n",
    "# len() 함수 사용"
   ]
  },
  {
   "cell_type": "code",
   "execution_count": 48,
   "id": "6b9a5b85",
   "metadata": {},
   "outputs": [
    {
     "name": "stdout",
     "output_type": "stream",
     "text": [
      "[1, 2, 3, 4]\n"
     ]
    }
   ],
   "source": [
    "# 맨 뒤에 내용 추가\n",
    "my_list = [1,2,3]\n",
    "my_list.append(4)\n",
    "print(my_list)\n"
   ]
  },
  {
   "cell_type": "code",
   "execution_count": 49,
   "id": "e1f70569",
   "metadata": {},
   "outputs": [
    {
     "name": "stdout",
     "output_type": "stream",
     "text": [
      "[1, 2, 3, [5, 6]]\n"
     ]
    }
   ],
   "source": [
    "# 리스트를 append 할 경우 2차 리스트로 삽입.\n",
    "my_list = [ 1,2,3 ]\n",
    "my_list.append([5,6])\n",
    "print(my_list)"
   ]
  },
  {
   "cell_type": "markdown",
   "id": "f3f3b709",
   "metadata": {},
   "source": [
    "## 리스트 관련 함수(2)"
   ]
  },
  {
   "cell_type": "code",
   "execution_count": 51,
   "id": "a14335d6",
   "metadata": {},
   "outputs": [
    {
     "name": "stdout",
     "output_type": "stream",
     "text": [
      "[1, 10, 2, 3]\n"
     ]
    }
   ],
   "source": [
    "# 중간삽입\n",
    "my_list = [1,2,3]\n",
    "my_list.insert(1,10)\n",
    "print(my_list)"
   ]
  },
  {
   "cell_type": "code",
   "execution_count": 52,
   "id": "5df370e4",
   "metadata": {},
   "outputs": [
    {
     "name": "stdout",
     "output_type": "stream",
     "text": [
      "3\n",
      "[1, 2]\n"
     ]
    }
   ],
   "source": [
    "# 마지막 요소를 꺼내고 삭제]\n",
    "my_list = [1,2,3]\n",
    "k = my_list.pop()\n",
    "print(k)\n",
    "print(my_list)"
   ]
  },
  {
   "cell_type": "markdown",
   "id": "2ea99de5",
   "metadata": {},
   "source": [
    "## 리스트 관련 함수(3)"
   ]
  },
  {
   "cell_type": "code",
   "execution_count": 53,
   "id": "ecd42bb6",
   "metadata": {},
   "outputs": [
    {
     "name": "stdout",
     "output_type": "stream",
     "text": [
      "[1, 2, 3, 10, 9, 8, 7]\n"
     ]
    }
   ],
   "source": [
    "# 리스트 확장\n",
    "my_list = [1,2,3]\n",
    "addon = [10, 9,8,7]\n",
    "my_list.extend( addon )\n",
    "print(my_list)"
   ]
  },
  {
   "cell_type": "code",
   "execution_count": 55,
   "id": "4cf06a62",
   "metadata": {},
   "outputs": [
    {
     "name": "stdout",
     "output_type": "stream",
     "text": [
      "2\n"
     ]
    }
   ],
   "source": [
    "# 주어진 값과 일치하는 원소의 개수\n",
    "my_list = [1,2,3,2]\n",
    "c = my_list.count(2)\n",
    "print(c)"
   ]
  },
  {
   "cell_type": "code",
   "execution_count": 57,
   "id": "3203860b",
   "metadata": {},
   "outputs": [
    {
     "name": "stdout",
     "output_type": "stream",
     "text": [
      "3\n"
     ]
    }
   ],
   "source": [
    "# 인덱스 반환\n",
    "my_list = [1,2,3,10,1,2,3,10]\n",
    "x = my_list.index(10)\n",
    "print(x)"
   ]
  },
  {
   "cell_type": "code",
   "execution_count": 58,
   "id": "8c47be90",
   "metadata": {},
   "outputs": [
    {
     "name": "stdout",
     "output_type": "stream",
     "text": [
      "[9, 7, 5, 3, 1]\n"
     ]
    }
   ],
   "source": [
    "# 순서 뒤집기\n",
    "my_list = [1,3,5,7,9]\n",
    "my_list.reverse()\n",
    "print(my_list)"
   ]
  },
  {
   "cell_type": "code",
   "execution_count": 59,
   "id": "f50f2e1f",
   "metadata": {},
   "outputs": [
    {
     "name": "stdout",
     "output_type": "stream",
     "text": [
      "[1, 2, 3, 5, 6]\n"
     ]
    }
   ],
   "source": [
    "# 순차정렬\n",
    "my_list = [2,5,1,6,3]\n",
    "my_list.sort()\n",
    "print(my_list)"
   ]
  },
  {
   "cell_type": "code",
   "execution_count": 60,
   "id": "1be2eac0",
   "metadata": {},
   "outputs": [
    {
     "name": "stdout",
     "output_type": "stream",
     "text": [
      "[6, 5, 3, 2, 1]\n"
     ]
    }
   ],
   "source": [
    "# 역순정렬\n",
    "my_list = [2,5,1,6,3]\n",
    "my_list.sort(reverse = True)\n",
    "print(my_list)"
   ]
  },
  {
   "cell_type": "code",
   "execution_count": 61,
   "id": "7b32965b",
   "metadata": {},
   "outputs": [
    {
     "name": "stdout",
     "output_type": "stream",
     "text": [
      "['Hello', 'Python', 'World', 'Good']\n"
     ]
    }
   ],
   "source": [
    "# 문자열을 리스트로 변환\n",
    "text = \"Hello,Python,World,Good\"\n",
    "mylist = text.split(\",\")\n",
    "print(mylist)"
   ]
  },
  {
   "cell_type": "markdown",
   "id": "d3b2ae6c",
   "metadata": {},
   "source": [
    "# 튜플\n",
    "\n",
    "## 리스트와 동일한 특성을 가짐\n",
    "## 원소의 값을 변경 불가\n",
    "## 값이 변경되는 함수 제외 내장함수 같음"
   ]
  },
  {
   "cell_type": "code",
   "execution_count": null,
   "id": "8f5cac07",
   "metadata": {},
   "outputs": [],
   "source": []
  }
 ],
 "metadata": {
  "kernelspec": {
   "display_name": "Python 3",
   "language": "python",
   "name": "python3"
  },
  "language_info": {
   "codemirror_mode": {
    "name": "ipython",
    "version": 3
   },
   "file_extension": ".py",
   "mimetype": "text/x-python",
   "name": "python",
   "nbconvert_exporter": "python",
   "pygments_lexer": "ipython3",
   "version": "3.8.8"
  }
 },
 "nbformat": 4,
 "nbformat_minor": 5
}
