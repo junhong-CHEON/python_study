{
 "metadata": {
  "language_info": {
   "codemirror_mode": {
    "name": "ipython",
    "version": 3
   },
   "file_extension": ".py",
   "mimetype": "text/x-python",
   "name": "python",
   "nbconvert_exporter": "python",
   "pygments_lexer": "ipython3",
   "version": "3.8.8"
  },
  "orig_nbformat": 2,
  "kernelspec": {
   "name": "python388jvsc74a57bd0d451e435adb2362ec4bd316678cb904438859799482c433728cdc6321af7cb2a",
   "display_name": "Python 3.8.8 64-bit"
  }
 },
 "nbformat": 4,
 "nbformat_minor": 2,
 "cells": [
  {
   "source": [
    "# 01. JSON 데이터\n",
    "\n",
    "---\n",
    "\n",
    "## 1) JSON 소개\n",
    "\n",
    "---\n",
    "\n",
    "- JSON은 경량의 **데이터 표현 형식**.\n",
    "- 웹, 모바일 등을 중심으로 **서로 다른 플랫폼간의 데이터 교환**을 위하여 활용되고 있는 사실상의 산업 표준.\n",
    "- OpenAPI등을 통해 다른 곳에서 제공하는 데이터를 수집할 경우 JSON 형식으로 되어 있는 경우가 많음.\n",
    "- Python에서도 HTTP 통신을 기반으로 OpenAPI로부터 JSON 형식의 데이터를 수집하고 이를 데이터 프레임으로 변환하는 형태의 방식을 많이 활용함."
   ],
   "cell_type": "markdown",
   "metadata": {}
  },
  {
   "source": [
    "## 2) JSON 구조의 이해\n",
    "\n",
    "---\n",
    "\n",
    "### 기본 형식\n",
    "\n",
    "- key와 value의 쌍으로 이루어진 데이터 표현 형식으로 **Python의 딕셔너리와 동일한 구조**임\n",
    "- 값에는 숫자, 문자열, 논리값(true/false) 모두 가능하며 값이 문자열인 경우는 쌍따옴표나 홑따옴표로 감싸서 표현\n",
    "- 논리값의 경우 파이썬은 `True` / `False` 로 표기하지만 JSON은 `true` / `false` 로 표기한다. \n",
    "(첫 글자 대문자 여부)\n",
    "- JSON 상에서 결측치는 `null` 로 표기한다. (따옴표 없음. 모두 소문자)"
   ],
   "cell_type": "markdown",
   "metadata": {}
  },
  {
   "cell_type": "code",
   "execution_count": 2,
   "metadata": {},
   "outputs": [
    {
     "output_type": "execute_result",
     "data": {
      "text/plain": [
       "'{\\n    \"name\": \"갤럭시 S6\",\\n    \"type\": \"삼성\",\\n    \"img\": \"http://itpaper.co.kr/demo/app/img/GalaxyS6.png\"\\n}'"
      ]
     },
     "metadata": {},
     "execution_count": 2
    }
   ],
   "source": [
    "# JSON 가져오기\n",
    "\n",
    "import requests\n",
    "import json\n",
    "from pandas import DataFrame\n",
    "from matplotlib import pyplot as plt\n",
    "\n",
    "# JSON 데이터 URL 지정\n",
    "simple_json_url = \"http://www.itpaper.co.kr/data/simple.json\"\n",
    "\n",
    "# 브라우저 버전 정보\n",
    "user_agent = \"Mozilla/5.0 (Windows NT 10.0; Win64; x64) AppleWebKit/537.36 (KHTML, like Gecko) Chrome/77.0.3865.120 Safari/537.36\"\n",
    "\n",
    "# HTTP 헤더 정보 구성\n",
    "header_info = {'User-agent': user_agent, 'referer': None}\n",
    "\n",
    "# 데이터 가져오기\n",
    "r = requests.get(simple_json_url, headers=header_info)\n",
    "\n",
    "# 결과 검사\n",
    "if r.status_code != 200:\n",
    "    # 에러코드와 에러메시지를 문자열로 구성\n",
    "    err_msg = \"%d %s 에러가 발생했습니다.\" % (r.status_code, r.reason)\n",
    "    # 강제로 에러를 발생시킨다.\n",
    "    raise Exception(err_msg)\n",
    "\n",
    "r.encoding = 'utf-8'\n",
    "\n",
    "r.text"
   ]
  },
  {
   "cell_type": "code",
   "execution_count": 3,
   "metadata": {},
   "outputs": [
    {
     "output_type": "execute_result",
     "data": {
      "text/plain": [
       "{'name': '갤럭시 S6',\n",
       " 'type': '삼성',\n",
       " 'img': 'http://itpaper.co.kr/demo/app/img/GalaxyS6.png'}"
      ]
     },
     "metadata": {},
     "execution_count": 3
    }
   ],
   "source": [
    "# JSON 형식의 문자열을 딕셔너리로 변환\n",
    "result = json.loads(r.text)\n",
    "result"
   ]
  },
  {
   "source": [
    "### 딕셔너리를 DataFrame으로 변환하기\n",
    "\n",
    "DataFrame을 생성이 가능한 파라미터 형식 \n",
    "\n",
    "1. 2차 리스트\n",
    "2. 모든 원소가 같은 크기의 리스트인 딕셔너리\n",
    "\n",
    "    ```python\n",
    "    {\"a\": [1, 2, 3, 4], \"b\": [10, 20, 30, 40] }\n",
    "    ```\n",
    "\n",
    "3. 모든 원소가 같은 구조의 딕셔너리인 리스트\n",
    "\n",
    "    ```python\n",
    "    [ {\"a\": 1, \"b\": 2}, {\"a\": 10, \"b\": 20}, {\"a\": 100, \"b\": 200}]\n",
    "    ```"
   ],
   "cell_type": "markdown",
   "metadata": {}
  },
  {
   "cell_type": "code",
   "execution_count": 4,
   "metadata": {},
   "outputs": [
    {
     "output_type": "execute_result",
     "data": {
      "text/plain": [
       "     name type                                             img\n",
       "0  갤럭시 S6   삼성  http://itpaper.co.kr/demo/app/img/GalaxyS6.png"
      ],
      "text/html": "<div>\n<style scoped>\n    .dataframe tbody tr th:only-of-type {\n        vertical-align: middle;\n    }\n\n    .dataframe tbody tr th {\n        vertical-align: top;\n    }\n\n    .dataframe thead th {\n        text-align: right;\n    }\n</style>\n<table border=\"1\" class=\"dataframe\">\n  <thead>\n    <tr style=\"text-align: right;\">\n      <th></th>\n      <th>name</th>\n      <th>type</th>\n      <th>img</th>\n    </tr>\n  </thead>\n  <tbody>\n    <tr>\n      <th>0</th>\n      <td>갤럭시 S6</td>\n      <td>삼성</td>\n      <td>http://itpaper.co.kr/demo/app/img/GalaxyS6.png</td>\n    </tr>\n  </tbody>\n</table>\n</div>"
     },
     "metadata": {},
     "execution_count": 4
    }
   ],
   "source": [
    "data_list = [result]\n",
    "simple_df = DataFrame(data_list)\n",
    "simple_df"
   ]
  },
  {
   "source": [
    "## 리스트 형식의 데이터를 포함하는 JSON\n",
    "\n",
    "---\n",
    "\n",
    "### 데이터 수집"
   ],
   "cell_type": "markdown",
   "metadata": {}
  },
  {
   "cell_type": "code",
   "execution_count": 5,
   "metadata": {},
   "outputs": [
    {
     "output_type": "execute_result",
     "data": {
      "text/plain": [
       "{'grade_card': [{'이름': '철수',\n",
       "   '학년': 1,\n",
       "   '성별': '남자',\n",
       "   '국어': 98,\n",
       "   '영어': None,\n",
       "   '수학': 88,\n",
       "   '과학': 64},\n",
       "  {'이름': '영희', '학년': 2, '성별': '여자', '국어': 88, '영어': 90, '수학': 62, '과학': 72},\n",
       "  {'이름': '민수',\n",
       "   '학년': 1,\n",
       "   '성별': '남자',\n",
       "   '국어': 92,\n",
       "   '영어': 70,\n",
       "   '수학': None,\n",
       "   '과학': None},\n",
       "  {'이름': '수현', '학년': 3, '성별': '여자', '국어': 63, '영어': 60, '수학': 31, '과학': 70},\n",
       "  {'이름': '호영',\n",
       "   '학년': 4,\n",
       "   '성별': '남자',\n",
       "   '국어': 120,\n",
       "   '영어': 50,\n",
       "   '수학': None,\n",
       "   '과학': 88}]}"
      ]
     },
     "metadata": {},
     "execution_count": 5
    }
   ],
   "source": [
    "# JSON URL\n",
    "json_list_url = \"http://www.itpaper.co.kr/data/grade_card.json\"\n",
    "\n",
    "# 준비된 URL의 컨텐츠 가져오기\n",
    "r = requests.get(json_list_url, headers=header_info)\n",
    "\n",
    "# 접속에 실패한 경우에 대한 예외처리\n",
    "if r.status_code != 200:\n",
    "    # 에러코드와 에러메시지를 문자열로 구성\n",
    "    err_msg = \"%d %s 에러가 발생했습니다.\" % (r.status_code, r.reason)\n",
    "    # 강제로 에러를 발생시킨다.\n",
    "    raise Exception(err_msg)\n",
    "\n",
    "# 인코딩 지정\n",
    "r.encoding = \"utf-8\"\n",
    "\n",
    "# 가져온 결과를 딕셔너리로 변환\n",
    "result = json.loads(r.text)\n",
    "result"
   ]
  },
  {
   "cell_type": "code",
   "execution_count": 6,
   "metadata": {},
   "outputs": [
    {
     "output_type": "execute_result",
     "data": {
      "text/plain": [
       "   이름  학년  성별   국어    영어    수학    과학\n",
       "0  철수   1  남자   98   NaN  88.0  64.0\n",
       "1  영희   2  여자   88  90.0  62.0  72.0\n",
       "2  민수   1  남자   92  70.0   NaN   NaN\n",
       "3  수현   3  여자   63  60.0  31.0  70.0\n",
       "4  호영   4  남자  120  50.0   NaN  88.0"
      ],
      "text/html": "<div>\n<style scoped>\n    .dataframe tbody tr th:only-of-type {\n        vertical-align: middle;\n    }\n\n    .dataframe tbody tr th {\n        vertical-align: top;\n    }\n\n    .dataframe thead th {\n        text-align: right;\n    }\n</style>\n<table border=\"1\" class=\"dataframe\">\n  <thead>\n    <tr style=\"text-align: right;\">\n      <th></th>\n      <th>이름</th>\n      <th>학년</th>\n      <th>성별</th>\n      <th>국어</th>\n      <th>영어</th>\n      <th>수학</th>\n      <th>과학</th>\n    </tr>\n  </thead>\n  <tbody>\n    <tr>\n      <th>0</th>\n      <td>철수</td>\n      <td>1</td>\n      <td>남자</td>\n      <td>98</td>\n      <td>NaN</td>\n      <td>88.0</td>\n      <td>64.0</td>\n    </tr>\n    <tr>\n      <th>1</th>\n      <td>영희</td>\n      <td>2</td>\n      <td>여자</td>\n      <td>88</td>\n      <td>90.0</td>\n      <td>62.0</td>\n      <td>72.0</td>\n    </tr>\n    <tr>\n      <th>2</th>\n      <td>민수</td>\n      <td>1</td>\n      <td>남자</td>\n      <td>92</td>\n      <td>70.0</td>\n      <td>NaN</td>\n      <td>NaN</td>\n    </tr>\n    <tr>\n      <th>3</th>\n      <td>수현</td>\n      <td>3</td>\n      <td>여자</td>\n      <td>63</td>\n      <td>60.0</td>\n      <td>31.0</td>\n      <td>70.0</td>\n    </tr>\n    <tr>\n      <th>4</th>\n      <td>호영</td>\n      <td>4</td>\n      <td>남자</td>\n      <td>120</td>\n      <td>50.0</td>\n      <td>NaN</td>\n      <td>88.0</td>\n    </tr>\n  </tbody>\n</table>\n</div>"
     },
     "metadata": {},
     "execution_count": 6
    }
   ],
   "source": [
    "# student키에 해당하는 리스트를 추출하여 데이터프레임으로 변환한다.\n",
    "\n",
    "student_df = DataFrame(result['grade_card'])\n",
    "student_df"
   ]
  },
  {
   "cell_type": "code",
   "execution_count": 7,
   "metadata": {},
   "outputs": [
    {
     "output_type": "execute_result",
     "data": {
      "text/plain": [
       "    학년  성별   국어    영어    수학    과학\n",
       "이름                               \n",
       "철수   1  남자   98   NaN  88.0  64.0\n",
       "영희   2  여자   88  90.0  62.0  72.0\n",
       "민수   1  남자   92  70.0   NaN   NaN\n",
       "수현   3  여자   63  60.0  31.0  70.0\n",
       "호영   4  남자  120  50.0   NaN  88.0"
      ],
      "text/html": "<div>\n<style scoped>\n    .dataframe tbody tr th:only-of-type {\n        vertical-align: middle;\n    }\n\n    .dataframe tbody tr th {\n        vertical-align: top;\n    }\n\n    .dataframe thead th {\n        text-align: right;\n    }\n</style>\n<table border=\"1\" class=\"dataframe\">\n  <thead>\n    <tr style=\"text-align: right;\">\n      <th></th>\n      <th>학년</th>\n      <th>성별</th>\n      <th>국어</th>\n      <th>영어</th>\n      <th>수학</th>\n      <th>과학</th>\n    </tr>\n    <tr>\n      <th>이름</th>\n      <th></th>\n      <th></th>\n      <th></th>\n      <th></th>\n      <th></th>\n      <th></th>\n    </tr>\n  </thead>\n  <tbody>\n    <tr>\n      <th>철수</th>\n      <td>1</td>\n      <td>남자</td>\n      <td>98</td>\n      <td>NaN</td>\n      <td>88.0</td>\n      <td>64.0</td>\n    </tr>\n    <tr>\n      <th>영희</th>\n      <td>2</td>\n      <td>여자</td>\n      <td>88</td>\n      <td>90.0</td>\n      <td>62.0</td>\n      <td>72.0</td>\n    </tr>\n    <tr>\n      <th>민수</th>\n      <td>1</td>\n      <td>남자</td>\n      <td>92</td>\n      <td>70.0</td>\n      <td>NaN</td>\n      <td>NaN</td>\n    </tr>\n    <tr>\n      <th>수현</th>\n      <td>3</td>\n      <td>여자</td>\n      <td>63</td>\n      <td>60.0</td>\n      <td>31.0</td>\n      <td>70.0</td>\n    </tr>\n    <tr>\n      <th>호영</th>\n      <td>4</td>\n      <td>남자</td>\n      <td>120</td>\n      <td>50.0</td>\n      <td>NaN</td>\n      <td>88.0</td>\n    </tr>\n  </tbody>\n</table>\n</div>"
     },
     "metadata": {},
     "execution_count": 7
    }
   ],
   "source": [
    "student_df = student_df.set_index('이름')\n",
    "student_df"
   ]
  },
  {
   "cell_type": "code",
   "execution_count": 8,
   "metadata": {},
   "outputs": [
    {
     "output_type": "execute_result",
     "data": {
      "text/plain": [
       "    학년  성별   국어    영어    수학    과학         평균\n",
       "이름                                          \n",
       "철수   1  남자   98   NaN  88.0  64.0  62.750000\n",
       "영희   2  여자   88  90.0  62.0  72.0  62.800000\n",
       "민수   1  남자   92  70.0   NaN   NaN  54.333333\n",
       "수현   3  여자   63  60.0  31.0  70.0  45.400000\n",
       "호영   4  남자  120  50.0   NaN  88.0  65.500000"
      ],
      "text/html": "<div>\n<style scoped>\n    .dataframe tbody tr th:only-of-type {\n        vertical-align: middle;\n    }\n\n    .dataframe tbody tr th {\n        vertical-align: top;\n    }\n\n    .dataframe thead th {\n        text-align: right;\n    }\n</style>\n<table border=\"1\" class=\"dataframe\">\n  <thead>\n    <tr style=\"text-align: right;\">\n      <th></th>\n      <th>학년</th>\n      <th>성별</th>\n      <th>국어</th>\n      <th>영어</th>\n      <th>수학</th>\n      <th>과학</th>\n      <th>평균</th>\n    </tr>\n    <tr>\n      <th>이름</th>\n      <th></th>\n      <th></th>\n      <th></th>\n      <th></th>\n      <th></th>\n      <th></th>\n      <th></th>\n    </tr>\n  </thead>\n  <tbody>\n    <tr>\n      <th>철수</th>\n      <td>1</td>\n      <td>남자</td>\n      <td>98</td>\n      <td>NaN</td>\n      <td>88.0</td>\n      <td>64.0</td>\n      <td>62.750000</td>\n    </tr>\n    <tr>\n      <th>영희</th>\n      <td>2</td>\n      <td>여자</td>\n      <td>88</td>\n      <td>90.0</td>\n      <td>62.0</td>\n      <td>72.0</td>\n      <td>62.800000</td>\n    </tr>\n    <tr>\n      <th>민수</th>\n      <td>1</td>\n      <td>남자</td>\n      <td>92</td>\n      <td>70.0</td>\n      <td>NaN</td>\n      <td>NaN</td>\n      <td>54.333333</td>\n    </tr>\n    <tr>\n      <th>수현</th>\n      <td>3</td>\n      <td>여자</td>\n      <td>63</td>\n      <td>60.0</td>\n      <td>31.0</td>\n      <td>70.0</td>\n      <td>45.400000</td>\n    </tr>\n    <tr>\n      <th>호영</th>\n      <td>4</td>\n      <td>남자</td>\n      <td>120</td>\n      <td>50.0</td>\n      <td>NaN</td>\n      <td>88.0</td>\n      <td>65.500000</td>\n    </tr>\n  </tbody>\n</table>\n</div>"
     },
     "metadata": {},
     "execution_count": 8
    }
   ],
   "source": [
    "student_df2 = student_df.copy()\n",
    "\n",
    "student_df2['평균'] = student_df.mean(axis=1)\n",
    "student_df2"
   ]
  },
  {
   "cell_type": "code",
   "execution_count": null,
   "metadata": {},
   "outputs": [],
   "source": []
  }
 ]
}