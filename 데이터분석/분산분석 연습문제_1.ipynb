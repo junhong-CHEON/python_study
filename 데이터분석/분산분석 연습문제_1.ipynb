{
 "cells": [
  {
   "cell_type": "code",
   "execution_count": 1,
   "id": "d9084f88",
   "metadata": {},
   "outputs": [],
   "source": [
    "\n",
    "from statsmodels.formula.api import ols\n",
    "from statsmodels.stats.anova import anova_lm\n",
    "from scipy.stats import shapiro\n",
    "from scipy.stats import levene\n",
    "from scipy.stats import bartlett\n",
    "from scipy.stats import ttest_ind\n",
    "from pandas import DataFrame\n",
    "from statsmodels.sandbox.stats.multicomp import MultiComparison\n",
    "from statsmodels.stats.multicomp import pairwise_tukeyhsd"
   ]
  },
  {
   "cell_type": "markdown",
   "id": "a850b503",
   "metadata": {},
   "source": [
    "# 1)"
   ]
  },
  {
   "cell_type": "code",
   "execution_count": 2,
   "id": "48b3949e",
   "metadata": {},
   "outputs": [
    {
     "data": {
      "text/html": [
       "<div>\n",
       "<style scoped>\n",
       "    .dataframe tbody tr th:only-of-type {\n",
       "        vertical-align: middle;\n",
       "    }\n",
       "\n",
       "    .dataframe tbody tr th {\n",
       "        vertical-align: top;\n",
       "    }\n",
       "\n",
       "    .dataframe thead th {\n",
       "        text-align: right;\n",
       "    }\n",
       "</style>\n",
       "<table border=\"1\" class=\"dataframe\">\n",
       "  <thead>\n",
       "    <tr style=\"text-align: right;\">\n",
       "      <th></th>\n",
       "      <th>tensile</th>\n",
       "      <th>pct</th>\n",
       "    </tr>\n",
       "  </thead>\n",
       "  <tbody>\n",
       "    <tr>\n",
       "      <th>0</th>\n",
       "      <td>7</td>\n",
       "      <td>15</td>\n",
       "    </tr>\n",
       "    <tr>\n",
       "      <th>1</th>\n",
       "      <td>7</td>\n",
       "      <td>15</td>\n",
       "    </tr>\n",
       "    <tr>\n",
       "      <th>2</th>\n",
       "      <td>15</td>\n",
       "      <td>15</td>\n",
       "    </tr>\n",
       "    <tr>\n",
       "      <th>3</th>\n",
       "      <td>11</td>\n",
       "      <td>15</td>\n",
       "    </tr>\n",
       "    <tr>\n",
       "      <th>4</th>\n",
       "      <td>9</td>\n",
       "      <td>15</td>\n",
       "    </tr>\n",
       "    <tr>\n",
       "      <th>5</th>\n",
       "      <td>12</td>\n",
       "      <td>20</td>\n",
       "    </tr>\n",
       "    <tr>\n",
       "      <th>6</th>\n",
       "      <td>17</td>\n",
       "      <td>20</td>\n",
       "    </tr>\n",
       "    <tr>\n",
       "      <th>7</th>\n",
       "      <td>12</td>\n",
       "      <td>20</td>\n",
       "    </tr>\n",
       "    <tr>\n",
       "      <th>8</th>\n",
       "      <td>18</td>\n",
       "      <td>20</td>\n",
       "    </tr>\n",
       "    <tr>\n",
       "      <th>9</th>\n",
       "      <td>18</td>\n",
       "      <td>20</td>\n",
       "    </tr>\n",
       "    <tr>\n",
       "      <th>10</th>\n",
       "      <td>14</td>\n",
       "      <td>25</td>\n",
       "    </tr>\n",
       "    <tr>\n",
       "      <th>11</th>\n",
       "      <td>18</td>\n",
       "      <td>25</td>\n",
       "    </tr>\n",
       "    <tr>\n",
       "      <th>12</th>\n",
       "      <td>18</td>\n",
       "      <td>25</td>\n",
       "    </tr>\n",
       "    <tr>\n",
       "      <th>13</th>\n",
       "      <td>19</td>\n",
       "      <td>25</td>\n",
       "    </tr>\n",
       "    <tr>\n",
       "      <th>14</th>\n",
       "      <td>19</td>\n",
       "      <td>25</td>\n",
       "    </tr>\n",
       "    <tr>\n",
       "      <th>15</th>\n",
       "      <td>19</td>\n",
       "      <td>30</td>\n",
       "    </tr>\n",
       "    <tr>\n",
       "      <th>16</th>\n",
       "      <td>25</td>\n",
       "      <td>30</td>\n",
       "    </tr>\n",
       "    <tr>\n",
       "      <th>17</th>\n",
       "      <td>22</td>\n",
       "      <td>30</td>\n",
       "    </tr>\n",
       "    <tr>\n",
       "      <th>18</th>\n",
       "      <td>19</td>\n",
       "      <td>30</td>\n",
       "    </tr>\n",
       "    <tr>\n",
       "      <th>19</th>\n",
       "      <td>23</td>\n",
       "      <td>30</td>\n",
       "    </tr>\n",
       "    <tr>\n",
       "      <th>20</th>\n",
       "      <td>7</td>\n",
       "      <td>35</td>\n",
       "    </tr>\n",
       "    <tr>\n",
       "      <th>21</th>\n",
       "      <td>10</td>\n",
       "      <td>35</td>\n",
       "    </tr>\n",
       "    <tr>\n",
       "      <th>22</th>\n",
       "      <td>11</td>\n",
       "      <td>35</td>\n",
       "    </tr>\n",
       "    <tr>\n",
       "      <th>23</th>\n",
       "      <td>15</td>\n",
       "      <td>35</td>\n",
       "    </tr>\n",
       "    <tr>\n",
       "      <th>24</th>\n",
       "      <td>11</td>\n",
       "      <td>35</td>\n",
       "    </tr>\n",
       "  </tbody>\n",
       "</table>\n",
       "</div>"
      ],
      "text/plain": [
       "    tensile  pct\n",
       "0         7   15\n",
       "1         7   15\n",
       "2        15   15\n",
       "3        11   15\n",
       "4         9   15\n",
       "5        12   20\n",
       "6        17   20\n",
       "7        12   20\n",
       "8        18   20\n",
       "9        18   20\n",
       "10       14   25\n",
       "11       18   25\n",
       "12       18   25\n",
       "13       19   25\n",
       "14       19   25\n",
       "15       19   30\n",
       "16       25   30\n",
       "17       22   30\n",
       "18       19   30\n",
       "19       23   30\n",
       "20        7   35\n",
       "21       10   35\n",
       "22       11   35\n",
       "23       15   35\n",
       "24       11   35"
      ]
     },
     "execution_count": 2,
     "metadata": {},
     "output_type": "execute_result"
    }
   ],
   "source": [
    "df = DataFrame({'tensile' : [7,7,15,11,9,12,17,12,18,18,14,18,18,19,19,19,25,22,19,23,7,10,11,15,11],\n",
    "               'pct': [15, 15, 15, 15, 15, 20, 20, 20, 20, 20, 25, 25, 25, 25, 25, 30, 30, 30, 30, 30, 35, 35, 35, 35, 35]})\n",
    "df"
   ]
  },
  {
   "cell_type": "code",
   "execution_count": 3,
   "id": "7da6634d",
   "metadata": {},
   "outputs": [
    {
     "data": {
      "text/plain": [
       "array([15, 20, 25, 30, 35], dtype=int64)"
      ]
     },
     "execution_count": 3,
     "metadata": {},
     "output_type": "execute_result"
    }
   ],
   "source": [
    "unique = df[\"pct\"].unique()\n",
    "unique"
   ]
  },
  {
   "cell_type": "code",
   "execution_count": 4,
   "id": "a0f7ea92",
   "metadata": {},
   "outputs": [
    {
     "data": {
      "text/html": [
       "<div>\n",
       "<style scoped>\n",
       "    .dataframe tbody tr th:only-of-type {\n",
       "        vertical-align: middle;\n",
       "    }\n",
       "\n",
       "    .dataframe tbody tr th {\n",
       "        vertical-align: top;\n",
       "    }\n",
       "\n",
       "    .dataframe thead th {\n",
       "        text-align: right;\n",
       "    }\n",
       "</style>\n",
       "<table border=\"1\" class=\"dataframe\">\n",
       "  <thead>\n",
       "    <tr style=\"text-align: right;\">\n",
       "      <th></th>\n",
       "      <th>df</th>\n",
       "      <th>sum_sq</th>\n",
       "      <th>mean_sq</th>\n",
       "      <th>F</th>\n",
       "      <th>PR(&gt;F)</th>\n",
       "    </tr>\n",
       "  </thead>\n",
       "  <tbody>\n",
       "    <tr>\n",
       "      <th>C(pct)</th>\n",
       "      <td>4.0</td>\n",
       "      <td>475.76</td>\n",
       "      <td>118.94</td>\n",
       "      <td>14.756824</td>\n",
       "      <td>0.000009</td>\n",
       "    </tr>\n",
       "    <tr>\n",
       "      <th>Residual</th>\n",
       "      <td>20.0</td>\n",
       "      <td>161.20</td>\n",
       "      <td>8.06</td>\n",
       "      <td>NaN</td>\n",
       "      <td>NaN</td>\n",
       "    </tr>\n",
       "  </tbody>\n",
       "</table>\n",
       "</div>"
      ],
      "text/plain": [
       "            df  sum_sq  mean_sq          F    PR(>F)\n",
       "C(pct)     4.0  475.76   118.94  14.756824  0.000009\n",
       "Residual  20.0  161.20     8.06        NaN       NaN"
      ]
     },
     "execution_count": 4,
     "metadata": {},
     "output_type": "execute_result"
    }
   ],
   "source": [
    "model = ols('tensile ~ C(pct)', df)\n",
    "fit = model.fit()\n",
    "result = anova_lm(fit)\n",
    "result"
   ]
  },
  {
   "cell_type": "markdown",
   "id": "83feaeeb",
   "metadata": {},
   "source": [
    "### p-value가 0.05보다 작으므로 통계적으로 유의미한 차이가 있다.<br> 따라서 사후분석이 필요하다"
   ]
  },
  {
   "cell_type": "markdown",
   "id": "c89216ba",
   "metadata": {},
   "source": [
    "## 정규성확인"
   ]
  },
  {
   "cell_type": "code",
   "execution_count": 5,
   "id": "11eba4ee",
   "metadata": {},
   "outputs": [
    {
     "name": "stdout",
     "output_type": "stream",
     "text": [
      "ShapiroResult(statistic=0.8810376524925232, pvalue=0.3140396773815155)\n",
      "15 수준의 검정통계량: 0.88, p-value: 0.31\n",
      "\n",
      "ShapiroResult(statistic=0.7538275718688965, pvalue=0.03228148818016052)\n",
      "20 수준의 검정통계량: 0.75, p-value: 0.03\n",
      "\n",
      "ShapiroResult(statistic=0.7387246489524841, pvalue=0.023324359208345413)\n",
      "25 수준의 검정통계량: 0.74, p-value: 0.02\n",
      "\n",
      "ShapiroResult(statistic=0.9020196199417114, pvalue=0.421148419380188)\n",
      "30 수준의 검정통계량: 0.90, p-value: 0.42\n",
      "\n",
      "ShapiroResult(statistic=0.941970705986023, pvalue=0.6799027323722839)\n",
      "35 수준의 검정통계량: 0.94, p-value: 0.68\n",
      "\n"
     ]
    }
   ],
   "source": [
    "for u in unique:\n",
    "    s = shapiro(df['tensile'][df['pct']==u])\n",
    "    print(s)\n",
    "    print(\"%s 수준의 검정통계량: %0.2f, p-value: %0.2f\\n\" % (u, s.statistic, s.pvalue))"
   ]
  },
  {
   "cell_type": "markdown",
   "id": "c45b79b3",
   "metadata": {},
   "source": [
    "- `20%와 25%의 p-value값이 0.05 이하이므로 정규성을 벗어난다고 볼 수 있다.`\n",
    "- `15% 30% 35% 의 p-value값은 0.05 이상이므로 정규성을 크게 벗어난다고 보기 어렵다.`"
   ]
  },
  {
   "cell_type": "markdown",
   "id": "06d1f043",
   "metadata": {},
   "source": [
    "## 독립성 확인"
   ]
  },
  {
   "cell_type": "code",
   "execution_count": 6,
   "id": "0a2f3b77",
   "metadata": {},
   "outputs": [
    {
     "data": {
      "text/plain": [
       "LeveneResult(statistic=0.317948717948718, pvalue=0.8625858807756616)"
      ]
     },
     "execution_count": 6,
     "metadata": {},
     "output_type": "execute_result"
    }
   ],
   "source": [
    "levene(\n",
    "    df['tensile'][df['pct'] == 15],\n",
    "    df['tensile'][df['pct'] == 20],\n",
    "    df['tensile'][df['pct'] == 25],\n",
    "    df['tensile'][df['pct'] == 30],\n",
    "    df['tensile'][df['pct'] == 35] )"
   ]
  },
  {
   "cell_type": "markdown",
   "id": "fd2d54f9",
   "metadata": {},
   "source": [
    "- `다섯 집단의 모분산에 유의미한 차이를 발견하지 못했다. 등분산성 가정이 유지된다. (p-value > 0.05)`"
   ]
  },
  {
   "cell_type": "code",
   "execution_count": 7,
   "id": "362263d9",
   "metadata": {},
   "outputs": [
    {
     "name": "stdout",
     "output_type": "stream",
     "text": [
      "Test Multiple Comparison ttest_ind \n",
      "FWER=0.05 method=bonf\n",
      "alphacSidak=0.01, alphacBonf=0.005\n",
      "=============================================\n",
      "group1 group2   stat   pval  pval_corr reject\n",
      "---------------------------------------------\n",
      "    15     20 -2.7325 0.0257    0.2575  False\n",
      "    15     25 -4.4301 0.0022     0.022   True\n",
      "    15     30 -6.2191 0.0003    0.0025   True\n",
      "    15     35 -0.5077 0.6254       1.0  False\n",
      "    20     25 -1.3101 0.2265       1.0  False\n",
      "    20     30 -3.4027 0.0093    0.0932  False\n",
      "    20     35  2.4244 0.0416    0.4156  False\n",
      "    25     30 -2.6846 0.0277    0.2773  False\n",
      "    25     35  4.3007 0.0026    0.0261   True\n",
      "    30     35  6.2354 0.0002    0.0025   True\n",
      "---------------------------------------------\n"
     ]
    }
   ],
   "source": [
    "comp = MultiComparison(df[\"tensile\"], df[\"pct\"])\n",
    "result = comp.allpairtest(ttest_ind)\n",
    "print(result[0])"
   ]
  },
  {
   "cell_type": "markdown",
   "id": "0c4272e8",
   "metadata": {},
   "source": [
    "### pct에 따른 tensile 평균 차이는 유의미하였다(F(4, 20) = 14.756824, p < 0.05). 봉페로니 교정을 이용하여 사후분석을 실시한 결과, `15% 와 25%`,`15% 와 30%`,`25% 와 35%`,`30% 와 35%` 수준 에서 유의미한 평균 차이가 있었다(p < 0.05)."
   ]
  },
  {
   "cell_type": "markdown",
   "id": "8ad11680",
   "metadata": {},
   "source": [
    "# 2)"
   ]
  },
  {
   "cell_type": "code",
   "execution_count": 8,
   "id": "c4f72f59",
   "metadata": {},
   "outputs": [
    {
     "data": {
      "text/html": [
       "<div>\n",
       "<style scoped>\n",
       "    .dataframe tbody tr th:only-of-type {\n",
       "        vertical-align: middle;\n",
       "    }\n",
       "\n",
       "    .dataframe tbody tr th {\n",
       "        vertical-align: top;\n",
       "    }\n",
       "\n",
       "    .dataframe thead th {\n",
       "        text-align: right;\n",
       "    }\n",
       "</style>\n",
       "<table border=\"1\" class=\"dataframe\">\n",
       "  <thead>\n",
       "    <tr style=\"text-align: right;\">\n",
       "      <th></th>\n",
       "      <th>weight</th>\n",
       "      <th>saryo</th>\n",
       "    </tr>\n",
       "  </thead>\n",
       "  <tbody>\n",
       "    <tr>\n",
       "      <th>0</th>\n",
       "      <td>60.8</td>\n",
       "      <td>1</td>\n",
       "    </tr>\n",
       "    <tr>\n",
       "      <th>1</th>\n",
       "      <td>57.0</td>\n",
       "      <td>1</td>\n",
       "    </tr>\n",
       "    <tr>\n",
       "      <th>2</th>\n",
       "      <td>65.0</td>\n",
       "      <td>1</td>\n",
       "    </tr>\n",
       "    <tr>\n",
       "      <th>3</th>\n",
       "      <td>58.6</td>\n",
       "      <td>1</td>\n",
       "    </tr>\n",
       "    <tr>\n",
       "      <th>4</th>\n",
       "      <td>61.7</td>\n",
       "      <td>1</td>\n",
       "    </tr>\n",
       "    <tr>\n",
       "      <th>5</th>\n",
       "      <td>68.7</td>\n",
       "      <td>2</td>\n",
       "    </tr>\n",
       "    <tr>\n",
       "      <th>6</th>\n",
       "      <td>67.7</td>\n",
       "      <td>2</td>\n",
       "    </tr>\n",
       "    <tr>\n",
       "      <th>7</th>\n",
       "      <td>74.0</td>\n",
       "      <td>2</td>\n",
       "    </tr>\n",
       "    <tr>\n",
       "      <th>8</th>\n",
       "      <td>66.3</td>\n",
       "      <td>2</td>\n",
       "    </tr>\n",
       "    <tr>\n",
       "      <th>9</th>\n",
       "      <td>69.8</td>\n",
       "      <td>2</td>\n",
       "    </tr>\n",
       "    <tr>\n",
       "      <th>10</th>\n",
       "      <td>102.6</td>\n",
       "      <td>3</td>\n",
       "    </tr>\n",
       "    <tr>\n",
       "      <th>11</th>\n",
       "      <td>102.1</td>\n",
       "      <td>3</td>\n",
       "    </tr>\n",
       "    <tr>\n",
       "      <th>12</th>\n",
       "      <td>100.2</td>\n",
       "      <td>3</td>\n",
       "    </tr>\n",
       "    <tr>\n",
       "      <th>13</th>\n",
       "      <td>96.5</td>\n",
       "      <td>3</td>\n",
       "    </tr>\n",
       "    <tr>\n",
       "      <th>14</th>\n",
       "      <td>87.9</td>\n",
       "      <td>4</td>\n",
       "    </tr>\n",
       "    <tr>\n",
       "      <th>15</th>\n",
       "      <td>84.2</td>\n",
       "      <td>4</td>\n",
       "    </tr>\n",
       "    <tr>\n",
       "      <th>16</th>\n",
       "      <td>83.1</td>\n",
       "      <td>4</td>\n",
       "    </tr>\n",
       "    <tr>\n",
       "      <th>17</th>\n",
       "      <td>85.7</td>\n",
       "      <td>4</td>\n",
       "    </tr>\n",
       "    <tr>\n",
       "      <th>18</th>\n",
       "      <td>90.3</td>\n",
       "      <td>4</td>\n",
       "    </tr>\n",
       "  </tbody>\n",
       "</table>\n",
       "</div>"
      ],
      "text/plain": [
       "    weight  saryo\n",
       "0     60.8      1\n",
       "1     57.0      1\n",
       "2     65.0      1\n",
       "3     58.6      1\n",
       "4     61.7      1\n",
       "5     68.7      2\n",
       "6     67.7      2\n",
       "7     74.0      2\n",
       "8     66.3      2\n",
       "9     69.8      2\n",
       "10   102.6      3\n",
       "11   102.1      3\n",
       "12   100.2      3\n",
       "13    96.5      3\n",
       "14    87.9      4\n",
       "15    84.2      4\n",
       "16    83.1      4\n",
       "17    85.7      4\n",
       "18    90.3      4"
      ]
     },
     "execution_count": 8,
     "metadata": {},
     "output_type": "execute_result"
    }
   ],
   "source": [
    "df = DataFrame({'weight' : [60.8, 57.0, 65.0, 58.6, 61.7, 68.7, 67.7, 74.0, 66.3, 69.8, 102.6, 102.1, 100.2, 96.5, 87.9, 84.2, 83.1, 85.7, 90.3],\n",
    "                'saryo' : [1, 1, 1, 1, 1, 2, 2, 2, 2, 2, 3, 3, 3, 3, 4, 4, 4, 4, 4]})\n",
    "df"
   ]
  },
  {
   "cell_type": "code",
   "execution_count": 9,
   "id": "56203753",
   "metadata": {},
   "outputs": [
    {
     "data": {
      "text/plain": [
       "array([1, 2, 3, 4], dtype=int64)"
      ]
     },
     "execution_count": 9,
     "metadata": {},
     "output_type": "execute_result"
    }
   ],
   "source": [
    "unique = df[\"saryo\"].unique()\n",
    "unique"
   ]
  },
  {
   "cell_type": "code",
   "execution_count": 10,
   "id": "993a2ab4",
   "metadata": {},
   "outputs": [
    {
     "data": {
      "text/html": [
       "<div>\n",
       "<style scoped>\n",
       "    .dataframe tbody tr th:only-of-type {\n",
       "        vertical-align: middle;\n",
       "    }\n",
       "\n",
       "    .dataframe tbody tr th {\n",
       "        vertical-align: top;\n",
       "    }\n",
       "\n",
       "    .dataframe thead th {\n",
       "        text-align: right;\n",
       "    }\n",
       "</style>\n",
       "<table border=\"1\" class=\"dataframe\">\n",
       "  <thead>\n",
       "    <tr style=\"text-align: right;\">\n",
       "      <th></th>\n",
       "      <th>df</th>\n",
       "      <th>sum_sq</th>\n",
       "      <th>mean_sq</th>\n",
       "      <th>F</th>\n",
       "      <th>PR(&gt;F)</th>\n",
       "    </tr>\n",
       "  </thead>\n",
       "  <tbody>\n",
       "    <tr>\n",
       "      <th>C(saryo)</th>\n",
       "      <td>3.0</td>\n",
       "      <td>4226.347895</td>\n",
       "      <td>1408.782632</td>\n",
       "      <td>164.641523</td>\n",
       "      <td>1.061311e-11</td>\n",
       "    </tr>\n",
       "    <tr>\n",
       "      <th>Residual</th>\n",
       "      <td>15.0</td>\n",
       "      <td>128.350000</td>\n",
       "      <td>8.556667</td>\n",
       "      <td>NaN</td>\n",
       "      <td>NaN</td>\n",
       "    </tr>\n",
       "  </tbody>\n",
       "</table>\n",
       "</div>"
      ],
      "text/plain": [
       "            df       sum_sq      mean_sq           F        PR(>F)\n",
       "C(saryo)   3.0  4226.347895  1408.782632  164.641523  1.061311e-11\n",
       "Residual  15.0   128.350000     8.556667         NaN           NaN"
      ]
     },
     "execution_count": 10,
     "metadata": {},
     "output_type": "execute_result"
    }
   ],
   "source": [
    "model = ols('weight ~ C(saryo)', df)\n",
    "fit = model.fit()\n",
    "result = anova_lm(fit)\n",
    "result"
   ]
  },
  {
   "cell_type": "markdown",
   "id": "a0a5050b",
   "metadata": {},
   "source": [
    "### p-value가 0.05보다 작으므로 통계적으로 유의미한 차이가 있다.<br> 따라서 사후분석이 필요하다"
   ]
  },
  {
   "cell_type": "code",
   "execution_count": 11,
   "id": "1df93070",
   "metadata": {},
   "outputs": [
    {
     "name": "stdout",
     "output_type": "stream",
     "text": [
      "ShapiroResult(statistic=0.9792436361312866, pvalue=0.9305320382118225)\n",
      "1 수준의 검정통계량: 0.98, p-value: 0.93\n",
      "\n",
      "ShapiroResult(statistic=0.9234057664871216, pvalue=0.5521445274353027)\n",
      "2 수준의 검정통계량: 0.92, p-value: 0.55\n",
      "\n",
      "ShapiroResult(statistic=0.8848595023155212, pvalue=0.35980650782585144)\n",
      "3 수준의 검정통계량: 0.88, p-value: 0.36\n",
      "\n",
      "ShapiroResult(statistic=0.9610342383384705, pvalue=0.8151664137840271)\n",
      "4 수준의 검정통계량: 0.96, p-value: 0.82\n",
      "\n"
     ]
    }
   ],
   "source": [
    "for u in unique:\n",
    "    s = shapiro(df['weight'][df['saryo']==u])\n",
    "    print(s)\n",
    "    print(\"%s 수준의 검정통계량: %0.2f, p-value: %0.2f\\n\" % (u, s.statistic, s.pvalue))"
   ]
  },
  {
   "cell_type": "markdown",
   "id": "e5b15cf8",
   "metadata": {},
   "source": [
    "- `모든 집단의 p-value값은 0.05 이상이므로 정규성을 크게 벗어난다고 보기 어렵다.`"
   ]
  },
  {
   "cell_type": "code",
   "execution_count": 12,
   "id": "7b9f0152",
   "metadata": {},
   "outputs": [
    {
     "data": {
      "text/plain": [
       "BartlettResult(statistic=0.0328424024300886, pvalue=0.998432540893909)"
      ]
     },
     "execution_count": 12,
     "metadata": {},
     "output_type": "execute_result"
    }
   ],
   "source": [
    "bartlett(\n",
    "    df['weight'][df['saryo'] == 1],\n",
    "    df['weight'][df['saryo'] == 2],\n",
    "    df['weight'][df['saryo'] == 3],\n",
    "    df['weight'][df['saryo'] == 4])"
   ]
  },
  {
   "cell_type": "markdown",
   "id": "39fb4d13",
   "metadata": {},
   "source": [
    "- `네 집단의 모분산에 유의미한 차이를 발견하지 못함(P > 0.05). 등분산성 가정이 유지됨`"
   ]
  },
  {
   "cell_type": "code",
   "execution_count": 13,
   "id": "b0f91781",
   "metadata": {},
   "outputs": [
    {
     "name": "stdout",
     "output_type": "stream",
     "text": [
      " Multiple Comparison of Means - Tukey HSD, FWER=0.05 \n",
      "=====================================================\n",
      "group1 group2 meandiff p-adj   lower    upper  reject\n",
      "-----------------------------------------------------\n",
      "     1      2     8.68 0.0015   3.3476 14.0124   True\n",
      "     1      3    39.73  0.001  34.0741 45.3859   True\n",
      "     1      4    25.62  0.001  20.2876 30.9524   True\n",
      "     2      3    31.05  0.001  25.3941 36.7059   True\n",
      "     2      4    16.94  0.001  11.6076 22.2724   True\n",
      "     3      4   -14.11  0.001 -19.7659 -8.4541   True\n",
      "-----------------------------------------------------\n"
     ]
    }
   ],
   "source": [
    "hsd = pairwise_tukeyhsd(df['weight'], df['saryo'])\n",
    "print(hsd.summary())"
   ]
  },
  {
   "cell_type": "markdown",
   "id": "320f42f0",
   "metadata": {},
   "source": [
    "### 사료의 종류에 따른 weight 평균 차이는 유의미하였다(F(3, 15) = 164.641523, p < 0.05). 투키의 HSD를 이용하여 사후분석을 실시한 결과, 모든 요인들은 유의미한 평균 차이가 있었다(p < 0.05)."
   ]
  },
  {
   "cell_type": "markdown",
   "id": "5b5ec862",
   "metadata": {},
   "source": [
    "# 3)"
   ]
  },
  {
   "cell_type": "code",
   "execution_count": 14,
   "id": "30764c2d",
   "metadata": {},
   "outputs": [
    {
     "data": {
      "text/html": [
       "<div>\n",
       "<style scoped>\n",
       "    .dataframe tbody tr th:only-of-type {\n",
       "        vertical-align: middle;\n",
       "    }\n",
       "\n",
       "    .dataframe tbody tr th {\n",
       "        vertical-align: top;\n",
       "    }\n",
       "\n",
       "    .dataframe thead th {\n",
       "        text-align: right;\n",
       "    }\n",
       "</style>\n",
       "<table border=\"1\" class=\"dataframe\">\n",
       "  <thead>\n",
       "    <tr style=\"text-align: right;\">\n",
       "      <th></th>\n",
       "      <th>result</th>\n",
       "      <th>method</th>\n",
       "    </tr>\n",
       "  </thead>\n",
       "  <tbody>\n",
       "    <tr>\n",
       "      <th>0</th>\n",
       "      <td>65</td>\n",
       "      <td>1</td>\n",
       "    </tr>\n",
       "    <tr>\n",
       "      <th>1</th>\n",
       "      <td>87</td>\n",
       "      <td>1</td>\n",
       "    </tr>\n",
       "    <tr>\n",
       "      <th>2</th>\n",
       "      <td>73</td>\n",
       "      <td>1</td>\n",
       "    </tr>\n",
       "    <tr>\n",
       "      <th>3</th>\n",
       "      <td>79</td>\n",
       "      <td>1</td>\n",
       "    </tr>\n",
       "    <tr>\n",
       "      <th>4</th>\n",
       "      <td>81</td>\n",
       "      <td>1</td>\n",
       "    </tr>\n",
       "    <tr>\n",
       "      <th>5</th>\n",
       "      <td>69</td>\n",
       "      <td>1</td>\n",
       "    </tr>\n",
       "    <tr>\n",
       "      <th>6</th>\n",
       "      <td>75</td>\n",
       "      <td>2</td>\n",
       "    </tr>\n",
       "    <tr>\n",
       "      <th>7</th>\n",
       "      <td>69</td>\n",
       "      <td>2</td>\n",
       "    </tr>\n",
       "    <tr>\n",
       "      <th>8</th>\n",
       "      <td>83</td>\n",
       "      <td>2</td>\n",
       "    </tr>\n",
       "    <tr>\n",
       "      <th>9</th>\n",
       "      <td>81</td>\n",
       "      <td>2</td>\n",
       "    </tr>\n",
       "    <tr>\n",
       "      <th>10</th>\n",
       "      <td>72</td>\n",
       "      <td>2</td>\n",
       "    </tr>\n",
       "    <tr>\n",
       "      <th>11</th>\n",
       "      <td>79</td>\n",
       "      <td>2</td>\n",
       "    </tr>\n",
       "    <tr>\n",
       "      <th>12</th>\n",
       "      <td>90</td>\n",
       "      <td>2</td>\n",
       "    </tr>\n",
       "    <tr>\n",
       "      <th>13</th>\n",
       "      <td>59</td>\n",
       "      <td>3</td>\n",
       "    </tr>\n",
       "    <tr>\n",
       "      <th>14</th>\n",
       "      <td>78</td>\n",
       "      <td>3</td>\n",
       "    </tr>\n",
       "    <tr>\n",
       "      <th>15</th>\n",
       "      <td>67</td>\n",
       "      <td>3</td>\n",
       "    </tr>\n",
       "    <tr>\n",
       "      <th>16</th>\n",
       "      <td>62</td>\n",
       "      <td>3</td>\n",
       "    </tr>\n",
       "    <tr>\n",
       "      <th>17</th>\n",
       "      <td>83</td>\n",
       "      <td>3</td>\n",
       "    </tr>\n",
       "    <tr>\n",
       "      <th>18</th>\n",
       "      <td>76</td>\n",
       "      <td>3</td>\n",
       "    </tr>\n",
       "    <tr>\n",
       "      <th>19</th>\n",
       "      <td>94</td>\n",
       "      <td>4</td>\n",
       "    </tr>\n",
       "    <tr>\n",
       "      <th>20</th>\n",
       "      <td>89</td>\n",
       "      <td>4</td>\n",
       "    </tr>\n",
       "    <tr>\n",
       "      <th>21</th>\n",
       "      <td>80</td>\n",
       "      <td>4</td>\n",
       "    </tr>\n",
       "    <tr>\n",
       "      <th>22</th>\n",
       "      <td>80</td>\n",
       "      <td>4</td>\n",
       "    </tr>\n",
       "  </tbody>\n",
       "</table>\n",
       "</div>"
      ],
      "text/plain": [
       "    result  method\n",
       "0       65       1\n",
       "1       87       1\n",
       "2       73       1\n",
       "3       79       1\n",
       "4       81       1\n",
       "5       69       1\n",
       "6       75       2\n",
       "7       69       2\n",
       "8       83       2\n",
       "9       81       2\n",
       "10      72       2\n",
       "11      79       2\n",
       "12      90       2\n",
       "13      59       3\n",
       "14      78       3\n",
       "15      67       3\n",
       "16      62       3\n",
       "17      83       3\n",
       "18      76       3\n",
       "19      94       4\n",
       "20      89       4\n",
       "21      80       4\n",
       "22      80       4"
      ]
     },
     "execution_count": 14,
     "metadata": {},
     "output_type": "execute_result"
    }
   ],
   "source": [
    "df3 = DataFrame({'result' : [65,87,73,79,81,69,75,69,83,81,72,79,90,59,78,67,62,83,76,94,89,80,80],\n",
    "               'method':[1,1,1,1,1,1,2,2,2,2,2,2,2,3,3,3,3,3,3,4,4,4,4]})\n",
    "df3"
   ]
  },
  {
   "cell_type": "code",
   "execution_count": 15,
   "id": "b99ca27c",
   "metadata": {},
   "outputs": [
    {
     "data": {
      "text/plain": [
       "array([1, 2, 3, 4], dtype=int64)"
      ]
     },
     "execution_count": 15,
     "metadata": {},
     "output_type": "execute_result"
    }
   ],
   "source": [
    "unique = df3[\"method\"].unique()\n",
    "unique"
   ]
  },
  {
   "cell_type": "code",
   "execution_count": 16,
   "id": "310a6a84",
   "metadata": {},
   "outputs": [
    {
     "data": {
      "text/html": [
       "<div>\n",
       "<style scoped>\n",
       "    .dataframe tbody tr th:only-of-type {\n",
       "        vertical-align: middle;\n",
       "    }\n",
       "\n",
       "    .dataframe tbody tr th {\n",
       "        vertical-align: top;\n",
       "    }\n",
       "\n",
       "    .dataframe thead th {\n",
       "        text-align: right;\n",
       "    }\n",
       "</style>\n",
       "<table border=\"1\" class=\"dataframe\">\n",
       "  <thead>\n",
       "    <tr style=\"text-align: right;\">\n",
       "      <th></th>\n",
       "      <th>df</th>\n",
       "      <th>sum_sq</th>\n",
       "      <th>mean_sq</th>\n",
       "      <th>F</th>\n",
       "      <th>PR(&gt;F)</th>\n",
       "    </tr>\n",
       "  </thead>\n",
       "  <tbody>\n",
       "    <tr>\n",
       "      <th>C(method)</th>\n",
       "      <td>3.0</td>\n",
       "      <td>559.369048</td>\n",
       "      <td>186.456349</td>\n",
       "      <td>2.855539</td>\n",
       "      <td>0.064413</td>\n",
       "    </tr>\n",
       "    <tr>\n",
       "      <th>Residual</th>\n",
       "      <td>19.0</td>\n",
       "      <td>1240.630952</td>\n",
       "      <td>65.296366</td>\n",
       "      <td>NaN</td>\n",
       "      <td>NaN</td>\n",
       "    </tr>\n",
       "  </tbody>\n",
       "</table>\n",
       "</div>"
      ],
      "text/plain": [
       "             df       sum_sq     mean_sq         F    PR(>F)\n",
       "C(method)   3.0   559.369048  186.456349  2.855539  0.064413\n",
       "Residual   19.0  1240.630952   65.296366       NaN       NaN"
      ]
     },
     "execution_count": 16,
     "metadata": {},
     "output_type": "execute_result"
    }
   ],
   "source": [
    "model = ols('result ~ C(method)', df3)\n",
    "fit = model.fit()\n",
    "result = anova_lm(fit)\n",
    "result"
   ]
  },
  {
   "cell_type": "markdown",
   "id": "e7cec692",
   "metadata": {},
   "source": [
    "### - p-value값이 0.05이상이므로 각 요인간의 유의미한 차이가 없다."
   ]
  },
  {
   "cell_type": "markdown",
   "id": "b9b596e2",
   "metadata": {},
   "source": [
    "# 4)"
   ]
  },
  {
   "cell_type": "code",
   "execution_count": 17,
   "id": "21942551",
   "metadata": {},
   "outputs": [
    {
     "data": {
      "text/html": [
       "<div>\n",
       "<style scoped>\n",
       "    .dataframe tbody tr th:only-of-type {\n",
       "        vertical-align: middle;\n",
       "    }\n",
       "\n",
       "    .dataframe tbody tr th {\n",
       "        vertical-align: top;\n",
       "    }\n",
       "\n",
       "    .dataframe thead th {\n",
       "        text-align: right;\n",
       "    }\n",
       "</style>\n",
       "<table border=\"1\" class=\"dataframe\">\n",
       "  <thead>\n",
       "    <tr style=\"text-align: right;\">\n",
       "      <th></th>\n",
       "      <th>score</th>\n",
       "      <th>method</th>\n",
       "    </tr>\n",
       "  </thead>\n",
       "  <tbody>\n",
       "    <tr>\n",
       "      <th>0</th>\n",
       "      <td>6</td>\n",
       "      <td>B</td>\n",
       "    </tr>\n",
       "    <tr>\n",
       "      <th>1</th>\n",
       "      <td>9</td>\n",
       "      <td>B</td>\n",
       "    </tr>\n",
       "    <tr>\n",
       "      <th>2</th>\n",
       "      <td>2</td>\n",
       "      <td>B</td>\n",
       "    </tr>\n",
       "    <tr>\n",
       "      <th>3</th>\n",
       "      <td>16</td>\n",
       "      <td>B</td>\n",
       "    </tr>\n",
       "    <tr>\n",
       "      <th>4</th>\n",
       "      <td>7</td>\n",
       "      <td>D</td>\n",
       "    </tr>\n",
       "    <tr>\n",
       "      <th>5</th>\n",
       "      <td>7</td>\n",
       "      <td>D</td>\n",
       "    </tr>\n",
       "    <tr>\n",
       "      <th>6</th>\n",
       "      <td>12</td>\n",
       "      <td>D</td>\n",
       "    </tr>\n",
       "    <tr>\n",
       "      <th>7</th>\n",
       "      <td>10</td>\n",
       "      <td>D</td>\n",
       "    </tr>\n",
       "    <tr>\n",
       "      <th>8</th>\n",
       "      <td>16</td>\n",
       "      <td>D</td>\n",
       "    </tr>\n",
       "    <tr>\n",
       "      <th>9</th>\n",
       "      <td>11</td>\n",
       "      <td>S</td>\n",
       "    </tr>\n",
       "    <tr>\n",
       "      <th>10</th>\n",
       "      <td>7</td>\n",
       "      <td>S</td>\n",
       "    </tr>\n",
       "    <tr>\n",
       "      <th>11</th>\n",
       "      <td>4</td>\n",
       "      <td>S</td>\n",
       "    </tr>\n",
       "    <tr>\n",
       "      <th>12</th>\n",
       "      <td>7</td>\n",
       "      <td>S</td>\n",
       "    </tr>\n",
       "    <tr>\n",
       "      <th>13</th>\n",
       "      <td>7</td>\n",
       "      <td>S</td>\n",
       "    </tr>\n",
       "  </tbody>\n",
       "</table>\n",
       "</div>"
      ],
      "text/plain": [
       "    score method\n",
       "0       6      B\n",
       "1       9      B\n",
       "2       2      B\n",
       "3      16      B\n",
       "4       7      D\n",
       "5       7      D\n",
       "6      12      D\n",
       "7      10      D\n",
       "8      16      D\n",
       "9      11      S\n",
       "10      7      S\n",
       "11      4      S\n",
       "12      7      S\n",
       "13      7      S"
      ]
     },
     "execution_count": 17,
     "metadata": {},
     "output_type": "execute_result"
    }
   ],
   "source": [
    "df4 = DataFrame({'score':[6,9,2,16, 7,7,12,10,16, 11,7,4,7,7],\n",
    "                 'method':['B', 'B', 'B','B','D','D','D','D','D','S','S','S','S','S']})\n",
    "df4"
   ]
  },
  {
   "cell_type": "code",
   "execution_count": 18,
   "id": "65b3f520",
   "metadata": {},
   "outputs": [
    {
     "data": {
      "text/plain": [
       "array(['B', 'D', 'S'], dtype=object)"
      ]
     },
     "execution_count": 18,
     "metadata": {},
     "output_type": "execute_result"
    }
   ],
   "source": [
    "unique = df4[\"method\"].unique()\n",
    "unique"
   ]
  },
  {
   "cell_type": "code",
   "execution_count": 19,
   "id": "ea32877e",
   "metadata": {},
   "outputs": [
    {
     "data": {
      "text/plain": [
       "[1, 2, 3]\n",
       "Categories (3, int64): [1, 2, 3]"
      ]
     },
     "execution_count": 19,
     "metadata": {},
     "output_type": "execute_result"
    }
   ],
   "source": [
    "df4['method'] = df4['method'].astype('category').cat.rename_categories({'B': 1, 'D': 2, 'S': 3})\n",
    "unique = df4['method'].unique()\n",
    "unique"
   ]
  },
  {
   "cell_type": "code",
   "execution_count": 20,
   "id": "61a2a020",
   "metadata": {},
   "outputs": [
    {
     "data": {
      "text/html": [
       "<div>\n",
       "<style scoped>\n",
       "    .dataframe tbody tr th:only-of-type {\n",
       "        vertical-align: middle;\n",
       "    }\n",
       "\n",
       "    .dataframe tbody tr th {\n",
       "        vertical-align: top;\n",
       "    }\n",
       "\n",
       "    .dataframe thead th {\n",
       "        text-align: right;\n",
       "    }\n",
       "</style>\n",
       "<table border=\"1\" class=\"dataframe\">\n",
       "  <thead>\n",
       "    <tr style=\"text-align: right;\">\n",
       "      <th></th>\n",
       "      <th>df</th>\n",
       "      <th>sum_sq</th>\n",
       "      <th>mean_sq</th>\n",
       "      <th>F</th>\n",
       "      <th>PR(&gt;F)</th>\n",
       "    </tr>\n",
       "  </thead>\n",
       "  <tbody>\n",
       "    <tr>\n",
       "      <th>C(method)</th>\n",
       "      <td>2.0</td>\n",
       "      <td>26.464286</td>\n",
       "      <td>13.232143</td>\n",
       "      <td>0.779403</td>\n",
       "      <td>0.48244</td>\n",
       "    </tr>\n",
       "    <tr>\n",
       "      <th>Residual</th>\n",
       "      <td>11.0</td>\n",
       "      <td>186.750000</td>\n",
       "      <td>16.977273</td>\n",
       "      <td>NaN</td>\n",
       "      <td>NaN</td>\n",
       "    </tr>\n",
       "  </tbody>\n",
       "</table>\n",
       "</div>"
      ],
      "text/plain": [
       "             df      sum_sq    mean_sq         F   PR(>F)\n",
       "C(method)   2.0   26.464286  13.232143  0.779403  0.48244\n",
       "Residual   11.0  186.750000  16.977273       NaN      NaN"
      ]
     },
     "execution_count": 20,
     "metadata": {},
     "output_type": "execute_result"
    }
   ],
   "source": [
    "model = ols('score ~ C(method)', df4)\n",
    "fit = model.fit()\n",
    "result = anova_lm(fit)\n",
    "result"
   ]
  },
  {
   "cell_type": "markdown",
   "id": "9469efac",
   "metadata": {},
   "source": [
    "### - p-value값이 0.05이상이므로 각 요인간의 유의미한 차이가 없다."
   ]
  },
  {
   "cell_type": "markdown",
   "id": "5b89c291",
   "metadata": {},
   "source": [
    "# 5)"
   ]
  },
  {
   "cell_type": "code",
   "execution_count": 21,
   "id": "d742125b",
   "metadata": {},
   "outputs": [
    {
     "data": {
      "text/html": [
       "<div>\n",
       "<style scoped>\n",
       "    .dataframe tbody tr th:only-of-type {\n",
       "        vertical-align: middle;\n",
       "    }\n",
       "\n",
       "    .dataframe tbody tr th {\n",
       "        vertical-align: top;\n",
       "    }\n",
       "\n",
       "    .dataframe thead th {\n",
       "        text-align: right;\n",
       "    }\n",
       "</style>\n",
       "<table border=\"1\" class=\"dataframe\">\n",
       "  <thead>\n",
       "    <tr style=\"text-align: right;\">\n",
       "      <th></th>\n",
       "      <th>모종</th>\n",
       "      <th>효소</th>\n",
       "    </tr>\n",
       "  </thead>\n",
       "  <tbody>\n",
       "    <tr>\n",
       "      <th>0</th>\n",
       "      <td>10.8</td>\n",
       "      <td>0</td>\n",
       "    </tr>\n",
       "    <tr>\n",
       "      <th>1</th>\n",
       "      <td>9.1</td>\n",
       "      <td>0</td>\n",
       "    </tr>\n",
       "    <tr>\n",
       "      <th>2</th>\n",
       "      <td>13.5</td>\n",
       "      <td>0</td>\n",
       "    </tr>\n",
       "    <tr>\n",
       "      <th>3</th>\n",
       "      <td>9.2</td>\n",
       "      <td>0</td>\n",
       "    </tr>\n",
       "    <tr>\n",
       "      <th>4</th>\n",
       "      <td>11.1</td>\n",
       "      <td>1000</td>\n",
       "    </tr>\n",
       "    <tr>\n",
       "      <th>5</th>\n",
       "      <td>11.2</td>\n",
       "      <td>1000</td>\n",
       "    </tr>\n",
       "    <tr>\n",
       "      <th>6</th>\n",
       "      <td>8.2</td>\n",
       "      <td>1000</td>\n",
       "    </tr>\n",
       "    <tr>\n",
       "      <th>7</th>\n",
       "      <td>11.3</td>\n",
       "      <td>1000</td>\n",
       "    </tr>\n",
       "    <tr>\n",
       "      <th>8</th>\n",
       "      <td>5.4</td>\n",
       "      <td>5000</td>\n",
       "    </tr>\n",
       "    <tr>\n",
       "      <th>9</th>\n",
       "      <td>4.6</td>\n",
       "      <td>5000</td>\n",
       "    </tr>\n",
       "    <tr>\n",
       "      <th>10</th>\n",
       "      <td>7.4</td>\n",
       "      <td>5000</td>\n",
       "    </tr>\n",
       "    <tr>\n",
       "      <th>11</th>\n",
       "      <td>5.0</td>\n",
       "      <td>5000</td>\n",
       "    </tr>\n",
       "    <tr>\n",
       "      <th>12</th>\n",
       "      <td>5.8</td>\n",
       "      <td>10000</td>\n",
       "    </tr>\n",
       "    <tr>\n",
       "      <th>13</th>\n",
       "      <td>5.3</td>\n",
       "      <td>10000</td>\n",
       "    </tr>\n",
       "    <tr>\n",
       "      <th>14</th>\n",
       "      <td>3.2</td>\n",
       "      <td>10000</td>\n",
       "    </tr>\n",
       "    <tr>\n",
       "      <th>15</th>\n",
       "      <td>7.5</td>\n",
       "      <td>10000</td>\n",
       "    </tr>\n",
       "  </tbody>\n",
       "</table>\n",
       "</div>"
      ],
      "text/plain": [
       "      모종     효소\n",
       "0   10.8      0\n",
       "1    9.1      0\n",
       "2   13.5      0\n",
       "3    9.2      0\n",
       "4   11.1   1000\n",
       "5   11.2   1000\n",
       "6    8.2   1000\n",
       "7   11.3   1000\n",
       "8    5.4   5000\n",
       "9    4.6   5000\n",
       "10   7.4   5000\n",
       "11   5.0   5000\n",
       "12   5.8  10000\n",
       "13   5.3  10000\n",
       "14   3.2  10000\n",
       "15   7.5  10000"
      ]
     },
     "execution_count": 21,
     "metadata": {},
     "output_type": "execute_result"
    }
   ],
   "source": [
    "df5 = DataFrame({'모종': [10.8, 9.1, 13.5, 9.2, 11.1, 11.2, 8.2, 11.3, 5.4, 4.6, 7.4, 5, 5.8, 5.3, 3.2, 7.5],\n",
    "                '효소': [0, 0, 0, 0, 1000, 1000, 1000, 1000, 5000, 5000, 5000, 5000, 10000, 10000, 10000, 10000]})\n",
    "df5"
   ]
  },
  {
   "cell_type": "code",
   "execution_count": 22,
   "id": "ce6af1c6",
   "metadata": {},
   "outputs": [
    {
     "data": {
      "text/plain": [
       "array([    0,  1000,  5000, 10000], dtype=int64)"
      ]
     },
     "execution_count": 22,
     "metadata": {},
     "output_type": "execute_result"
    }
   ],
   "source": [
    "unique = df5[\"효소\"].unique()\n",
    "unique"
   ]
  },
  {
   "cell_type": "code",
   "execution_count": 23,
   "id": "ee8328ab",
   "metadata": {},
   "outputs": [
    {
     "data": {
      "text/html": [
       "<div>\n",
       "<style scoped>\n",
       "    .dataframe tbody tr th:only-of-type {\n",
       "        vertical-align: middle;\n",
       "    }\n",
       "\n",
       "    .dataframe tbody tr th {\n",
       "        vertical-align: top;\n",
       "    }\n",
       "\n",
       "    .dataframe thead th {\n",
       "        text-align: right;\n",
       "    }\n",
       "</style>\n",
       "<table border=\"1\" class=\"dataframe\">\n",
       "  <thead>\n",
       "    <tr style=\"text-align: right;\">\n",
       "      <th></th>\n",
       "      <th>df</th>\n",
       "      <th>sum_sq</th>\n",
       "      <th>mean_sq</th>\n",
       "      <th>F</th>\n",
       "      <th>PR(&gt;F)</th>\n",
       "    </tr>\n",
       "  </thead>\n",
       "  <tbody>\n",
       "    <tr>\n",
       "      <th>C(효소)</th>\n",
       "      <td>3.0</td>\n",
       "      <td>101.1275</td>\n",
       "      <td>33.709167</td>\n",
       "      <td>12.085748</td>\n",
       "      <td>0.000615</td>\n",
       "    </tr>\n",
       "    <tr>\n",
       "      <th>Residual</th>\n",
       "      <td>12.0</td>\n",
       "      <td>33.4700</td>\n",
       "      <td>2.789167</td>\n",
       "      <td>NaN</td>\n",
       "      <td>NaN</td>\n",
       "    </tr>\n",
       "  </tbody>\n",
       "</table>\n",
       "</div>"
      ],
      "text/plain": [
       "            df    sum_sq    mean_sq          F    PR(>F)\n",
       "C(효소)      3.0  101.1275  33.709167  12.085748  0.000615\n",
       "Residual  12.0   33.4700   2.789167        NaN       NaN"
      ]
     },
     "execution_count": 23,
     "metadata": {},
     "output_type": "execute_result"
    }
   ],
   "source": [
    "model = ols('모종 ~ C(효소)', df5)\n",
    "fit = model.fit()\n",
    "result = anova_lm(fit)\n",
    "result"
   ]
  },
  {
   "cell_type": "markdown",
   "id": "39eae9b3",
   "metadata": {},
   "source": [
    "### - p-value값이 0.05이하이므로 각 요인간의 유의미한 차이가 있다. 따라서 사후분석을 시행한다."
   ]
  },
  {
   "cell_type": "code",
   "execution_count": 24,
   "id": "92a0e16b",
   "metadata": {},
   "outputs": [
    {
     "name": "stdout",
     "output_type": "stream",
     "text": [
      "ShapiroResult(statistic=0.8557126522064209, pvalue=0.2452031970024109)\n",
      "0 수준의 검정통계량: 0.86, p-value: 0.25\n",
      "\n",
      "ShapiroResult(statistic=0.680984616279602, pvalue=0.006817749701440334)\n",
      "1000 수준의 검정통계량: 0.68, p-value: 0.01\n",
      "\n",
      "ShapiroResult(statistic=0.8542202115058899, pvalue=0.24012289941310883)\n",
      "5000 수준의 검정통계량: 0.85, p-value: 0.24\n",
      "\n",
      "ShapiroResult(statistic=0.9810736179351807, pvalue=0.908288300037384)\n",
      "10000 수준의 검정통계량: 0.98, p-value: 0.91\n",
      "\n"
     ]
    }
   ],
   "source": [
    "for u in unique:\n",
    "    s = shapiro(df5['모종'][df5['효소']==u])\n",
    "    print(s)\n",
    "    print(\"%s 수준의 검정통계량: %0.2f, p-value: %0.2f\\n\" % (u, s.statistic, s.pvalue))"
   ]
  },
  {
   "cell_type": "markdown",
   "id": "f210eae0",
   "metadata": {},
   "source": [
    "### 효소함량 1000수준에서 p-value값이 0.05보다 작기때문에 정규성을 만족하지 못한다. <br>(문제에서 정규성을 만족한다고 가정했으므로 계속 진행)"
   ]
  },
  {
   "cell_type": "code",
   "execution_count": 25,
   "id": "0c254ac4",
   "metadata": {},
   "outputs": [
    {
     "data": {
      "text/plain": [
       "LeveneResult(statistic=0.3102678571428573, pvalue=0.8176159985325269)"
      ]
     },
     "execution_count": 25,
     "metadata": {},
     "output_type": "execute_result"
    }
   ],
   "source": [
    "levene(\n",
    "    df5['모종'][df5['효소'] == 0],\n",
    "    df5['모종'][df5['효소'] == 1000],\n",
    "    df5['모종'][df5['효소'] == 5000],\n",
    "    df5['모종'][df5['효소'] == 10000], )"
   ]
  },
  {
   "cell_type": "markdown",
   "id": "66475d9a",
   "metadata": {},
   "source": [
    "### levene의 테스트로 등분산성을 검정한 결과 p-value > 0.05로 등분산성을 만족한다."
   ]
  },
  {
   "cell_type": "code",
   "execution_count": 26,
   "id": "0b4b157d",
   "metadata": {},
   "outputs": [
    {
     "name": "stdout",
     "output_type": "stream",
     "text": [
      "Multiple Comparison of Means - Tukey HSD, FWER=0.05 \n",
      "====================================================\n",
      "group1 group2 meandiff p-adj   lower   upper  reject\n",
      "----------------------------------------------------\n",
      "     0   1000     -0.2    0.9 -3.7065  3.3065  False\n",
      "     0   5000    -5.05 0.0051 -8.5565 -1.5435   True\n",
      "     0  10000     -5.2 0.0041 -8.7065 -1.6935   True\n",
      "  1000   5000    -4.85 0.0069 -8.3565 -1.3435   True\n",
      "  1000  10000     -5.0 0.0055 -8.5065 -1.4935   True\n",
      "  5000  10000    -0.15    0.9 -3.6565  3.3565  False\n",
      "----------------------------------------------------\n"
     ]
    }
   ],
   "source": [
    "hsd = pairwise_tukeyhsd(df5['모종'], df5['효소'])\n",
    "print(hsd.summary())"
   ]
  },
  {
   "cell_type": "markdown",
   "id": "bf604a8d",
   "metadata": {},
   "source": [
    "### 효소의 함량에 따른 모종 성장의 평균 차이는 유의미하였다(F(3, 12) = 12.085748, p < 0.05). <br>투키의 HSD를 이용하여 사후분석을 실시한 결과, 효소 함량이 0인그룹과 1000인 그룹, 5000인그룹과 10000인 그룹을 제외한 요인들은 유의미한 평균 차이가 있었다(p < 0.05)."
   ]
  },
  {
   "cell_type": "markdown",
   "id": "5f5ecd47",
   "metadata": {},
   "source": [
    "# 6)"
   ]
  },
  {
   "cell_type": "code",
   "execution_count": 27,
   "id": "e23ea60a",
   "metadata": {},
   "outputs": [
    {
     "data": {
      "text/html": [
       "<div>\n",
       "<style scoped>\n",
       "    .dataframe tbody tr th:only-of-type {\n",
       "        vertical-align: middle;\n",
       "    }\n",
       "\n",
       "    .dataframe tbody tr th {\n",
       "        vertical-align: top;\n",
       "    }\n",
       "\n",
       "    .dataframe thead th {\n",
       "        text-align: right;\n",
       "    }\n",
       "</style>\n",
       "<table border=\"1\" class=\"dataframe\">\n",
       "  <thead>\n",
       "    <tr style=\"text-align: right;\">\n",
       "      <th></th>\n",
       "      <th>점수</th>\n",
       "      <th>전공</th>\n",
       "      <th>성별</th>\n",
       "    </tr>\n",
       "  </thead>\n",
       "  <tbody>\n",
       "    <tr>\n",
       "      <th>0</th>\n",
       "      <td>7.65</td>\n",
       "      <td>화학</td>\n",
       "      <td>남</td>\n",
       "    </tr>\n",
       "    <tr>\n",
       "      <th>1</th>\n",
       "      <td>8.04</td>\n",
       "      <td>화학</td>\n",
       "      <td>여</td>\n",
       "    </tr>\n",
       "    <tr>\n",
       "      <th>2</th>\n",
       "      <td>8.35</td>\n",
       "      <td>생물</td>\n",
       "      <td>남</td>\n",
       "    </tr>\n",
       "    <tr>\n",
       "      <th>3</th>\n",
       "      <td>9.36</td>\n",
       "      <td>생물</td>\n",
       "      <td>여</td>\n",
       "    </tr>\n",
       "    <tr>\n",
       "      <th>4</th>\n",
       "      <td>8.68</td>\n",
       "      <td>통계학</td>\n",
       "      <td>남</td>\n",
       "    </tr>\n",
       "    <tr>\n",
       "      <th>5</th>\n",
       "      <td>9.11</td>\n",
       "      <td>통계학</td>\n",
       "      <td>여</td>\n",
       "    </tr>\n",
       "    <tr>\n",
       "      <th>0</th>\n",
       "      <td>7.65</td>\n",
       "      <td>화학</td>\n",
       "      <td>남</td>\n",
       "    </tr>\n",
       "    <tr>\n",
       "      <th>1</th>\n",
       "      <td>8.04</td>\n",
       "      <td>화학</td>\n",
       "      <td>여</td>\n",
       "    </tr>\n",
       "    <tr>\n",
       "      <th>2</th>\n",
       "      <td>8.35</td>\n",
       "      <td>생물</td>\n",
       "      <td>남</td>\n",
       "    </tr>\n",
       "    <tr>\n",
       "      <th>3</th>\n",
       "      <td>9.36</td>\n",
       "      <td>생물</td>\n",
       "      <td>여</td>\n",
       "    </tr>\n",
       "    <tr>\n",
       "      <th>4</th>\n",
       "      <td>8.68</td>\n",
       "      <td>통계학</td>\n",
       "      <td>남</td>\n",
       "    </tr>\n",
       "    <tr>\n",
       "      <th>5</th>\n",
       "      <td>9.11</td>\n",
       "      <td>통계학</td>\n",
       "      <td>여</td>\n",
       "    </tr>\n",
       "  </tbody>\n",
       "</table>\n",
       "</div>"
      ],
      "text/plain": [
       "     점수   전공 성별\n",
       "0  7.65   화학  남\n",
       "1  8.04   화학  여\n",
       "2  8.35   생물  남\n",
       "3  9.36   생물  여\n",
       "4  8.68  통계학  남\n",
       "5  9.11  통계학  여\n",
       "0  7.65   화학  남\n",
       "1  8.04   화학  여\n",
       "2  8.35   생물  남\n",
       "3  9.36   생물  여\n",
       "4  8.68  통계학  남\n",
       "5  9.11  통계학  여"
      ]
     },
     "execution_count": 27,
     "metadata": {},
     "output_type": "execute_result"
    }
   ],
   "source": [
    "from pandas import concat\n",
    "df6 = DataFrame({'점수' : [7.65, 8.04, 8.35, 9.36, 8.68, 9.11],\n",
    "                '전공' : ['화학', '화학', '생물', '생물', '통계학', '통계학'],\n",
    "                '성별' : ['남','여','남','여','남','여']})\n",
    "df6 = concat([df6, df6])\n",
    "df6"
   ]
  },
  {
   "cell_type": "code",
   "execution_count": 28,
   "id": "4375aa23",
   "metadata": {},
   "outputs": [
    {
     "name": "stdout",
     "output_type": "stream",
     "text": [
      "['화학' '생물' '통계학']\n",
      "['남' '여']\n"
     ]
    }
   ],
   "source": [
    "print(df6['전공'].unique())\n",
    "print(df6['성별'].unique())"
   ]
  },
  {
   "cell_type": "code",
   "execution_count": 29,
   "id": "071f7ca3",
   "metadata": {},
   "outputs": [
    {
     "data": {
      "text/plain": [
       "([1, 2, 3]\n",
       " Categories (3, int64): [1, 2, 3],\n",
       " [1, 2]\n",
       " Categories (2, int64): [1, 2])"
      ]
     },
     "execution_count": 29,
     "metadata": {},
     "output_type": "execute_result"
    }
   ],
   "source": [
    "df6['전공'] = df6['전공'].astype('category').cat.rename_categories({'화학': 1, '생물': 2, '통계학': 3})\n",
    "df6['성별'] = df6['성별'].astype('category').cat.rename_categories({'남': 1, '여': 2})\n",
    "unique = (df6['전공'].unique(), df6['성별'].unique())\n",
    "unique"
   ]
  },
  {
   "cell_type": "markdown",
   "id": "cd3319a9",
   "metadata": {},
   "source": [
    "### 균형설계자료 확인"
   ]
  },
  {
   "cell_type": "code",
   "execution_count": 30,
   "id": "67a2565f",
   "metadata": {},
   "outputs": [
    {
     "data": {
      "text/html": [
       "<div>\n",
       "<style scoped>\n",
       "    .dataframe tbody tr th:only-of-type {\n",
       "        vertical-align: middle;\n",
       "    }\n",
       "\n",
       "    .dataframe tbody tr th {\n",
       "        vertical-align: top;\n",
       "    }\n",
       "\n",
       "    .dataframe thead th {\n",
       "        text-align: right;\n",
       "    }\n",
       "</style>\n",
       "<table border=\"1\" class=\"dataframe\">\n",
       "  <thead>\n",
       "    <tr style=\"text-align: right;\">\n",
       "      <th></th>\n",
       "      <th>점수</th>\n",
       "      <th>성별</th>\n",
       "    </tr>\n",
       "    <tr>\n",
       "      <th>전공</th>\n",
       "      <th></th>\n",
       "      <th></th>\n",
       "    </tr>\n",
       "  </thead>\n",
       "  <tbody>\n",
       "    <tr>\n",
       "      <th>2</th>\n",
       "      <td>4</td>\n",
       "      <td>4</td>\n",
       "    </tr>\n",
       "    <tr>\n",
       "      <th>3</th>\n",
       "      <td>4</td>\n",
       "      <td>4</td>\n",
       "    </tr>\n",
       "    <tr>\n",
       "      <th>1</th>\n",
       "      <td>4</td>\n",
       "      <td>4</td>\n",
       "    </tr>\n",
       "  </tbody>\n",
       "</table>\n",
       "</div>"
      ],
      "text/plain": [
       "    점수  성별\n",
       "전공        \n",
       "2    4   4\n",
       "3    4   4\n",
       "1    4   4"
      ]
     },
     "execution_count": 30,
     "metadata": {},
     "output_type": "execute_result"
    }
   ],
   "source": [
    "df6.groupby('전공').agg('count')"
   ]
  },
  {
   "cell_type": "markdown",
   "id": "4ea69215",
   "metadata": {},
   "source": [
    "- 전공 요인으로 구분한 집단별 표본수는 모두 4로 동일"
   ]
  },
  {
   "cell_type": "code",
   "execution_count": 31,
   "id": "cdc153a8",
   "metadata": {},
   "outputs": [
    {
     "data": {
      "text/html": [
       "<div>\n",
       "<style scoped>\n",
       "    .dataframe tbody tr th:only-of-type {\n",
       "        vertical-align: middle;\n",
       "    }\n",
       "\n",
       "    .dataframe tbody tr th {\n",
       "        vertical-align: top;\n",
       "    }\n",
       "\n",
       "    .dataframe thead th {\n",
       "        text-align: right;\n",
       "    }\n",
       "</style>\n",
       "<table border=\"1\" class=\"dataframe\">\n",
       "  <thead>\n",
       "    <tr style=\"text-align: right;\">\n",
       "      <th></th>\n",
       "      <th>점수</th>\n",
       "      <th>전공</th>\n",
       "    </tr>\n",
       "    <tr>\n",
       "      <th>성별</th>\n",
       "      <th></th>\n",
       "      <th></th>\n",
       "    </tr>\n",
       "  </thead>\n",
       "  <tbody>\n",
       "    <tr>\n",
       "      <th>1</th>\n",
       "      <td>6</td>\n",
       "      <td>6</td>\n",
       "    </tr>\n",
       "    <tr>\n",
       "      <th>2</th>\n",
       "      <td>6</td>\n",
       "      <td>6</td>\n",
       "    </tr>\n",
       "  </tbody>\n",
       "</table>\n",
       "</div>"
      ],
      "text/plain": [
       "    점수  전공\n",
       "성별        \n",
       "1    6   6\n",
       "2    6   6"
      ]
     },
     "execution_count": 31,
     "metadata": {},
     "output_type": "execute_result"
    }
   ],
   "source": [
    "df6.groupby('성별').agg('count')"
   ]
  },
  {
   "cell_type": "markdown",
   "id": "9f02ac12",
   "metadata": {},
   "source": [
    "- 성별 요인으로 구분한 집단별 표본수는 모두 6으로 동일"
   ]
  },
  {
   "cell_type": "code",
   "execution_count": 32,
   "id": "e49c6ec7",
   "metadata": {},
   "outputs": [
    {
     "data": {
      "text/html": [
       "<div>\n",
       "<style scoped>\n",
       "    .dataframe tbody tr th:only-of-type {\n",
       "        vertical-align: middle;\n",
       "    }\n",
       "\n",
       "    .dataframe tbody tr th {\n",
       "        vertical-align: top;\n",
       "    }\n",
       "\n",
       "    .dataframe thead th {\n",
       "        text-align: right;\n",
       "    }\n",
       "</style>\n",
       "<table border=\"1\" class=\"dataframe\">\n",
       "  <thead>\n",
       "    <tr style=\"text-align: right;\">\n",
       "      <th></th>\n",
       "      <th></th>\n",
       "      <th>점수</th>\n",
       "    </tr>\n",
       "    <tr>\n",
       "      <th>전공</th>\n",
       "      <th>성별</th>\n",
       "      <th></th>\n",
       "    </tr>\n",
       "  </thead>\n",
       "  <tbody>\n",
       "    <tr>\n",
       "      <th rowspan=\"2\" valign=\"top\">2</th>\n",
       "      <th>1</th>\n",
       "      <td>2</td>\n",
       "    </tr>\n",
       "    <tr>\n",
       "      <th>2</th>\n",
       "      <td>2</td>\n",
       "    </tr>\n",
       "    <tr>\n",
       "      <th rowspan=\"2\" valign=\"top\">3</th>\n",
       "      <th>1</th>\n",
       "      <td>2</td>\n",
       "    </tr>\n",
       "    <tr>\n",
       "      <th>2</th>\n",
       "      <td>2</td>\n",
       "    </tr>\n",
       "    <tr>\n",
       "      <th rowspan=\"2\" valign=\"top\">1</th>\n",
       "      <th>1</th>\n",
       "      <td>2</td>\n",
       "    </tr>\n",
       "    <tr>\n",
       "      <th>2</th>\n",
       "      <td>2</td>\n",
       "    </tr>\n",
       "  </tbody>\n",
       "</table>\n",
       "</div>"
      ],
      "text/plain": [
       "       점수\n",
       "전공 성별    \n",
       "2  1    2\n",
       "   2    2\n",
       "3  1    2\n",
       "   2    2\n",
       "1  1    2\n",
       "   2    2"
      ]
     },
     "execution_count": 32,
     "metadata": {},
     "output_type": "execute_result"
    }
   ],
   "source": [
    "df6.groupby(['전공', '성별']).agg('count')"
   ]
  },
  {
   "cell_type": "markdown",
   "id": "3a00b82d",
   "metadata": {},
   "source": [
    "- 성별과 전공 요인으로 구분한 각 집단별 표본수는 모두 2로 동일\n",
    "- 모든 집단별 표본수가 동일하므로, 균형설계자료 -> 이원분산분석 가능"
   ]
  },
  {
   "cell_type": "code",
   "execution_count": 33,
   "id": "637ad631",
   "metadata": {},
   "outputs": [
    {
     "data": {
      "text/html": [
       "<div>\n",
       "<style scoped>\n",
       "    .dataframe tbody tr th:only-of-type {\n",
       "        vertical-align: middle;\n",
       "    }\n",
       "\n",
       "    .dataframe tbody tr th {\n",
       "        vertical-align: top;\n",
       "    }\n",
       "\n",
       "    .dataframe thead th {\n",
       "        text-align: right;\n",
       "    }\n",
       "</style>\n",
       "<table border=\"1\" class=\"dataframe\">\n",
       "  <thead>\n",
       "    <tr style=\"text-align: right;\">\n",
       "      <th></th>\n",
       "      <th>df</th>\n",
       "      <th>sum_sq</th>\n",
       "      <th>mean_sq</th>\n",
       "      <th>F</th>\n",
       "      <th>PR(&gt;F)</th>\n",
       "    </tr>\n",
       "  </thead>\n",
       "  <tbody>\n",
       "    <tr>\n",
       "      <th>C(전공)</th>\n",
       "      <td>2.0</td>\n",
       "      <td>2.832267e+00</td>\n",
       "      <td>1.416133e+00</td>\n",
       "      <td>1.923388e+28</td>\n",
       "      <td>3.794573e-84</td>\n",
       "    </tr>\n",
       "    <tr>\n",
       "      <th>C(성별)</th>\n",
       "      <td>1.0</td>\n",
       "      <td>1.116300e+00</td>\n",
       "      <td>1.116300e+00</td>\n",
       "      <td>1.516155e+28</td>\n",
       "      <td>1.936746e-83</td>\n",
       "    </tr>\n",
       "    <tr>\n",
       "      <th>C(전공):C(성별)</th>\n",
       "      <td>2.0</td>\n",
       "      <td>2.408000e-01</td>\n",
       "      <td>1.204000e-01</td>\n",
       "      <td>1.635269e+27</td>\n",
       "      <td>6.174417e-81</td>\n",
       "    </tr>\n",
       "    <tr>\n",
       "      <th>Residual</th>\n",
       "      <td>6.0</td>\n",
       "      <td>4.417621e-28</td>\n",
       "      <td>7.362702e-29</td>\n",
       "      <td>NaN</td>\n",
       "      <td>NaN</td>\n",
       "    </tr>\n",
       "  </tbody>\n",
       "</table>\n",
       "</div>"
      ],
      "text/plain": [
       "              df        sum_sq       mean_sq             F        PR(>F)\n",
       "C(전공)        2.0  2.832267e+00  1.416133e+00  1.923388e+28  3.794573e-84\n",
       "C(성별)        1.0  1.116300e+00  1.116300e+00  1.516155e+28  1.936746e-83\n",
       "C(전공):C(성별)  2.0  2.408000e-01  1.204000e-01  1.635269e+27  6.174417e-81\n",
       "Residual     6.0  4.417621e-28  7.362702e-29           NaN           NaN"
      ]
     },
     "execution_count": 33,
     "metadata": {},
     "output_type": "execute_result"
    }
   ],
   "source": [
    "model = ols('점수 ~ C(전공) * C(성별)', df6)\n",
    "fit = model.fit()\n",
    "anova_lm(fit)"
   ]
  },
  {
   "cell_type": "markdown",
   "id": "ba6afa7e",
   "metadata": {},
   "source": [
    "### 결과분석\n",
    "- 전공: F(2,6) = 1.923388e+28, p-value < 0.05로 유의미, 즉 전공 수준에 따라 평균에 차이가 난다고 볼 수 있다.\n",
    "- 성별: F(1,6) = 1.516155e+28, p-value < 0.05로 유의미, 즉 성별에 따라 평균에 차이가 난다고 볼 수 있다.\n",
    "- 전공, 성별: F(2,6) = 1.635269e+27, p-value < 0.05로 유의미, 즉 전공, 성별은 평균과 관련이 있다고 볼 수 있다."
   ]
  },
  {
   "cell_type": "markdown",
   "id": "ec742593",
   "metadata": {},
   "source": [
    "### 결과보고"
   ]
  },
  {
   "cell_type": "markdown",
   "id": "1913f9a3",
   "metadata": {},
   "source": [
    "`점수`에 대하여 `전공`과 `성별`를 요인으로 하는 이원분산분석을 실시한 결과, `전공`의 주효과는 유의미하였으며(F(2,6) = 1.923388e+28, p-value < 0.05) <br> `성별`의 주효과는 유의미하였으며1.516155e+28, p-value < 0.05)<br> `전공`과 `성별` 요인은 유의미한 상호작용효과를 가진다.(F(2,6) = 1.635269e+27, p-value < 0.05)"
   ]
  },
  {
   "cell_type": "code",
   "execution_count": 34,
   "id": "e88eff46",
   "metadata": {},
   "outputs": [
    {
     "data": {
      "text/html": [
       "<div>\n",
       "<style scoped>\n",
       "    .dataframe tbody tr th:only-of-type {\n",
       "        vertical-align: middle;\n",
       "    }\n",
       "\n",
       "    .dataframe tbody tr th {\n",
       "        vertical-align: top;\n",
       "    }\n",
       "\n",
       "    .dataframe thead th {\n",
       "        text-align: right;\n",
       "    }\n",
       "</style>\n",
       "<table border=\"1\" class=\"dataframe\">\n",
       "  <thead>\n",
       "    <tr style=\"text-align: right;\">\n",
       "      <th></th>\n",
       "      <th>df</th>\n",
       "      <th>sum_sq</th>\n",
       "      <th>mean_sq</th>\n",
       "      <th>F</th>\n",
       "      <th>PR(&gt;F)</th>\n",
       "    </tr>\n",
       "  </thead>\n",
       "  <tbody>\n",
       "    <tr>\n",
       "      <th>C(성별)</th>\n",
       "      <td>1.0</td>\n",
       "      <td>1.521000e-01</td>\n",
       "      <td>1.521000e-01</td>\n",
       "      <td>9.640483e+27</td>\n",
       "      <td>1.037292e-28</td>\n",
       "    </tr>\n",
       "    <tr>\n",
       "      <th>Residual</th>\n",
       "      <td>2.0</td>\n",
       "      <td>3.155444e-29</td>\n",
       "      <td>1.577722e-29</td>\n",
       "      <td>NaN</td>\n",
       "      <td>NaN</td>\n",
       "    </tr>\n",
       "  </tbody>\n",
       "</table>\n",
       "</div>"
      ],
      "text/plain": [
       "           df        sum_sq       mean_sq             F        PR(>F)\n",
       "C(성별)     1.0  1.521000e-01  1.521000e-01  9.640483e+27  1.037292e-28\n",
       "Residual  2.0  3.155444e-29  1.577722e-29           NaN           NaN"
      ]
     },
     "execution_count": 34,
     "metadata": {},
     "output_type": "execute_result"
    }
   ],
   "source": [
    "df6_1 = df6.query('전공 == 1')\n",
    "model = ols('점수 ~ C(성별)', df6_1)\n",
    "fit = model.fit()\n",
    "anova_lm(fit)"
   ]
  },
  {
   "cell_type": "code",
   "execution_count": 35,
   "id": "49d0ab3c",
   "metadata": {},
   "outputs": [
    {
     "data": {
      "text/html": [
       "<div>\n",
       "<style scoped>\n",
       "    .dataframe tbody tr th:only-of-type {\n",
       "        vertical-align: middle;\n",
       "    }\n",
       "\n",
       "    .dataframe tbody tr th {\n",
       "        vertical-align: top;\n",
       "    }\n",
       "\n",
       "    .dataframe thead th {\n",
       "        text-align: right;\n",
       "    }\n",
       "</style>\n",
       "<table border=\"1\" class=\"dataframe\">\n",
       "  <thead>\n",
       "    <tr style=\"text-align: right;\">\n",
       "      <th></th>\n",
       "      <th>df</th>\n",
       "      <th>sum_sq</th>\n",
       "      <th>mean_sq</th>\n",
       "      <th>F</th>\n",
       "      <th>PR(&gt;F)</th>\n",
       "    </tr>\n",
       "  </thead>\n",
       "  <tbody>\n",
       "    <tr>\n",
       "      <th>C(성별)</th>\n",
       "      <td>1.0</td>\n",
       "      <td>1.020100e+00</td>\n",
       "      <td>1.020100e+00</td>\n",
       "      <td>6.465652e+28</td>\n",
       "      <td>1.546634e-29</td>\n",
       "    </tr>\n",
       "    <tr>\n",
       "      <th>Residual</th>\n",
       "      <td>2.0</td>\n",
       "      <td>3.155444e-29</td>\n",
       "      <td>1.577722e-29</td>\n",
       "      <td>NaN</td>\n",
       "      <td>NaN</td>\n",
       "    </tr>\n",
       "  </tbody>\n",
       "</table>\n",
       "</div>"
      ],
      "text/plain": [
       "           df        sum_sq       mean_sq             F        PR(>F)\n",
       "C(성별)     1.0  1.020100e+00  1.020100e+00  6.465652e+28  1.546634e-29\n",
       "Residual  2.0  3.155444e-29  1.577722e-29           NaN           NaN"
      ]
     },
     "execution_count": 35,
     "metadata": {},
     "output_type": "execute_result"
    }
   ],
   "source": [
    "df6_2 = df6.query('전공 == 2')\n",
    "model = ols('점수 ~ C(성별)', df6_2)\n",
    "fit = model.fit()\n",
    "anova_lm(fit)"
   ]
  },
  {
   "cell_type": "code",
   "execution_count": 36,
   "id": "5bb18726",
   "metadata": {},
   "outputs": [
    {
     "data": {
      "text/html": [
       "<div>\n",
       "<style scoped>\n",
       "    .dataframe tbody tr th:only-of-type {\n",
       "        vertical-align: middle;\n",
       "    }\n",
       "\n",
       "    .dataframe tbody tr th {\n",
       "        vertical-align: top;\n",
       "    }\n",
       "\n",
       "    .dataframe thead th {\n",
       "        text-align: right;\n",
       "    }\n",
       "</style>\n",
       "<table border=\"1\" class=\"dataframe\">\n",
       "  <thead>\n",
       "    <tr style=\"text-align: right;\">\n",
       "      <th></th>\n",
       "      <th>df</th>\n",
       "      <th>sum_sq</th>\n",
       "      <th>mean_sq</th>\n",
       "      <th>F</th>\n",
       "      <th>PR(&gt;F)</th>\n",
       "    </tr>\n",
       "  </thead>\n",
       "  <tbody>\n",
       "    <tr>\n",
       "      <th>C(성별)</th>\n",
       "      <td>1.0</td>\n",
       "      <td>1.849000e-01</td>\n",
       "      <td>1.849000e-01</td>\n",
       "      <td>1.171943e+28</td>\n",
       "      <td>8.532838e-29</td>\n",
       "    </tr>\n",
       "    <tr>\n",
       "      <th>Residual</th>\n",
       "      <td>2.0</td>\n",
       "      <td>3.155444e-29</td>\n",
       "      <td>1.577722e-29</td>\n",
       "      <td>NaN</td>\n",
       "      <td>NaN</td>\n",
       "    </tr>\n",
       "  </tbody>\n",
       "</table>\n",
       "</div>"
      ],
      "text/plain": [
       "           df        sum_sq       mean_sq             F        PR(>F)\n",
       "C(성별)     1.0  1.849000e-01  1.849000e-01  1.171943e+28  8.532838e-29\n",
       "Residual  2.0  3.155444e-29  1.577722e-29           NaN           NaN"
      ]
     },
     "execution_count": 36,
     "metadata": {},
     "output_type": "execute_result"
    }
   ],
   "source": [
    "df6_3 = df6.query('전공 == 3')\n",
    "model = ols('점수 ~ C(성별)', df6_3)\n",
    "fit = model.fit()\n",
    "anova_lm(fit)"
   ]
  },
  {
   "cell_type": "code",
   "execution_count": 37,
   "id": "a633c42a",
   "metadata": {},
   "outputs": [
    {
     "data": {
      "text/html": [
       "<div>\n",
       "<style scoped>\n",
       "    .dataframe tbody tr th:only-of-type {\n",
       "        vertical-align: middle;\n",
       "    }\n",
       "\n",
       "    .dataframe tbody tr th {\n",
       "        vertical-align: top;\n",
       "    }\n",
       "\n",
       "    .dataframe thead th {\n",
       "        text-align: right;\n",
       "    }\n",
       "</style>\n",
       "<table border=\"1\" class=\"dataframe\">\n",
       "  <thead>\n",
       "    <tr style=\"text-align: right;\">\n",
       "      <th></th>\n",
       "      <th>df</th>\n",
       "      <th>sum_sq</th>\n",
       "      <th>mean_sq</th>\n",
       "      <th>F</th>\n",
       "      <th>PR(&gt;F)</th>\n",
       "    </tr>\n",
       "  </thead>\n",
       "  <tbody>\n",
       "    <tr>\n",
       "      <th>C(전공)</th>\n",
       "      <td>2.0</td>\n",
       "      <td>1.106533e+00</td>\n",
       "      <td>5.532667e-01</td>\n",
       "      <td>6.188372e+28</td>\n",
       "      <td>1.193362e-43</td>\n",
       "    </tr>\n",
       "    <tr>\n",
       "      <th>Residual</th>\n",
       "      <td>3.0</td>\n",
       "      <td>2.682127e-29</td>\n",
       "      <td>8.940424e-30</td>\n",
       "      <td>NaN</td>\n",
       "      <td>NaN</td>\n",
       "    </tr>\n",
       "  </tbody>\n",
       "</table>\n",
       "</div>"
      ],
      "text/plain": [
       "           df        sum_sq       mean_sq             F        PR(>F)\n",
       "C(전공)     2.0  1.106533e+00  5.532667e-01  6.188372e+28  1.193362e-43\n",
       "Residual  3.0  2.682127e-29  8.940424e-30           NaN           NaN"
      ]
     },
     "execution_count": 37,
     "metadata": {},
     "output_type": "execute_result"
    }
   ],
   "source": [
    "df6_4 = df6.query('성별 == 1')\n",
    "model = ols('점수 ~ C(전공)', df6_4)\n",
    "fit = model.fit()\n",
    "anova_lm(fit)"
   ]
  },
  {
   "cell_type": "code",
   "execution_count": 38,
   "id": "24ab2fca",
   "metadata": {},
   "outputs": [
    {
     "data": {
      "text/html": [
       "<div>\n",
       "<style scoped>\n",
       "    .dataframe tbody tr th:only-of-type {\n",
       "        vertical-align: middle;\n",
       "    }\n",
       "\n",
       "    .dataframe tbody tr th {\n",
       "        vertical-align: top;\n",
       "    }\n",
       "\n",
       "    .dataframe thead th {\n",
       "        text-align: right;\n",
       "    }\n",
       "</style>\n",
       "<table border=\"1\" class=\"dataframe\">\n",
       "  <thead>\n",
       "    <tr style=\"text-align: right;\">\n",
       "      <th></th>\n",
       "      <th>df</th>\n",
       "      <th>sum_sq</th>\n",
       "      <th>mean_sq</th>\n",
       "      <th>F</th>\n",
       "      <th>PR(&gt;F)</th>\n",
       "    </tr>\n",
       "  </thead>\n",
       "  <tbody>\n",
       "    <tr>\n",
       "      <th>C(전공)</th>\n",
       "      <td>2.0</td>\n",
       "      <td>1.966533e+00</td>\n",
       "      <td>9.832667e-01</td>\n",
       "      <td>7.790241e+28</td>\n",
       "      <td>8.449102e-44</td>\n",
       "    </tr>\n",
       "    <tr>\n",
       "      <th>Residual</th>\n",
       "      <td>3.0</td>\n",
       "      <td>3.786532e-29</td>\n",
       "      <td>1.262177e-29</td>\n",
       "      <td>NaN</td>\n",
       "      <td>NaN</td>\n",
       "    </tr>\n",
       "  </tbody>\n",
       "</table>\n",
       "</div>"
      ],
      "text/plain": [
       "           df        sum_sq       mean_sq             F        PR(>F)\n",
       "C(전공)     2.0  1.966533e+00  9.832667e-01  7.790241e+28  8.449102e-44\n",
       "Residual  3.0  3.786532e-29  1.262177e-29           NaN           NaN"
      ]
     },
     "execution_count": 38,
     "metadata": {},
     "output_type": "execute_result"
    }
   ],
   "source": [
    "df6_5 = df6.query('성별 == 2')\n",
    "model = ols('점수 ~ C(전공)', df6_5)\n",
    "fit = model.fit()\n",
    "anova_lm(fit)"
   ]
  },
  {
   "cell_type": "markdown",
   "id": "4f2af4ab",
   "metadata": {},
   "source": [
    "### 단순효과분석 결과"
   ]
  },
  {
   "cell_type": "markdown",
   "id": "cf2be774",
   "metadata": {},
   "source": [
    "`전공`과 `성별`의 유의미한 상호작용 효과에 대하여 단순효과분석을 실시한 결과, `전공`이 1,2,3인 집단에서 각각 단순주효과는 유의미 하였다.<br>\n",
    "`전공1` : (F(1,2) = 9.640483e+27 ,p < 0.05)<br>\n",
    "`전공2` : (F(1,2)6.465652e+28 ,p < 0.05)<br>\n",
    "`전공3` : (F(1,2)1.171943e+28 ,p < 0.05)<br>\n",
    "`성별`이 1,2인 집단에서 각각 단순주효과는 유의미 하였다.<br>\n",
    "`성별1` : (F(2,3) = 6.188372e+28, p < 0.05) <br>\n",
    "`성별2` : (F(2,3) = 7.790241e+28, p < 0.05)"
   ]
  },
  {
   "cell_type": "markdown",
   "id": "fa7bdad4",
   "metadata": {},
   "source": [
    "# 7)"
   ]
  },
  {
   "cell_type": "code",
   "execution_count": 39,
   "id": "a0a1edf2",
   "metadata": {},
   "outputs": [
    {
     "data": {
      "text/html": [
       "<div>\n",
       "<style scoped>\n",
       "    .dataframe tbody tr th:only-of-type {\n",
       "        vertical-align: middle;\n",
       "    }\n",
       "\n",
       "    .dataframe tbody tr th {\n",
       "        vertical-align: top;\n",
       "    }\n",
       "\n",
       "    .dataframe thead th {\n",
       "        text-align: right;\n",
       "    }\n",
       "</style>\n",
       "<table border=\"1\" class=\"dataframe\">\n",
       "  <thead>\n",
       "    <tr style=\"text-align: right;\">\n",
       "      <th></th>\n",
       "      <th>Kalium</th>\n",
       "      <th>Hormone</th>\n",
       "      <th>Sex</th>\n",
       "    </tr>\n",
       "  </thead>\n",
       "  <tbody>\n",
       "    <tr>\n",
       "      <th>0</th>\n",
       "      <td>39.1</td>\n",
       "      <td>Yes</td>\n",
       "      <td>Female</td>\n",
       "    </tr>\n",
       "    <tr>\n",
       "      <th>1</th>\n",
       "      <td>26.2</td>\n",
       "      <td>Yes</td>\n",
       "      <td>Female</td>\n",
       "    </tr>\n",
       "    <tr>\n",
       "      <th>2</th>\n",
       "      <td>21.3</td>\n",
       "      <td>Yes</td>\n",
       "      <td>Female</td>\n",
       "    </tr>\n",
       "    <tr>\n",
       "      <th>3</th>\n",
       "      <td>35.8</td>\n",
       "      <td>Yes</td>\n",
       "      <td>Female</td>\n",
       "    </tr>\n",
       "    <tr>\n",
       "      <th>4</th>\n",
       "      <td>40.2</td>\n",
       "      <td>Yes</td>\n",
       "      <td>Female</td>\n",
       "    </tr>\n",
       "    <tr>\n",
       "      <th>5</th>\n",
       "      <td>16.5</td>\n",
       "      <td>No</td>\n",
       "      <td>Female</td>\n",
       "    </tr>\n",
       "    <tr>\n",
       "      <th>6</th>\n",
       "      <td>18.4</td>\n",
       "      <td>No</td>\n",
       "      <td>Female</td>\n",
       "    </tr>\n",
       "    <tr>\n",
       "      <th>7</th>\n",
       "      <td>12.7</td>\n",
       "      <td>No</td>\n",
       "      <td>Female</td>\n",
       "    </tr>\n",
       "    <tr>\n",
       "      <th>8</th>\n",
       "      <td>14.0</td>\n",
       "      <td>No</td>\n",
       "      <td>Female</td>\n",
       "    </tr>\n",
       "    <tr>\n",
       "      <th>9</th>\n",
       "      <td>12.8</td>\n",
       "      <td>No</td>\n",
       "      <td>Female</td>\n",
       "    </tr>\n",
       "    <tr>\n",
       "      <th>10</th>\n",
       "      <td>32.0</td>\n",
       "      <td>Yes</td>\n",
       "      <td>Male</td>\n",
       "    </tr>\n",
       "    <tr>\n",
       "      <th>11</th>\n",
       "      <td>23.8</td>\n",
       "      <td>Yes</td>\n",
       "      <td>Male</td>\n",
       "    </tr>\n",
       "    <tr>\n",
       "      <th>12</th>\n",
       "      <td>28.8</td>\n",
       "      <td>Yes</td>\n",
       "      <td>Male</td>\n",
       "    </tr>\n",
       "    <tr>\n",
       "      <th>13</th>\n",
       "      <td>25.0</td>\n",
       "      <td>Yes</td>\n",
       "      <td>Male</td>\n",
       "    </tr>\n",
       "    <tr>\n",
       "      <th>14</th>\n",
       "      <td>29.3</td>\n",
       "      <td>Yes</td>\n",
       "      <td>Male</td>\n",
       "    </tr>\n",
       "    <tr>\n",
       "      <th>15</th>\n",
       "      <td>14.5</td>\n",
       "      <td>No</td>\n",
       "      <td>Male</td>\n",
       "    </tr>\n",
       "    <tr>\n",
       "      <th>16</th>\n",
       "      <td>11.0</td>\n",
       "      <td>No</td>\n",
       "      <td>Male</td>\n",
       "    </tr>\n",
       "    <tr>\n",
       "      <th>17</th>\n",
       "      <td>10.8</td>\n",
       "      <td>No</td>\n",
       "      <td>Male</td>\n",
       "    </tr>\n",
       "    <tr>\n",
       "      <th>18</th>\n",
       "      <td>14.3</td>\n",
       "      <td>No</td>\n",
       "      <td>Male</td>\n",
       "    </tr>\n",
       "    <tr>\n",
       "      <th>19</th>\n",
       "      <td>10.0</td>\n",
       "      <td>No</td>\n",
       "      <td>Male</td>\n",
       "    </tr>\n",
       "  </tbody>\n",
       "</table>\n",
       "</div>"
      ],
      "text/plain": [
       "    Kalium Hormone     Sex\n",
       "0     39.1     Yes  Female\n",
       "1     26.2     Yes  Female\n",
       "2     21.3     Yes  Female\n",
       "3     35.8     Yes  Female\n",
       "4     40.2     Yes  Female\n",
       "5     16.5      No  Female\n",
       "6     18.4      No  Female\n",
       "7     12.7      No  Female\n",
       "8     14.0      No  Female\n",
       "9     12.8      No  Female\n",
       "10    32.0     Yes    Male\n",
       "11    23.8     Yes    Male\n",
       "12    28.8     Yes    Male\n",
       "13    25.0     Yes    Male\n",
       "14    29.3     Yes    Male\n",
       "15    14.5      No    Male\n",
       "16    11.0      No    Male\n",
       "17    10.8      No    Male\n",
       "18    14.3      No    Male\n",
       "19    10.0      No    Male"
      ]
     },
     "execution_count": 39,
     "metadata": {},
     "output_type": "execute_result"
    }
   ],
   "source": [
    "df7 = DataFrame({'Kalium':[39.1,26.2,21.3,35.8,40.2,16.5,18.4,12.7,14.0,12.8,32.0,23.8,28.8,25.0,29.3,14.5,11.0,10.8,14.3,10.0],               \n",
    "                'Hormone':['Yes','Yes','Yes','Yes','Yes','No','No','No','No','No','Yes','Yes','Yes','Yes','Yes','No','No','No','No','No'],                \n",
    "                'Sex':['Female','Female','Female','Female','Female','Female','Female','Female','Female','Female','Male','Male','Male','Male','Male','Male','Male','Male','Male','Male']})\n",
    "df7"
   ]
  },
  {
   "cell_type": "code",
   "execution_count": 40,
   "id": "c4cf86e7",
   "metadata": {},
   "outputs": [
    {
     "name": "stdout",
     "output_type": "stream",
     "text": [
      "['Yes' 'No']\n",
      "['Female' 'Male']\n"
     ]
    }
   ],
   "source": [
    "print(df7['Hormone'].unique())\n",
    "print(df7['Sex'].unique())"
   ]
  },
  {
   "cell_type": "code",
   "execution_count": 41,
   "id": "ea1deeb0",
   "metadata": {},
   "outputs": [
    {
     "data": {
      "text/plain": [
       "([1, 2]\n",
       " Categories (2, int64): [1, 2],\n",
       " [2, 1]\n",
       " Categories (2, int64): [2, 1])"
      ]
     },
     "execution_count": 41,
     "metadata": {},
     "output_type": "execute_result"
    }
   ],
   "source": [
    "df7['Hormone'] = df7['Hormone'].astype('category').cat.rename_categories({'Yes': 1, 'No': 2})\n",
    "df7['Sex'] = df7['Sex'].astype('category').cat.rename_categories({'Male': 1, 'Female': 2})\n",
    "unique = (df7['Hormone'].unique(), df7['Sex'].unique())\n",
    "unique"
   ]
  },
  {
   "cell_type": "markdown",
   "id": "d53987d7",
   "metadata": {},
   "source": [
    "### 균형설계자료 확인"
   ]
  },
  {
   "cell_type": "code",
   "execution_count": 42,
   "id": "b47358e6",
   "metadata": {},
   "outputs": [
    {
     "data": {
      "text/html": [
       "<div>\n",
       "<style scoped>\n",
       "    .dataframe tbody tr th:only-of-type {\n",
       "        vertical-align: middle;\n",
       "    }\n",
       "\n",
       "    .dataframe tbody tr th {\n",
       "        vertical-align: top;\n",
       "    }\n",
       "\n",
       "    .dataframe thead th {\n",
       "        text-align: right;\n",
       "    }\n",
       "</style>\n",
       "<table border=\"1\" class=\"dataframe\">\n",
       "  <thead>\n",
       "    <tr style=\"text-align: right;\">\n",
       "      <th></th>\n",
       "      <th>Kalium</th>\n",
       "      <th>Sex</th>\n",
       "    </tr>\n",
       "    <tr>\n",
       "      <th>Hormone</th>\n",
       "      <th></th>\n",
       "      <th></th>\n",
       "    </tr>\n",
       "  </thead>\n",
       "  <tbody>\n",
       "    <tr>\n",
       "      <th>2</th>\n",
       "      <td>10</td>\n",
       "      <td>10</td>\n",
       "    </tr>\n",
       "    <tr>\n",
       "      <th>1</th>\n",
       "      <td>10</td>\n",
       "      <td>10</td>\n",
       "    </tr>\n",
       "  </tbody>\n",
       "</table>\n",
       "</div>"
      ],
      "text/plain": [
       "         Kalium  Sex\n",
       "Hormone             \n",
       "2            10   10\n",
       "1            10   10"
      ]
     },
     "execution_count": 42,
     "metadata": {},
     "output_type": "execute_result"
    }
   ],
   "source": [
    "df7.groupby('Hormone').agg('count')"
   ]
  },
  {
   "cell_type": "markdown",
   "id": "b86b33de",
   "metadata": {},
   "source": [
    "- Hormone 요인으로 구분한 집단별 표본수는 모두 10으로 동일"
   ]
  },
  {
   "cell_type": "code",
   "execution_count": 43,
   "id": "27144c87",
   "metadata": {},
   "outputs": [
    {
     "data": {
      "text/html": [
       "<div>\n",
       "<style scoped>\n",
       "    .dataframe tbody tr th:only-of-type {\n",
       "        vertical-align: middle;\n",
       "    }\n",
       "\n",
       "    .dataframe tbody tr th {\n",
       "        vertical-align: top;\n",
       "    }\n",
       "\n",
       "    .dataframe thead th {\n",
       "        text-align: right;\n",
       "    }\n",
       "</style>\n",
       "<table border=\"1\" class=\"dataframe\">\n",
       "  <thead>\n",
       "    <tr style=\"text-align: right;\">\n",
       "      <th></th>\n",
       "      <th>Kalium</th>\n",
       "      <th>Hormone</th>\n",
       "    </tr>\n",
       "    <tr>\n",
       "      <th>Sex</th>\n",
       "      <th></th>\n",
       "      <th></th>\n",
       "    </tr>\n",
       "  </thead>\n",
       "  <tbody>\n",
       "    <tr>\n",
       "      <th>2</th>\n",
       "      <td>10</td>\n",
       "      <td>10</td>\n",
       "    </tr>\n",
       "    <tr>\n",
       "      <th>1</th>\n",
       "      <td>10</td>\n",
       "      <td>10</td>\n",
       "    </tr>\n",
       "  </tbody>\n",
       "</table>\n",
       "</div>"
      ],
      "text/plain": [
       "     Kalium  Hormone\n",
       "Sex                 \n",
       "2        10       10\n",
       "1        10       10"
      ]
     },
     "execution_count": 43,
     "metadata": {},
     "output_type": "execute_result"
    }
   ],
   "source": [
    "df7.groupby('Sex').agg('count')"
   ]
  },
  {
   "cell_type": "markdown",
   "id": "255f5ad5",
   "metadata": {},
   "source": [
    "- Sex 요인으로 구분한 집단별 표본수는 모두 10으로 동일 "
   ]
  },
  {
   "cell_type": "code",
   "execution_count": 44,
   "id": "bc714bf5",
   "metadata": {},
   "outputs": [
    {
     "data": {
      "text/html": [
       "<div>\n",
       "<style scoped>\n",
       "    .dataframe tbody tr th:only-of-type {\n",
       "        vertical-align: middle;\n",
       "    }\n",
       "\n",
       "    .dataframe tbody tr th {\n",
       "        vertical-align: top;\n",
       "    }\n",
       "\n",
       "    .dataframe thead th {\n",
       "        text-align: right;\n",
       "    }\n",
       "</style>\n",
       "<table border=\"1\" class=\"dataframe\">\n",
       "  <thead>\n",
       "    <tr style=\"text-align: right;\">\n",
       "      <th></th>\n",
       "      <th></th>\n",
       "      <th>Kalium</th>\n",
       "    </tr>\n",
       "    <tr>\n",
       "      <th>Hormone</th>\n",
       "      <th>Sex</th>\n",
       "      <th></th>\n",
       "    </tr>\n",
       "  </thead>\n",
       "  <tbody>\n",
       "    <tr>\n",
       "      <th rowspan=\"2\" valign=\"top\">2</th>\n",
       "      <th>2</th>\n",
       "      <td>5</td>\n",
       "    </tr>\n",
       "    <tr>\n",
       "      <th>1</th>\n",
       "      <td>5</td>\n",
       "    </tr>\n",
       "    <tr>\n",
       "      <th rowspan=\"2\" valign=\"top\">1</th>\n",
       "      <th>2</th>\n",
       "      <td>5</td>\n",
       "    </tr>\n",
       "    <tr>\n",
       "      <th>1</th>\n",
       "      <td>5</td>\n",
       "    </tr>\n",
       "  </tbody>\n",
       "</table>\n",
       "</div>"
      ],
      "text/plain": [
       "             Kalium\n",
       "Hormone Sex        \n",
       "2       2         5\n",
       "        1         5\n",
       "1       2         5\n",
       "        1         5"
      ]
     },
     "execution_count": 44,
     "metadata": {},
     "output_type": "execute_result"
    }
   ],
   "source": [
    "df7.groupby(['Hormone', 'Sex']).agg('count')"
   ]
  },
  {
   "cell_type": "markdown",
   "id": "1a829a87",
   "metadata": {},
   "source": [
    "- Hormone과 Sex로 구분된 집단별 표본수는 모두 5로 동일"
   ]
  },
  {
   "cell_type": "markdown",
   "id": "3be68784",
   "metadata": {},
   "source": [
    "- 모든 집단별 표본수가 동일하므로, 균형설계자료 -> 이원분산분석 가능"
   ]
  },
  {
   "cell_type": "code",
   "execution_count": 45,
   "id": "f68e353a",
   "metadata": {},
   "outputs": [
    {
     "data": {
      "text/html": [
       "<div>\n",
       "<style scoped>\n",
       "    .dataframe tbody tr th:only-of-type {\n",
       "        vertical-align: middle;\n",
       "    }\n",
       "\n",
       "    .dataframe tbody tr th {\n",
       "        vertical-align: top;\n",
       "    }\n",
       "\n",
       "    .dataframe thead th {\n",
       "        text-align: right;\n",
       "    }\n",
       "</style>\n",
       "<table border=\"1\" class=\"dataframe\">\n",
       "  <thead>\n",
       "    <tr style=\"text-align: right;\">\n",
       "      <th></th>\n",
       "      <th>df</th>\n",
       "      <th>sum_sq</th>\n",
       "      <th>mean_sq</th>\n",
       "      <th>F</th>\n",
       "      <th>PR(&gt;F)</th>\n",
       "    </tr>\n",
       "  </thead>\n",
       "  <tbody>\n",
       "    <tr>\n",
       "      <th>C(Hormone)</th>\n",
       "      <td>1.0</td>\n",
       "      <td>1386.1125</td>\n",
       "      <td>1386.11250</td>\n",
       "      <td>60.533556</td>\n",
       "      <td>7.943078e-07</td>\n",
       "    </tr>\n",
       "    <tr>\n",
       "      <th>C(Sex)</th>\n",
       "      <td>1.0</td>\n",
       "      <td>70.3125</td>\n",
       "      <td>70.31250</td>\n",
       "      <td>3.070650</td>\n",
       "      <td>9.885618e-02</td>\n",
       "    </tr>\n",
       "    <tr>\n",
       "      <th>C(Hormone):C(Sex)</th>\n",
       "      <td>1.0</td>\n",
       "      <td>4.9005</td>\n",
       "      <td>4.90050</td>\n",
       "      <td>0.214012</td>\n",
       "      <td>6.498700e-01</td>\n",
       "    </tr>\n",
       "    <tr>\n",
       "      <th>Residual</th>\n",
       "      <td>16.0</td>\n",
       "      <td>366.3720</td>\n",
       "      <td>22.89825</td>\n",
       "      <td>NaN</td>\n",
       "      <td>NaN</td>\n",
       "    </tr>\n",
       "  </tbody>\n",
       "</table>\n",
       "</div>"
      ],
      "text/plain": [
       "                     df     sum_sq     mean_sq          F        PR(>F)\n",
       "C(Hormone)          1.0  1386.1125  1386.11250  60.533556  7.943078e-07\n",
       "C(Sex)              1.0    70.3125    70.31250   3.070650  9.885618e-02\n",
       "C(Hormone):C(Sex)   1.0     4.9005     4.90050   0.214012  6.498700e-01\n",
       "Residual           16.0   366.3720    22.89825        NaN           NaN"
      ]
     },
     "execution_count": 45,
     "metadata": {},
     "output_type": "execute_result"
    }
   ],
   "source": [
    "model = ols('Kalium ~ C(Hormone) * C(Sex)', df7)\n",
    "fit = model.fit()\n",
    "anova_lm(fit)"
   ]
  },
  {
   "cell_type": "markdown",
   "id": "87ee7d92",
   "metadata": {},
   "source": [
    "### 결과분석\n",
    "- Hormone: F(1,16) = 60.533556, p-value < 0.05로 유의미. 즉 Hormone 수준에 따라 평균에 차이가 난다고 볼 수 있다.\n",
    "- Sex: F(1,16) = 3.070650, p-value > 0.05로 의미가 있다고 보기 힘들다. 즉 Sex는 평균과 관련이 없다고 볼 수 있다.\n",
    "- Hormone, Sex: F(1,16) = 0.214012, p-value > 0.05로 의미가 있다고 보기 힘들다. 즉 Hormone, Sex는 평균과 관련이 없다고 볼 수 있다."
   ]
  },
  {
   "cell_type": "markdown",
   "id": "46b9158e",
   "metadata": {},
   "source": [
    "### 결과보고"
   ]
  },
  {
   "cell_type": "markdown",
   "id": "47db53a3",
   "metadata": {},
   "source": [
    "`Kalium`에 대하여 `Hormone`과 `Sex`를 요인으로 하는 이원분산분석을 실시한 결과, `Hormone`의 주효과는 유의미하였으며(F(1,16) = 60.533556, p-value < 0.05) <br> `Sex`의 주효과는 유의미 하지 않았다.(F(1,16) = 3.070650, p-value > 0.05)<br> `Hormone`과 `Sex`요인의 유의미한 상호작용효과는 발견할 수 없었다.(F(1,16) = 0.214012, p-value > 0.05)"
   ]
  },
  {
   "cell_type": "code",
   "execution_count": null,
   "id": "d5e507cf",
   "metadata": {},
   "outputs": [],
   "source": []
  }
 ],
 "metadata": {
  "kernelspec": {
   "display_name": "Python 3",
   "language": "python",
   "name": "python3"
  },
  "language_info": {
   "codemirror_mode": {
    "name": "ipython",
    "version": 3
   },
   "file_extension": ".py",
   "mimetype": "text/x-python",
   "name": "python",
   "nbconvert_exporter": "python",
   "pygments_lexer": "ipython3",
   "version": "3.8.8"
  }
 },
 "nbformat": 4,
 "nbformat_minor": 5
}
