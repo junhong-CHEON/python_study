{
 "cells": [
  {
   "cell_type": "markdown",
   "id": "91e7d75c",
   "metadata": {},
   "source": [
    "## 1) 기술 통계란?\n",
    "\n",
    "---\n",
    "\n",
    "- 기술통계란 자료를 그래프나 숫자등으로 요약하는 통계적 행위 및 관련 방법을 의미.\n",
    "- 데이터의 분석에 앞서 전체적으로 데이터의 특징을 파악하고 데이터를 다양한 각도로 접근한다.\n",
    "- 데이터프레임 객체의 `describe()` 함수를 이용하여 데이터의 기초통계량을 확인한다 .\n",
    "- 데이터를 요약하고 시각화해서 잘 설명하는 것이 중점을 두며 데이터에 대해서 쉽게 설명하기 위해서 시각화를 많이 활용한다.\n",
    "- 기술 통계에서 기본적으로 사용하는 시각화 자료들은 **박스플롯(상자그림)**, **도수분포표**, **히스토그램**이 있으며 이를 기반으로 사실을 객관적으로 확인하는 것을 중점으로 한다."
   ]
  },
  {
   "cell_type": "markdown",
   "id": "bd6d606c",
   "metadata": {},
   "source": [
    "## 2) 기술통계 절차\n",
    "\n",
    "---\n",
    "\n",
    "아래 절차에 따라 데이터의 기본 특성을 파악한 후 데이터 전처리와 데이터 정제 과정을 거쳐 분석을 진행하게 된다.\n",
    "\n",
    "### 1. 데이터의 전체 크기와 형태\n",
    "\n",
    "- 행과 열의 수를 확인한다.\n",
    "- 10만건의 데이터 전체를 출력하는 것은 매우 부담이 큰 처리이므로 상위 n건, 하위 n건의 일부만을 확인한다.\n",
    "\n",
    "### 2. 집단의 특성을 잘 나타내는 요약 통계량을 확인한다.\n",
    "\n",
    "서열척도, 등간척도, 비율척도 등 수치화 되어 있고 연산이 가능한 종류\n",
    "\n",
    "- 평균, 중앙값, 표준편차, 범위(최대값~최소값), 사분위수 등을 확인한다.\n",
    "- 요약통계량을 상자그림으로 시각화하여 확인한다.\n",
    "\n",
    "### 3. 전체 데이터의 데이터 분포를 확인한다.\n",
    "\n",
    "성별, 학년 등과 같이 연산을 수행할 수 없는 명목척도\n",
    "\n",
    "- 구간별 자료의 개수를 나타내는 표(=도수분포표)를 산정한다.\n",
    "- 도수 분포표를 그래프로 표현한 히스토그램을 확인한다."
   ]
  },
  {
   "cell_type": "code",
   "execution_count": 2,
   "id": "c989cb8d",
   "metadata": {},
   "outputs": [],
   "source": [
    "from pandas import DataFrame\n",
    "from pandas import read_excel\n",
    "from matplotlib import pyplot as plt\n",
    "\n",
    "성적표 = read_excel(\"http://itpaper.co.kr/data/grade_card.xlsx\", engine='openpyxl')\n"
   ]
  },
  {
   "cell_type": "markdown",
   "id": "220e1a0d",
   "metadata": {},
   "source": [
    "### 이름, 학년, 성별 데이터를 명목척도(카테고리)로 변환하기\n",
    "- 기술통계량은 서열척도, 등간척도, 비율척도에 사용되므로 명목척도는 제외"
   ]
  },
  {
   "cell_type": "code",
   "execution_count": 3,
   "id": "173f1b1c",
   "metadata": {},
   "outputs": [
    {
     "data": {
      "text/plain": [
       "이름    category\n",
       "학년    category\n",
       "성별    category\n",
       "국어       int64\n",
       "영어     float64\n",
       "수학     float64\n",
       "과학     float64\n",
       "dtype: object"
      ]
     },
     "execution_count": 3,
     "metadata": {},
     "output_type": "execute_result"
    }
   ],
   "source": [
    "성적표['이름'] = 성적표['이름'].astype('category')\n",
    "성적표['학년'] = 성적표['학년'].astype('category')\n",
    "성적표['성별'] = 성적표['성별'].astype('category')\n",
    "성적표.dtypes"
   ]
  },
  {
   "cell_type": "markdown",
   "id": "e4396aed",
   "metadata": {},
   "source": [
    "## 기초 통계량 확인\n",
    "- describe() 함수 호출"
   ]
  },
  {
   "cell_type": "code",
   "execution_count": 4,
   "id": "031e3e57",
   "metadata": {},
   "outputs": [
    {
     "data": {
      "text/html": [
       "<div>\n",
       "<style scoped>\n",
       "    .dataframe tbody tr th:only-of-type {\n",
       "        vertical-align: middle;\n",
       "    }\n",
       "\n",
       "    .dataframe tbody tr th {\n",
       "        vertical-align: top;\n",
       "    }\n",
       "\n",
       "    .dataframe thead th {\n",
       "        text-align: right;\n",
       "    }\n",
       "</style>\n",
       "<table border=\"1\" class=\"dataframe\">\n",
       "  <thead>\n",
       "    <tr style=\"text-align: right;\">\n",
       "      <th></th>\n",
       "      <th>국어</th>\n",
       "      <th>영어</th>\n",
       "      <th>수학</th>\n",
       "      <th>과학</th>\n",
       "    </tr>\n",
       "  </thead>\n",
       "  <tbody>\n",
       "    <tr>\n",
       "      <th>count</th>\n",
       "      <td>5.000000</td>\n",
       "      <td>4.000000</td>\n",
       "      <td>3.000000</td>\n",
       "      <td>4.000000</td>\n",
       "    </tr>\n",
       "    <tr>\n",
       "      <th>mean</th>\n",
       "      <td>92.200000</td>\n",
       "      <td>67.500000</td>\n",
       "      <td>60.333333</td>\n",
       "      <td>73.500000</td>\n",
       "    </tr>\n",
       "    <tr>\n",
       "      <th>std</th>\n",
       "      <td>20.474374</td>\n",
       "      <td>17.078251</td>\n",
       "      <td>28.536526</td>\n",
       "      <td>10.246951</td>\n",
       "    </tr>\n",
       "    <tr>\n",
       "      <th>min</th>\n",
       "      <td>63.000000</td>\n",
       "      <td>50.000000</td>\n",
       "      <td>31.000000</td>\n",
       "      <td>64.000000</td>\n",
       "    </tr>\n",
       "    <tr>\n",
       "      <th>25%</th>\n",
       "      <td>88.000000</td>\n",
       "      <td>57.500000</td>\n",
       "      <td>46.500000</td>\n",
       "      <td>68.500000</td>\n",
       "    </tr>\n",
       "    <tr>\n",
       "      <th>50%</th>\n",
       "      <td>92.000000</td>\n",
       "      <td>65.000000</td>\n",
       "      <td>62.000000</td>\n",
       "      <td>71.000000</td>\n",
       "    </tr>\n",
       "    <tr>\n",
       "      <th>75%</th>\n",
       "      <td>98.000000</td>\n",
       "      <td>75.000000</td>\n",
       "      <td>75.000000</td>\n",
       "      <td>76.000000</td>\n",
       "    </tr>\n",
       "    <tr>\n",
       "      <th>max</th>\n",
       "      <td>120.000000</td>\n",
       "      <td>90.000000</td>\n",
       "      <td>88.000000</td>\n",
       "      <td>88.000000</td>\n",
       "    </tr>\n",
       "  </tbody>\n",
       "</table>\n",
       "</div>"
      ],
      "text/plain": [
       "               국어         영어         수학         과학\n",
       "count    5.000000   4.000000   3.000000   4.000000\n",
       "mean    92.200000  67.500000  60.333333  73.500000\n",
       "std     20.474374  17.078251  28.536526  10.246951\n",
       "min     63.000000  50.000000  31.000000  64.000000\n",
       "25%     88.000000  57.500000  46.500000  68.500000\n",
       "50%     92.000000  65.000000  62.000000  71.000000\n",
       "75%     98.000000  75.000000  75.000000  76.000000\n",
       "max    120.000000  90.000000  88.000000  88.000000"
      ]
     },
     "execution_count": 4,
     "metadata": {},
     "output_type": "execute_result"
    }
   ],
   "source": [
    "des = 성적표.describe()\n",
    "des"
   ]
  },
  {
   "cell_type": "code",
   "execution_count": 5,
   "id": "bf18aef6",
   "metadata": {},
   "outputs": [
    {
     "data": {
      "text/plain": [
       "count      5.000000\n",
       "mean      92.200000\n",
       "std       20.474374\n",
       "min       63.000000\n",
       "25%       88.000000\n",
       "50%       92.000000\n",
       "75%       98.000000\n",
       "max      120.000000\n",
       "Name: 국어, dtype: float64"
      ]
     },
     "execution_count": 5,
     "metadata": {},
     "output_type": "execute_result"
    }
   ],
   "source": [
    "# 특정 컬럼 확인\n",
    "성적표['국어'].describe()"
   ]
  },
  {
   "cell_type": "markdown",
   "id": "22abe788",
   "metadata": {},
   "source": [
    "- 각 기초통계함수를 사용해서 각각의 정보를 가져올 수 있음\n",
    "- `max()`, `min()`, `std()` , `quantile(q = 0.25)`, `quantile(q = 0.50)`, `median()`, `quantile(q = 0.75)` ...quantile()은 응용가능"
   ]
  },
  {
   "cell_type": "markdown",
   "id": "40ff1efc",
   "metadata": {},
   "source": [
    "## Box plot"
   ]
  },
  {
   "cell_type": "code",
   "execution_count": 7,
   "id": "9e8e8eb8",
   "metadata": {},
   "outputs": [
    {
     "data": {
      "image/png": "[encoded data removed]",
      "text/plain": [
       "<Figure size 864x432 with 1 Axes>"
      ]
     },
     "metadata": {
      "needs_background": "light"
     },
     "output_type": "display_data"
    }
   ],
   "source": [
    "plt.rcParams[\"font.family\"] = 'Malgun Gothic'  # 사용할 폰트이름 지정 (맑은고딕)\n",
    "plt.rcParams[\"font.size\"] = 14                 # 글자크기\n",
    "plt.rcParams[\"figure.figsize\"] = (12, 6) \n",
    "\n",
    "성적표.boxplot()\n",
    "plt.show()"
   ]
  },
  {
   "cell_type": "code",
   "execution_count": 8,
   "id": "a2a071cd",
   "metadata": {},
   "outputs": [
    {
     "data": {
      "image/png": "[encoded data removed]",
      "text/plain": [
       "<Figure size 864x432 with 1 Axes>"
      ]
     },
     "metadata": {
      "needs_background": "light"
     },
     "output_type": "display_data"
    }
   ],
   "source": [
    "# 특정 컬럼에 대한 상자 그림\n",
    "성적표.boxplot(['영어'])\n",
    "plt.show()"
   ]
  },
  {
   "cell_type": "markdown",
   "id": "1f6e6b35",
   "metadata": {},
   "source": [
    "# #06. 히스토그램과 도수분포표\n",
    "\n",
    "---\n",
    "\n",
    "자료가 가질 수 있는 범위를 몇 개의 **구간**으로 나누고 각 구간에 해당하는 값의 숫자 혹은 상대적 빈도를 표현하는 그래프\n",
    "\n",
    "## 1) 히스토그램 작성 과정\n",
    "\n",
    "---\n",
    "\n",
    "1. **자료의 갯수와 구간(최대값, 최소값)을 확인한다.**\n",
    "2. **자료를 몇 개의 구간으로 나눌지 분석가의 주관에 따라 결정한다.**\n",
    "    - 구간은 자료의 개수나 분포에 따라 달라져야 한다.\n",
    "    - 너무 많은 구간을 나누지 않도록 해야 한다. (일반적으로 5~15 사이의 값)\n",
    "3. **Pyplot의 hist() 함수를 사용하여 히스토그램을 생성한다.**\n",
    "\n",
    "    n, bins, patches = pyplot.hist(값, 구간의_수)\n",
    "\n",
    "    - 값은 연속성 데이터(리스트, numpy 배열, 시리즈) 형식\n",
    "    - 리턴값 `n`은 각 구간에 포함된 값의 갯수 혹은 빈도를 표현하는 리스트\n",
    "    - 리턴값 `bins`는 각 구간별 경계값 리스트\n",
    "    - 리턴값 `patches`는 각 구간을 그리는 matplot 객체 리스트 (사용안함)"
   ]
  },
  {
   "cell_type": "code",
   "execution_count": 9,
   "id": "904a113b",
   "metadata": {},
   "outputs": [
    {
     "data": {
      "text/html": [
       "<div>\n",
       "<style scoped>\n",
       "    .dataframe tbody tr th:only-of-type {\n",
       "        vertical-align: middle;\n",
       "    }\n",
       "\n",
       "    .dataframe tbody tr th {\n",
       "        vertical-align: top;\n",
       "    }\n",
       "\n",
       "    .dataframe thead th {\n",
       "        text-align: right;\n",
       "    }\n",
       "</style>\n",
       "<table border=\"1\" class=\"dataframe\">\n",
       "  <thead>\n",
       "    <tr style=\"text-align: right;\">\n",
       "      <th></th>\n",
       "      <th>이름</th>\n",
       "      <th>국어</th>\n",
       "      <th>영어</th>\n",
       "      <th>수학</th>\n",
       "      <th>과학</th>\n",
       "    </tr>\n",
       "  </thead>\n",
       "  <tbody>\n",
       "    <tr>\n",
       "      <th>0</th>\n",
       "      <td>철수</td>\n",
       "      <td>98.0</td>\n",
       "      <td>NaN</td>\n",
       "      <td>88.0</td>\n",
       "      <td>64.0</td>\n",
       "    </tr>\n",
       "    <tr>\n",
       "      <th>1</th>\n",
       "      <td>영희</td>\n",
       "      <td>88.0</td>\n",
       "      <td>90.0</td>\n",
       "      <td>62.0</td>\n",
       "      <td>72.0</td>\n",
       "    </tr>\n",
       "    <tr>\n",
       "      <th>2</th>\n",
       "      <td>민철</td>\n",
       "      <td>92.0</td>\n",
       "      <td>70.0</td>\n",
       "      <td>NaN</td>\n",
       "      <td>NaN</td>\n",
       "    </tr>\n",
       "    <tr>\n",
       "      <th>3</th>\n",
       "      <td>호영</td>\n",
       "      <td>63.0</td>\n",
       "      <td>60.0</td>\n",
       "      <td>31.0</td>\n",
       "      <td>70.0</td>\n",
       "    </tr>\n",
       "    <tr>\n",
       "      <th>4</th>\n",
       "      <td>수현</td>\n",
       "      <td>120.0</td>\n",
       "      <td>50.0</td>\n",
       "      <td>NaN</td>\n",
       "      <td>88.0</td>\n",
       "    </tr>\n",
       "    <tr>\n",
       "      <th>...</th>\n",
       "      <td>...</td>\n",
       "      <td>...</td>\n",
       "      <td>...</td>\n",
       "      <td>...</td>\n",
       "      <td>...</td>\n",
       "    </tr>\n",
       "    <tr>\n",
       "      <th>500</th>\n",
       "      <td>학생496</td>\n",
       "      <td>54.0</td>\n",
       "      <td>50.0</td>\n",
       "      <td>23.0</td>\n",
       "      <td>88.0</td>\n",
       "    </tr>\n",
       "    <tr>\n",
       "      <th>501</th>\n",
       "      <td>학생497</td>\n",
       "      <td>64.0</td>\n",
       "      <td>54.0</td>\n",
       "      <td>73.0</td>\n",
       "      <td>83.0</td>\n",
       "    </tr>\n",
       "    <tr>\n",
       "      <th>502</th>\n",
       "      <td>학생498</td>\n",
       "      <td>89.0</td>\n",
       "      <td>36.0</td>\n",
       "      <td>63.0</td>\n",
       "      <td>14.0</td>\n",
       "    </tr>\n",
       "    <tr>\n",
       "      <th>503</th>\n",
       "      <td>학생499</td>\n",
       "      <td>83.0</td>\n",
       "      <td>26.0</td>\n",
       "      <td>81.0</td>\n",
       "      <td>98.0</td>\n",
       "    </tr>\n",
       "    <tr>\n",
       "      <th>504</th>\n",
       "      <td>학생500</td>\n",
       "      <td>18.0</td>\n",
       "      <td>51.0</td>\n",
       "      <td>17.0</td>\n",
       "      <td>6.0</td>\n",
       "    </tr>\n",
       "  </tbody>\n",
       "</table>\n",
       "<p>505 rows × 5 columns</p>\n",
       "</div>"
      ],
      "text/plain": [
       "        이름     국어    영어    수학    과학\n",
       "0       철수   98.0   NaN  88.0  64.0\n",
       "1       영희   88.0  90.0  62.0  72.0\n",
       "2       민철   92.0  70.0   NaN   NaN\n",
       "3       호영   63.0  60.0  31.0  70.0\n",
       "4       수현  120.0  50.0   NaN  88.0\n",
       "..     ...    ...   ...   ...   ...\n",
       "500  학생496   54.0  50.0  23.0  88.0\n",
       "501  학생497   64.0  54.0  73.0  83.0\n",
       "502  학생498   89.0  36.0  63.0  14.0\n",
       "503  학생499   83.0  26.0  81.0  98.0\n",
       "504  학생500   18.0  51.0  17.0   6.0\n",
       "\n",
       "[505 rows x 5 columns]"
      ]
     },
     "execution_count": 9,
     "metadata": {},
     "output_type": "execute_result"
    }
   ],
   "source": [
    "성적표500건 = read_excel(\"http://itpaper.co.kr/data/grade500.xlsx\", engine='openpyxl')\n",
    "성적표500건"
   ]
  },
  {
   "cell_type": "code",
   "execution_count": 10,
   "id": "45c276ef",
   "metadata": {},
   "outputs": [
    {
     "data": {
      "text/html": [
       "<div>\n",
       "<style scoped>\n",
       "    .dataframe tbody tr th:only-of-type {\n",
       "        vertical-align: middle;\n",
       "    }\n",
       "\n",
       "    .dataframe tbody tr th {\n",
       "        vertical-align: top;\n",
       "    }\n",
       "\n",
       "    .dataframe thead th {\n",
       "        text-align: right;\n",
       "    }\n",
       "</style>\n",
       "<table border=\"1\" class=\"dataframe\">\n",
       "  <thead>\n",
       "    <tr style=\"text-align: right;\">\n",
       "      <th></th>\n",
       "      <th>국어</th>\n",
       "      <th>영어</th>\n",
       "      <th>수학</th>\n",
       "      <th>과학</th>\n",
       "    </tr>\n",
       "    <tr>\n",
       "      <th>이름</th>\n",
       "      <th></th>\n",
       "      <th></th>\n",
       "      <th></th>\n",
       "      <th></th>\n",
       "    </tr>\n",
       "  </thead>\n",
       "  <tbody>\n",
       "    <tr>\n",
       "      <th>철수</th>\n",
       "      <td>98.0</td>\n",
       "      <td>NaN</td>\n",
       "      <td>88.0</td>\n",
       "      <td>64.0</td>\n",
       "    </tr>\n",
       "    <tr>\n",
       "      <th>영희</th>\n",
       "      <td>88.0</td>\n",
       "      <td>90.0</td>\n",
       "      <td>62.0</td>\n",
       "      <td>72.0</td>\n",
       "    </tr>\n",
       "    <tr>\n",
       "      <th>민철</th>\n",
       "      <td>92.0</td>\n",
       "      <td>70.0</td>\n",
       "      <td>NaN</td>\n",
       "      <td>NaN</td>\n",
       "    </tr>\n",
       "    <tr>\n",
       "      <th>호영</th>\n",
       "      <td>63.0</td>\n",
       "      <td>60.0</td>\n",
       "      <td>31.0</td>\n",
       "      <td>70.0</td>\n",
       "    </tr>\n",
       "    <tr>\n",
       "      <th>수현</th>\n",
       "      <td>120.0</td>\n",
       "      <td>50.0</td>\n",
       "      <td>NaN</td>\n",
       "      <td>88.0</td>\n",
       "    </tr>\n",
       "    <tr>\n",
       "      <th>...</th>\n",
       "      <td>...</td>\n",
       "      <td>...</td>\n",
       "      <td>...</td>\n",
       "      <td>...</td>\n",
       "    </tr>\n",
       "    <tr>\n",
       "      <th>학생496</th>\n",
       "      <td>54.0</td>\n",
       "      <td>50.0</td>\n",
       "      <td>23.0</td>\n",
       "      <td>88.0</td>\n",
       "    </tr>\n",
       "    <tr>\n",
       "      <th>학생497</th>\n",
       "      <td>64.0</td>\n",
       "      <td>54.0</td>\n",
       "      <td>73.0</td>\n",
       "      <td>83.0</td>\n",
       "    </tr>\n",
       "    <tr>\n",
       "      <th>학생498</th>\n",
       "      <td>89.0</td>\n",
       "      <td>36.0</td>\n",
       "      <td>63.0</td>\n",
       "      <td>14.0</td>\n",
       "    </tr>\n",
       "    <tr>\n",
       "      <th>학생499</th>\n",
       "      <td>83.0</td>\n",
       "      <td>26.0</td>\n",
       "      <td>81.0</td>\n",
       "      <td>98.0</td>\n",
       "    </tr>\n",
       "    <tr>\n",
       "      <th>학생500</th>\n",
       "      <td>18.0</td>\n",
       "      <td>51.0</td>\n",
       "      <td>17.0</td>\n",
       "      <td>6.0</td>\n",
       "    </tr>\n",
       "  </tbody>\n",
       "</table>\n",
       "<p>505 rows × 4 columns</p>\n",
       "</div>"
      ],
      "text/plain": [
       "          국어    영어    수학    과학\n",
       "이름                            \n",
       "철수      98.0   NaN  88.0  64.0\n",
       "영희      88.0  90.0  62.0  72.0\n",
       "민철      92.0  70.0   NaN   NaN\n",
       "호영      63.0  60.0  31.0  70.0\n",
       "수현     120.0  50.0   NaN  88.0\n",
       "...      ...   ...   ...   ...\n",
       "학생496   54.0  50.0  23.0  88.0\n",
       "학생497   64.0  54.0  73.0  83.0\n",
       "학생498   89.0  36.0  63.0  14.0\n",
       "학생499   83.0  26.0  81.0  98.0\n",
       "학생500   18.0  51.0  17.0   6.0\n",
       "\n",
       "[505 rows x 4 columns]"
      ]
     },
     "execution_count": 10,
     "metadata": {},
     "output_type": "execute_result"
    }
   ],
   "source": [
    "# 인덱스 지정\n",
    "성적표df = 성적표500건.set_index('이름')\n",
    "성적표df"
   ]
  },
  {
   "cell_type": "code",
   "execution_count": 11,
   "id": "095ea379",
   "metadata": {},
   "outputs": [
    {
     "data": {
      "text/plain": [
       "505"
      ]
     },
     "execution_count": 11,
     "metadata": {},
     "output_type": "execute_result"
    }
   ],
   "source": [
    "# 자료 개수 카운트\n",
    "count = len(성적표df['영어'])\n",
    "count"
   ]
  },
  {
   "cell_type": "code",
   "execution_count": 12,
   "id": "fa742142",
   "metadata": {},
   "outputs": [
    {
     "name": "stdout",
     "output_type": "stream",
     "text": [
      "최대값 =  98.0\n",
      "최소값 =  1.0\n"
     ]
    }
   ],
   "source": [
    "# 최소 최대값 구하기\n",
    "max_value = 성적표df['영어'].max()\n",
    "min_value = 성적표df['영어'].min()\n",
    "print('최대값 = ', max_value)\n",
    "print('최소값 = ', min_value)"
   ]
  },
  {
   "cell_type": "code",
   "execution_count": 15,
   "id": "50f0e7c4",
   "metadata": {},
   "outputs": [],
   "source": [
    "# 나눌 구간 정하기\n",
    "step = 5"
   ]
  },
  {
   "cell_type": "code",
   "execution_count": 16,
   "id": "2075b91a",
   "metadata": {},
   "outputs": [
    {
     "data": {
      "image/png": "[encoded data removed]",
      "text/plain": [
       "<Figure size 1080x720 with 1 Axes>"
      ]
     },
     "metadata": {
      "needs_background": "light"
     },
     "output_type": "display_data"
    }
   ],
   "source": [
    "plt.rcParams[\"font.family\"] = 'Malgun Gothic'\n",
    "plt.rcParams[\"font.size\"] = 14\n",
    "plt.rcParams[\"figure.figsize\"] = (15, 10)\n",
    "\n",
    "n, bins, patches = plt.hist(성적표df['영어'], bins=step)"
   ]
  },
  {
   "cell_type": "code",
   "execution_count": 17,
   "id": "5e894df2",
   "metadata": {},
   "outputs": [
    {
     "name": "stdout",
     "output_type": "stream",
     "text": [
      "[ 33.  67. 168. 120. 107.]\n"
     ]
    }
   ],
   "source": [
    "print(n) # n은 구간별 도수를 의미한다."
   ]
  },
  {
   "cell_type": "code",
   "execution_count": 18,
   "id": "4ca4f9c6",
   "metadata": {},
   "outputs": [
    {
     "name": "stdout",
     "output_type": "stream",
     "text": [
      "[ 1.  20.4 39.8 59.2 78.6 98. ]\n"
     ]
    }
   ],
   "source": [
    "print(bins) # bins는 구간의 시작과 끝을 의미한다."
   ]
  },
  {
   "cell_type": "code",
   "execution_count": 19,
   "id": "a4a571a9",
   "metadata": {},
   "outputs": [
    {
     "name": "stdout",
     "output_type": "stream",
     "text": [
      "<BarContainer object of 5 artists>\n"
     ]
    }
   ],
   "source": [
    "print(patches)"
   ]
  },
  {
   "cell_type": "markdown",
   "id": "877186eb",
   "metadata": {},
   "source": [
    "# #07. Wage 데이터셋에 대한 요약 통계량\n",
    "\n",
    "---\n",
    "\n",
    "## 1) 급여(`wage`)와 교육 수준(`education`)에 대한 요약 통계량"
   ]
  },
  {
   "cell_type": "code",
   "execution_count": 1,
   "id": "5132ab76",
   "metadata": {},
   "outputs": [],
   "source": [
    "from pandas import DataFrame\n",
    "from pandas import read_excel\n",
    "from matplotlib import pyplot\n",
    "\n",
    "wage = read_excel(\"http://itpaper.co.kr/data/wage.xlsx\", engine='openpyxl')"
   ]
  },
  {
   "cell_type": "code",
   "execution_count": 4,
   "id": "da045c6c",
   "metadata": {},
   "outputs": [
    {
     "data": {
      "text/html": [
       "<div>\n",
       "<style scoped>\n",
       "    .dataframe tbody tr th:only-of-type {\n",
       "        vertical-align: middle;\n",
       "    }\n",
       "\n",
       "    .dataframe tbody tr th {\n",
       "        vertical-align: top;\n",
       "    }\n",
       "\n",
       "    .dataframe thead th {\n",
       "        text-align: right;\n",
       "    }\n",
       "</style>\n",
       "<table border=\"1\" class=\"dataframe\">\n",
       "  <thead>\n",
       "    <tr style=\"text-align: right;\">\n",
       "      <th></th>\n",
       "      <th>wage</th>\n",
       "    </tr>\n",
       "  </thead>\n",
       "  <tbody>\n",
       "    <tr>\n",
       "      <th>count</th>\n",
       "      <td>3000.000000</td>\n",
       "    </tr>\n",
       "    <tr>\n",
       "      <th>mean</th>\n",
       "      <td>111.703608</td>\n",
       "    </tr>\n",
       "    <tr>\n",
       "      <th>std</th>\n",
       "      <td>41.728595</td>\n",
       "    </tr>\n",
       "    <tr>\n",
       "      <th>min</th>\n",
       "      <td>20.085537</td>\n",
       "    </tr>\n",
       "    <tr>\n",
       "      <th>25%</th>\n",
       "      <td>85.383940</td>\n",
       "    </tr>\n",
       "    <tr>\n",
       "      <th>50%</th>\n",
       "      <td>104.921507</td>\n",
       "    </tr>\n",
       "    <tr>\n",
       "      <th>75%</th>\n",
       "      <td>128.680488</td>\n",
       "    </tr>\n",
       "    <tr>\n",
       "      <th>max</th>\n",
       "      <td>318.342430</td>\n",
       "    </tr>\n",
       "  </tbody>\n",
       "</table>\n",
       "</div>"
      ],
      "text/plain": [
       "              wage\n",
       "count  3000.000000\n",
       "mean    111.703608\n",
       "std      41.728595\n",
       "min      20.085537\n",
       "25%      85.383940\n",
       "50%     104.921507\n",
       "75%     128.680488\n",
       "max     318.342430"
      ]
     },
     "execution_count": 4,
     "metadata": {},
     "output_type": "execute_result"
    }
   ],
   "source": [
    "# 요약 통계량 확인하기\n",
    "\n",
    "wage.filter(['wage', 'education']).describe()\n"
   ]
  },
  {
   "cell_type": "code",
   "execution_count": 5,
   "id": "cfc48547",
   "metadata": {},
   "outputs": [
    {
     "data": {
      "text/html": [
       "<div>\n",
       "<style scoped>\n",
       "    .dataframe tbody tr th:only-of-type {\n",
       "        vertical-align: middle;\n",
       "    }\n",
       "\n",
       "    .dataframe tbody tr th {\n",
       "        vertical-align: top;\n",
       "    }\n",
       "\n",
       "    .dataframe thead th {\n",
       "        text-align: right;\n",
       "    }\n",
       "</style>\n",
       "<table border=\"1\" class=\"dataframe\">\n",
       "  <thead>\n",
       "    <tr style=\"text-align: right;\">\n",
       "      <th></th>\n",
       "      <th>education</th>\n",
       "    </tr>\n",
       "  </thead>\n",
       "  <tbody>\n",
       "    <tr>\n",
       "      <th>2. HS Grad</th>\n",
       "      <td>971</td>\n",
       "    </tr>\n",
       "    <tr>\n",
       "      <th>4. College Grad</th>\n",
       "      <td>685</td>\n",
       "    </tr>\n",
       "    <tr>\n",
       "      <th>3. Some College</th>\n",
       "      <td>650</td>\n",
       "    </tr>\n",
       "    <tr>\n",
       "      <th>5. Advanced Degree</th>\n",
       "      <td>426</td>\n",
       "    </tr>\n",
       "    <tr>\n",
       "      <th>1. &lt; HS Grad</th>\n",
       "      <td>268</td>\n",
       "    </tr>\n",
       "  </tbody>\n",
       "</table>\n",
       "</div>"
      ],
      "text/plain": [
       "                    education\n",
       "2. HS Grad                971\n",
       "4. College Grad           685\n",
       "3. Some College           650\n",
       "5. Advanced Degree        426\n",
       "1. < HS Grad              268"
      ]
     },
     "execution_count": 5,
     "metadata": {},
     "output_type": "execute_result"
    }
   ],
   "source": [
    "\n",
    "# 명목 척도에 대한 빈도표 구하기\n",
    "DataFrame(wage['education'].value_counts())"
   ]
  },
  {
   "cell_type": "markdown",
   "id": "755b1326",
   "metadata": {},
   "source": [
    "### 해석\n",
    "\n",
    "- wage의 최소값은 20.09이다.\n",
    "- 교육수준은 5개의 그룹으로 구분된다.\n",
    "- wage는 **양적 변수** 이다.\n",
    "- education은 **순서형 변수**이다."
   ]
  },
  {
   "cell_type": "code",
   "execution_count": 7,
   "id": "6f704096",
   "metadata": {},
   "outputs": [
    {
     "data": {
      "text/plain": [
       "1. < HS Grad          268\n",
       "2. HS Grad            971\n",
       "3. Some College       650\n",
       "4. College Grad       685\n",
       "5. Advanced Degree    426\n",
       "Name: education, dtype: int64"
      ]
     },
     "execution_count": 7,
     "metadata": {},
     "output_type": "execute_result"
    }
   ],
   "source": [
    "# 근로자의 수준에 따른 임금 분포\n",
    "k = wage['education'].value_counts().sort_index()\n",
    "k\n",
    "\n",
    "# 교육수준별로 도수를 Series객체로 반환"
   ]
  },
  {
   "cell_type": "code",
   "execution_count": 22,
   "id": "2a34f9b9",
   "metadata": {},
   "outputs": [
    {
     "name": "stdout",
     "output_type": "stream",
     "text": [
      "<bound method Series.keys of 1. < HS Grad          268\n",
      "2. HS Grad            971\n",
      "3. Some College       650\n",
      "4. College Grad       685\n",
      "5. Advanced Degree    426\n",
      "Name: education, dtype: int64>\n"
     ]
    },
    {
     "data": {
      "image/png": "[encoded data removed]",
      "text/plain": [
       "<Figure size 720x1080 with 5 Axes>"
      ]
     },
     "metadata": {
      "needs_background": "light"
     },
     "output_type": "display_data"
    }
   ],
   "source": [
    "# 교육 수준별로 데이터를 조회하여 히스토그램 서브플롯\n",
    "import seaborn as sns\n",
    "\n",
    "key_list = list(k.index)\n",
    "\n",
    "fig, ax = pyplot.subplots(5,1, figsize= (10,15))\n",
    "print(k.keys)\n",
    "for i, v in enumerate(key_list):\n",
    "    tmp = wage.query('education == @v')\n",
    "    sns.histplot(data=tmp, x='wage', ax=ax[i])\n",
    "    ax[i].set_ylabel(v)\n",
    "    \n",
    "pyplot.show()\n",
    "pyplot.close()"
   ]
  },
  {
   "cell_type": "code",
   "execution_count": null,
   "id": "85132255",
   "metadata": {},
   "outputs": [],
   "source": []
  }
 ],
 "metadata": {
  "kernelspec": {
   "display_name": "Python 3",
   "language": "python",
   "name": "python3"
  },
  "language_info": {
   "codemirror_mode": {
    "name": "ipython",
    "version": 3
   },
   "file_extension": ".py",
   "mimetype": "text/x-python",
   "name": "python",
   "nbconvert_exporter": "python",
   "pygments_lexer": "ipython3",
   "version": "3.8.8"
  }
 },
 "nbformat": 4,
 "nbformat_minor": 5
}
