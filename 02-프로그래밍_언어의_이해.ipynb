{
 "cells": [
  {
   "cell_type": "markdown",
   "id": "4bd97fc9",
   "metadata": {},
   "source": [
    "# 프로그래밍 언어의 이해\n",
    "\n",
    "## 다양한 숫자형 변수의 정의"
   ]
  },
  {
   "cell_type": "code",
   "execution_count": 1,
   "id": "13a90a9b",
   "metadata": {},
   "outputs": [],
   "source": [
    "# -*- coding: utf-8 -*-"
   ]
  },
  {
   "cell_type": "code",
   "execution_count": 2,
   "id": "e576270d",
   "metadata": {},
   "outputs": [
    {
     "name": "stdout",
     "output_type": "stream",
     "text": [
      "123\n",
      "-456\n"
     ]
    }
   ],
   "source": [
    "# 변수 만들기 (오른쪽에서 왼쪽으로 대입 -> 할당)\n",
    "# -> 이름 = 값\n",
    "a = 123\n",
    "b = -456\n",
    "print(a)\n",
    "print(b)"
   ]
  },
  {
   "cell_type": "code",
   "execution_count": 3,
   "id": "15a4022b",
   "metadata": {},
   "outputs": [
    {
     "name": "stdout",
     "output_type": "stream",
     "text": [
      "10000\n"
     ]
    }
   ],
   "source": [
    "# 한 번 할당된 변수는 다른 값으로 변경 가능\n",
    "a = 10000\n",
    "print(a)"
   ]
  },
  {
   "cell_type": "code",
   "execution_count": 4,
   "id": "d35cb8c3",
   "metadata": {},
   "outputs": [
    {
     "name": "stdout",
     "output_type": "stream",
     "text": [
      "1.2\n",
      "-3.45\n"
     ]
    }
   ],
   "source": [
    "# 실수형 변수 만들기\n",
    "c = 1.2\n",
    "d = -3.45\n",
    "print(c)\n",
    "print(d)"
   ]
  },
  {
   "cell_type": "code",
   "execution_count": 5,
   "id": "5a1a2268",
   "metadata": {},
   "outputs": [
    {
     "name": "stdout",
     "output_type": "stream",
     "text": [
      "42400000000.0\n",
      "4.24e-10\n"
     ]
    }
   ],
   "source": [
    "# 지수형태(알파벳e 혹은 E사용)\n",
    "e = 4.24e10 # 4.24 * (10의 10제곱) 10을 10번 곱하게 돼서 소수점이 오른쪽으로 10칸 이동하게 된다.\n",
    "f = 4.24e-10 # 4.24 * (10의 -10제곱) 10을 10번 나누는것과 같아서 소수점이 왼쪽으로 10칸 이동하게 된다.\n",
    "print(e)\n",
    "print(f)"
   ]
  },
  {
   "cell_type": "code",
   "execution_count": 6,
   "id": "6be617f4",
   "metadata": {},
   "outputs": [
    {
     "name": "stdout",
     "output_type": "stream",
     "text": [
      "127\n"
     ]
    }
   ],
   "source": [
    "# 8진수 표현 (숫자0 + 알파벳0 + 숫자값)\n",
    "g = 0o177\n",
    "print(g)"
   ]
  },
  {
   "cell_type": "code",
   "execution_count": 7,
   "id": "9efa3547",
   "metadata": {},
   "outputs": [
    {
     "name": "stdout",
     "output_type": "stream",
     "text": [
      "2748\n"
     ]
    }
   ],
   "source": [
    "# 16진수 표현 (숫자0 + 알파벳x + 숫자값)\n",
    "h = 0xABC\n",
    "print(h)"
   ]
  },
  {
   "cell_type": "code",
   "execution_count": 8,
   "id": "a78358f7",
   "metadata": {},
   "outputs": [
    {
     "name": "stdout",
     "output_type": "stream",
     "text": [
      "(1+2j)\n"
     ]
    }
   ],
   "source": [
    "# 복소수 (알파벳 사용)\n",
    "i = 1 +2j\n",
    "print(i)"
   ]
  },
  {
   "cell_type": "code",
   "execution_count": 9,
   "id": "f3d3ceed",
   "metadata": {},
   "outputs": [
    {
     "name": "stdout",
     "output_type": "stream",
     "text": [
      "1.0\n"
     ]
    }
   ],
   "source": [
    "# 복소수의 실수 부분 조회 -> 객체 i에 포함되는 하위 변수에 접근\n",
    "print(i.real)"
   ]
  },
  {
   "cell_type": "code",
   "execution_count": 10,
   "id": "aafdf0e3",
   "metadata": {},
   "outputs": [
    {
     "name": "stdout",
     "output_type": "stream",
     "text": [
      "2.0\n"
     ]
    }
   ],
   "source": [
    "# 복소수의 허수부분 조회 -> 객체 i에 포함되는 하위 변수에 접근\n",
    "print(i.imag)"
   ]
  },
  {
   "cell_type": "code",
   "execution_count": 11,
   "id": "fac06c11",
   "metadata": {},
   "outputs": [
    {
     "name": "stdout",
     "output_type": "stream",
     "text": [
      "(1-2j)\n"
     ]
    }
   ],
   "source": [
    "# 복소수의 켤레복소수 -> 객체 i에 포함되는 하위 함수에 접근\n",
    "print(i.conjugate())"
   ]
  },
  {
   "cell_type": "code",
   "execution_count": 12,
   "id": "19156075",
   "metadata": {},
   "outputs": [
    {
     "name": "stdout",
     "output_type": "stream",
     "text": [
      "10000\n"
     ]
    }
   ],
   "source": [
    "# 복소수의 절대값 -> 파이썬에 내장되어 있는 abs() 함수 사용\n",
    "print( abs(a) )"
   ]
  },
  {
   "cell_type": "code",
   "execution_count": null,
   "id": "8e75f8a0",
   "metadata": {},
   "outputs": [],
   "source": []
  }
 ],
 "metadata": {
  "kernelspec": {
   "display_name": "Python 3",
   "language": "python",
   "name": "python3"
  },
  "language_info": {
   "codemirror_mode": {
    "name": "ipython",
    "version": 3
   },
   "file_extension": ".py",
   "mimetype": "text/x-python",
   "name": "python",
   "nbconvert_exporter": "python",
   "pygments_lexer": "ipython3",
   "version": "3.8.8"
  }
 },
 "nbformat": 4,
 "nbformat_minor": 5
}
