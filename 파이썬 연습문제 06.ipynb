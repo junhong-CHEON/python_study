{
 "cells": [
  {
   "cell_type": "markdown",
   "id": "9c6cb33b",
   "metadata": {},
   "source": [
    "어느 학급의 학생 키가 다음과 같다고 한다.\n",
    "\n",
    "175, 168, 182, 174, 171, 169, 173, 164, 171, 167\n",
    "\n",
    "### 1) 학생 키에 대한 데이터 범위를 구하시오."
   ]
  },
  {
   "cell_type": "code",
   "execution_count": 3,
   "id": "7d78e413",
   "metadata": {},
   "outputs": [
    {
     "name": "stdout",
     "output_type": "stream",
     "text": [
      "최대값: 182\n",
      "최소값: 164\n",
      "데이터 범위는 182 에서 164 까지 입니다. \n"
     ]
    }
   ],
   "source": [
    "height = [175, 168, 182, 174, 171, 169, 173, 164, 171, 167]\n",
    "\n",
    "print(\"최대값: %d\" %max(height))\n",
    "print(\"최소값: %d\" %min(height))\n",
    "print(\"데이터 범위는 %d 에서 %d 까지 입니다. \" %(min(height) , max(height)))"
   ]
  },
  {
   "cell_type": "markdown",
   "id": "fcd14371",
   "metadata": {},
   "source": [
    "### 2) 학생 키의 평균을 구하시오 "
   ]
  },
  {
   "cell_type": "code",
   "execution_count": 5,
   "id": "be34b00b",
   "metadata": {},
   "outputs": [
    {
     "name": "stdout",
     "output_type": "stream",
     "text": [
      "평균 : 171.4\n"
     ]
    }
   ],
   "source": [
    "sum_height = 0\n",
    "\n",
    "for i in height:\n",
    "    sum_height += i\n",
    "    \n",
    "avg_height = sum_height / len(height)\n",
    "\n",
    "print(\"평균 : %0.1f\" %avg_height)"
   ]
  },
  {
   "cell_type": "markdown",
   "id": "57d616f0",
   "metadata": {},
   "source": [
    "### 3)학생 키에 대한 분산을 구하시오"
   ]
  },
  {
   "cell_type": "code",
   "execution_count": 8,
   "id": "948dce1f",
   "metadata": {},
   "outputs": [
    {
     "name": "stdout",
     "output_type": "stream",
     "text": [
      "1.9\n"
     ]
    }
   ],
   "source": [
    "for i in height:\n",
    "    v = (i - avg_height)*(i - avg_height) / len(height)\n",
    "    \n",
    "print(\"%0.1f\" %v)"
   ]
  },
  {
   "cell_type": "markdown",
   "id": "d1c34115",
   "metadata": {},
   "source": [
    "### 4)학생 키에 대한 표준편차를 구하시오"
   ]
  },
  {
   "cell_type": "code",
   "execution_count": 12,
   "id": "20c7abd4",
   "metadata": {},
   "outputs": [
    {
     "name": "stdout",
     "output_type": "stream",
     "text": [
      "1.4\n"
     ]
    }
   ],
   "source": [
    "import math\n",
    "\n",
    "sigma = math.sqrt(v)\n",
    "\n",
    "print(\"%0.1f\" %sigma)"
   ]
  },
  {
   "cell_type": "code",
   "execution_count": null,
   "id": "0ba12a31",
   "metadata": {},
   "outputs": [],
   "source": []
  }
 ],
 "metadata": {
  "kernelspec": {
   "display_name": "Python 3",
   "language": "python",
   "name": "python3"
  },
  "language_info": {
   "codemirror_mode": {
    "name": "ipython",
    "version": 3
   },
   "file_extension": ".py",
   "mimetype": "text/x-python",
   "name": "python",
   "nbconvert_exporter": "python",
   "pygments_lexer": "ipython3",
   "version": "3.8.8"
  }
 },
 "nbformat": 4,
 "nbformat_minor": 5
}
