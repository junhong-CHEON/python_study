{
 "cells": [
  {
   "cell_type": "code",
   "execution_count": 154,
   "metadata": {},
   "outputs": [
    {
     "name": "stdout",
     "output_type": "stream",
     "text": [
      "abcdefghijklmn\n"
     ]
    }
   ],
   "source": [
    "new_id = 'abcdefghijklmn.p'\r\n",
    "\r\n",
    "new_id = new_id.lower()\r\n",
    "tmp = ''\r\n",
    "\r\n",
    "i = 0\r\n",
    "while i < len(new_id):\r\n",
    "    if new_id[i] in ('a', 'b', 'c', 'd', 'e', 'f', 'g', 'h', 'i', 'j', 'k', 'l', 'm', 'n', 'o', 'p', 'q', 'r', 's', 't', 'u', 'v', 'w', 'x', 'y', 'z',\r\n",
    "                 '1', '2', '3', '4', '5', '6', '7', '8', '9', '0', '-', '_'):\r\n",
    "        tmp += new_id[i]\r\n",
    "    if new_id[i] == '.':\r\n",
    "        if tmp == '':\r\n",
    "            i += 1\r\n",
    "            continue\r\n",
    "        elif tmp[-1] == '.':\r\n",
    "            i += 1\r\n",
    "            continue\r\n",
    "        else:\r\n",
    "            tmp += new_id[i]\r\n",
    "    i += 1\r\n",
    "\r\n",
    "if tmp == '':\r\n",
    "    tmp += 'a'\r\n",
    "\r\n",
    "if tmp[-1] == '.':\r\n",
    "    tmp = tmp[:-1]\r\n",
    "\r\n",
    "if len(tmp) >= 16:\r\n",
    "    tmp = tmp[:15]\r\n",
    "    if tmp[-1] == '.':\r\n",
    "        tmp = tmp[:-1]\r\n",
    "\r\n",
    "if len(tmp) <= 2:\r\n",
    "    while len(tmp) != 3:\r\n",
    "        tmp += tmp[-1]\r\n",
    "\r\n",
    "print(tmp)"
   ]
  },
  {
   "cell_type": "code",
   "execution_count": null,
   "metadata": {},
   "outputs": [],
   "source": []
  },
  {
   "cell_type": "code",
   "execution_count": null,
   "metadata": {},
   "outputs": [],
   "source": []
  }
 ],
 "metadata": {
  "kernelspec": {
   "display_name": "Python 3",
   "language": "python",
   "name": "python3"
  },
  "language_info": {
   "codemirror_mode": {
    "name": "ipython",
    "version": 3
   },
   "file_extension": ".py",
   "mimetype": "text/x-python",
   "name": "python",
   "nbconvert_exporter": "python",
   "pygments_lexer": "ipython3",
   "version": "3.8.8"
  }
 },
 "nbformat": 4,
 "nbformat_minor": 4
}
