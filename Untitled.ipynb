{
 "cells": [
  {
   "cell_type": "code",
   "execution_count": 2,
   "id": "435e7b93-be15-4e71-b607-a74ac2f73345",
   "metadata": {},
   "outputs": [],
   "source": [
    "import pymysql\n",
    "from pandas import DataFrame\n",
    "\n",
    "HOSTNAME = 'localhost'\n",
    "PORT = 3306\n",
    "USERNAME = 'root'\n",
    "PASSWORD = '123qwe!@#'\n",
    "DATABASE = 'movie_contents'\n",
    "CHARSET = 'utf8'\n",
    "\n",
    "dbcon = pymysql.connect(host = HOSTNAME, port = PORT, user = USERNAME, password = PASSWORD,\n",
    "                       db=DATABASE, charset = CHARSET)"
   ]
  },
  {
   "cell_type": "code",
   "execution_count": 10,
   "id": "5e759a1f-6386-4f8f-979e-0e0c3cedf7f0",
   "metadata": {},
   "outputs": [],
   "source": [
    "cursor = dbcon.cursor()\n",
    "\n",
    "movie = {\n",
    "    'movie_code_no' : [],\n",
    "    'title' : [],\n",
    "    'year' : [],\n",
    "    'country' : [],\n",
    "    'running_time' : [],\n",
    "    'realse_date' : [],\n",
    "    'production' : [],\n",
    "    'present' : [],\n",
    "    'producers_reg_no' : [],\n",
    "    'actors_actor_no' : []\n",
    "}\n",
    "\n",
    "producer = {\n",
    "    'reg_no' : [],\n",
    "    'name' : [],\n",
    "    'gender' : [],\n",
    "    'birth_date' : [],\n",
    "    'birth_country' : [],\n",
    "    'education' : [],\n",
    "    'movies_movie_code_no' : []\n",
    "}\n",
    "\n",
    "actor = {\n",
    "    'actor_no' : [],\n",
    "    'name' : [],\n",
    "    'gender' : [],\n",
    "    'birth_coutry' : [],\n",
    "    'height' : [],\n",
    "    'weight' : [],\n",
    "    'blood_type' : [],\n",
    "    'movies_movie_code_no' : []\n",
    "}\n",
    "\n",
    "sql = 'insert into movies * values (%s, %s, %s)'\n"
   ]
  },
  {
   "cell_type": "code",
   "execution_count": null,
   "id": "9d348e7a-d539-452b-bc8d-17d0a864d12c",
   "metadata": {},
   "outputs": [],
   "source": []
  }
 ],
 "metadata": {
  "kernelspec": {
   "display_name": "Python 3",
   "language": "python",
   "name": "python3"
  },
  "language_info": {
   "codemirror_mode": {
    "name": "ipython",
    "version": 3
   },
   "file_extension": ".py",
   "mimetype": "text/x-python",
   "name": "python",
   "nbconvert_exporter": "python",
   "pygments_lexer": "ipython3",
   "version": "3.8.9"
  }
 },
 "nbformat": 4,
 "nbformat_minor": 5
}
