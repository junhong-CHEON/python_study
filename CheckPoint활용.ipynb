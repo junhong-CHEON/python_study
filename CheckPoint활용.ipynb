{
 "cells": [
  {
   "cell_type": "code",
   "execution_count": 4,
   "metadata": {},
   "outputs": [],
   "source": [
    "from pandas import DataFrame\n",
    "from pandas import read_excel\n",
    "from matplotlib import pyplot as plt\n",
    "import seaborn as sns\n",
    "import numpy as np\n",
    "import json\n",
    "# 한글 형태소 분석\n",
    "# -> window\n",
    "# from eunjeon import Mecab\n",
    "# -> mac, linux(colab)\n",
    "from konlpy.tag import Mecab\n",
    "#from konlpy.tag import Okt\n",
    "\n",
    "from tensorflow.keras.models import Sequential\n",
    "from tensorflow.keras.layers import Embedding, Dense, GRU\n",
    "from tensorflow.keras.preprocessing.text import Tokenizer\n",
    "from tensorflow.keras.preprocessing.sequence import pad_sequences\n",
    "\n",
    "from tensorflow.keras.models import load_model"
   ]
  },
  {
   "cell_type": "code",
   "execution_count": 5,
   "metadata": {},
   "outputs": [],
   "source": [
    "stopwords = ['의','가','이','은','들','는','좀','잘','걍','과','도','를','으로','자','에','와','한','하다', '걍']"
   ]
  },
  {
   "cell_type": "code",
   "execution_count": 6,
   "metadata": {},
   "outputs": [],
   "source": [
    "reviews = [\n",
    "    \"누가 예매 해주면 보세요. 진심 재미 없습니다. 보다 잤습니다.\",\n",
    "    \"딱.. 집에서 볼만한 영화. 더이상 설명이 필요없음.\", \n",
    "    \"전 생각보단 별로네요 스토리도빈약하고ㅜ 걍  전형적인  허리우드영화\",\n",
    "    \"지겨움 너무너무 재미없음\",\n",
    "    \"12세 관람가? 필요없는 키스씬은 많아서 12세 딸이 어린이 영화 맞냐고 하네요.. 아휴 평점들 아주 정확하구요 초반에만 긴장감있었구요드라마 보는줄 알았네요ㅎ\",\n",
    "    \"현대의 물질만능주의 세상의 현주소를 다시한번 일깨워주는 영화인거 같습니다.기준은 세월이 변하면서 바뀔 수 있겠지만 진실은 변하지 않는거 같아요..물질만능주의를 비판하듯 그경계가 애매모호 하지만.. 만족한 영화였습니다...\",\n",
    "    \"혹평이 심해 기대하지 않고 봐서인지 나름 괜찮았음..\",\n",
    "    \"여주 너무이쁘고 연기잘하네요\"\n",
    "]"
   ]
  },
  {
   "cell_type": "code",
   "execution_count": 7,
   "metadata": {},
   "outputs": [],
   "source": [
    "loaded_model = load_model('check_point.h5')"
   ]
  },
  {
   "cell_type": "code",
   "execution_count": 11,
   "metadata": {},
   "outputs": [],
   "source": [
    "tokenizer = Tokenizer(num_words=25136)\n",
    "\n",
    "with open('word_index.json') as f:\n",
    "    word_index = json.load(f)\n",
    "    tokenizer.word_index = word_index"
   ]
  },
  {
   "cell_type": "code",
   "execution_count": 13,
   "metadata": {},
   "outputs": [],
   "source": [
    "mecab = Mecab()"
   ]
  },
  {
   "cell_type": "code",
   "execution_count": 15,
   "metadata": {},
   "outputs": [
    {
     "name": "stdout",
     "output_type": "stream",
     "text": [
      "누가 예매 해주면 보세요. 진심 재미 없습니다. 보다 잤습니다.\n",
      "------------------------------\n",
      "99.20% 확률로 부정 리뷰입니다.\n",
      "\n",
      "딱.. 집에서 볼만한 영화. 더이상 설명이 필요없음.\n",
      "------------------------------\n",
      "55.21% 확률로 긍정 리뷰입니다.\n",
      "\n",
      "전 생각보단 별로네요 스토리도빈약하고ㅜ 걍  전형적인  허리우드영화\n",
      "------------------------------\n",
      "98.10% 확률로 부정 리뷰입니다.\n",
      "\n",
      "지겨움 너무너무 재미없음\n",
      "------------------------------\n",
      "99.90% 확률로 부정 리뷰입니다.\n",
      "\n",
      "12세 관람가? 필요없는 키스씬은 많아서 12세 딸이 어린이 영화 맞냐고 하네요.. 아휴 평점들 아주 정확하구요 초반에만 긴장감있었구요드라마 보는줄 알았네요ㅎ\n",
      "------------------------------\n",
      "86.32% 확률로 부정 리뷰입니다.\n",
      "\n",
      "현대의 물질만능주의 세상의 현주소를 다시한번 일깨워주는 영화인거 같습니다.기준은 세월이 변하면서 바뀔 수 있겠지만 진실은 변하지 않는거 같아요..물질만능주의를 비판하듯 그경계가 애매모호 하지만.. 만족한 영화였습니다...\n",
      "------------------------------\n",
      "98.54% 확률로 긍정 리뷰입니다.\n",
      "\n",
      "혹평이 심해 기대하지 않고 봐서인지 나름 괜찮았음..\n",
      "------------------------------\n",
      "86.48% 확률로 긍정 리뷰입니다.\n",
      "\n",
      "여주 너무이쁘고 연기잘하네요\n",
      "------------------------------\n",
      "87.08% 확률로 긍정 리뷰입니다.\n",
      "\n"
     ]
    }
   ],
   "source": [
    "for review in reviews:\n",
    "    new_sentence = mecab.morphs(review) \n",
    "    # 불용어 제거\n",
    "    new_sentence = [word for word in new_sentence if not word in stopwords] \n",
    "    \n",
    "    #word = []\n",
    "    #for w in new_sentence:\n",
    "    #    if not w in stopwords:\n",
    "    #        word.append(w)\n",
    "\n",
    "    encoded = tokenizer.texts_to_sequences([new_sentence]) # 정수 인코딩\n",
    "    pad_new = pad_sequences(encoded, maxlen = 30) # 패딩\n",
    "    score = float(loaded_model.predict(pad_new)) # 예측\n",
    "    \n",
    "    print(review)\n",
    "    print(\"-\" * 30)\n",
    "    if(score > 0.5):\n",
    "        print(\"{:.2f}% 확률로 긍정 리뷰입니다.\\n\".format(score * 100))\n",
    "    else:\n",
    "        print(\"{:.2f}% 확률로 부정 리뷰입니다.\\n\".format((1 - score) * 100))"
   ]
  },
  {
   "cell_type": "code",
   "execution_count": null,
   "metadata": {},
   "outputs": [],
   "source": []
  }
 ],
 "metadata": {
  "kernelspec": {
   "display_name": "Python 3",
   "language": "python",
   "name": "python3"
  },
  "language_info": {
   "codemirror_mode": {
    "name": "ipython",
    "version": 3
   },
   "file_extension": ".py",
   "mimetype": "text/x-python",
   "name": "python",
   "nbconvert_exporter": "python",
   "pygments_lexer": "ipython3",
   "version": "3.8.8"
  }
 },
 "nbformat": 4,
 "nbformat_minor": 4
}
