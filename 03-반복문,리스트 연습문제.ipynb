{
 "cells": [
  {
   "cell_type": "markdown",
   "metadata": {},
   "source": [
    "# 파이썬 연습문제 03\n",
    "\n",
    "---\n",
    "\n",
    "## 참고!!\n",
    "\n",
    "사용자로부터 입력을 받기 위해서는 `input(str)` 함수를 사용합니다. \n",
    "\n",
    "이 함수는 사용자로부터 입력값을 문자열 변수로 반환합니다.\n",
    "\n",
    "아래의 코드를 실행해 보세요"
   ]
  },
  {
   "cell_type": "code",
   "execution_count": 1,
   "metadata": {},
   "outputs": [
    {
     "name": "stdin",
     "output_type": "stream",
     "text": [
      "아무 내용이나 입력하세요: 안녕\n"
     ]
    },
    {
     "name": "stdout",
     "output_type": "stream",
     "text": [
      "입력하신 내용: 안녕\n"
     ]
    }
   ],
   "source": [
    "myinput = input(\"아무 내용이나 입력하세요:\")\n",
    "print(\"입력하신 내용:\", myinput)"
   ]
  },
  {
   "cell_type": "markdown",
   "metadata": {},
   "source": [
    "만약 입력값을 숫자로 사용하고자 할 경우 `int()` 함수를 사용하여 형변환을 수행해야 합니다.\n",
    "\n",
    "아래의 코드를 실행해 보세요."
   ]
  },
  {
   "cell_type": "code",
   "execution_count": 1,
   "metadata": {},
   "outputs": [
    {
     "name": "stdin",
     "output_type": "stream",
     "text": [
      "아무 내용이나 입력하세요: 안녕\n"
     ]
    },
    {
     "name": "stdout",
     "output_type": "stream",
     "text": [
      "입력하신 내용: 안녕\n"
     ]
    }
   ],
   "source": [
    "myinput = input(\"아무 내용이나 입력하세요:\")\n",
    "print(\"입력하신 내용:\", myinput)"
   ]
  },
  {
   "cell_type": "markdown",
   "metadata": {},
   "source": [
    "----\n",
    "\n",
    "## 문제1\n",
    "\n",
    "2~10 사이의 숫자 x, y를 입력받은 후 1부터 100까지의 자연수 중에서 x와 y의 공배수를 모두 출력하고 총 합이 얼마인지 출력하시오."
   ]
  },
  {
   "cell_type": "code",
   "execution_count": 1,
   "metadata": {},
   "outputs": [
    {
     "name": "stdin",
     "output_type": "stream",
     "text": [
      "2 ~ 10까지의 숫자를 입력하세요. 3\n",
      "2 ~ 10까지의 숫자를 입력하세요. 7\n"
     ]
    },
    {
     "name": "stdout",
     "output_type": "stream",
     "text": [
      "21\n",
      "42\n",
      "63\n",
      "84\n",
      "210\n"
     ]
    }
   ],
   "source": [
    "num1 = input(\"2 ~ 10까지의 숫자를 입력하세요.\")\n",
    "num2 = input(\"2 ~ 10까지의 숫자를 입력하세요.\")\n",
    "\n",
    "sum = 0\n",
    "\n",
    "for i in range(1,101):\n",
    "    answer = \"\"\n",
    "    if i % int(num1) == 0 and i % int(num2) == 0:\n",
    "        sum += i\n",
    "        print(i)\n",
    "\n",
    "        \n",
    "print(sum)\n",
    "        "
   ]
  },
  {
   "cell_type": "markdown",
   "metadata": {},
   "source": [
    "---\n",
    "\n",
    "## 문제2\n",
    "\n",
    "태어난 년도 `year`를 입력받아서 그 사람이 성인인지 판별하는 프로그램을 작성하시오.\n",
    "\n",
    "(단, 20세 이상인 경우 성인으로 판단합니다.)\n",
    "\n",
    "현재 년도는 datetime 패키지를 활용해야 합니다."
   ]
  },
  {
   "cell_type": "code",
   "execution_count": 22,
   "metadata": {},
   "outputs": [
    {
     "name": "stdin",
     "output_type": "stream",
     "text": [
      "태어난 년도를 입력하세요 :  2002\n"
     ]
    },
    {
     "name": "stdout",
     "output_type": "stream",
     "text": [
      "2021\n",
      "성인 입니다.\n"
     ]
    }
   ],
   "source": [
    "import datetime\n",
    "\n",
    "year = input(\"태어난 년도를 입력하세요 : \")\n",
    "\n",
    "today = datetime.date.today()\n",
    "today_year = str(today)[0:4]\n",
    "\n",
    "print(int(today_year))\n",
    "\n",
    "if int(today_year) - int(year) + 1 >= 20:\n",
    "    print(\"성인 입니다.\")\n",
    "else:\n",
    "    print(\"미성년자 입니다.\")\n",
    "\n"
   ]
  },
  {
   "cell_type": "markdown",
   "metadata": {},
   "source": [
    "---\n",
    "\n",
    "## 문제3\n",
    "\n",
    "하나의 정수 x를 입력받아 x개의 행을 출력하는 별찍기 프로그램을 작성하시오.\n",
    "\n",
    "- 첫 번째 행은 1개의 별을 출력하고, \n",
    "- 두 번재 행은 2개의 별을 출력하고,\n",
    "- x 번째 행은 x개의 별을 출력합니다."
   ]
  },
  {
   "cell_type": "code",
   "execution_count": 47,
   "metadata": {},
   "outputs": [
    {
     "name": "stdin",
     "output_type": "stream",
     "text": [
      "정수를 입력하세요 4\n"
     ]
    },
    {
     "name": "stdout",
     "output_type": "stream",
     "text": [
      "*\n",
      "**\n",
      "***\n",
      "****\n"
     ]
    }
   ],
   "source": [
    "num = input(\"정수를 입력하세요\")\n",
    "\n",
    "for i in range(1, int(num)+1):\n",
    "    print(\"*\" * i)"
   ]
  },
  {
   "cell_type": "markdown",
   "metadata": {},
   "source": [
    "----\n",
    "\n",
    "## 문제4\n",
    "\n",
    "n개의 과목에 대한 점수를 입력하는 프로그램을 만들고자 한다.\n",
    "\n",
    "숫자 n을 입력 받아 n번 반복을 수행하면서 숫자를 입력받는다.\n",
    "\n",
    "반복문 안에서 입력받은 숫자는 data라는 리스트의 원소로 추가된다.\n",
    "\n",
    "이 리스트의 모든 원소에 대한 총합과 평균을 구하시오.\n",
    "\n",
    "(평균은 소수점 둘째 자리까지만 표시한다.)"
   ]
  },
  {
   "cell_type": "code",
   "execution_count": 33,
   "metadata": {},
   "outputs": [
    {
     "name": "stdin",
     "output_type": "stream",
     "text": [
      "n :  3\n",
      " 1\n",
      " 2\n",
      " 3\n"
     ]
    },
    {
     "name": "stdout",
     "output_type": "stream",
     "text": [
      "sum : 6, avg : 2.0\n"
     ]
    }
   ],
   "source": [
    "num = input(\"n : \")\n",
    "data = []\n",
    "\n",
    "for i in range(0, int(num)):\n",
    "    val = input()\n",
    "    data.append(int(val))\n",
    "    \n",
    "sum = 0\n",
    "avg = 0\n",
    "\n",
    "for i in data:\n",
    "    sum += i\n",
    "    \n",
    "avg = sum/len(data)\n",
    "\n",
    "answer = \"sum : {0}, avg : {1}\"\n",
    "print(answer.format(sum, avg))"
   ]
  },
  {
   "cell_type": "markdown",
   "metadata": {},
   "source": [
    "---\n",
    "\n",
    "## 문제5\n",
    "\n",
    "`n`개의 숫자를 입력받아서 리스트에 원소로 추가한 후 그 숫자들 중에서 가장 큰 값을 구하는 프로그램을 작성하시오.\n",
    "\n",
    "단, 최대값은 `max()`함수를 사용하지 않고 반복문을 통해 직접 구해야 합니다."
   ]
  },
  {
   "cell_type": "code",
   "execution_count": 34,
   "metadata": {},
   "outputs": [
    {
     "name": "stdin",
     "output_type": "stream",
     "text": [
      "n :  5\n",
      " 2\n",
      " 0\n",
      " 9\n",
      " 4\n",
      " 6\n"
     ]
    },
    {
     "data": {
      "text/plain": [
       "9"
      ]
     },
     "execution_count": 34,
     "metadata": {},
     "output_type": "execute_result"
    }
   ],
   "source": [
    "num = input(\"n : \")\n",
    "data = []\n",
    "\n",
    "for i in range(0, int(num)):\n",
    "    val = input()\n",
    "    data.append(int(val))\n",
    "    \n",
    "max = 0\n",
    "\n",
    "for i in data:\n",
    "    if i > max:\n",
    "        max = i\n",
    "\n",
    "max"
   ]
  },
  {
   "cell_type": "markdown",
   "metadata": {},
   "source": [
    "---\n",
    "\n",
    "## 문제6\n",
    "\n",
    "`n`개의 숫자를 입력받아서 리스트에 원소로 추가한 후 그 숫자을 오름차순으로 정렬한 결과를 출력하는 프로그램을 작성하시오.\n",
    "\n",
    "단, 정렬은 `sort()`함수를 사용하지 않고 반복문을 통해 직접 처리해야 합니다."
   ]
  },
  {
   "cell_type": "code",
   "execution_count": 44,
   "metadata": {},
   "outputs": [
    {
     "name": "stdin",
     "output_type": "stream",
     "text": [
      "n :  9\n",
      " 6\n",
      " 2\n",
      " 3\n",
      " 9\n",
      " 5\n",
      " 1\n",
      " 3\n",
      " 19\n",
      " 3\n"
     ]
    },
    {
     "name": "stdout",
     "output_type": "stream",
     "text": [
      "[1, 2, 3, 3, 3, 5, 6, 9, 19]\n"
     ]
    }
   ],
   "source": [
    "num = input(\"n : \")\n",
    "data = []\n",
    "\n",
    "for i in range(0, int(num)):\n",
    "    val = input()\n",
    "    data.append(int(val))\n",
    "    \n",
    "for i in range(0, len(data) - 1):\n",
    "    for j in range(i+1, len(data)):\n",
    "        if data[j] < data[i]:\n",
    "            data[j],data[i] = data[i],data[j]\n",
    "            \n",
    "print(data)\n",
    "    "
   ]
  },
  {
   "cell_type": "markdown",
   "metadata": {},
   "source": [
    "---\n",
    "\n",
    "## 문제7\n",
    "\n",
    "자신의 키를 `cm`단위로 입력받아 `m`와 `cm`단위로 분할하여 출력하시오.\n",
    "\n",
    "단, 함수를 사용하지 않고 직접 연산자를 활용하여 구해야 합니다."
   ]
  },
  {
   "cell_type": "code",
   "execution_count": 42,
   "metadata": {},
   "outputs": [
    {
     "name": "stdin",
     "output_type": "stream",
     "text": [
      "키를 입력하세요 :  170\n"
     ]
    },
    {
     "name": "stdout",
     "output_type": "stream",
     "text": [
      "170 cm 1.70 m 입니다.\n"
     ]
    }
   ],
   "source": [
    "height = input(\"키를 입력하세요 : \")\n",
    "\n",
    "cm = int(height)\n",
    "m = cm/100\n",
    "\n",
    "print(\"%d cm %0.2f m 입니다.\" %(cm, m))"
   ]
  },
  {
   "cell_type": "code",
   "execution_count": null,
   "metadata": {},
   "outputs": [],
   "source": []
  }
 ],
 "metadata": {
  "kernelspec": {
   "display_name": "Python 3",
   "language": "python",
   "name": "python3"
  },
  "language_info": {
   "codemirror_mode": {
    "name": "ipython",
    "version": 3
   },
   "file_extension": ".py",
   "mimetype": "text/x-python",
   "name": "python",
   "nbconvert_exporter": "python",
   "pygments_lexer": "ipython3",
   "version": "3.8.8"
  }
 },
 "nbformat": 4,
 "nbformat_minor": 4
}
