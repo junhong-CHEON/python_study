{
 "cells": [
  {
   "cell_type": "markdown",
   "id": "4c45f46e",
   "metadata": {},
   "source": [
    "# **반복문**"
   ]
  },
  {
   "cell_type": "markdown",
   "id": "f255bbb5",
   "metadata": {},
   "source": [
    "### while문의 기본 특성"
   ]
  },
  {
   "cell_type": "code",
   "execution_count": 1,
   "id": "4d0b8906",
   "metadata": {},
   "outputs": [
    {
     "name": "stdout",
     "output_type": "stream",
     "text": [
      "x = 1\n",
      "x = 2\n",
      "x = 3\n",
      "x = 4\n",
      "x = 5\n",
      "x = 6\n",
      "x = 7\n",
      "x = 8\n",
      "x = 9\n",
      "x = 10\n"
     ]
    }
   ],
   "source": [
    "x = 1\n",
    "while x <= 10:\n",
    "    print(\"x = %d\" %x)\n",
    "    x += 1\n",
    "    "
   ]
  },
  {
   "cell_type": "markdown",
   "id": "b48fe117",
   "metadata": {},
   "source": [
    "### 구구단"
   ]
  },
  {
   "cell_type": "code",
   "execution_count": 2,
   "id": "e82847db",
   "metadata": {},
   "outputs": [
    {
     "name": "stdout",
     "output_type": "stream",
     "text": [
      "7 X 1 = 7\n",
      "7 X 2 = 14\n",
      "7 X 3 = 21\n",
      "7 X 4 = 28\n",
      "7 X 5 = 35\n",
      "7 X 6 = 42\n",
      "7 X 7 = 49\n",
      "7 X 8 = 56\n",
      "7 X 9 = 63\n"
     ]
    }
   ],
   "source": [
    "y = 1\n",
    "\n",
    "while y < 10:\n",
    "    z = 7 * y\n",
    "    \n",
    "    print( \"7 X %d = %d\" % (y,z))\n",
    "    \n",
    "    y += 1\n"
   ]
  },
  {
   "cell_type": "markdown",
   "id": "933cd0a0",
   "metadata": {},
   "source": [
    "### 총합 구하기"
   ]
  },
  {
   "cell_type": "code",
   "execution_count": 5,
   "id": "7118910e",
   "metadata": {},
   "outputs": [
    {
     "name": "stdout",
     "output_type": "stream",
     "text": [
      "x = 1, sum = 1\n",
      "x = 2, sum = 3\n",
      "x = 3, sum = 6\n",
      "x = 4, sum = 10\n",
      "x = 5, sum = 15\n",
      "x = 6, sum = 21\n",
      "x = 7, sum = 28\n",
      "x = 8, sum = 36\n",
      "x = 9, sum = 45\n",
      "x = 10, sum = 55\n"
     ]
    }
   ],
   "source": [
    "x = 1\n",
    "sum = 0\n",
    "\n",
    "while x <= 10:\n",
    "    sum += x\n",
    "    \n",
    "    print(\"x = %d, sum = %d\" % (x,sum))\n",
    "    \n",
    "    x += 1"
   ]
  },
  {
   "cell_type": "markdown",
   "id": "8065358e",
   "metadata": {},
   "source": [
    "### 값의 변화 단계 조절하기"
   ]
  },
  {
   "cell_type": "code",
   "execution_count": 7,
   "id": "8215ddf0",
   "metadata": {},
   "outputs": [
    {
     "name": "stdout",
     "output_type": "stream",
     "text": [
      "a=0\n",
      "a=10\n",
      "a=20\n",
      "a=30\n",
      "a=40\n",
      "a=50\n",
      "a=60\n",
      "a=70\n",
      "a=80\n",
      "a=90\n"
     ]
    }
   ],
   "source": [
    "a = 0\n",
    "while a < 100:\n",
    "    print( \"a=%d\" %a)\n",
    "    a += 10\n"
   ]
  },
  {
   "cell_type": "code",
   "execution_count": 9,
   "id": "d6629522",
   "metadata": {},
   "outputs": [
    {
     "name": "stdout",
     "output_type": "stream",
     "text": [
      "b=10\n",
      "b=8\n",
      "b=6\n",
      "b=4\n",
      "b=2\n"
     ]
    }
   ],
   "source": [
    "b = 10\n",
    "while b > 0:\n",
    "    print( \"b=%d\" % b)\n",
    "    b -= 2"
   ]
  },
  {
   "cell_type": "code",
   "execution_count": 14,
   "id": "c40eab95",
   "metadata": {},
   "outputs": [
    {
     "name": "stdout",
     "output_type": "stream",
     "text": [
      "2 x 1 = 2\n",
      "2 x 2 = 4\n",
      "2 x 3 = 6\n",
      "2 x 4 = 8\n",
      "2 x 5 = 10\n",
      "2 x 6 = 12\n",
      "2 x 7 = 14\n",
      "2 x 8 = 16\n",
      "2 x 9 = 18\n",
      "3 x 1 = 3\n",
      "3 x 2 = 6\n",
      "3 x 3 = 9\n",
      "3 x 4 = 12\n",
      "3 x 5 = 15\n",
      "3 x 6 = 18\n",
      "3 x 7 = 21\n",
      "3 x 8 = 24\n",
      "3 x 9 = 27\n",
      "4 x 1 = 4\n",
      "4 x 2 = 8\n",
      "4 x 3 = 12\n",
      "4 x 4 = 16\n",
      "4 x 5 = 20\n",
      "4 x 6 = 24\n",
      "4 x 7 = 28\n",
      "4 x 8 = 32\n",
      "4 x 9 = 36\n",
      "5 x 1 = 5\n",
      "5 x 2 = 10\n",
      "5 x 3 = 15\n",
      "5 x 4 = 20\n",
      "5 x 5 = 25\n",
      "5 x 6 = 30\n",
      "5 x 7 = 35\n",
      "5 x 8 = 40\n",
      "5 x 9 = 45\n",
      "6 x 1 = 6\n",
      "6 x 2 = 12\n",
      "6 x 3 = 18\n",
      "6 x 4 = 24\n",
      "6 x 5 = 30\n",
      "6 x 6 = 36\n",
      "6 x 7 = 42\n",
      "6 x 8 = 48\n",
      "6 x 9 = 54\n",
      "7 x 1 = 7\n",
      "7 x 2 = 14\n",
      "7 x 3 = 21\n",
      "7 x 4 = 28\n",
      "7 x 5 = 35\n",
      "7 x 6 = 42\n",
      "7 x 7 = 49\n",
      "7 x 8 = 56\n",
      "7 x 9 = 63\n",
      "8 x 1 = 8\n",
      "8 x 2 = 16\n",
      "8 x 3 = 24\n",
      "8 x 4 = 32\n",
      "8 x 5 = 40\n",
      "8 x 6 = 48\n",
      "8 x 7 = 56\n",
      "8 x 8 = 64\n",
      "8 x 9 = 72\n",
      "9 x 1 = 9\n",
      "9 x 2 = 18\n",
      "9 x 3 = 27\n",
      "9 x 4 = 36\n",
      "9 x 5 = 45\n",
      "9 x 6 = 54\n",
      "9 x 7 = 63\n",
      "9 x 8 = 72\n",
      "9 x 9 = 81\n"
     ]
    }
   ],
   "source": [
    "a = 2\n",
    "b = 1\n",
    "\n",
    "for a in range(2,10):\n",
    "    for b in range(1,10):\n",
    "        print(\"%d x %d = %d\" %(a,b,a*b))"
   ]
  },
  {
   "cell_type": "markdown",
   "id": "180dc893",
   "metadata": {},
   "source": [
    "# 연습문제8"
   ]
  },
  {
   "cell_type": "code",
   "execution_count": 25,
   "id": "7ed9fe28",
   "metadata": {},
   "outputs": [
    {
     "name": "stdout",
     "output_type": "stream",
     "text": [
      "[True, False, False, True, False]\n",
      "[False, True, True, False, True]\n"
     ]
    }
   ],
   "source": [
    "check_list = [True, False, False, True, False]\n",
    "print(check_list)\n",
    "\n",
    "for i in range(0, len(check_list)):\n",
    "    check_list[i] = check_list[i] ^ True\n",
    "\n",
    "print(check_list)"
   ]
  },
  {
   "cell_type": "markdown",
   "id": "f0f9203d",
   "metadata": {},
   "source": [
    "# 연습문제9"
   ]
  },
  {
   "cell_type": "code",
   "execution_count": 31,
   "id": "3c76000e",
   "metadata": {},
   "outputs": [
    {
     "name": "stdout",
     "output_type": "stream",
     "text": [
      "38000원 X 6개 -> 총 228000원\n",
      "20000원 X 4개 -> 총 80000원\n",
      "17900원 X 3개 -> 총 53700원\n",
      "17900원 X 5개 -> 총 89500원\n",
      "----------------------------------\n",
      "총 합계 금액 -> 451200\n"
     ]
    }
   ],
   "source": [
    "Shopping_list = [\n",
    "    {\"price\" : 38000 , \"qty\" : 6},\n",
    "    {\"price\" : 20000 , \"qty\" : 4},\n",
    "    {\"price\" : 17900 , \"qty\" : 3},\n",
    "    {\"price\" : 17900 , \"qty\" : 5}\n",
    "]\n",
    "\n",
    "total = 0\n",
    "\n",
    "str_1 = \"{0}원 X {1}개 -> 총 {2}원\"\n",
    "for i in range(0, len(Shopping_list)):\n",
    "    print(str_1.format(Shopping_list[i][\"price\"],\n",
    "                      Shopping_list[i][\"qty\"],\n",
    "                      Shopping_list[i][\"price\"] * Shopping_list[i][\"qty\"]))\n",
    "    total += Shopping_list[i][\"price\"] * Shopping_list[i][\"qty\"]\n",
    "    if i == (len(Shopping_list) - 1):\n",
    "        print(\"----------------------------------\")\n",
    "        print(\"총 합계 금액 -> %d\" %total)"
   ]
  },
  {
   "cell_type": "markdown",
   "id": "3116df03",
   "metadata": {},
   "source": [
    "# 연습문제10"
   ]
  },
  {
   "cell_type": "code",
   "execution_count": 35,
   "id": "08cd7a48",
   "metadata": {},
   "outputs": [
    {
     "name": "stdout",
     "output_type": "stream",
     "text": [
      "404816.4G\n"
     ]
    }
   ],
   "source": [
    "item = [\n",
    "    {\"price\" : 500 , \"qty\" : 291},\n",
    "    {\"price\" : 320 , \"qty\" : 586},\n",
    "    {\"price\" : 100 , \"qty\" : 460},\n",
    "    {\"price\" : 120 , \"qty\" : 558},\n",
    "    {\"price\" : 92 , \"qty\" : 18},\n",
    "    {\"price\" : 30 , \"qty\" : 72}\n",
    "]\n",
    "\n",
    "value = 0\n",
    "total = 0\n",
    "\n",
    "for i in item:\n",
    "    value = i[\"price\"] * i[\"qty\"] * 0.9\n",
    "    total += value\n",
    "    \n",
    "print(\"%0.1fG\" %total)\n",
    "        "
   ]
  },
  {
   "cell_type": "markdown",
   "id": "194080a4",
   "metadata": {},
   "source": [
    "# 연습문제 11"
   ]
  },
  {
   "cell_type": "code",
   "execution_count": 38,
   "id": "950e9459",
   "metadata": {},
   "outputs": [
    {
     "name": "stdout",
     "output_type": "stream",
     "text": [
      "15\n",
      "30\n",
      "45\n",
      "60\n",
      "75\n",
      "90\n",
      "공배수의 총 합 : 315\n"
     ]
    }
   ],
   "source": [
    "sum = 0\n",
    "\n",
    "for i in range(1,101):\n",
    "    if i % 3 == 0 and i % 5 == 0:\n",
    "        print(i)\n",
    "        sum += i\n",
    "        \n",
    "print(\"공배수의 총 합 : %d\" %sum)"
   ]
  },
  {
   "cell_type": "markdown",
   "id": "dff50ada",
   "metadata": {},
   "source": [
    "# 연습문제 12"
   ]
  },
  {
   "cell_type": "code",
   "execution_count": 40,
   "id": "a8eee9b2",
   "metadata": {},
   "outputs": [
    {
     "name": "stdout",
     "output_type": "stream",
     "text": [
      "*****\n",
      "****\n",
      "***\n",
      "**\n",
      "*\n"
     ]
    }
   ],
   "source": [
    "for i in range(0,5):\n",
    "    star = \"\"\n",
    "    \n",
    "    for j in range(5, i, -1):\n",
    "        star = star + \"*\"\n",
    "        \n",
    "    print(star)"
   ]
  },
  {
   "cell_type": "markdown",
   "id": "e73fb866",
   "metadata": {},
   "source": [
    "# 연습문제 13"
   ]
  },
  {
   "cell_type": "code",
   "execution_count": 41,
   "id": "435004ba",
   "metadata": {},
   "outputs": [
    {
     "name": "stdout",
     "output_type": "stream",
     "text": [
      "일주일간의 총 급여는 213400원 입니다.\n"
     ]
    }
   ],
   "source": [
    "times = [7,5,5,5,5,10,7]\n",
    "total = 0\n",
    "\n",
    "for i in range(0, len(times)):\n",
    "    if i < 4:\n",
    "        total += times[i] * 4500\n",
    "    else:\n",
    "        total += times[i] * 5200\n",
    "        \n",
    "tpl = \"일주일간의 총 급여는 {0}원 입니다.\"\n",
    "print(tpl.format(total))"
   ]
  },
  {
   "cell_type": "code",
   "execution_count": null,
   "id": "28ed0618",
   "metadata": {},
   "outputs": [],
   "source": []
  }
 ],
 "metadata": {
  "kernelspec": {
   "display_name": "Python 3",
   "language": "python",
   "name": "python3"
  },
  "language_info": {
   "codemirror_mode": {
    "name": "ipython",
    "version": 3
   },
   "file_extension": ".py",
   "mimetype": "text/x-python",
   "name": "python",
   "nbconvert_exporter": "python",
   "pygments_lexer": "ipython3",
   "version": "3.8.8"
  }
 },
 "nbformat": 4,
 "nbformat_minor": 5
}
