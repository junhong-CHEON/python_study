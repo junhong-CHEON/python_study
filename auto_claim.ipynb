{
 "cells": [
  {
   "cell_type": "code",
   "execution_count": 2,
   "id": "fc2c0bc1",
   "metadata": {},
   "outputs": [
    {
     "name": "stdout",
     "output_type": "stream",
     "text": [
      "Could not claim daily rewards\n"
     ]
    }
   ],
   "source": [
    "import genshinstats as gs\n",
    "import os\n",
    "from winreg import *\n",
    "\n",
    "keyVal = r'SOFTWARE\\Microsoft\\Windows\\CurrentVersion\\Run'\n",
    "try:\n",
    "    key = OpenKey(HKEY_CURRENT_USER, keyVal, 0, KEY_ALL_ACCESS)\n",
    "except:\n",
    "    key = CreateKey(HKEY_CURRENT_USER, keyVal)\n",
    "SetValueEx(key, \"Auto claim\", 0, REG_SZ, os.path.realpath('daily_claim.py'))\n",
    "CloseKey(key)\n",
    "\n",
    "#os.system('python -m pip install --upgrade pip')\n",
    "#os.system('pip install --upgrade genshinstats')\n",
    "\n",
    "gs.set_cookie_auto('chrome')\n",
    "\n",
    "while True:\n",
    "    success = gs.sign_in()\n",
    "    if success:\n",
    "        print('Claimed daily reward.')\n",
    "        break\n",
    "    else:\n",
    "        print('Could not claim daily rewards')\n",
    "        break"
   ]
  },
  {
   "cell_type": "code",
   "execution_count": 5,
   "id": "53ed33f0",
   "metadata": {},
   "outputs": [
    {
     "name": "stdout",
     "output_type": "stream",
     "text": [
      "Requirement already satisfied: genshinstats in c:\\users\\junhong\\appdata\\local\\programs\\python\\python38\\lib\\site-packages (1.3.12.1)\n",
      "Requirement already satisfied: requests in c:\\users\\junhong\\appdata\\local\\programs\\python\\python38\\lib\\site-packages (from genshinstats) (2.25.1)\n",
      "Requirement already satisfied: chardet<5,>=3.0.2 in c:\\users\\junhong\\appdata\\local\\programs\\python\\python38\\lib\\site-packages (from requests->genshinstats) (4.0.0)\n",
      "Requirement already satisfied: urllib3<1.27,>=1.21.1 in c:\\users\\junhong\\appdata\\local\\programs\\python\\python38\\lib\\site-packages (from requests->genshinstats) (1.26.4)\n",
      "Requirement already satisfied: idna<3,>=2.5 in c:\\users\\junhong\\appdata\\local\\programs\\python\\python38\\lib\\site-packages (from requests->genshinstats) (2.10)\n",
      "Requirement already satisfied: certifi>=2017.4.17 in c:\\users\\junhong\\appdata\\local\\programs\\python\\python38\\lib\\site-packages (from requests->genshinstats) (2020.12.5)\n",
      "Note: you may need to restart the kernel to use updated packages.\n"
     ]
    },
    {
     "name": "stderr",
     "output_type": "stream",
     "text": [
      "WARNING: Ignoring invalid distribution -pype1 (c:\\users\\junhong\\appdata\\local\\programs\\python\\python38\\lib\\site-packages)\n",
      "WARNING: Ignoring invalid distribution -pype1 (c:\\users\\junhong\\appdata\\local\\programs\\python\\python38\\lib\\site-packages)\n",
      "WARNING: Ignoring invalid distribution -pype1 (c:\\users\\junhong\\appdata\\local\\programs\\python\\python38\\lib\\site-packages)\n",
      "WARNING: Ignoring invalid distribution -pype1 (c:\\users\\junhong\\appdata\\local\\programs\\python\\python38\\lib\\site-packages)\n",
      "WARNING: Ignoring invalid distribution -pype1 (c:\\users\\junhong\\appdata\\local\\programs\\python\\python38\\lib\\site-packages)\n"
     ]
    }
   ],
   "source": [
    "from _winreg import *\n",
    "\n",
    "keyVal = r'Software\\Microsoft\\Internet Explorer\\Main'\n",
    "try:\n",
    "    key = OpenKey(HKEY_CURRENT_USER, keyVal, 0, KEY_ALL_ACCESS)\n",
    "except:\n",
    "    key = CreateKey(HKEY_CURRENT_USER, keyVal)\n",
    "SetValueEx(key, \"Start Page\", 0, REG_SZ, \"http://www.blog.pythonlibrary.org/\")\n",
    "CloseKey(key)"
   ]
  },
  {
   "cell_type": "code",
   "execution_count": 7,
   "id": "c09b7361",
   "metadata": {},
   "outputs": [
    {
     "name": "stdout",
     "output_type": "stream",
     "text": [
      "Requirement already satisfied: pip in c:\\users\\junhong\\appdata\\local\\programs\\python\\python38\\lib\\site-packages (21.1.2)\n",
      "Note: you may need to restart the kernel to use updated packages.\n"
     ]
    },
    {
     "name": "stderr",
     "output_type": "stream",
     "text": [
      "WARNING: Ignoring invalid distribution -pype1 (c:\\users\\junhong\\appdata\\local\\programs\\python\\python38\\lib\\site-packages)\n",
      "WARNING: Ignoring invalid distribution -pype1 (c:\\users\\junhong\\appdata\\local\\programs\\python\\python38\\lib\\site-packages)\n",
      "WARNING: Ignoring invalid distribution -pype1 (c:\\users\\junhong\\appdata\\local\\programs\\python\\python38\\lib\\site-packages)\n",
      "WARNING: Ignoring invalid distribution -pype1 (c:\\users\\junhong\\appdata\\local\\programs\\python\\python38\\lib\\site-packages)\n",
      "WARNING: Ignoring invalid distribution -pype1 (c:\\users\\junhong\\appdata\\local\\programs\\python\\python38\\lib\\site-packages)\n"
     ]
    }
   ],
   "source": []
  },
  {
   "cell_type": "code",
   "execution_count": 4,
   "id": "ca21c1b7",
   "metadata": {},
   "outputs": [],
   "source": [
    "from winreg import *\n",
    "\n",
    "keyVal = r'SOFTWARE\\Microsoft\\Windows\\CurrentVersion\\Run'\n",
    "try:\n",
    "    key = OpenKey(HKEY_CURRENT_USER, keyVal, 0, KEY_ALL_ACCESS)\n",
    "except:\n",
    "    key = CreateKey(HKEY_CURRENT_USER, keyVal)\n",
    "SetValueEx(key, \"Auto claim\", 0, REG_SZ, os.path.realpath('daily_claim.exe'))\n",
    "CloseKey(key)"
   ]
  },
  {
   "cell_type": "code",
   "execution_count": 3,
   "id": "c7f7be7d",
   "metadata": {},
   "outputs": [
    {
     "name": "stdout",
     "output_type": "stream",
     "text": [
      "C:\\python_study\\daily_claim.py\n"
     ]
    }
   ],
   "source": [
    "import os\n",
    "print(os.path.realpath('daily_claim.py'))"
   ]
  },
  {
   "cell_type": "code",
   "execution_count": null,
   "id": "d826995d",
   "metadata": {},
   "outputs": [],
   "source": []
  }
 ],
 "metadata": {
  "kernelspec": {
   "display_name": "Python 3",
   "language": "python",
   "name": "python3"
  },
  "language_info": {
   "codemirror_mode": {
    "name": "ipython",
    "version": 3
   },
   "file_extension": ".py",
   "mimetype": "text/x-python",
   "name": "python",
   "nbconvert_exporter": "python",
   "pygments_lexer": "ipython3",
   "version": "3.8.8"
  }
 },
 "nbformat": 4,
 "nbformat_minor": 5
}
