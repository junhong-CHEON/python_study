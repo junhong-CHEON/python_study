{
 "cells": [
  {
   "cell_type": "markdown",
   "id": "3e93d456",
   "metadata": {},
   "source": [
    "# Numpy"
   ]
  },
  {
   "cell_type": "code",
   "execution_count": 1,
   "id": "9576ed25",
   "metadata": {},
   "outputs": [
    {
     "name": "stdout",
     "output_type": "stream",
     "text": [
      "[1 3 5 7 9]\n"
     ]
    }
   ],
   "source": [
    "import numpy\n",
    "\n",
    "# 배열 생성\n",
    "arr = numpy.array([1,3,5,7,9])\n",
    "print (arr)"
   ]
  },
  {
   "cell_type": "markdown",
   "id": "b3737a8b",
   "metadata": {},
   "source": [
    "배열의 크기와 원소 접근은 리스트와 동일"
   ]
  },
  {
   "cell_type": "code",
   "execution_count": 2,
   "id": "beee2f1b",
   "metadata": {},
   "outputs": [
    {
     "name": "stdout",
     "output_type": "stream",
     "text": [
      "[1.  2.4 3.  4.6]\n"
     ]
    }
   ],
   "source": [
    "# 자료형이 다른것을 허용하지 않는다\n",
    "# 더 범위가 큰 자료형으로 강제 형변환\n",
    "\n",
    "arr3 = numpy.array([1, 2.4, 3, 4.6])\n",
    "print(arr3)"
   ]
  },
  {
   "cell_type": "markdown",
   "id": "4ffd3d06",
   "metadata": {},
   "source": [
    "## 다양한 초기화 방법"
   ]
  },
  {
   "cell_type": "code",
   "execution_count": 11,
   "id": "29f9c79e",
   "metadata": {},
   "outputs": [
    {
     "name": "stdout",
     "output_type": "stream",
     "text": [
      "[ 0  1  2  3  4  5  6  7  8  9 10 11 12 13 14]\n",
      "[100 101 102 103 104 105 106 107 108 109 110 111 112 113 114]\n",
      "[0. 0. 0.]\n",
      "[1. 1. 1.]\n",
      "[7 7 7 7 7]\n"
     ]
    }
   ],
   "source": [
    "# 0~15전 까지 순차배열 생성\n",
    "a = numpy.arange(15)\n",
    "print(a)\n",
    "\n",
    "# 100부터 115전까지\n",
    "b = numpy.array(range(100,115))\n",
    "print(b)\n",
    "\n",
    "# 모든 원소가 0\n",
    "c = numpy.zeros([3])\n",
    "# c = numpy.zeros([3]. dtype='int') 정수형으로 만들때\n",
    "print(c) # 기본실수\n",
    "\n",
    "# 모든 원소가 1\n",
    "d = numpy.ones([3])\n",
    "# d = numpy.ones([3]. dtype='int') 정수형으로 만들때\n",
    "print(d) #기본실수\n",
    "\n",
    "# 원하는 수로 채우고 싶을 때\n",
    "f = numpy.full([5], 7) # 채우고자 하는 수의 자료형을 따라감 (이 경우는 정수)\n",
    "print(f)"
   ]
  },
  {
   "cell_type": "markdown",
   "id": "ac885987",
   "metadata": {},
   "source": [
    "## 기초 통계값 산출"
   ]
  },
  {
   "cell_type": "code",
   "execution_count": 14,
   "id": "6a50de1f",
   "metadata": {},
   "outputs": [
    {
     "name": "stdout",
     "output_type": "stream",
     "text": [
      "338\n",
      "84.5\n",
      "91 77\n"
     ]
    }
   ],
   "source": [
    "grade = numpy.array([82,77,91,88])\n",
    "\n",
    "# 원소의 합\n",
    "s1 = numpy.sum(grade)\n",
    "print(s1)\n",
    "\n",
    "# 원소의 평균\n",
    "s2 = numpy.average(grade)\n",
    "print(s2)\n",
    "\n",
    "# 최대, 최소값\n",
    "s3 = numpy.max(grade)\n",
    "s4 = numpy.min(grade)\n",
    "print(s3, s4)"
   ]
  },
  {
   "cell_type": "markdown",
   "id": "85f19d8f",
   "metadata": {},
   "source": [
    "## 배열의 연산"
   ]
  },
  {
   "cell_type": "code",
   "execution_count": 16,
   "id": "c9856dac",
   "metadata": {},
   "outputs": [
    {
     "name": "stdout",
     "output_type": "stream",
     "text": [
      "[84 79 93 90]\n",
      "[77 72 86 83]\n"
     ]
    }
   ],
   "source": [
    "# 사칙연산은 기본적으로 모든 원소에 대해 적용\n",
    "new1 = grade + 2\n",
    "print(new1) # grade = [82,77,91,88]\n",
    "\n",
    "new2 = grade - 5\n",
    "print(new2)"
   ]
  },
  {
   "cell_type": "code",
   "execution_count": 20,
   "id": "9c4b50af",
   "metadata": {},
   "outputs": [
    {
     "name": "stdout",
     "output_type": "stream",
     "text": [
      "[ 3  6  9 12 15]\n",
      "[-1 -2 -3 -4 -5]\n",
      "[ 2  8 18 32 50]\n",
      "[0.5 0.5 0.5 0.5 0.5]\n"
     ]
    }
   ],
   "source": [
    "# 사이즈가 동일하다면 배열끼리의 사칙연산도 지원\n",
    "\n",
    "arr1 = numpy.array([1,2,3,4,5])\n",
    "arr2 = numpy.array([2,4,6,8,10])\n",
    "\n",
    "# 여러가지 사칙연산\n",
    "a = arr1 + arr2\n",
    "print(a)\n",
    "\n",
    "b = arr1 - arr2\n",
    "print(b)\n",
    "\n",
    "c = arr1 * arr2\n",
    "print(c)\n",
    "\n",
    "d = arr1 / arr2\n",
    "print(d)\n",
    "\n",
    "#numpy. add(), subtarct(), multiply(), divide() 함수도 존재"
   ]
  },
  {
   "cell_type": "markdown",
   "id": "f7694526",
   "metadata": {},
   "source": [
    "## 인덱싱\n",
    "\n",
    "### 기본적으로 리스트 튜플과 동일\n",
    "다른점만 정리"
   ]
  },
  {
   "cell_type": "markdown",
   "id": "cd5ce1be",
   "metadata": {},
   "source": [
    "## 조건부 인덱싱"
   ]
  },
  {
   "cell_type": "code",
   "execution_count": 25,
   "id": "c017f633",
   "metadata": {},
   "outputs": [
    {
     "name": "stdout",
     "output_type": "stream",
     "text": [
      "[82 91]\n",
      "[82 91 88]\n",
      "[82 88]\n",
      "[77 91]\n"
     ]
    }
   ],
   "source": [
    "import numpy as np\n",
    "\n",
    "bool_array = np.array([True, False, True, False])\n",
    "grade = np.array([82,77,91,88])\n",
    "\n",
    "# -> 조건에 맞는 항목만 1차 배열로 추출\n",
    "result1 = grade[bool_array]\n",
    "print(result1)\n",
    "\n",
    "# 아래 조건식에서는 배열의 이름을 그대로 사용한다.\n",
    "\n",
    "# 특정 조건에 맞는 값 추출\n",
    "result2 = grade[grade >= 80]\n",
    "print(result2)\n",
    "\n",
    "# logical_and와 logical_or를 이용한 조건부 추출\n",
    "result3 = grade[np.logical_and(grade >= 80, grade <= 90)]\n",
    "print(result3)\n",
    "\n",
    "result4 = grade[np.logical_or(grade < 80, grade > 90)] \n",
    "print(result4)"
   ]
  },
  {
   "cell_type": "markdown",
   "id": "0a7b9b0c",
   "metadata": {},
   "source": [
    "## 2차원 배열\n",
    "\n",
    "### 2차원 리스트를 numpy.array()안에 넣으면 된다."
   ]
  },
  {
   "cell_type": "code",
   "execution_count": 29,
   "id": "bec02b4c",
   "metadata": {},
   "outputs": [
    {
     "name": "stdout",
     "output_type": "stream",
     "text": [
      "차원크기: 2\n",
      "(3, 4)\n",
      "int32\n"
     ]
    }
   ],
   "source": [
    "grade = np.array([\n",
    "    [98, 72, 80, 63],\n",
    "    [88, 90, 80, 72],\n",
    "    [92, 88, 82, 76]\n",
    "])\n",
    "\n",
    "# 배열 정보\n",
    "print(\"차원크기: %d\" % grade.ndim) # 배열의 차원을 리턴함\n",
    "\n",
    "print( grade.shape ) # 각 차원의 원소수를 튜플로 표시 (3행 4열 이라는뜻)\n",
    "\n",
    "print( grade.dtype ) # 원소의 타입"
   ]
  },
  {
   "cell_type": "markdown",
   "id": "1b4cc6b2",
   "metadata": {},
   "source": [
    "## 인덱싱 슬라이싱\n",
    "\n",
    "[행, 열] 로 접근한다"
   ]
  },
  {
   "cell_type": "code",
   "execution_count": 31,
   "id": "2e3e101c",
   "metadata": {},
   "outputs": [
    {
     "name": "stdout",
     "output_type": "stream",
     "text": [
      "[[90 80 72]\n",
      " [88 82 76]]\n"
     ]
    }
   ],
   "source": [
    "# 슬라이싱\n",
    "print(grade[1:3, 1:4]) # 1~3행전, 1~4열전 의 범위의 합집합을 출력"
   ]
  },
  {
   "cell_type": "markdown",
   "id": "241e5b02",
   "metadata": {},
   "source": [
    "## 기본 통계"
   ]
  },
  {
   "cell_type": "code",
   "execution_count": 40,
   "id": "011c16f5",
   "metadata": {},
   "outputs": [
    {
     "name": "stdout",
     "output_type": "stream",
     "text": [
      "<class 'numpy.ndarray'>\n",
      "[278 250 242 211]\n",
      "<class 'numpy.ndarray'>\n",
      "[313 330 338]\n"
     ]
    }
   ],
   "source": [
    "s1 = np.sum(grade, axis = 0) # axis = 0은 열을 뜻한다 ( 각 열끼리 더함 )\n",
    "print(type(s1)) # 연산결과도 array\n",
    "print(s1)\n",
    "\n",
    "s2 = np.sum(grade, axis = 1) # axis = 1은 행을 뜻한다 ( 각 행끼리 더함 )\n",
    "print(type(s2)) # 연산결과도 array\n",
    "print(s2)\n",
    "\n",
    "\n",
    "# sum,average, min, max 모두 사용가능"
   ]
  },
  {
   "cell_type": "markdown",
   "id": "12934cef",
   "metadata": {},
   "source": [
    "## 논리값과 비교식을 이용한 조건부 인덱싱"
   ]
  },
  {
   "cell_type": "code",
   "execution_count": 45,
   "id": "2276330a",
   "metadata": {},
   "outputs": [
    {
     "name": "stdout",
     "output_type": "stream",
     "text": [
      "[98 80 88 90 80 92 88 82]\n",
      "[98 80 88 90 80 92 88 82]\n",
      "[80 88 90 80 88 82]\n",
      "[98 72 63 72 92 76]\n"
     ]
    }
   ],
   "source": [
    "bool_array = np.array([\n",
    "    [True, False, True, False],\n",
    "    [True, True, True, False],\n",
    "    [True, True, True, False]\n",
    "])\n",
    "\n",
    "\n",
    "# 조건에 맞는 항목 추출 (1차원 배열)\n",
    "result1 = grade[bool_array]\n",
    "print(result1)\n",
    "\n",
    "result2 = grade[grade >= 80]\n",
    "print(result2)\n",
    "\n",
    "# 논리식을 사용\n",
    "result3 = grade[np.logical_and(grade >= 80, grade <= 90)]\n",
    "print(result3)\n",
    "\n",
    "result4 = grade[np.logical_or(grade < 80, grade > 90)]\n",
    "print(result4)"
   ]
  },
  {
   "cell_type": "code",
   "execution_count": null,
   "id": "531d739d",
   "metadata": {},
   "outputs": [],
   "source": []
  }
 ],
 "metadata": {
  "kernelspec": {
   "display_name": "Python 3",
   "language": "python",
   "name": "python3"
  },
  "language_info": {
   "codemirror_mode": {
    "name": "ipython",
    "version": 3
   },
   "file_extension": ".py",
   "mimetype": "text/x-python",
   "name": "python",
   "nbconvert_exporter": "python",
   "pygments_lexer": "ipython3",
   "version": "3.8.8"
  }
 },
 "nbformat": 4,
 "nbformat_minor": 5
}
