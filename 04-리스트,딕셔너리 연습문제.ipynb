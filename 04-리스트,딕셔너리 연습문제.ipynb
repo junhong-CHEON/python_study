{
 "cells": [
  {
   "cell_type": "markdown",
   "metadata": {},
   "source": [
    "# 파이썬 연습문제 04\n",
    "\n",
    "---\n",
    "\n",
    "# 문제(1~4)\n",
    "\n",
    "아래의 데이터는 2021년 01월 25일부터 02월 01일까지의 Covid19 일별 확진자 수를 표현한 자료구조다.\n",
    "\n",
    "```python\n",
    "covid19 = [\n",
    "    {'0125': 426}, {'0126': 343}, {'0127': 547}, {'0128': 490}, \n",
    "    {'0129': 460}, {'0130': 443}, {'0131': 338}, {'0201': 299}\n",
    "]\n",
    "```\n",
    "\n",
    "위 데이터를 기반으로하여 아래의 물음에 답하시오.\n",
    "\n",
    "## 문제1.\n",
    "\n",
    "1월 25일부터 2월 1일까지의 누적 확진자 수를 구하시오."
   ]
  },
  {
   "cell_type": "code",
   "execution_count": 23,
   "metadata": {},
   "outputs": [
    {
     "name": "stdout",
     "output_type": "stream",
     "text": [
      "426\n",
      "343\n",
      "547\n",
      "490\n",
      "460\n",
      "443\n",
      "338\n",
      "299\n",
      "누적 확진자 수: 3346\n"
     ]
    }
   ],
   "source": [
    "covid19 = [\n",
    "    {'0125': 426}, {'0126': 343}, {'0127': 547}, {'0128': 490}, \n",
    "    {'0129': 460}, {'0130': 443}, {'0131': 338}, {'0201': 299}\n",
    "]\n",
    "\n",
    "total = 0\n",
    "\n",
    "for i in covid19:\n",
    "    for j in i.values():\n",
    "        print(j)\n",
    "        total += j\n",
    "    \n",
    "print(\"누적 확진자 수: %d\" %total)"
   ]
  },
  {
   "cell_type": "markdown",
   "metadata": {},
   "source": [
    "---\n",
    "\n",
    "## 문제2.\n",
    "\n",
    "1월 25일부터 2월 1일까지의 일 평균 확진자 수는 얼마인가?"
   ]
  },
  {
   "cell_type": "code",
   "execution_count": 24,
   "metadata": {},
   "outputs": [
    {
     "name": "stdout",
     "output_type": "stream",
     "text": [
      "418.25\n"
     ]
    }
   ],
   "source": [
    "avg = total/len(covid19)\n",
    "print(avg)"
   ]
  },
  {
   "cell_type": "markdown",
   "metadata": {},
   "source": [
    "---\n",
    "\n",
    "## 문제3\n",
    "\n",
    "1월 25일부터 2월 1일까지 중에서 확진자가 가장 많이 나타난 날짜는 언제인가?"
   ]
  },
  {
   "cell_type": "code",
   "execution_count": 25,
   "metadata": {},
   "outputs": [
    {
     "name": "stdout",
     "output_type": "stream",
     "text": [
      "확진자가 가장 많이 발생한 날은 0127 입니다.\n"
     ]
    }
   ],
   "source": [
    "max = 0\n",
    "\n",
    "max_date = \"\"\n",
    "for i in covid19:\n",
    "    for j in i.items():\n",
    "        if max < j[1]:\n",
    "            max = j[1]\n",
    "            max_date = j[0]\n",
    "\n",
    "print(\"확진자가 가장 많이 발생한 날은 %s 입니다.\" %max_date)\n",
    "            \n"
   ]
  },
  {
   "cell_type": "markdown",
   "metadata": {},
   "source": [
    "---\n",
    "\n",
    "## 문제 4\n",
    "\n",
    "위의 데이터를 확진자 수에 대한 오름차순으로 정렬하시오."
   ]
  },
  {
   "cell_type": "code",
   "execution_count": 46,
   "metadata": {},
   "outputs": [
    {
     "name": "stdout",
     "output_type": "stream",
     "text": [
      "[{'0201': 299}, {'0131': 338}, {'0126': 343}, {'0125': 426}, {'0130': 443}, {'0129': 460}, {'0128': 490}, {'0127': 547}]\n"
     ]
    }
   ],
   "source": [
    "value_list = []\n",
    "for i in covid19:\n",
    "    value_list.append(list(i.items())[0][1])\n",
    "    \n",
    "for i in range(0, len(value_list) - 1):\n",
    "    for j in range(i, len(value_list)):\n",
    "        if value_list[i] > value_list[j]:\n",
    "            covid19[i],covid19[j] = covid19[j],covid19[i]\n",
    "               \n",
    "print(covid19)"
   ]
  },
  {
   "cell_type": "markdown",
   "metadata": {},
   "source": [
    "---\n",
    "\n",
    "## 문제5.\n",
    "\n",
    "숫자 x를 입력받은 후 x에 대한 팩토리얼을 for문을 활용하여 구하시오."
   ]
  },
  {
   "cell_type": "code",
   "execution_count": 50,
   "metadata": {},
   "outputs": [
    {
     "name": "stdin",
     "output_type": "stream",
     "text": [
      "숫자 x를 입력하세요:  5\n"
     ]
    },
    {
     "name": "stdout",
     "output_type": "stream",
     "text": [
      "5 팩토리얼은 120 입니다. \n"
     ]
    }
   ],
   "source": [
    "x = int(input(\"숫자 x를 입력하세요: \"))\n",
    "\n",
    "fact = 1\n",
    "\n",
    "for i in range(x,0,-1):\n",
    "    fact *= i\n",
    "    \n",
    "print(\"%d 팩토리얼은 %d 입니다. \" %(x, fact))\n",
    "    "
   ]
  },
  {
   "cell_type": "markdown",
   "metadata": {},
   "source": [
    "---\n",
    "\n",
    "## 문제6.\n",
    "\n",
    "다음은 어느 학급의 중간고사 평균 점수에 대한 표이다.\n",
    "\n",
    "```python\n",
    "성적표 = [87, 67, 46, 91, 34, 88, 95, 62, 83]\n",
    "```\n",
    "\n",
    "성적이 가장 높은 학생과 가장 낮은 학생간에는 몇 점 차이가 나는지 구하시오."
   ]
  },
  {
   "cell_type": "code",
   "execution_count": 9,
   "metadata": {},
   "outputs": [
    {
     "name": "stdout",
     "output_type": "stream",
     "text": [
      "최저점 :34 , 최고점 :95\n",
      "61\n"
     ]
    }
   ],
   "source": [
    "성적표 = [87, 67, 46, 91, 34, 88, 95, 62, 83]\n",
    "\n",
    "sort = sorted(성적표)\n",
    "\n",
    "print(\"최저점 :%d , 최고점 :%d\" %(sort[0], sort[-1]))\n",
    "print(\"%d\" %(sort[-1] - sort[0]))"
   ]
  },
  {
   "cell_type": "markdown",
   "metadata": {},
   "source": [
    "---\n",
    "\n",
    "## 문제7\n",
    "\n",
    "lang1, lang2 리스트가 아래와 같이 있을 때 두 개의 리스트를 합한 lang3를 만드시오.\n",
    "\n",
    "```python\n",
    "lang1 = [1, 3, 5, 7, 9]\n",
    "lang2 = [2, 4, 6, 8]\n",
    "```"
   ]
  },
  {
   "cell_type": "code",
   "execution_count": 10,
   "metadata": {},
   "outputs": [
    {
     "name": "stdout",
     "output_type": "stream",
     "text": [
      "[1, 3, 5, 7, 9, 2, 4, 6, 8]\n"
     ]
    }
   ],
   "source": [
    "lang1 = [1, 3, 5, 7, 9]\n",
    "lang2 = [2, 4, 6, 8]\n",
    "\n",
    "lang3 = lang1 + lang2\n",
    "print(lang3)"
   ]
  },
  {
   "cell_type": "markdown",
   "metadata": {},
   "source": [
    "---\n",
    "\n",
    "## 문제8\n",
    "\n",
    "1부터 100까지의 모든 정수를 원소로 갖는 `mylist`를 정의하시오.\n",
    "\n",
    "이 리스트의 원소를 걸고 369 게임을 할 때 박수를 총 몇 번 쳐야 하는지 구하시오."
   ]
  },
  {
   "cell_type": "code",
   "execution_count": 51,
   "metadata": {},
   "outputs": [
    {
     "name": "stdout",
     "output_type": "stream",
     "text": [
      "60\n"
     ]
    }
   ],
   "source": [
    "mylist = []\n",
    "count = 0\n",
    "\n",
    "for i in range(1, 101):\n",
    "    mylist.append(i)\n",
    "    \n",
    "for i in mylist:\n",
    "    string = str(i)\n",
    "    for j in string:\n",
    "        if j == '3' or j=='6' or j=='9':\n",
    "            count += 1\n",
    "        \n",
    "print(count)\n",
    "        \n",
    "    "
   ]
  },
  {
   "cell_type": "code",
   "execution_count": null,
   "metadata": {},
   "outputs": [],
   "source": []
  },
  {
   "cell_type": "code",
   "execution_count": null,
   "metadata": {},
   "outputs": [],
   "source": []
  },
  {
   "cell_type": "code",
   "execution_count": null,
   "metadata": {},
   "outputs": [],
   "source": []
  }
 ],
 "metadata": {
  "kernelspec": {
   "display_name": "Python 3",
   "language": "python",
   "name": "python3"
  },
  "language_info": {
   "codemirror_mode": {
    "name": "ipython",
    "version": 3
   },
   "file_extension": ".py",
   "mimetype": "text/x-python",
   "name": "python",
   "nbconvert_exporter": "python",
   "pygments_lexer": "ipython3",
   "version": "3.8.8"
  }
 },
 "nbformat": 4,
 "nbformat_minor": 4
}
