{
 "cells": [
  {
   "cell_type": "markdown",
   "id": "4b359b37",
   "metadata": {},
   "source": [
    "# 1번"
   ]
  },
  {
   "cell_type": "code",
   "execution_count": 45,
   "id": "369a82eb",
   "metadata": {},
   "outputs": [],
   "source": [
    "from pandas import read_excel\n",
    "from matplotlib import pyplot as plt\n",
    "import seaborn as sns\n",
    "import numpy as np\n",
    "\n",
    "from statsmodels.formula.api import logit\n",
    "from pandas import DataFrame\n",
    "from pandas import merge\n",
    "import pandas as pd"
   ]
  },
  {
   "cell_type": "code",
   "execution_count": 3,
   "id": "0c734939",
   "metadata": {},
   "outputs": [
    {
     "data": {
      "text/html": [
       "<div>\n",
       "<style scoped>\n",
       "    .dataframe tbody tr th:only-of-type {\n",
       "        vertical-align: middle;\n",
       "    }\n",
       "\n",
       "    .dataframe tbody tr th {\n",
       "        vertical-align: top;\n",
       "    }\n",
       "\n",
       "    .dataframe thead th {\n",
       "        text-align: right;\n",
       "    }\n",
       "</style>\n",
       "<table border=\"1\" class=\"dataframe\">\n",
       "  <thead>\n",
       "    <tr style=\"text-align: right;\">\n",
       "      <th></th>\n",
       "      <th>FL_NUM</th>\n",
       "      <th>TAIL_NUM</th>\n",
       "      <th>FL_DATE</th>\n",
       "      <th>DAY_WEEK</th>\n",
       "      <th>CRS_DEP_TIME</th>\n",
       "      <th>DEP_TIME</th>\n",
       "      <th>ORIGIN</th>\n",
       "      <th>DEST</th>\n",
       "      <th>CARRIER</th>\n",
       "      <th>DISTANCE</th>\n",
       "      <th>WEATHER</th>\n",
       "      <th>FLIGHT_STATUS</th>\n",
       "    </tr>\n",
       "  </thead>\n",
       "  <tbody>\n",
       "    <tr>\n",
       "      <th>0</th>\n",
       "      <td>5935</td>\n",
       "      <td>N940CA</td>\n",
       "      <td>2004/01/01</td>\n",
       "      <td>4</td>\n",
       "      <td>1455</td>\n",
       "      <td>1455</td>\n",
       "      <td>BWI</td>\n",
       "      <td>JFK</td>\n",
       "      <td>OH</td>\n",
       "      <td>184</td>\n",
       "      <td>0</td>\n",
       "      <td>ontime</td>\n",
       "    </tr>\n",
       "    <tr>\n",
       "      <th>1</th>\n",
       "      <td>6155</td>\n",
       "      <td>N405FJ</td>\n",
       "      <td>2004/01/01</td>\n",
       "      <td>4</td>\n",
       "      <td>1640</td>\n",
       "      <td>1640</td>\n",
       "      <td>DCA</td>\n",
       "      <td>JFK</td>\n",
       "      <td>DH</td>\n",
       "      <td>213</td>\n",
       "      <td>0</td>\n",
       "      <td>ontime</td>\n",
       "    </tr>\n",
       "    <tr>\n",
       "      <th>2</th>\n",
       "      <td>7208</td>\n",
       "      <td>N695BR</td>\n",
       "      <td>2004/01/01</td>\n",
       "      <td>4</td>\n",
       "      <td>1245</td>\n",
       "      <td>1245</td>\n",
       "      <td>IAD</td>\n",
       "      <td>LGA</td>\n",
       "      <td>DH</td>\n",
       "      <td>229</td>\n",
       "      <td>0</td>\n",
       "      <td>ontime</td>\n",
       "    </tr>\n",
       "    <tr>\n",
       "      <th>3</th>\n",
       "      <td>7215</td>\n",
       "      <td>N662BR</td>\n",
       "      <td>2004/01/01</td>\n",
       "      <td>4</td>\n",
       "      <td>1715</td>\n",
       "      <td>1709</td>\n",
       "      <td>IAD</td>\n",
       "      <td>LGA</td>\n",
       "      <td>DH</td>\n",
       "      <td>229</td>\n",
       "      <td>0</td>\n",
       "      <td>ontime</td>\n",
       "    </tr>\n",
       "    <tr>\n",
       "      <th>4</th>\n",
       "      <td>7792</td>\n",
       "      <td>N698BR</td>\n",
       "      <td>2004/01/01</td>\n",
       "      <td>4</td>\n",
       "      <td>1039</td>\n",
       "      <td>1035</td>\n",
       "      <td>IAD</td>\n",
       "      <td>LGA</td>\n",
       "      <td>DH</td>\n",
       "      <td>229</td>\n",
       "      <td>0</td>\n",
       "      <td>ontime</td>\n",
       "    </tr>\n",
       "    <tr>\n",
       "      <th>...</th>\n",
       "      <td>...</td>\n",
       "      <td>...</td>\n",
       "      <td>...</td>\n",
       "      <td>...</td>\n",
       "      <td>...</td>\n",
       "      <td>...</td>\n",
       "      <td>...</td>\n",
       "      <td>...</td>\n",
       "      <td>...</td>\n",
       "      <td>...</td>\n",
       "      <td>...</td>\n",
       "      <td>...</td>\n",
       "    </tr>\n",
       "    <tr>\n",
       "      <th>2196</th>\n",
       "      <td>2761</td>\n",
       "      <td>N15555</td>\n",
       "      <td>2004/1/31</td>\n",
       "      <td>6</td>\n",
       "      <td>645</td>\n",
       "      <td>644</td>\n",
       "      <td>DCA</td>\n",
       "      <td>EWR</td>\n",
       "      <td>RU</td>\n",
       "      <td>199</td>\n",
       "      <td>0</td>\n",
       "      <td>ontime</td>\n",
       "    </tr>\n",
       "    <tr>\n",
       "      <th>2197</th>\n",
       "      <td>2497</td>\n",
       "      <td>N16976</td>\n",
       "      <td>2004/1/31</td>\n",
       "      <td>6</td>\n",
       "      <td>1700</td>\n",
       "      <td>1653</td>\n",
       "      <td>IAD</td>\n",
       "      <td>EWR</td>\n",
       "      <td>RU</td>\n",
       "      <td>213</td>\n",
       "      <td>0</td>\n",
       "      <td>ontime</td>\n",
       "    </tr>\n",
       "    <tr>\n",
       "      <th>2198</th>\n",
       "      <td>2361</td>\n",
       "      <td>N14902</td>\n",
       "      <td>2004/1/31</td>\n",
       "      <td>6</td>\n",
       "      <td>1600</td>\n",
       "      <td>1558</td>\n",
       "      <td>DCA</td>\n",
       "      <td>EWR</td>\n",
       "      <td>RU</td>\n",
       "      <td>199</td>\n",
       "      <td>0</td>\n",
       "      <td>ontime</td>\n",
       "    </tr>\n",
       "    <tr>\n",
       "      <th>2199</th>\n",
       "      <td>2216</td>\n",
       "      <td>N16961</td>\n",
       "      <td>2004/1/31</td>\n",
       "      <td>6</td>\n",
       "      <td>1359</td>\n",
       "      <td>1403</td>\n",
       "      <td>DCA</td>\n",
       "      <td>EWR</td>\n",
       "      <td>RU</td>\n",
       "      <td>199</td>\n",
       "      <td>0</td>\n",
       "      <td>ontime</td>\n",
       "    </tr>\n",
       "    <tr>\n",
       "      <th>2200</th>\n",
       "      <td>2097</td>\n",
       "      <td>N13994</td>\n",
       "      <td>2004/1/31</td>\n",
       "      <td>6</td>\n",
       "      <td>1730</td>\n",
       "      <td>1736</td>\n",
       "      <td>DCA</td>\n",
       "      <td>EWR</td>\n",
       "      <td>RU</td>\n",
       "      <td>199</td>\n",
       "      <td>0</td>\n",
       "      <td>ontime</td>\n",
       "    </tr>\n",
       "  </tbody>\n",
       "</table>\n",
       "<p>2201 rows × 12 columns</p>\n",
       "</div>"
      ],
      "text/plain": [
       "      FL_NUM TAIL_NUM     FL_DATE  DAY_WEEK  CRS_DEP_TIME  DEP_TIME ORIGIN  \\\n",
       "0       5935   N940CA  2004/01/01         4          1455      1455    BWI   \n",
       "1       6155   N405FJ  2004/01/01         4          1640      1640    DCA   \n",
       "2       7208   N695BR  2004/01/01         4          1245      1245    IAD   \n",
       "3       7215   N662BR  2004/01/01         4          1715      1709    IAD   \n",
       "4       7792   N698BR  2004/01/01         4          1039      1035    IAD   \n",
       "...      ...      ...         ...       ...           ...       ...    ...   \n",
       "2196    2761   N15555   2004/1/31         6           645       644    DCA   \n",
       "2197    2497   N16976   2004/1/31         6          1700      1653    IAD   \n",
       "2198    2361   N14902   2004/1/31         6          1600      1558    DCA   \n",
       "2199    2216   N16961   2004/1/31         6          1359      1403    DCA   \n",
       "2200    2097   N13994   2004/1/31         6          1730      1736    DCA   \n",
       "\n",
       "     DEST CARRIER  DISTANCE  WEATHER FLIGHT_STATUS  \n",
       "0     JFK      OH       184        0        ontime  \n",
       "1     JFK      DH       213        0        ontime  \n",
       "2     LGA      DH       229        0        ontime  \n",
       "3     LGA      DH       229        0        ontime  \n",
       "4     LGA      DH       229        0        ontime  \n",
       "...   ...     ...       ...      ...           ...  \n",
       "2196  EWR      RU       199        0        ontime  \n",
       "2197  EWR      RU       213        0        ontime  \n",
       "2198  EWR      RU       199        0        ontime  \n",
       "2199  EWR      RU       199        0        ontime  \n",
       "2200  EWR      RU       199        0        ontime  \n",
       "\n",
       "[2201 rows x 12 columns]"
      ]
     },
     "execution_count": 3,
     "metadata": {},
     "output_type": "execute_result"
    }
   ],
   "source": [
    "df = read_excel('http://itpaper.co.kr/data/flight_delays.xlsx', engine='openpyxl')\n",
    "\n",
    "df"
   ]
  },
  {
   "cell_type": "code",
   "execution_count": 5,
   "id": "bb24cbc6",
   "metadata": {},
   "outputs": [
    {
     "data": {
      "text/plain": [
       "delayed     428\n",
       "ontime     1773\n",
       "Name: FLIGHT_STATUS, dtype: int64"
      ]
     },
     "execution_count": 5,
     "metadata": {},
     "output_type": "execute_result"
    }
   ],
   "source": [
    "delay_count = df['FLIGHT_STATUS'].value_counts().sort_index()\n",
    "delay_count"
   ]
  },
  {
   "cell_type": "code",
   "execution_count": 10,
   "id": "c64f3dc1",
   "metadata": {},
   "outputs": [],
   "source": [
    "plt.rcParams[\"font.family\"]='Malgun Gothic'\n",
    "plt.rcParams[\"font.size\"]=12\n",
    "plt.rcParams['axes.unicode_minus']=False"
   ]
  },
  {
   "cell_type": "code",
   "execution_count": 17,
   "id": "74e6dbf6",
   "metadata": {},
   "outputs": [
    {
     "data": {
      "image/png": "[encoded data removed]",
      "text/plain": [
       "<Figure size 1440x360 with 2 Axes>"
      ]
     },
     "metadata": {
      "needs_background": "light"
     },
     "output_type": "display_data"
    }
   ],
   "source": [
    "fig,ax = plt.subplots(1,2,figsize = (20,5))\n",
    "\n",
    "fig.suptitle('지연출발 여부')\n",
    "sns.barplot(x = delay_count.index, y = delay_count.values, ax = ax[0])\n",
    "\n",
    "ax[0].set_title('지연출발 막대')\n",
    "ax[0].set_xticks([0,1])\n",
    "ax[0].set_xticklabels(['지연출발', '정시출발'])\n",
    "\n",
    "for i,v in enumerate(delay_count.values):\n",
    "    ax[0].text(x=i,y=v,s=\"%s\"% v,fontsize=12,verticalalignment='bottom',horizontalalignment='center')\n",
    "    \n",
    "ax[1].pie(delay_count.values, labels=['지연출발', '정시출밯'], autopct='0.2f%%')\n",
    "ax[1].set_title('지연출발 비율')\n",
    "plt.show()\n",
    "plt.close()\n"
   ]
  },
  {
   "cell_type": "markdown",
   "id": "f5070e14",
   "metadata": {},
   "source": [
    "# 2번"
   ]
  },
  {
   "cell_type": "code",
   "execution_count": 30,
   "id": "1e5a8c9c",
   "metadata": {},
   "outputs": [
    {
     "data": {
      "image/png": "[encoded data removed]",
      "text/plain": [
       "<Figure size 1440x1080 with 6 Axes>"
      ]
     },
     "metadata": {
      "needs_background": "light"
     },
     "output_type": "display_data"
    }
   ],
   "source": [
    "columns = ['DAY_WEEK','ORIGIN','DEST','CARRIER','WEATHER','DISTANCE']\n",
    "\n",
    "fig,ax = plt.subplots(2,3,figsize = (20,15))\n",
    "\n",
    "ax = ax.ravel()\n",
    "\n",
    "for i,v in enumerate(columns):\n",
    "    tmp = df.filter([v,'FLIGHT_STATUS']).reset_index().groupby([v,'FLIGHT_STATUS'],\n",
    "                    as_index=False).count().sort_values([v,'FLIGHT_STATUS'])\n",
    "    sns.barplot(data=tmp,x=v,y='index',hue='FLIGHT_STATUS',ax=ax[i])\n",
    "    \n",
    "plt.show()\n",
    "plt.close()"
   ]
  },
  {
   "cell_type": "markdown",
   "id": "733672eb",
   "metadata": {},
   "source": [
    "# 3번"
   ]
  },
  {
   "cell_type": "code",
   "execution_count": 33,
   "id": "e4c8043f",
   "metadata": {},
   "outputs": [
    {
     "name": "stdout",
     "output_type": "stream",
     "text": [
      "<class 'pandas.core.frame.DataFrame'>\n",
      "RangeIndex: 2201 entries, 0 to 2200\n",
      "Data columns (total 12 columns):\n",
      " #   Column         Non-Null Count  Dtype   \n",
      "---  ------         --------------  -----   \n",
      " 0   FL_NUM         2201 non-null   int64   \n",
      " 1   TAIL_NUM       2201 non-null   object  \n",
      " 2   FL_DATE        2201 non-null   object  \n",
      " 3   DAY_WEEK       2201 non-null   category\n",
      " 4   CRS_DEP_TIME   2201 non-null   int64   \n",
      " 5   DEP_TIME       2201 non-null   int64   \n",
      " 6   ORIGIN         2201 non-null   category\n",
      " 7   DEST           2201 non-null   category\n",
      " 8   CARRIER        2201 non-null   category\n",
      " 9   DISTANCE       2201 non-null   int64   \n",
      " 10  WEATHER        2201 non-null   int64   \n",
      " 11  FLIGHT_STATUS  2201 non-null   int64   \n",
      "dtypes: category(4), int64(6), object(2)\n",
      "memory usage: 147.2+ KB\n"
     ]
    }
   ],
   "source": [
    "df['DAY_WEEK']=df['DAY_WEEK'].astype('category')\n",
    "df['ORIGIN']=df['ORIGIN'].astype('category').cat.rename_categories({'BWI':1,'DCA':2,'IAD':3})\n",
    "df['DEST']=df['DEST'].astype('category').cat.rename_categories({'JFK':1,'LGA':2,'EWR':3})\n",
    "df['CARRIER']=df['CARRIER'].astype('category').cat.rename_categories({'OH':1,'DH':2,'DL':3,'MQ':4,'UA':5,'US':6,'RU':\n",
    "7,'CO':8})\n",
    "df['FLIGHT_STATUS']=df['FLIGHT_STATUS'].astype('category').cat.rename_categories({'ontime':1,'delayed':0})\n",
    "df['FLIGHT_STATUS']=df['FLIGHT_STATUS'].astype('int64')\n",
    "df.info()"
   ]
  },
  {
   "cell_type": "markdown",
   "id": "35a1d1df",
   "metadata": {},
   "source": [
    "# 4번"
   ]
  },
  {
   "cell_type": "code",
   "execution_count": 37,
   "id": "cd3a10ef",
   "metadata": {},
   "outputs": [
    {
     "name": "stdout",
     "output_type": "stream",
     "text": [
      "Warning: Maximum number of iterations has been exceeded.\n",
      "         Current function value: 0.442548\n",
      "         Iterations: 35\n"
     ]
    },
    {
     "name": "stderr",
     "output_type": "stream",
     "text": [
      "c:\\users\\junhong\\appdata\\local\\programs\\python\\python38\\lib\\site-packages\\statsmodels\\base\\model.py:566: ConvergenceWarning: Maximum Likelihood optimization failed to converge. Check mle_retvals\n",
      "  warnings.warn(\"Maximum Likelihood optimization failed to \"\n"
     ]
    },
    {
     "data": {
      "text/plain": [
       "0       0.891912\n",
       "1       0.846023\n",
       "2       0.787785\n",
       "3       0.787785\n",
       "4       0.787785\n",
       "          ...   \n",
       "2196    0.913517\n",
       "2197    0.869984\n",
       "2198    0.913517\n",
       "2199    0.913517\n",
       "2200    0.913517\n",
       "Length: 2201, dtype: float64"
      ]
     },
     "execution_count": 37,
     "metadata": {},
     "output_type": "execute_result"
    }
   ],
   "source": [
    "model = logit('FLIGHT_STATUS ~ DAY_WEEK+ORIGIN+DEST+CARRIER+DISTANCE+WEATHER', data = df)\n",
    "fit = model.fit()\n",
    "pred = fit.predict(df)\n",
    "pred"
   ]
  },
  {
   "cell_type": "code",
   "execution_count": 50,
   "id": "7fbdb71f",
   "metadata": {},
   "outputs": [
    {
     "data": {
      "text/html": [
       "<div>\n",
       "<style scoped>\n",
       "    .dataframe tbody tr th:only-of-type {\n",
       "        vertical-align: middle;\n",
       "    }\n",
       "\n",
       "    .dataframe tbody tr th {\n",
       "        vertical-align: top;\n",
       "    }\n",
       "\n",
       "    .dataframe thead th {\n",
       "        text-align: right;\n",
       "    }\n",
       "</style>\n",
       "<table border=\"1\" class=\"dataframe\">\n",
       "  <thead>\n",
       "    <tr style=\"text-align: right;\">\n",
       "      <th></th>\n",
       "      <th>예상결과</th>\n",
       "      <th>실제결과</th>\n",
       "    </tr>\n",
       "  </thead>\n",
       "  <tbody>\n",
       "    <tr>\n",
       "      <th>0</th>\n",
       "      <td>정상운행</td>\n",
       "      <td>정상운행</td>\n",
       "    </tr>\n",
       "    <tr>\n",
       "      <th>1</th>\n",
       "      <td>정상운행</td>\n",
       "      <td>정상운행</td>\n",
       "    </tr>\n",
       "    <tr>\n",
       "      <th>2</th>\n",
       "      <td>정상운행</td>\n",
       "      <td>정상운행</td>\n",
       "    </tr>\n",
       "    <tr>\n",
       "      <th>3</th>\n",
       "      <td>정상운행</td>\n",
       "      <td>정상운행</td>\n",
       "    </tr>\n",
       "    <tr>\n",
       "      <th>4</th>\n",
       "      <td>정상운행</td>\n",
       "      <td>정상운행</td>\n",
       "    </tr>\n",
       "    <tr>\n",
       "      <th>...</th>\n",
       "      <td>...</td>\n",
       "      <td>...</td>\n",
       "    </tr>\n",
       "    <tr>\n",
       "      <th>2196</th>\n",
       "      <td>정상운행</td>\n",
       "      <td>정상운행</td>\n",
       "    </tr>\n",
       "    <tr>\n",
       "      <th>2197</th>\n",
       "      <td>정상운행</td>\n",
       "      <td>정상운행</td>\n",
       "    </tr>\n",
       "    <tr>\n",
       "      <th>2198</th>\n",
       "      <td>정상운행</td>\n",
       "      <td>정상운행</td>\n",
       "    </tr>\n",
       "    <tr>\n",
       "      <th>2199</th>\n",
       "      <td>정상운행</td>\n",
       "      <td>정상운행</td>\n",
       "    </tr>\n",
       "    <tr>\n",
       "      <th>2200</th>\n",
       "      <td>정상운행</td>\n",
       "      <td>정상운행</td>\n",
       "    </tr>\n",
       "  </tbody>\n",
       "</table>\n",
       "<p>2201 rows × 2 columns</p>\n",
       "</div>"
      ],
      "text/plain": [
       "      예상결과  실제결과\n",
       "0     정상운행  정상운행\n",
       "1     정상운행  정상운행\n",
       "2     정상운행  정상운행\n",
       "3     정상운행  정상운행\n",
       "4     정상운행  정상운행\n",
       "...    ...   ...\n",
       "2196  정상운행  정상운행\n",
       "2197  정상운행  정상운행\n",
       "2198  정상운행  정상운행\n",
       "2199  정상운행  정상운행\n",
       "2200  정상운행  정상운행\n",
       "\n",
       "[2201 rows x 2 columns]"
      ]
     },
     "execution_count": 50,
     "metadata": {},
     "output_type": "execute_result"
    }
   ],
   "source": [
    "pdf = DataFrame(pred, columns = ['추정확률'])\n",
    "pdf['예상결과'] = np.where(pdf['추정확률'] > 0.5, '정상운행', '지연됨')\n",
    "pdf['실제결과'] = np.where(df['FLIGHT_STATUS'] == 1, \"정상운행\", \"지연됨\")\n",
    "pdf.drop('추정확률', axis = 1, inplace = True)\n",
    "pdf"
   ]
  },
  {
   "cell_type": "code",
   "execution_count": 51,
   "id": "9b2e0e45",
   "metadata": {},
   "outputs": [
    {
     "data": {
      "text/html": [
       "<div>\n",
       "<style scoped>\n",
       "    .dataframe tbody tr th:only-of-type {\n",
       "        vertical-align: middle;\n",
       "    }\n",
       "\n",
       "    .dataframe tbody tr th {\n",
       "        vertical-align: top;\n",
       "    }\n",
       "\n",
       "    .dataframe thead th {\n",
       "        text-align: right;\n",
       "    }\n",
       "</style>\n",
       "<table border=\"1\" class=\"dataframe\">\n",
       "  <thead>\n",
       "    <tr style=\"text-align: right;\">\n",
       "      <th></th>\n",
       "      <th>예상결과</th>\n",
       "      <th>실제결과</th>\n",
       "    </tr>\n",
       "    <tr>\n",
       "      <th>예상결과</th>\n",
       "      <th></th>\n",
       "      <th></th>\n",
       "    </tr>\n",
       "  </thead>\n",
       "  <tbody>\n",
       "    <tr>\n",
       "      <th>정상운행</th>\n",
       "      <td>2169</td>\n",
       "      <td>1773</td>\n",
       "    </tr>\n",
       "    <tr>\n",
       "      <th>지연됨</th>\n",
       "      <td>32</td>\n",
       "      <td>428</td>\n",
       "    </tr>\n",
       "  </tbody>\n",
       "</table>\n",
       "</div>"
      ],
      "text/plain": [
       "      예상결과  실제결과\n",
       "예상결과            \n",
       "정상운행  2169  1773\n",
       "지연됨     32   428"
      ]
     },
     "execution_count": 51,
     "metadata": {},
     "output_type": "execute_result"
    }
   ],
   "source": [
    "tmp1 = pdf.groupby('예상결과').count().rename(columns={'실제결과':'예상결과'})\n",
    "tmp2 = pdf.groupby('실제결과').count().rename(columns={'예상결과':'실제결과'})\n",
    "result_df = merge(tmp1, tmp2, left_index = True, right_index = True)\n",
    "result_df"
   ]
  },
  {
   "cell_type": "code",
   "execution_count": 55,
   "id": "f37b8dd6",
   "metadata": {},
   "outputs": [
    {
     "data": {
      "image/png": "[encoded data removed]",
      "text/plain": [
       "<Figure size 1080x720 with 1 Axes>"
      ]
     },
     "metadata": {
      "needs_background": "light"
     },
     "output_type": "display_data"
    }
   ],
   "source": [
    "fig, ax = plt.subplots(1,1, figsize = ( 15, 10))\n",
    "result_df.plot.bar(ax = ax, rot = 0)\n",
    "ax.set_title('실제결과와 비교')\n",
    "ax.set_xlabel('연착여부')\n",
    "\n",
    "plt.show()\n",
    "plt.close()"
   ]
  },
  {
   "cell_type": "code",
   "execution_count": null,
   "id": "4fba3ec4",
   "metadata": {},
   "outputs": [],
   "source": []
  }
 ],
 "metadata": {
  "kernelspec": {
   "display_name": "Python 3",
   "language": "python",
   "name": "python3"
  },
  "language_info": {
   "codemirror_mode": {
    "name": "ipython",
    "version": 3
   },
   "file_extension": ".py",
   "mimetype": "text/x-python",
   "name": "python",
   "nbconvert_exporter": "python",
   "pygments_lexer": "ipython3",
   "version": "3.8.8"
  }
 },
 "nbformat": 4,
 "nbformat_minor": 5
}
