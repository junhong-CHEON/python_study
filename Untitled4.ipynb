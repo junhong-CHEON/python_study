{
 "cells": [
  {
   "cell_type": "code",
   "execution_count": 2,
   "id": "8df9112c",
   "metadata": {},
   "outputs": [],
   "source": [
    "from winreg import *\n",
    "\n",
    "keyVal = r'Software\\Microsoft\\Internet Explorer\\Main'\n",
    "try:\n",
    "    key = OpenKey(HKEY_CURRENT_USER, keyVal, 0, KEY_ALL_ACCESS)\n",
    "except:\n",
    "    key = CreateKey(HKEY_CURRENT_USER, keyVal)\n",
    "SetValueEx(key, \"Start Page\", 0, REG_SZ, \"http://www.blog.pythonlibrary.org/\")\n",
    "CloseKey(key)"
   ]
  },
  {
   "cell_type": "code",
   "execution_count": null,
   "id": "f77839bf",
   "metadata": {},
   "outputs": [],
   "source": []
  }
 ],
 "metadata": {
  "kernelspec": {
   "display_name": "Python 3",
   "language": "python",
   "name": "python3"
  },
  "language_info": {
   "codemirror_mode": {
    "name": "ipython",
    "version": 3
   },
   "file_extension": ".py",
   "mimetype": "text/x-python",
   "name": "python",
   "nbconvert_exporter": "python",
   "pygments_lexer": "ipython3",
   "version": "3.8.8"
  }
 },
 "nbformat": 4,
 "nbformat_minor": 5
}
