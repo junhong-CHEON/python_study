{
 "cells": [
  {
   "cell_type": "markdown",
   "id": "f685f15f",
   "metadata": {},
   "source": [
    "# 파일 입출력을 위한 내장함수"
   ]
  },
  {
   "cell_type": "markdown",
   "id": "118f71ba",
   "metadata": {},
   "source": [
    "## 파일 저장하기"
   ]
  },
  {
   "cell_type": "code",
   "execution_count": 1,
   "id": "9bcc3db2",
   "metadata": {},
   "outputs": [],
   "source": [
    "# 새로운 파일 생성, 혹은 기존의 파일 열기\n",
    "# -> r: 읽기모드\n",
    "# -> w: 쓰기모드 (기존의 내용을 덮어쓴다.)\n",
    "# -> a: 추가모드 (기존의 내용을 유지하고 뒤에 추가)\n",
    "\n",
    "f = open(\"helloworld.txt\", \"w\", encoding='utf-8')\n",
    "\n",
    "# 파일에 내용 기록하기\n",
    "f.write(\"Hello Python!!!\\n\")\n",
    "f.write(\"안녕하세요. 파이썬!!!\\n\")\n",
    "\n",
    "# open() 함수 단독 사용 후 파일 닫음\n",
    "f.close()"
   ]
  },
  {
   "cell_type": "markdown",
   "id": "6edaa642",
   "metadata": {},
   "source": [
    "## 파일 읽어오기"
   ]
  },
  {
   "cell_type": "code",
   "execution_count": 3,
   "id": "4be6aed9",
   "metadata": {},
   "outputs": [
    {
     "name": "stdout",
     "output_type": "stream",
     "text": [
      "Hello Python!!!\n",
      "안녕하세요. 파이썬!!!\n",
      "\n"
     ]
    }
   ],
   "source": [
    "f = open(\"helloworld.txt\", \"r\", encoding='utf-8')\n",
    "\n",
    "#파일의 모든 내용을 한 번에 문자열로 읽음\n",
    "data = f.read()\n",
    "print(data)\n",
    "\n",
    "f.close()"
   ]
  },
  {
   "cell_type": "markdown",
   "id": "b8e85ae7",
   "metadata": {},
   "source": [
    "## with와 같이 사용"
   ]
  },
  {
   "cell_type": "code",
   "execution_count": 4,
   "id": "eb2f9aae",
   "metadata": {},
   "outputs": [
    {
     "name": "stdout",
     "output_type": "stream",
     "text": [
      "파일 저장이 완료되었습니다\n",
      "0 >> Life is too short,you need python\n",
      "1 >> Life is too short,you need python\n",
      "2 >> Life is too short,you need python\n",
      "3 >> Life is too short,you need python\n",
      "4 >> Life is too short,you need python\n",
      "5 >> Life is too short,you need python\n",
      "6 >> Life is too short,you need python\n",
      "7 >> Life is too short,you need python\n",
      "8 >> Life is too short,you need python\n",
      "9 >> Life is too short,you need python\n",
      "\n"
     ]
    }
   ],
   "source": [
    "# close를 자동으로 수행\n",
    "with open(\"hellopython.txt\", \"w\", encoding='utf-8') as f:\n",
    "    for i in range(0,10):\n",
    "        f.write(\"%d >> \" %i)\n",
    "        f.write(\"Life is too short,\" )\n",
    "        f.write(\"you need python\\n\")\n",
    "        \n",
    "    print(\"파일 저장이 완료되었습니다\")\n",
    "\n",
    "# 읽기 모드로 파일 객체 생성\n",
    "with open(\"hellopython.txt\", \"r\", encoding='utf-8') as f:\n",
    "    data = f.read()\n",
    "    print(data)"
   ]
  },
  {
   "cell_type": "markdown",
   "id": "b6778eca",
   "metadata": {},
   "source": [
    "## 파일내용의 한 줄 단위를 리스트로 읽어 오기\n"
   ]
  },
  {
   "cell_type": "code",
   "execution_count": 5,
   "id": "0793a520",
   "metadata": {},
   "outputs": [
    {
     "name": "stdout",
     "output_type": "stream",
     "text": [
      "['Hello Python!!!\\n', '안녕하세요. 파이썬!!!\\n']\n",
      "읽어들인 데이터는 총 2줄 입니다. \n",
      "Hello Python!!!\n",
      "안녕하세요. 파이썬!!!\n"
     ]
    }
   ],
   "source": [
    "with open(\"helloworld.txt\", \"r\", encoding='utf-8') as f:\n",
    "    lines = f.readlines()\n",
    "    print(lines)\n",
    "    \n",
    "    # 전체 리스트 크기 확인(줄 수 확인)\n",
    "    size = len(lines)\n",
    "    print(\"읽어들인 데이터는 총 %d줄 입니다. \" %size)\n",
    "    \n",
    "    # 줄바꿈 문자 제거\n",
    "    for item in lines:\n",
    "        print(item.strip())"
   ]
  },
  {
   "cell_type": "markdown",
   "id": "eec7abb2",
   "metadata": {},
   "source": [
    "# CSV 파일"
   ]
  },
  {
   "cell_type": "markdown",
   "id": "b690850b",
   "metadata": {},
   "source": [
    "## 딕셔너리를 원소로 갖는 리스트를 csv로 저장하기"
   ]
  },
  {
   "cell_type": "code",
   "execution_count": 6,
   "id": "591e2fb4",
   "metadata": {},
   "outputs": [],
   "source": [
    "grade = [\n",
    "    {\"name\" : \"철수\", \"kor\" : 95, \"eng\" : 88, \"math\" :72},\n",
    "    {\"name\" : \"영희\", \"kor\" : 92, \"eng\" : 90, \"math\" :95},\n",
    "    {\"name\" : \"철민\", \"kor\" : 88, \"eng\" : 76, \"math\" :64}\n",
    "]\n",
    "\n",
    "tpl = \"{0},{1},{2},{3}\\n\"\n",
    "\n",
    "with open(\"grade.csv\", \"w\", encoding='euc-kr') as f:\n",
    "    # 첫 줄에 각 항목의 제목 기록\n",
    "    f.write(\"이름,국어,영어,수학\\n\")\n",
    "    \n",
    "    # 각 데이터를 한 줄씩 콤마로 구분하여 기록\n",
    "    for item in grade:\n",
    "        tmp = tpl.format(item[\"name\"],item[\"kor\"],item[\"eng\"],item[\"math\"])\n",
    "        f.write(tmp)"
   ]
  },
  {
   "cell_type": "markdown",
   "id": "ebc5e668",
   "metadata": {},
   "source": [
    "## csv파일 읽기"
   ]
  },
  {
   "cell_type": "code",
   "execution_count": 7,
   "id": "54430755",
   "metadata": {},
   "outputs": [
    {
     "name": "stdout",
     "output_type": "stream",
     "text": [
      "['이름,국어,영어,수학\\n', '철수,95,88,72\\n', '영희,92,90,95\\n', '철민,88,76,64\\n']\n"
     ]
    }
   ],
   "source": [
    "with open(\"grade.csv\", \"r\", encoding='euc-kr') as f:\n",
    "    csv_list = f.readlines()\n",
    "    print(csv_list)\n",
    "    "
   ]
  },
  {
   "cell_type": "markdown",
   "id": "e00e0e37",
   "metadata": {},
   "source": [
    "## csv파일에서 내용만 추출"
   ]
  },
  {
   "cell_type": "code",
   "execution_count": 8,
   "id": "e3750ebb",
   "metadata": {},
   "outputs": [
    {
     "name": "stdout",
     "output_type": "stream",
     "text": [
      "['철수', '95', '88', '72']\n",
      "['영희', '92', '90', '95']\n",
      "['철민', '88', '76', '64']\n"
     ]
    }
   ],
   "source": [
    "with open(\"grade.csv\", \"r\", encoding='euc-kr') as f:\n",
    "    for i, line in enumerate(csv_list):\n",
    "        if i > 0:\n",
    "            item = line.strip().split(\",\")\n",
    "            print(item)"
   ]
  },
  {
   "cell_type": "markdown",
   "id": "65127ecf",
   "metadata": {},
   "source": [
    "## 분리한 결과를 변수에 복사하고 결과 도출"
   ]
  },
  {
   "cell_type": "code",
   "execution_count": 10,
   "id": "d8bd3b0d",
   "metadata": {},
   "outputs": [
    {
     "name": "stdout",
     "output_type": "stream",
     "text": [
      "['철수', '95', '88', '72']\n",
      "철수의 총점은 255점이고 평균은 85.00점 입니다. \n",
      "['영희', '92', '90', '95']\n",
      "영희의 총점은 277점이고 평균은 92.33점 입니다. \n",
      "['철민', '88', '76', '64']\n",
      "철민의 총점은 228점이고 평균은 76.00점 입니다. \n"
     ]
    }
   ],
   "source": [
    "with open(\"grade.csv\", \"r\", encoding='euc-kr') as f:\n",
    "    for i, line in enumerate(csv_list):\n",
    "        if i > 0:\n",
    "            item = line.strip().split(\",\")\n",
    "            print(item)\n",
    "            \n",
    "            name = item[0]\n",
    "            kor = int(item[1])\n",
    "            eng = int(item[2])\n",
    "            math = int(item[3])\n",
    "            total = kor + eng + math\n",
    "            avg = total / 3\n",
    "            \n",
    "            print(\"%s의 총점은 %d점이고 평균은 %0.2f점 입니다. \" %(name, total, avg))"
   ]
  },
  {
   "cell_type": "code",
   "execution_count": null,
   "id": "504a42d6",
   "metadata": {},
   "outputs": [],
   "source": []
  }
 ],
 "metadata": {
  "kernelspec": {
   "display_name": "Python 3",
   "language": "python",
   "name": "python3"
  },
  "language_info": {
   "codemirror_mode": {
    "name": "ipython",
    "version": 3
   },
   "file_extension": ".py",
   "mimetype": "text/x-python",
   "name": "python",
   "nbconvert_exporter": "python",
   "pygments_lexer": "ipython3",
   "version": "3.8.8"
  }
 },
 "nbformat": 4,
 "nbformat_minor": 5
}
