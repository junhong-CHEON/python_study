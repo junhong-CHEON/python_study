{
 "cells": [
  {
   "cell_type": "markdown",
   "id": "199dc202",
   "metadata": {},
   "source": [
    "# **연산자**"
   ]
  },
  {
   "cell_type": "markdown",
   "id": "30bb857f",
   "metadata": {},
   "source": [
    "## 나눗셈 관련 연산자와 제곱근 연산자"
   ]
  },
  {
   "cell_type": "code",
   "execution_count": 1,
   "id": "0330bb29",
   "metadata": {},
   "outputs": [
    {
     "name": "stdout",
     "output_type": "stream",
     "text": [
      "3.3333333333333335\n"
     ]
    }
   ],
   "source": [
    "# 나눗셈의 몫을 구함\n",
    "print( 10/3 )"
   ]
  },
  {
   "cell_type": "code",
   "execution_count": 2,
   "id": "9e26a172",
   "metadata": {},
   "outputs": [
    {
     "name": "stdout",
     "output_type": "stream",
     "text": [
      "3\n"
     ]
    }
   ],
   "source": [
    "# 나눗셈에서 소수점 아래 버림\n",
    "print( 10//3 )"
   ]
  },
  {
   "cell_type": "code",
   "execution_count": null,
   "id": "efde603a",
   "metadata": {},
   "outputs": [],
   "source": [
    "# 나눗셈의 나머지를 구함\n",
    "print( 10 % 3 )"
   ]
  },
  {
   "cell_type": "code",
   "execution_count": 4,
   "id": "df50811c",
   "metadata": {},
   "outputs": [
    {
     "name": "stdout",
     "output_type": "stream",
     "text": [
      "243\n"
     ]
    }
   ],
   "source": [
    "# 제곱 구하기\n",
    "print( 3 ** 5 )"
   ]
  },
  {
   "cell_type": "code",
   "execution_count": 5,
   "id": "25e9df37",
   "metadata": {},
   "outputs": [
    {
     "name": "stdout",
     "output_type": "stream",
     "text": [
      "1\n"
     ]
    }
   ],
   "source": [
    "# 단항 연산자\n",
    "a = 1\n",
    "a += 100\n",
    "a *= 10\n",
    "a //= 3\n",
    "a %= 5\n",
    "print(a)"
   ]
  },
  {
   "cell_type": "markdown",
   "id": "54debad1",
   "metadata": {},
   "source": [
    "## 비교 연산자"
   ]
  },
  {
   "cell_type": "code",
   "execution_count": 6,
   "id": "ee97aa20",
   "metadata": {},
   "outputs": [
    {
     "name": "stdout",
     "output_type": "stream",
     "text": [
      "False\n",
      "True\n",
      "True\n",
      "True\n",
      "False\n",
      "False\n"
     ]
    }
   ],
   "source": [
    "# 비교연산자\n",
    "print(100 == 50)\n",
    "print(100 != 50)\n",
    "print(100 >= 50)\n",
    "print(100 > 50)\n",
    "print(100 < 50)\n",
    "print(100 <= 50)\n"
   ]
  },
  {
   "cell_type": "code",
   "execution_count": 7,
   "id": "673e5a27",
   "metadata": {},
   "outputs": [
    {
     "name": "stdout",
     "output_type": "stream",
     "text": [
      "True\n"
     ]
    }
   ],
   "source": [
    "# 비교 연산 변수 할당\n",
    "result = 100 > 50\n",
    "print(result)"
   ]
  },
  {
   "cell_type": "markdown",
   "id": "80d8874c",
   "metadata": {},
   "source": [
    "## 논리연산자"
   ]
  },
  {
   "cell_type": "code",
   "execution_count": 8,
   "id": "7ed24e69",
   "metadata": {},
   "outputs": [
    {
     "name": "stdout",
     "output_type": "stream",
     "text": [
      "True\n",
      "False\n",
      "False\n",
      "False\n"
     ]
    }
   ],
   "source": [
    "# 논리연산자\n",
    "print( True and True )\n",
    "print( True and False )\n",
    "print( False and True )\n",
    "print( False and False )\n"
   ]
  },
  {
   "cell_type": "code",
   "execution_count": 10,
   "id": "4e2af673",
   "metadata": {},
   "outputs": [
    {
     "name": "stdout",
     "output_type": "stream",
     "text": [
      "True\n",
      "True\n",
      "True\n",
      "False\n"
     ]
    }
   ],
   "source": [
    "print( True or True )\n",
    "print( True or False )\n",
    "print( False or True )\n",
    "print( False or False )"
   ]
  },
  {
   "cell_type": "code",
   "execution_count": 11,
   "id": "b1ab8397",
   "metadata": {},
   "outputs": [
    {
     "name": "stdout",
     "output_type": "stream",
     "text": [
      "True\n"
     ]
    }
   ],
   "source": [
    "# 비교연산의 결과는 bool형식 논리연산 가능\n",
    "a = 100 > 50\n",
    "b = 20 > 10\n",
    "print( a and b )"
   ]
  },
  {
   "cell_type": "code",
   "execution_count": 13,
   "id": "f1d5a04a",
   "metadata": {},
   "outputs": [
    {
     "name": "stdout",
     "output_type": "stream",
     "text": [
      "False\n"
     ]
    }
   ],
   "source": [
    "c = 100 >= 100 and 50 == 10\n",
    "print(c)"
   ]
  },
  {
   "cell_type": "code",
   "execution_count": 14,
   "id": "e926425d",
   "metadata": {},
   "outputs": [
    {
     "name": "stdout",
     "output_type": "stream",
     "text": [
      "True\n"
     ]
    }
   ],
   "source": [
    "print( 100 != 200 and 100 == 100)"
   ]
  },
  {
   "cell_type": "markdown",
   "id": "587c51e6",
   "metadata": {},
   "source": [
    "## is 연산자"
   ]
  },
  {
   "cell_type": "code",
   "execution_count": 15,
   "id": "cc9d1f93",
   "metadata": {},
   "outputs": [
    {
     "name": "stdout",
     "output_type": "stream",
     "text": [
      "True\n"
     ]
    }
   ],
   "source": [
    "# 두 변수가 동일한지 판별 is 연산\n",
    "s1 = a is b\n",
    "print(s1)"
   ]
  },
  {
   "cell_type": "code",
   "execution_count": 16,
   "id": "a09ee0f5",
   "metadata": {},
   "outputs": [
    {
     "name": "stdout",
     "output_type": "stream",
     "text": [
      "False\n"
     ]
    }
   ],
   "source": [
    "s2 = a is c\n",
    "print(s2)"
   ]
  },
  {
   "cell_type": "code",
   "execution_count": 17,
   "id": "c188c371",
   "metadata": {},
   "outputs": [],
   "source": [
    "# \"==\" 와 \"is\" 의 차이\n",
    "x = 100   # -> 정수형\n",
    "y = 100.0 # -> 실수형"
   ]
  },
  {
   "cell_type": "code",
   "execution_count": 18,
   "id": "afb18eac",
   "metadata": {},
   "outputs": [
    {
     "name": "stdout",
     "output_type": "stream",
     "text": [
      "True\n"
     ]
    }
   ],
   "source": [
    "# ==는 값만 비교\n",
    "print( x == y )"
   ]
  },
  {
   "cell_type": "code",
   "execution_count": 19,
   "id": "f8db3d84",
   "metadata": {},
   "outputs": [
    {
     "name": "stdout",
     "output_type": "stream",
     "text": [
      "False\n"
     ]
    }
   ],
   "source": [
    "# is 는 자료형까지 비교\n",
    "print( x is y )"
   ]
  },
  {
   "cell_type": "markdown",
   "id": "e3d14562",
   "metadata": {},
   "source": [
    "# **문자열**"
   ]
  },
  {
   "cell_type": "markdown",
   "id": "33cff9ea",
   "metadata": {},
   "source": [
    "## 문자열의 기본 특성과 연산 규칙 파악하기"
   ]
  },
  {
   "cell_type": "code",
   "execution_count": 20,
   "id": "3d23dc96",
   "metadata": {},
   "outputs": [
    {
     "name": "stdout",
     "output_type": "stream",
     "text": [
      "Life is too short\n",
      "You need Python\n"
     ]
    }
   ],
   "source": [
    "# 쌍따옴표나 홑따옴표로 감싼다\n",
    "msg1 = \"Life is too short\"\n",
    "msg2 = \"You need Python\"\n",
    "print(msg1)\n",
    "print(msg2)"
   ]
  },
  {
   "cell_type": "code",
   "execution_count": 21,
   "id": "2a60cec6",
   "metadata": {},
   "outputs": [
    {
     "name": "stdout",
     "output_type": "stream",
     "text": [
      "Life is too short, You need Python\n"
     ]
    }
   ],
   "source": [
    "# 문자열의 덧셈은 문자열을 연결하는 기능\n",
    "print( msg1 + \", \" + msg2 )"
   ]
  },
  {
   "cell_type": "code",
   "execution_count": 22,
   "id": "98326b4b",
   "metadata": {},
   "outputs": [
    {
     "name": "stdout",
     "output_type": "stream",
     "text": [
      "PythonPythonPythonPythonPythonPythonPythonPythonPythonPythonPythonPythonPythonPythonPythonPythonPythonPythonPythonPythonPythonPythonPythonPythonPythonPythonPythonPythonPythonPythonPythonPythonPythonPythonPythonPythonPythonPythonPythonPythonPythonPythonPythonPythonPythonPythonPythonPythonPythonPython\n"
     ]
    }
   ],
   "source": [
    "# 문자열과 숫자의 곱셈은 동일 내용을 여러번 반복한다\n",
    "name = \"Python\"\n",
    "print( name * 50 )"
   ]
  },
  {
   "cell_type": "code",
   "execution_count": 23,
   "id": "c99ef5bf",
   "metadata": {},
   "outputs": [
    {
     "name": "stdout",
     "output_type": "stream",
     "text": [
      "20000100\n"
     ]
    }
   ],
   "source": [
    "# 따옴표로 감싸면 무조건 문자열\n",
    "pay = \"20000\"\n",
    "bonus = \"100\"\n",
    "print( pay + bonus )"
   ]
  },
  {
   "cell_type": "markdown",
   "id": "6d50ca0f",
   "metadata": {},
   "source": [
    "## 이스케이프 문자 사용하기"
   ]
  },
  {
   "cell_type": "code",
   "execution_count": 26,
   "id": "8f4a0e30",
   "metadata": {},
   "outputs": [
    {
     "name": "stdout",
     "output_type": "stream",
     "text": [
      "Life is \"too\" short\n"
     ]
    }
   ],
   "source": [
    "# 문자열 안에 따옴표 넣기\n",
    "case1 = \"Life is \\\"too\\\" short\"\n",
    "print(case1)"
   ]
  },
  {
   "cell_type": "code",
   "execution_count": 28,
   "id": "e11a9240",
   "metadata": {},
   "outputs": [
    {
     "name": "stdout",
     "output_type": "stream",
     "text": [
      "Life is 'too' short\n"
     ]
    }
   ],
   "source": [
    "case2 = 'Life is \\'too\\' short'\n",
    "print(case2)"
   ]
  },
  {
   "cell_type": "code",
   "execution_count": 30,
   "id": "3b38dbb9",
   "metadata": {},
   "outputs": [
    {
     "name": "stdout",
     "output_type": "stream",
     "text": [
      "Life is too short\n",
      "You need Python\n"
     ]
    }
   ],
   "source": [
    "# 줄바꿈\n",
    "print(\"Life is too short\\nYou need Python\")"
   ]
  },
  {
   "cell_type": "code",
   "execution_count": 32,
   "id": "9f0bec5a",
   "metadata": {},
   "outputs": [
    {
     "name": "stdout",
     "output_type": "stream",
     "text": [
      "Life is too short\tYou need Python\n"
     ]
    }
   ],
   "source": [
    "# 탭키\n",
    "print(\"Life is too short\\tYou need Python\")"
   ]
  },
  {
   "cell_type": "code",
   "execution_count": 33,
   "id": "070f1dc2",
   "metadata": {},
   "outputs": [
    {
     "name": "stdout",
     "output_type": "stream",
     "text": [
      "Life is too short\\You need Python\n"
     ]
    }
   ],
   "source": [
    "# 순수한 \\ 출력\n",
    "print(\"Life is too short\\\\You need Python\")"
   ]
  },
  {
   "cell_type": "markdown",
   "id": "c2079d7e",
   "metadata": {},
   "source": [
    "## 그밖의 문자열 표현"
   ]
  },
  {
   "cell_type": "code",
   "execution_count": 34,
   "id": "9c01d996",
   "metadata": {},
   "outputs": [
    {
     "name": "stdout",
     "output_type": "stream",
     "text": [
      "You 'need' Python\n"
     ]
    }
   ],
   "source": [
    "# 따옴표쌍을 조절하여 문자열안에 따옴표 표시\n",
    "a = \"You 'need' Python\"\n",
    "print(a)"
   ]
  },
  {
   "cell_type": "code",
   "execution_count": 35,
   "id": "9e84e280",
   "metadata": {},
   "outputs": [
    {
     "name": "stdout",
     "output_type": "stream",
     "text": [
      "You \"need\" Pyhton\n"
     ]
    }
   ],
   "source": [
    "b = 'You \"need\" Pyhton'\n",
    "print(b)"
   ]
  },
  {
   "cell_type": "code",
   "execution_count": 37,
   "id": "5d50bf2a",
   "metadata": {},
   "outputs": [
    {
     "name": "stdout",
     "output_type": "stream",
     "text": [
      "Life is too short\n",
      "You need Python\n"
     ]
    }
   ],
   "source": [
    "# 줄바꿈이 가능한 문자열 -> 3중 쌍따옴표\n",
    "msg = \"\"\"Life is too short\n",
    "You need Python\"\"\"\n",
    "print(msg)"
   ]
  },
  {
   "cell_type": "markdown",
   "id": "5b5485bc",
   "metadata": {},
   "source": [
    "## 문자열 인덱싱"
   ]
  },
  {
   "cell_type": "code",
   "execution_count": 39,
   "id": "2305795e",
   "metadata": {},
   "outputs": [],
   "source": [
    "str = \"Life is too short, You need Python\""
   ]
  },
  {
   "cell_type": "code",
   "execution_count": 40,
   "id": "2939bec6",
   "metadata": {},
   "outputs": [
    {
     "name": "stdout",
     "output_type": "stream",
     "text": [
      "e\n"
     ]
    }
   ],
   "source": [
    "# 3번째 문자 추출 -> 0부터 카운트\n",
    "print( str[3] )"
   ]
  },
  {
   "cell_type": "code",
   "execution_count": 41,
   "id": "49594ed4",
   "metadata": {},
   "outputs": [
    {
     "name": "stdout",
     "output_type": "stream",
     "text": [
      "h\n"
     ]
    }
   ],
   "source": [
    "# 뒤에서 3번째 글자 추출 -> -1 부터 카운트\n",
    "print( str[-3] )"
   ]
  },
  {
   "cell_type": "markdown",
   "id": "b4cd5de3",
   "metadata": {},
   "source": [
    "## 문자열 슬라이싱"
   ]
  },
  {
   "cell_type": "code",
   "execution_count": 42,
   "id": "fed4b170",
   "metadata": {},
   "outputs": [
    {
     "name": "stdout",
     "output_type": "stream",
     "text": [
      "800527\n",
      "1\n"
     ]
    }
   ],
   "source": [
    "# 글자수가 정해져 있는 경우 활용도 높음\n",
    "# ex) 주민번호\n",
    "# 인덱스의 부호 여부와 상관없이 문자열에서 왼쪽에 있는것 까지\n",
    "jumin = \"8005271\"\n",
    "birth = jumin[:6]\n",
    "gender = jumin[6:]\n",
    "print(birth)\n",
    "print(gender)"
   ]
  },
  {
   "cell_type": "code",
   "execution_count": 43,
   "id": "559e4258",
   "metadata": {},
   "outputs": [
    {
     "name": "stdout",
     "output_type": "stream",
     "text": [
      "1980\n"
     ]
    }
   ],
   "source": [
    "# 테어난 년도\n",
    "year = \"19\" + jumin[:2]\n",
    "print(year)"
   ]
  },
  {
   "cell_type": "code",
   "execution_count": 44,
   "id": "4465a489",
   "metadata": {},
   "outputs": [
    {
     "name": "stdout",
     "output_type": "stream",
     "text": [
      "05\n"
     ]
    }
   ],
   "source": [
    "# 테어난 월\n",
    "month = jumin[2:4]\n",
    "print(month)"
   ]
  },
  {
   "cell_type": "code",
   "execution_count": 45,
   "id": "b9959623",
   "metadata": {},
   "outputs": [
    {
     "name": "stdout",
     "output_type": "stream",
     "text": [
      "27\n"
     ]
    }
   ],
   "source": [
    "# 테어난 날\n",
    "day = jumin[4:6]\n",
    "print(day)"
   ]
  },
  {
   "cell_type": "markdown",
   "id": "c8a737d8",
   "metadata": {},
   "source": [
    "# **문자열 포메팅**"
   ]
  },
  {
   "cell_type": "markdown",
   "id": "401acefe",
   "metadata": {},
   "source": [
    "## 정수값과 문자열을 표현하는 형식문자 %d, %s 사용하기"
   ]
  },
  {
   "cell_type": "code",
   "execution_count": 46,
   "id": "fcf50092",
   "metadata": {},
   "outputs": [
    {
     "name": "stdout",
     "output_type": "stream",
     "text": [
      "나는 10000원을 갖고 있다.\n"
     ]
    }
   ],
   "source": [
    "# \"%\"연산자 뒤의 값이 \"%d를 치환한다.\"\n",
    "str1 = \"나는 %d원을 갖고 있다.\" % 10000\n",
    "print(str1)"
   ]
  },
  {
   "cell_type": "code",
   "execution_count": 47,
   "id": "b14a20b7",
   "metadata": {},
   "outputs": [],
   "source": [
    "# 포멧문자를 포한한 문장만 별도의 변수로 지정\n",
    "str2 = \"%s 날짜는 %d 년 %d월 %d일 입니다.\""
   ]
  },
  {
   "cell_type": "code",
   "execution_count": 48,
   "id": "292e8b36",
   "metadata": {},
   "outputs": [
    {
     "name": "stdout",
     "output_type": "stream",
     "text": [
      "정모 날짜는 2018 년 1월 1일 입니다.\n"
     ]
    }
   ],
   "source": [
    "msg1 = str2 % (\"정모\", 2018, 1, 1)\n",
    "print(msg1)"
   ]
  },
  {
   "cell_type": "code",
   "execution_count": 49,
   "id": "45231348",
   "metadata": {},
   "outputs": [
    {
     "name": "stdout",
     "output_type": "stream",
     "text": [
      "약속 날짜는 2018 년 3월 5일 입니다.\n"
     ]
    }
   ],
   "source": [
    "msg2 = str2 % (\"약속\", 2018, 3, 5)\n",
    "print(msg2)"
   ]
  },
  {
   "cell_type": "markdown",
   "id": "be0fc376",
   "metadata": {},
   "source": [
    "## 정수 및 문자열의 자리수 표현과 정렬"
   ]
  },
  {
   "cell_type": "code",
   "execution_count": 50,
   "id": "b3626197",
   "metadata": {},
   "outputs": [
    {
     "name": "stdout",
     "output_type": "stream",
     "text": [
      "     12000원을 입금했습니다. \n"
     ]
    }
   ],
   "source": [
    "# 자리수 지정하기 -> 오른쪽 정렬, 빈자리는 공백으로\n",
    "print(\"%10d원을 입금했습니다. \" % 12000)"
   ]
  },
  {
   "cell_type": "code",
   "execution_count": 51,
   "id": "30c39def",
   "metadata": {},
   "outputs": [
    {
     "name": "stdout",
     "output_type": "stream",
     "text": [
      "0000012000원을 입금했습니다. \n"
     ]
    }
   ],
   "source": [
    "# 자리수 지정하기 -> 오른쪽 정렬, 빈자리 0으로 지정\n",
    "print(\"%010d원을 입금했습니다. \" % 12000)"
   ]
  },
  {
   "cell_type": "code",
   "execution_count": 52,
   "id": "bf64e026",
   "metadata": {},
   "outputs": [
    {
     "name": "stdout",
     "output_type": "stream",
     "text": [
      "12000     월을 입금했습니다. \n"
     ]
    }
   ],
   "source": [
    "# 자리수 지정하기 -> 왼쪽 정렬, 빈자리는 공백으로\n",
    "print(\"%-10d원을 입금했습니다. \" % 12000)"
   ]
  },
  {
   "cell_type": "code",
   "execution_count": 53,
   "id": "58fb8c3b",
   "metadata": {},
   "outputs": [
    {
     "name": "stdout",
     "output_type": "stream",
     "text": [
      "      대한민국에 살고 있습니다. \n",
      "대한민국      에 살고 있습니다. \n"
     ]
    }
   ],
   "source": [
    "# 문자열의 자리수 지정하기 -> 빈자리는 공백지정만 가능함.\n",
    "print(\"%10s에 살고 있습니다. \" % \"대한민국\")\n",
    "print(\"%-10s에 살고 있습니다. \" % \"대한민국\")"
   ]
  },
  {
   "cell_type": "markdown",
   "id": "dc8dbcbd",
   "metadata": {
    "tags": []
   },
   "source": [
    "## 소수값을 표현하는 형식문자 사용하기"
   ]
  },
  {
   "cell_type": "code",
   "execution_count": 54,
   "id": "5c927c64",
   "metadata": {},
   "outputs": [
    {
     "name": "stdout",
     "output_type": "stream",
     "text": [
      "123.456789원 입니다. \n"
     ]
    }
   ],
   "source": [
    "# 실수값 표현하기\n",
    "money = 123.456789\n",
    "print(\"%f원 입니다. \" % money)"
   ]
  },
  {
   "cell_type": "code",
   "execution_count": 56,
   "id": "2ad1cb2a",
   "metadata": {},
   "outputs": [
    {
     "name": "stdout",
     "output_type": "stream",
     "text": [
      "123.457원 입니다. \n"
     ]
    }
   ],
   "source": [
    "# 소수점 3자리까지 표현하기 -> 소수점 4째에서 반올림\n",
    "print(\"%0.3f원 입니다. \" % money)"
   ]
  },
  {
   "cell_type": "code",
   "execution_count": 57,
   "id": "68bc8dcf",
   "metadata": {},
   "outputs": [
    {
     "name": "stdout",
     "output_type": "stream",
     "text": [
      "   123.457원 입니다. \n",
      "123.457   원 입니다. \n"
     ]
    }
   ],
   "source": [
    "# 소수점 3자리까지 표현하되 전체 글자수는 10글자 (빈자리 공백)\n",
    "# 소수점 자리수에 포함됨\n",
    "# 오른쪽 정렬\n",
    "print(\"%10.3f원 입니다. \" % money)\n",
    "# 왼쪽 정렬\n",
    "print(\"%-10.3f원 입니다. \" % money)"
   ]
  },
  {
   "cell_type": "code",
   "execution_count": 58,
   "id": "304ba57d",
   "metadata": {},
   "outputs": [
    {
     "name": "stdout",
     "output_type": "stream",
     "text": [
      "000123.457원 입니다. \n"
     ]
    }
   ],
   "source": [
    "# 소수점 3자리까지 표현하되 전체 글자수는 10글자 (빈자리 0)\n",
    "# -> 빈 자리를 0으로 채우는 경우는 오른쪽 정렬만 가능함.\n",
    "print(\"%010.3f원 입니다. \" % money)"
   ]
  },
  {
   "cell_type": "markdown",
   "id": "00b25478",
   "metadata": {},
   "source": [
    "# **format 함수를 사용한 고급 포메팅**"
   ]
  },
  {
   "cell_type": "markdown",
   "id": "5ac3f565",
   "metadata": {},
   "source": [
    "## 인덱스 번호와 이름을 사용한 포메팅"
   ]
  },
  {
   "cell_type": "code",
   "execution_count": 59,
   "id": "12bfb35b",
   "metadata": {},
   "outputs": [
    {
     "name": "stdout",
     "output_type": "stream",
     "text": [
      "I eat 3 apples\n"
     ]
    }
   ],
   "source": [
    "# 0번째 위치에 formay()함수에 전달된 0번째 값을 대입\n",
    "msg1 = \"I eat {0} apples\"\n",
    "print(msg1.format(3))"
   ]
  },
  {
   "cell_type": "code",
   "execution_count": 60,
   "id": "da9f6575",
   "metadata": {},
   "outputs": [
    {
     "name": "stdout",
     "output_type": "stream",
     "text": [
      "개강일은 2018년 8월 12일 입니다.\n"
     ]
    }
   ],
   "source": [
    "# 여러 개의 값을 혼용하기\n",
    "msg2 = \"{0}은 {1}년 {2}월 {3}일 입니다.\"\n",
    "print(msg2.format(\"개강일\", 2018, 8, 12))"
   ]
  },
  {
   "cell_type": "code",
   "execution_count": 61,
   "id": "f76c6a52",
   "metadata": {},
   "outputs": [
    {
     "name": "stdout",
     "output_type": "stream",
     "text": [
      "종강일은 2018년 10월 20일 입니다. \n"
     ]
    }
   ],
   "source": [
    "# 이름으로 넣기\n",
    "msg3 = \"{name}은 {yy}년 {mm}월 {dd}일 입니다. \"\n",
    "print(msg3.format(name = \"종강일\", yy = 2018, mm = 10, dd = 20 ))"
   ]
  },
  {
   "cell_type": "code",
   "execution_count": 62,
   "id": "42f4a8dc",
   "metadata": {},
   "outputs": [
    {
     "name": "stdout",
     "output_type": "stream",
     "text": [
      "생일은 2018년 1월 31일 입니다. \n"
     ]
    }
   ],
   "source": [
    "# 혼합사용 -> 숫자형식의 치환자가 먼저 위치해야 함\n",
    "msg4 = \"{0}은 {yy}년 {mm}월 {dd}일 입니다. \"\n",
    "print(msg4.format(\"생일\", yy = 2018, mm = 1, dd = 31))"
   ]
  },
  {
   "cell_type": "markdown",
   "id": "2c7a9529",
   "metadata": {},
   "source": [
    "## 출력값 정렬하기"
   ]
  },
  {
   "cell_type": "code",
   "execution_count": 63,
   "id": "f74e464c",
   "metadata": {},
   "outputs": [
    {
     "name": "stdout",
     "output_type": "stream",
     "text": [
      "   Hi!!Python,   Welcome~Python\n"
     ]
    }
   ],
   "source": [
    "# 5글자 오른쪽 정렬 -> \"%5s\" 와 동일\n",
    "msg5 = \"{0:>5}!!Python, {1:>9}~Python\"\n",
    "print(msg5.format(\"Hi\", \"Welcome\"))"
   ]
  },
  {
   "cell_type": "code",
   "execution_count": 64,
   "id": "0ed793b3",
   "metadata": {},
   "outputs": [
    {
     "name": "stdout",
     "output_type": "stream",
     "text": [
      "Hi   !!Python, Welcome  ~Python\n"
     ]
    }
   ],
   "source": [
    "# 5글자 왼쪽 정렬 -> \"%-5s\" 와 동일\n",
    "msg6 = \"{0:<5}!!Python, {1:<9}~Python\"\n",
    "print(msg6.format(\"Hi\", \"Welcome\"))"
   ]
  },
  {
   "cell_type": "code",
   "execution_count": 65,
   "id": "95bb9b65",
   "metadata": {},
   "outputs": [
    {
     "name": "stdout",
     "output_type": "stream",
     "text": [
      "    Hi    !!Python,  Welcome ~Python\n"
     ]
    }
   ],
   "source": [
    "# 가운데 정렬\n",
    "msg7 = \"{0:^10}!!Python, {1:^9}~Python\"\n",
    "print(msg7.format(\"Hi\", \"Welcome\"))"
   ]
  },
  {
   "cell_type": "code",
   "execution_count": 66,
   "id": "000a5450",
   "metadata": {},
   "outputs": [
    {
     "name": "stdout",
     "output_type": "stream",
     "text": [
      "Hi~~~!!Python!! **Hello**!!Python\n"
     ]
    }
   ],
   "source": [
    "# 공백을 지정한 문자로 채우기\n",
    "msg8 = \"{0:~<5}!!Python!! {1:*^9}!!Python\"\n",
    "print(msg8.format(\"Hi\", \"Hello\"))"
   ]
  },
  {
   "cell_type": "markdown",
   "id": "b6131df2",
   "metadata": {},
   "source": [
    "## 소수점 자리수 표현, 중괄호 출력하기"
   ]
  },
  {
   "cell_type": "code",
   "execution_count": 69,
   "id": "2a47e1ae",
   "metadata": {},
   "outputs": [
    {
     "name": "stdout",
     "output_type": "stream",
     "text": [
      "123.4568\n"
     ]
    }
   ],
   "source": [
    "# 소수점 4째자리까지 표현하기 -> 5째자리에서 반올림\n",
    "msg9 = \"{0:0.4f}\"\n",
    "print(msg9.format(123.456789))"
   ]
  },
  {
   "cell_type": "code",
   "execution_count": 68,
   "id": "3686b9cb",
   "metadata": {},
   "outputs": [
    {
     "name": "stdout",
     "output_type": "stream",
     "text": [
      "  123.4568\n"
     ]
    }
   ],
   "source": [
    "# 전체 10글자,소수점 4째자리까지 표현하기\n",
    "msg10 = \"{0:10.4f}\"\n",
    "print(msg10.format(123.456789))"
   ]
  },
  {
   "cell_type": "code",
   "execution_count": 70,
   "id": "15408cff",
   "metadata": {},
   "outputs": [
    {
     "name": "stdout",
     "output_type": "stream",
     "text": [
      "00123.4568\n"
     ]
    }
   ],
   "source": [
    "# 전체 10글자,공백은 0, 소수점 4째자리까지 표현하기\n",
    "msg11 = \"{0:010.4f}\"\n",
    "print(msg11.format(123.456789))"
   ]
  },
  {
   "cell_type": "code",
   "execution_count": 72,
   "id": "95890f6d",
   "metadata": {},
   "outputs": [
    {
     "name": "stdout",
     "output_type": "stream",
     "text": [
      "{Python}은 쉽다\n",
      "{Python}은 좋다\n"
     ]
    }
   ],
   "source": [
    "# 문자열에 \"{\" 나 \"}\" 표현하기\n",
    "msg12 = \"{{Python}}은 {0}다\"\n",
    "print(msg12.format(\"쉽\"))\n",
    "print(msg12.format(\"좋\"))"
   ]
  },
  {
   "cell_type": "markdown",
   "id": "5f42debf",
   "metadata": {},
   "source": [
    "# **문자열 관련 함수**"
   ]
  },
  {
   "cell_type": "markdown",
   "id": "47f8132e",
   "metadata": {},
   "source": [
    "## len()을 이요한 문자열 길이 조회"
   ]
  },
  {
   "cell_type": "code",
   "execution_count": 74,
   "id": "536ef53e",
   "metadata": {},
   "outputs": [
    {
     "name": "stdout",
     "output_type": "stream",
     "text": [
      "34\n",
      "34\n"
     ]
    }
   ],
   "source": [
    "str = \"Life is too short, You need Python\"\n",
    "\n",
    "# 전체 글자수 세기 -> 파이썬 내장함수. 한글,영문 구분 없이 1글자씩 카운트\n",
    "a = len(str)\n",
    "print(a)\n",
    "# -> 반환되는 값을 변수에 저장하지 않고 직접 출력도 가능함.\n",
    "print( len(str) )"
   ]
  },
  {
   "cell_type": "markdown",
   "id": "62b67b9a",
   "metadata": {},
   "source": [
    "## 검색 관련 기능 (1)"
   ]
  },
  {
   "cell_type": "code",
   "execution_count": 75,
   "id": "73340f92",
   "metadata": {},
   "outputs": [
    {
     "name": "stdout",
     "output_type": "stream",
     "text": [
      "2\n",
      "0\n",
      "1\n",
      "0\n"
     ]
    }
   ],
   "source": [
    "# 특정 글자나 단어의 개수 세기\n",
    "print( str.count(\"i\") )\n",
    "print( str.count(\"a\") )\n",
    "print( str.count(\"short\") )\n",
    "print( str.count(\"nice\") )"
   ]
  },
  {
   "cell_type": "code",
   "execution_count": 76,
   "id": "72d828ba",
   "metadata": {},
   "outputs": [
    {
     "name": "stdout",
     "output_type": "stream",
     "text": [
      "8\n",
      "12\n",
      "-1\n",
      "-1\n"
     ]
    }
   ],
   "source": [
    "# 특정 글자나 단어가 처음 등장하는 위치 조회\n",
    "# -> 찾지 못할 경우 -1 리턴\n",
    "print( str.find(\"t\") )\n",
    "print( str.find(\"short\") )\n",
    "print( str.find(\"g\") )\n",
    "print( str.find(\"nice\") )"
   ]
  },
  {
   "cell_type": "markdown",
   "id": "e1b1c3a5",
   "metadata": {},
   "source": [
    "## 검색 관련 기능 (2)"
   ]
  },
  {
   "cell_type": "code",
   "execution_count": 77,
   "id": "f8c4b703",
   "metadata": {},
   "outputs": [
    {
     "name": "stdout",
     "output_type": "stream",
     "text": [
      "30\n",
      "12\n",
      "-1\n",
      "-1\n"
     ]
    }
   ],
   "source": [
    "# 특정 글자나 단어가 마지막으로 등장하는 위치 조회\n",
    "# -> find() 함수의 반대 못찾을 경우 -1 리턴\n",
    "print( str.rfind(\"t\") )\n",
    "print( str.rfind(\"short\") )\n",
    "print( str.rfind(\"g\") )\n",
    "print( str.rfind(\"nice\") )"
   ]
  },
  {
   "cell_type": "code",
   "execution_count": 78,
   "id": "1e657ccf",
   "metadata": {},
   "outputs": [
    {
     "name": "stdout",
     "output_type": "stream",
     "text": [
      "12\n"
     ]
    }
   ],
   "source": [
    "# 특정 글자나 단어가 처음 등장하는 위치\n",
    "# find() 와 비슷하지만, 찾지 못할 경우 에러발생\n",
    "print( str.index(\"short\") )"
   ]
  },
  {
   "cell_type": "markdown",
   "id": "f6878022",
   "metadata": {},
   "source": [
    "## 검색 관련 기능 (3)"
   ]
  },
  {
   "cell_type": "code",
   "execution_count": 80,
   "id": "c1bfe889",
   "metadata": {},
   "outputs": [
    {
     "name": "stdout",
     "output_type": "stream",
     "text": [
      "True\n",
      "False\n",
      "True\n",
      "False\n",
      "False\n"
     ]
    }
   ],
   "source": [
    "# 특정 단어나 글자로 시작하는지 여부 검사\n",
    "print( str.startswith(\"L\") )\n",
    "print( str.startswith(\"l\") )\n",
    "print( str.startswith(\"Life\") )\n",
    "print( str.startswith(\"H\") )\n",
    "print( str.startswith(\"Hello\") )\n"
   ]
  },
  {
   "cell_type": "code",
   "execution_count": 81,
   "id": "8cd28a6f",
   "metadata": {},
   "outputs": [
    {
     "name": "stdout",
     "output_type": "stream",
     "text": [
      "False\n",
      "True\n",
      "True\n",
      "False\n"
     ]
    }
   ],
   "source": [
    "# 특정 단어나 글자로 끝나는지 여부 검사\n",
    "print( str.endswith(\"N\") )\n",
    "print( str.endswith(\"n\") )\n",
    "print( str.endswith(\"Python\") )\n",
    "print( str.endswith(\"python\") )"
   ]
  },
  {
   "cell_type": "markdown",
   "id": "58cb8b9f",
   "metadata": {},
   "source": [
    "## 문자열 변환 (1)"
   ]
  },
  {
   "cell_type": "code",
   "execution_count": 82,
   "id": "07fcaabd",
   "metadata": {},
   "outputs": [
    {
     "name": "stdout",
     "output_type": "stream",
     "text": [
      "LIFE IS TOO SHORT, YOU NEED PYTHON\n"
     ]
    }
   ],
   "source": [
    "# 모든 글자를 대문자로 변환\n",
    "upchar = str.upper()\n",
    "print(upchar)"
   ]
  },
  {
   "cell_type": "code",
   "execution_count": 83,
   "id": "3881bea7",
   "metadata": {},
   "outputs": [
    {
     "name": "stdout",
     "output_type": "stream",
     "text": [
      "life is too short, you need python\n"
     ]
    }
   ],
   "source": [
    "# 모든 글자를 소문자로 변환\n",
    "lowchar = str.lower()\n",
    "print(lowchar)"
   ]
  },
  {
   "cell_type": "code",
   "execution_count": 84,
   "id": "10b99578",
   "metadata": {},
   "outputs": [
    {
     "name": "stdout",
     "output_type": "stream",
     "text": [
      "lIFE IS TOO SHORT, yOU NEED pYTHON\n"
     ]
    }
   ],
   "source": [
    "# 대문자는 소문자로, 소문자는 대문자로\n",
    "print( str.swapcase() )"
   ]
  },
  {
   "cell_type": "code",
   "execution_count": 85,
   "id": "5e89fab7",
   "metadata": {},
   "outputs": [
    {
     "name": "stdout",
     "output_type": "stream",
     "text": [
      "Life is too short, you need python\n"
     ]
    }
   ],
   "source": [
    "# 문장의 첫 글자를 대문자로\n",
    "print( str.capitalize() )"
   ]
  },
  {
   "cell_type": "code",
   "execution_count": 86,
   "id": "a493db18",
   "metadata": {},
   "outputs": [
    {
     "name": "stdout",
     "output_type": "stream",
     "text": [
      "Life Is Too Short, You Need Python\n"
     ]
    }
   ],
   "source": [
    "# 각 단어의 첫 글자를 대문자로\n",
    "print( str.title() )"
   ]
  },
  {
   "cell_type": "markdown",
   "id": "239ccfa5",
   "metadata": {},
   "source": [
    "## 문자열 변환 (2)"
   ]
  },
  {
   "cell_type": "code",
   "execution_count": 87,
   "id": "6d9b15cd",
   "metadata": {},
   "outputs": [
    {
     "name": "stdout",
     "output_type": "stream",
     "text": [
      "Your height is too short, You need Python\n"
     ]
    }
   ],
   "source": [
    "# 문자열 바꾸기\n",
    "print( str.replace(\"Life\", \"Your height\") )"
   ]
  },
  {
   "cell_type": "markdown",
   "id": "0b425668",
   "metadata": {},
   "source": [
    "## 문자열 변환 (3)"
   ]
  },
  {
   "cell_type": "code",
   "execution_count": 88,
   "id": "ea18289b",
   "metadata": {},
   "outputs": [
    {
     "name": "stdout",
     "output_type": "stream",
     "text": [
      "python     \n",
      "     python\n",
      "python\n"
     ]
    }
   ],
   "source": [
    "# 공백 지우기\n",
    "k = \"     python     \"\n",
    "# 왼쪽 공백 지우기\n",
    "print( k.lstrip() )\n",
    "# 오른쪽 공백 지우기\n",
    "print( k.rstrip() )\n",
    "# 좌우 공백 지우기\n",
    "print( k.strip() )"
   ]
  },
  {
   "cell_type": "code",
   "execution_count": 89,
   "id": "348f3b83",
   "metadata": {},
   "outputs": [
    {
     "name": "stdout",
     "output_type": "stream",
     "text": [
      "p,y,t,h,o,n\n"
     ]
    }
   ],
   "source": [
    "# 파라미터로 전달되는 문자열의 각 글자 사이에 변수값을 삽입\n",
    "a = \",\"\n",
    "b = a.join(\"python\")\n",
    "print(b)"
   ]
  },
  {
   "cell_type": "code",
   "execution_count": null,
   "id": "0625d4bc",
   "metadata": {},
   "outputs": [],
   "source": []
  }
 ],
 "metadata": {
  "kernelspec": {
   "display_name": "Python 3",
   "language": "python",
   "name": "python3"
  },
  "language_info": {
   "codemirror_mode": {
    "name": "ipython",
    "version": 3
   },
   "file_extension": ".py",
   "mimetype": "text/x-python",
   "name": "python",
   "nbconvert_exporter": "python",
   "pygments_lexer": "ipython3",
   "version": "3.8.8"
  }
 },
 "nbformat": 4,
 "nbformat_minor": 5
}
