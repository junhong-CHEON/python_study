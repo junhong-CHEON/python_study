{
 "cells": [
  {
   "cell_type": "markdown",
   "id": "d669d924",
   "metadata": {},
   "source": [
    "# 함수"
   ]
  },
  {
   "cell_type": "markdown",
   "id": "d810fae5",
   "metadata": {},
   "source": [
    "기본적인 정의는 타언어와 같다 특이한 특성만 정리"
   ]
  },
  {
   "cell_type": "markdown",
   "id": "f7992c29",
   "metadata": {},
   "source": [
    "## 변수 초기값 설정"
   ]
  },
  {
   "cell_type": "code",
   "execution_count": 7,
   "id": "9651de7c",
   "metadata": {},
   "outputs": [
    {
     "name": "stdout",
     "output_type": "stream",
     "text": [
      "sum(1 + 2 + 3) -> 1 + 2 + 3 = 6\n",
      "sum(10 + 20 + 0) -> 10 + 20 + 0 = 30\n",
      "sum(30 + 20 + 10) -> 30 + 20 + 10 = 60\n"
     ]
    }
   ],
   "source": [
    "def sum1(x,y,z = 0):\n",
    "    tpl = \"sum({0} + {1} + {2}) -> {0} + {1} + {2} = {3}\"\n",
    "    print(tpl.format(x,y,z, x+y+z))\n",
    "\n",
    "# 모든 파라미터를 전달    \n",
    "sum1(1,2,3)\n",
    "\n",
    "# 초기값이 설정된 파라미터는 생략 가능\n",
    "sum1(10,20)\n",
    "\n",
    "# 파라미터 이름 지정 호출 -> 순서무시 (개인적으로 별로 좋아보이지 않음)\n",
    "sum1(z=10, y=20, x=30)\n",
    "\n"
   ]
  },
  {
   "cell_type": "markdown",
   "id": "4cc7d044",
   "metadata": {},
   "source": [
    "## 튜플이나 리스트를 리턴하는 \n"
   ]
  },
  {
   "cell_type": "code",
   "execution_count": 8,
   "id": "f237b825",
   "metadata": {},
   "outputs": [
    {
     "name": "stdout",
     "output_type": "stream",
     "text": [
      "(1, 2)\n",
      "1\n",
      "2\n"
     ]
    }
   ],
   "source": [
    "def bar():\n",
    "    x = 1\n",
    "    y = 2\n",
    "    return (x,y)\n",
    "\n",
    "# 함수의 리턴값이 튜플이므로 인덱스 번호를 활용하여 원소에 접근 가능\n",
    "a = bar()\n",
    "print(a)\n",
    "\n",
    "# 리턴값을 개별 변수로 저장 가능함 (파이썬 특성)\n",
    "m, n = bar()\n",
    "print(m)\n",
    "print(n)"
   ]
  },
  {
   "cell_type": "markdown",
   "id": "beda4b65",
   "metadata": {},
   "source": [
    "# 파이썬 기본 내장 함수"
   ]
  },
  {
   "cell_type": "markdown",
   "id": "7b2fa150",
   "metadata": {},
   "source": [
    "### 파이썬 API 래퍼런스\n",
    "\n",
    "https://docs.python.org/ko.3/"
   ]
  },
  {
   "cell_type": "markdown",
   "id": "9b1d2de2",
   "metadata": {},
   "source": [
    "### print() 함수의 다양한 사용법"
   ]
  },
  {
   "cell_type": "code",
   "execution_count": 9,
   "id": "dfeccd9a",
   "metadata": {},
   "outputs": [
    {
     "name": "stdout",
     "output_type": "stream",
     "text": [
      "Lifeisshort\n",
      "Lifeisshort\n",
      "Life is short 100\n"
     ]
    }
   ],
   "source": [
    "# 문장 여러개를 공백으로 구분하면 + 와 동일\n",
    "print(\"Life\" + \"is\" + \"short\")\n",
    "print(\"Life\" \"is\" \"short\")\n",
    "\n",
    "# 문장을 콤마로 구분하면 띄어쓰기가 수행\n",
    "a = 100\n",
    "print(\"Life\", \"is\", \"short\", a)"
   ]
  },
  {
   "cell_type": "code",
   "execution_count": 10,
   "id": "8ac463d4",
   "metadata": {},
   "outputs": [
    {
     "name": "stdout",
     "output_type": "stream",
     "text": [
      "LifeisshortYou need Python~~^^/"
     ]
    }
   ],
   "source": [
    "# 출력할 내용을 구성하고 마지막에 'end=\"\"'라고 지정하면 줄바꿈을 수행하지 않는다.\n",
    "print(\"Life\", end=\"\")\n",
    "print(\"is\", end=\"\")\n",
    "print(\"short\", end=\"\")\n",
    "\n",
    "# end는 출력후 마무리를 어떻게 할지 지정\n",
    "print(\"You\", \"need\", \"Python\", end=\"~~^^/\")"
   ]
  },
  {
   "cell_type": "markdown",
   "id": "48f33c0c",
   "metadata": {},
   "source": [
    "### 값을 제어하는 내장 함수"
   ]
  },
  {
   "cell_type": "code",
   "execution_count": 11,
   "id": "60d53288",
   "metadata": {},
   "outputs": [
    {
     "name": "stdout",
     "output_type": "stream",
     "text": [
      "<class 'int'>\n",
      "<class 'float'>\n",
      "<class 'str'>\n",
      "<class 'bool'>\n",
      "<class 'list'>\n",
      "<class 'tuple'>\n",
      "<class 'dict'>\n"
     ]
    }
   ],
   "source": [
    "# 변수 자료형 조회\n",
    "a = 123\n",
    "print( type(a) )\n",
    "\n",
    "b = 123.45\n",
    "print( type(b) )\n",
    "\n",
    "# 변수에 저장하지 않고 값을 직접 전달\n",
    "print( type(\"hello\") )\n",
    "print( type(True) )\n",
    "print( type([1,2]) )\n",
    "print( type((1,2)) )\n",
    "print( type({\"name\" : \"Python\"}) )"
   ]
  },
  {
   "cell_type": "code",
   "execution_count": 12,
   "id": "c61a748f",
   "metadata": {},
   "outputs": [
    {
     "name": "stdout",
     "output_type": "stream",
     "text": [
      "True\n"
     ]
    }
   ],
   "source": [
    "# isinstance() -> i가 dict 형태인지 판별\n",
    "i = {\"name\" : \"Python\"}\n",
    "k = isinstance(i, dict)\n",
    "print(k)"
   ]
  },
  {
   "cell_type": "code",
   "execution_count": 13,
   "id": "f4f4c06c",
   "metadata": {},
   "outputs": [
    {
     "name": "stdout",
     "output_type": "stream",
     "text": [
      "a는 정수 타입 입니다.\n"
     ]
    }
   ],
   "source": [
    "if isinstance(a,int):\n",
    "    print(\"a는 정수 타입 입니다.\")\n",
    "else:\n",
    "    print(\"a는 정수 타입이 아닙니다.\")\n",
    "    "
   ]
  },
  {
   "cell_type": "markdown",
   "id": "f506a53e",
   "metadata": {},
   "source": [
    "## 간단한 연산 결과를 제공하는 함수\n",
    "---\n",
    "pow(a,b)  거듭제곱\n",
    "---\n",
    "abs(a)  절댓값\n",
    "---\n",
    "divmod(a,b) 나눗셈의 연산 결과를 정수 몫과 나머지로 계산하여 튜플 리턴\n",
    "---"
   ]
  },
  {
   "cell_type": "markdown",
   "id": "12afd4eb",
   "metadata": {},
   "source": [
    "## 연속성 자료형 함수"
   ]
  },
  {
   "cell_type": "code",
   "execution_count": 14,
   "id": "56b75028",
   "metadata": {},
   "outputs": [
    {
     "name": "stdout",
     "output_type": "stream",
     "text": [
      "<class 'range'>\n",
      "range(1, 10)\n",
      "<class 'list'>\n",
      "[1, 2, 3, 4, 5, 6, 7, 8, 9]\n"
     ]
    }
   ],
   "source": [
    "k = range(1,10)\n",
    "print(type(k))\n",
    "print(k)\n",
    "\n",
    "# -> list() 함수를 사용하여 리스트로 변환해서 사용 가능\n",
    "mylist = list(k)\n",
    "print(type(mylist))\n",
    "print(mylist)"
   ]
  },
  {
   "cell_type": "markdown",
   "id": "572df601",
   "metadata": {},
   "source": [
    "## 정렬 함수"
   ]
  },
  {
   "cell_type": "code",
   "execution_count": 16,
   "id": "9a6d5b50",
   "metadata": {},
   "outputs": [
    {
     "name": "stdout",
     "output_type": "stream",
     "text": [
      "[1, 2, 3, 4, 5]\n",
      "[1, 4, 2, 3, 5]\n",
      "[1, 2, 3, 4, 5]\n"
     ]
    }
   ],
   "source": [
    "# 리스트 자체를 정렬\n",
    "data = [1,4,2,3,5]\n",
    "data.sort()\n",
    "print(data) # 원본 자체가 정렬 됨\n",
    "\n",
    "data = [1,4,2,3,5]\n",
    "k = sorted(data)\n",
    "print(data) # 원본은 변화 없음\n",
    "print(k) # 정렬된 결과가 리턴됨"
   ]
  },
  {
   "cell_type": "code",
   "execution_count": null,
   "id": "8f5ab519",
   "metadata": {},
   "outputs": [],
   "source": []
  }
 ],
 "metadata": {
  "kernelspec": {
   "display_name": "Python 3",
   "language": "python",
   "name": "python3"
  },
  "language_info": {
   "codemirror_mode": {
    "name": "ipython",
    "version": 3
   },
   "file_extension": ".py",
   "mimetype": "text/x-python",
   "name": "python",
   "nbconvert_exporter": "python",
   "pygments_lexer": "ipython3",
   "version": "3.8.8"
  }
 },
 "nbformat": 4,
 "nbformat_minor": 5
}
